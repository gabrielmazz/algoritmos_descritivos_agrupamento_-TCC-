{
 "cells": [
  {
   "cell_type": "code",
   "execution_count": null,
   "metadata": {},
   "outputs": [],
   "source": [
    "import pandas as pd\n",
    "import seaborn as sns\n",
    "import matplotlib.pyplot as plt\n",
    "import plotly.express as px\n",
    "import plotly.graph_objects as go\n",
    "import numpy as np"
   ]
  },
  {
   "cell_type": "code",
   "execution_count": null,
   "metadata": {},
   "outputs": [],
   "source": [
    "# importa a base de dados\n",
    "df = pd.read_excel('Resposta - Formulario.xlsm', sheet_name='Tratamento')"
   ]
  },
  {
   "cell_type": "code",
   "execution_count": null,
   "metadata": {},
   "outputs": [],
   "source": [
    "display(df)"
   ]
  },
  {
   "cell_type": "code",
   "execution_count": null,
   "metadata": {},
   "outputs": [],
   "source": [
    "# Dropa a coluna 'Unnamed: 0'\n",
    "df.drop('Unnamed: 0', axis=1, inplace=True)"
   ]
  },
  {
   "cell_type": "code",
   "execution_count": null,
   "metadata": {},
   "outputs": [],
   "source": [
    "# Dropa a coluna 'Questão 5 (Não responder)'\n",
    "df.drop('Questão 5 (Não responder)', axis=1, inplace=True)"
   ]
  },
  {
   "cell_type": "code",
   "execution_count": null,
   "metadata": {},
   "outputs": [],
   "source": [
    "# Correlação de Pearson\n",
    "correlacao_pearson = df.corr()\n",
    "correlacao_pearson"
   ]
  },
  {
   "cell_type": "code",
   "execution_count": null,
   "metadata": {},
   "outputs": [],
   "source": [
    "# Correlação de Spearman\n",
    "correlacao_spearman = df.corr(method='spearman')\n",
    "correlacao_spearman"
   ]
  },
  {
   "cell_type": "code",
   "execution_count": null,
   "metadata": {},
   "outputs": [],
   "source": [
    "# Correlação de Kendall\n",
    "correlacao_kendall = df.corr(method='kendall')\n",
    "correlacao_kendall"
   ]
  },
  {
   "cell_type": "code",
   "execution_count": null,
   "metadata": {},
   "outputs": [],
   "source": [
    "# Mostra o maior valor de correlação de Pearsos sem contar a diagonal principal\n",
    "correlacao_pearson.where(~(correlacao_pearson == 1)).max().max()\n"
   ]
  },
  {
   "cell_type": "code",
   "execution_count": null,
   "metadata": {},
   "outputs": [],
   "source": [
    "# Mostra o maior valor de correlação de Spearman sem contar a diagonal principal\n",
    "correlacao_spearman.where(~(correlacao_spearman == 1)).max().max()"
   ]
  },
  {
   "cell_type": "code",
   "execution_count": null,
   "metadata": {},
   "outputs": [],
   "source": [
    "# Mostra o maior valor de correlação de Kendall sem contar a diagonal principal\n",
    "correlacao_kendall.where(~(correlacao_kendall == 1)).max().max()"
   ]
  },
  {
   "cell_type": "markdown",
   "metadata": {},
   "source": [
    "---"
   ]
  },
  {
   "cell_type": "code",
   "execution_count": null,
   "metadata": {},
   "outputs": [],
   "source": [
    "# Plota o gráfico heatmap com o Plotly\n",
    "fig = px.imshow(df.corr(), text_auto=False)\n",
    "\n",
    "# Aumenta o tamanho do gráfico\n",
    "#fig.update_layout(width=1600, height=1600)\n",
    "\n",
    "fig.update_layout(\n",
    "    \n",
    "    # Aumenta o tamanho da figura\n",
    "    width=1600,\n",
    "    height=1600,\n",
    "    \n",
    "    \n",
    "    # Retira as labels do eixo x\n",
    "    xaxis_showticklabels=False,\n",
    "    \n",
    "    # Retira as labels do eixo y\n",
    "    yaxis_showticklabels=False,\n",
    "    \n",
    "    # Padding para tirar o espaço em branco em volta do gráfico\n",
    "    margin=dict(l=0, r=0, t=0, b=0)\n",
    ")\n",
    "\n",
    "fig.show()"
   ]
  },
  {
   "cell_type": "code",
   "execution_count": null,
   "metadata": {},
   "outputs": [],
   "source": [
    "correlation_matrix = df.corr()"
   ]
  },
  {
   "cell_type": "code",
   "execution_count": null,
   "metadata": {},
   "outputs": [],
   "source": [
    "# Printa a coluna e a linha com a correlação maior que 0.30 tirando a diagonal principal\n",
    "cont = 0\n",
    "for column in correlation_matrix.columns:\n",
    "    for index in correlation_matrix.index:\n",
    "        if correlation_matrix.loc[index, column] > 0.20 and index != column:\n",
    "            cont += 1\n",
    "            print(f'{cont}: {index} x {column}: {correlation_matrix.loc[index, column]}')"
   ]
  }
 ],
 "metadata": {
  "kernelspec": {
   "display_name": "Python 3",
   "language": "python",
   "name": "python3"
  },
  "language_info": {
   "codemirror_mode": {
    "name": "ipython",
    "version": 3
   },
   "file_extension": ".py",
   "mimetype": "text/x-python",
   "name": "python",
   "nbconvert_exporter": "python",
   "pygments_lexer": "ipython3",
   "version": "3.10.12"
  }
 },
 "nbformat": 4,
 "nbformat_minor": 2
}
