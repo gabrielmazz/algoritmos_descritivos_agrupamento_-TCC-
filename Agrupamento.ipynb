{
  "cells": [
    {
      "cell_type": "code",
      "execution_count": 155,
      "metadata": {},
      "outputs": [],
      "source": [
        "import pandas as pd\n",
        "import numpy as np\n",
        "import math as mt\n",
        "\n",
        "from rich.console import Console\n",
        "from rich.table import Table \n",
        "\n",
        "import plotly.express as px\n",
        "import plotly.graph_objects as go\n",
        "from plotly.subplots import make_subplots\n",
        "\n",
        "from sklearn.decomposition import PCA\n",
        "\n",
        "from sklearn import metrics\n",
        "from sklearn.cluster import KMeans\n",
        "from sklearn.cluster import DBSCAN\n",
        "from sklearn.cluster import AgglomerativeClustering\n",
        "\n",
        "from sklearn.metrics import silhouette_score\n",
        "from sklearn.metrics.pairwise import euclidean_distances"
      ]
    },
    {
      "cell_type": "code",
      "execution_count": 156,
      "metadata": {},
      "outputs": [],
      "source": [
        "#from dataframe.cores import *\n",
        "\n",
        "# Declara a classe cores\n",
        "#cores = cores()"
      ]
    },
    {
      "cell_type": "code",
      "execution_count": 157,
      "metadata": {},
      "outputs": [],
      "source": [
        "from IPython.display import display"
      ]
    },
    {
      "cell_type": "code",
      "execution_count": 158,
      "metadata": {},
      "outputs": [],
      "source": [
        "df = pd.read_csv('Resposta.csv', sep=',')"
      ]
    },
    {
      "cell_type": "code",
      "execution_count": 159,
      "metadata": {},
      "outputs": [
        {
          "data": {
            "text/html": [
              "<div>\n",
              "<style scoped>\n",
              "    .dataframe tbody tr th:only-of-type {\n",
              "        vertical-align: middle;\n",
              "    }\n",
              "\n",
              "    .dataframe tbody tr th {\n",
              "        vertical-align: top;\n",
              "    }\n",
              "\n",
              "    .dataframe thead th {\n",
              "        text-align: right;\n",
              "    }\n",
              "</style>\n",
              "<table border=\"1\" class=\"dataframe\">\n",
              "  <thead>\n",
              "    <tr style=\"text-align: right;\">\n",
              "      <th></th>\n",
              "      <th>1</th>\n",
              "      <th>2</th>\n",
              "      <th>3</th>\n",
              "      <th>4</th>\n",
              "      <th>5</th>\n",
              "      <th>5.1</th>\n",
              "      <th>5.2</th>\n",
              "      <th>5.3</th>\n",
              "      <th>5.4</th>\n",
              "      <th>5.5</th>\n",
              "      <th>...</th>\n",
              "      <th>20</th>\n",
              "      <th>20.1</th>\n",
              "      <th>20.2</th>\n",
              "      <th>20.3</th>\n",
              "      <th>20.4</th>\n",
              "      <th>20.5</th>\n",
              "      <th>20.6</th>\n",
              "      <th>21</th>\n",
              "      <th>22</th>\n",
              "      <th>23</th>\n",
              "    </tr>\n",
              "  </thead>\n",
              "  <tbody>\n",
              "    <tr>\n",
              "      <th>0</th>\n",
              "      <td>0.0</td>\n",
              "      <td>0.0</td>\n",
              "      <td>0.75</td>\n",
              "      <td>0.00</td>\n",
              "      <td>1</td>\n",
              "      <td>1</td>\n",
              "      <td>1</td>\n",
              "      <td>0</td>\n",
              "      <td>0</td>\n",
              "      <td>0</td>\n",
              "      <td>...</td>\n",
              "      <td>0</td>\n",
              "      <td>0</td>\n",
              "      <td>1</td>\n",
              "      <td>0</td>\n",
              "      <td>1</td>\n",
              "      <td>0</td>\n",
              "      <td>0</td>\n",
              "      <td>0.0</td>\n",
              "      <td>0.0</td>\n",
              "      <td>0.0</td>\n",
              "    </tr>\n",
              "    <tr>\n",
              "      <th>1</th>\n",
              "      <td>0.0</td>\n",
              "      <td>0.0</td>\n",
              "      <td>0.25</td>\n",
              "      <td>0.00</td>\n",
              "      <td>1</td>\n",
              "      <td>0</td>\n",
              "      <td>1</td>\n",
              "      <td>1</td>\n",
              "      <td>0</td>\n",
              "      <td>1</td>\n",
              "      <td>...</td>\n",
              "      <td>1</td>\n",
              "      <td>0</td>\n",
              "      <td>1</td>\n",
              "      <td>0</td>\n",
              "      <td>0</td>\n",
              "      <td>0</td>\n",
              "      <td>1</td>\n",
              "      <td>0.5</td>\n",
              "      <td>0.0</td>\n",
              "      <td>0.0</td>\n",
              "    </tr>\n",
              "    <tr>\n",
              "      <th>2</th>\n",
              "      <td>0.0</td>\n",
              "      <td>0.0</td>\n",
              "      <td>0.25</td>\n",
              "      <td>0.00</td>\n",
              "      <td>1</td>\n",
              "      <td>0</td>\n",
              "      <td>0</td>\n",
              "      <td>0</td>\n",
              "      <td>0</td>\n",
              "      <td>1</td>\n",
              "      <td>...</td>\n",
              "      <td>1</td>\n",
              "      <td>1</td>\n",
              "      <td>0</td>\n",
              "      <td>0</td>\n",
              "      <td>1</td>\n",
              "      <td>0</td>\n",
              "      <td>0</td>\n",
              "      <td>0.5</td>\n",
              "      <td>0.0</td>\n",
              "      <td>0.0</td>\n",
              "    </tr>\n",
              "    <tr>\n",
              "      <th>3</th>\n",
              "      <td>0.0</td>\n",
              "      <td>0.0</td>\n",
              "      <td>0.50</td>\n",
              "      <td>0.00</td>\n",
              "      <td>1</td>\n",
              "      <td>0</td>\n",
              "      <td>0</td>\n",
              "      <td>0</td>\n",
              "      <td>0</td>\n",
              "      <td>0</td>\n",
              "      <td>...</td>\n",
              "      <td>0</td>\n",
              "      <td>0</td>\n",
              "      <td>1</td>\n",
              "      <td>1</td>\n",
              "      <td>0</td>\n",
              "      <td>1</td>\n",
              "      <td>0</td>\n",
              "      <td>0.0</td>\n",
              "      <td>0.0</td>\n",
              "      <td>0.0</td>\n",
              "    </tr>\n",
              "    <tr>\n",
              "      <th>4</th>\n",
              "      <td>0.0</td>\n",
              "      <td>0.0</td>\n",
              "      <td>0.75</td>\n",
              "      <td>0.00</td>\n",
              "      <td>1</td>\n",
              "      <td>1</td>\n",
              "      <td>0</td>\n",
              "      <td>0</td>\n",
              "      <td>0</td>\n",
              "      <td>0</td>\n",
              "      <td>...</td>\n",
              "      <td>1</td>\n",
              "      <td>1</td>\n",
              "      <td>1</td>\n",
              "      <td>1</td>\n",
              "      <td>0</td>\n",
              "      <td>1</td>\n",
              "      <td>0</td>\n",
              "      <td>0.0</td>\n",
              "      <td>0.0</td>\n",
              "      <td>0.0</td>\n",
              "    </tr>\n",
              "    <tr>\n",
              "      <th>...</th>\n",
              "      <td>...</td>\n",
              "      <td>...</td>\n",
              "      <td>...</td>\n",
              "      <td>...</td>\n",
              "      <td>...</td>\n",
              "      <td>...</td>\n",
              "      <td>...</td>\n",
              "      <td>...</td>\n",
              "      <td>...</td>\n",
              "      <td>...</td>\n",
              "      <td>...</td>\n",
              "      <td>...</td>\n",
              "      <td>...</td>\n",
              "      <td>...</td>\n",
              "      <td>...</td>\n",
              "      <td>...</td>\n",
              "      <td>...</td>\n",
              "      <td>...</td>\n",
              "      <td>...</td>\n",
              "      <td>...</td>\n",
              "      <td>...</td>\n",
              "    </tr>\n",
              "    <tr>\n",
              "      <th>178</th>\n",
              "      <td>0.5</td>\n",
              "      <td>0.0</td>\n",
              "      <td>0.25</td>\n",
              "      <td>0.16</td>\n",
              "      <td>0</td>\n",
              "      <td>0</td>\n",
              "      <td>1</td>\n",
              "      <td>0</td>\n",
              "      <td>0</td>\n",
              "      <td>0</td>\n",
              "      <td>...</td>\n",
              "      <td>1</td>\n",
              "      <td>0</td>\n",
              "      <td>1</td>\n",
              "      <td>0</td>\n",
              "      <td>0</td>\n",
              "      <td>0</td>\n",
              "      <td>0</td>\n",
              "      <td>0.5</td>\n",
              "      <td>0.5</td>\n",
              "      <td>0.0</td>\n",
              "    </tr>\n",
              "    <tr>\n",
              "      <th>179</th>\n",
              "      <td>0.5</td>\n",
              "      <td>0.0</td>\n",
              "      <td>0.25</td>\n",
              "      <td>0.16</td>\n",
              "      <td>0</td>\n",
              "      <td>1</td>\n",
              "      <td>0</td>\n",
              "      <td>0</td>\n",
              "      <td>0</td>\n",
              "      <td>0</td>\n",
              "      <td>...</td>\n",
              "      <td>1</td>\n",
              "      <td>1</td>\n",
              "      <td>1</td>\n",
              "      <td>0</td>\n",
              "      <td>1</td>\n",
              "      <td>1</td>\n",
              "      <td>0</td>\n",
              "      <td>0.0</td>\n",
              "      <td>0.0</td>\n",
              "      <td>0.0</td>\n",
              "    </tr>\n",
              "    <tr>\n",
              "      <th>180</th>\n",
              "      <td>0.5</td>\n",
              "      <td>0.0</td>\n",
              "      <td>0.25</td>\n",
              "      <td>0.00</td>\n",
              "      <td>0</td>\n",
              "      <td>1</td>\n",
              "      <td>1</td>\n",
              "      <td>0</td>\n",
              "      <td>0</td>\n",
              "      <td>0</td>\n",
              "      <td>...</td>\n",
              "      <td>1</td>\n",
              "      <td>0</td>\n",
              "      <td>0</td>\n",
              "      <td>1</td>\n",
              "      <td>1</td>\n",
              "      <td>1</td>\n",
              "      <td>0</td>\n",
              "      <td>0.0</td>\n",
              "      <td>0.0</td>\n",
              "      <td>0.5</td>\n",
              "    </tr>\n",
              "    <tr>\n",
              "      <th>181</th>\n",
              "      <td>0.5</td>\n",
              "      <td>0.0</td>\n",
              "      <td>0.25</td>\n",
              "      <td>0.60</td>\n",
              "      <td>0</td>\n",
              "      <td>0</td>\n",
              "      <td>1</td>\n",
              "      <td>0</td>\n",
              "      <td>0</td>\n",
              "      <td>0</td>\n",
              "      <td>...</td>\n",
              "      <td>1</td>\n",
              "      <td>0</td>\n",
              "      <td>1</td>\n",
              "      <td>1</td>\n",
              "      <td>1</td>\n",
              "      <td>1</td>\n",
              "      <td>0</td>\n",
              "      <td>0.5</td>\n",
              "      <td>0.0</td>\n",
              "      <td>1.0</td>\n",
              "    </tr>\n",
              "    <tr>\n",
              "      <th>182</th>\n",
              "      <td>0.5</td>\n",
              "      <td>0.0</td>\n",
              "      <td>0.00</td>\n",
              "      <td>0.16</td>\n",
              "      <td>1</td>\n",
              "      <td>0</td>\n",
              "      <td>1</td>\n",
              "      <td>0</td>\n",
              "      <td>0</td>\n",
              "      <td>0</td>\n",
              "      <td>...</td>\n",
              "      <td>1</td>\n",
              "      <td>0</td>\n",
              "      <td>0</td>\n",
              "      <td>0</td>\n",
              "      <td>1</td>\n",
              "      <td>0</td>\n",
              "      <td>0</td>\n",
              "      <td>0.0</td>\n",
              "      <td>0.0</td>\n",
              "      <td>0.0</td>\n",
              "    </tr>\n",
              "  </tbody>\n",
              "</table>\n",
              "<p>183 rows × 63 columns</p>\n",
              "</div>"
            ],
            "text/plain": [
              "       1    2     3     4  5  5.1  5.2  5.3  5.4  5.5  ...  20  20.1  20.2  \\\n",
              "0    0.0  0.0  0.75  0.00  1    1    1    0    0    0  ...   0     0     1   \n",
              "1    0.0  0.0  0.25  0.00  1    0    1    1    0    1  ...   1     0     1   \n",
              "2    0.0  0.0  0.25  0.00  1    0    0    0    0    1  ...   1     1     0   \n",
              "3    0.0  0.0  0.50  0.00  1    0    0    0    0    0  ...   0     0     1   \n",
              "4    0.0  0.0  0.75  0.00  1    1    0    0    0    0  ...   1     1     1   \n",
              "..   ...  ...   ...   ... ..  ...  ...  ...  ...  ...  ...  ..   ...   ...   \n",
              "178  0.5  0.0  0.25  0.16  0    0    1    0    0    0  ...   1     0     1   \n",
              "179  0.5  0.0  0.25  0.16  0    1    0    0    0    0  ...   1     1     1   \n",
              "180  0.5  0.0  0.25  0.00  0    1    1    0    0    0  ...   1     0     0   \n",
              "181  0.5  0.0  0.25  0.60  0    0    1    0    0    0  ...   1     0     1   \n",
              "182  0.5  0.0  0.00  0.16  1    0    1    0    0    0  ...   1     0     0   \n",
              "\n",
              "     20.3  20.4  20.5  20.6   21   22   23  \n",
              "0       0     1     0     0  0.0  0.0  0.0  \n",
              "1       0     0     0     1  0.5  0.0  0.0  \n",
              "2       0     1     0     0  0.5  0.0  0.0  \n",
              "3       1     0     1     0  0.0  0.0  0.0  \n",
              "4       1     0     1     0  0.0  0.0  0.0  \n",
              "..    ...   ...   ...   ...  ...  ...  ...  \n",
              "178     0     0     0     0  0.5  0.5  0.0  \n",
              "179     0     1     1     0  0.0  0.0  0.0  \n",
              "180     1     1     1     0  0.0  0.0  0.5  \n",
              "181     1     1     1     0  0.5  0.0  1.0  \n",
              "182     0     1     0     0  0.0  0.0  0.0  \n",
              "\n",
              "[183 rows x 63 columns]"
            ]
          },
          "metadata": {},
          "output_type": "display_data"
        }
      ],
      "source": [
        "display(df)"
      ]
    },
    {
      "cell_type": "markdown",
      "metadata": {},
      "source": [
        "---"
      ]
    },
    {
      "cell_type": "markdown",
      "metadata": {},
      "source": [
        "# Função de Otimização do KMeans\n",
        "\n",
        "Define uma função ideal para o kmeans que executa clustering K-means em um determinado DataFrame df para um intervalo de números de cluster e visualiza os resultados. A função leva três argumentos: df (o DataFrame a ser agrupado), start (o número inicial de clusters a testar) e end (o número final de clusters a testar). Resultando em todos os possiveis valores de clusters e suas respectivas inércias."
      ]
    },
    {
      "cell_type": "code",
      "execution_count": 160,
      "metadata": {},
      "outputs": [
        {
          "data": {
            "application/vnd.plotly.v1+json": {
              "config": {
                "plotlyServerURL": "https://plot.ly"
              },
              "data": [
                {
                  "name": "SSE",
                  "type": "scatter",
                  "x": [
                    2,
                    3,
                    4,
                    5,
                    6,
                    7,
                    8,
                    9,
                    10
                  ],
                  "xaxis": "x",
                  "y": [
                    9576.74104527417,
                    8341.46793351403,
                    7785.50558899986,
                    7189.363893201829,
                    7206.517955397879,
                    6652.85955183162,
                    6429.82610512333,
                    6200.957610981566,
                    6151.469383759534
                  ],
                  "yaxis": "y"
                },
                {
                  "name": "Silhouette Score",
                  "type": "scatter",
                  "x": [
                    2,
                    3,
                    4,
                    5,
                    6,
                    7,
                    8,
                    9,
                    10
                  ],
                  "xaxis": "x2",
                  "y": [
                    0.16920621358962182,
                    0.16249737641924025,
                    0.14072180249012728,
                    0.14869392249612312,
                    0.13578003816409026,
                    0.16076565609253277,
                    0.15930815675900908,
                    0.15969064702485514,
                    0.14734541980208135
                  ],
                  "yaxis": "y2"
                }
              ],
              "layout": {
                "annotations": [
                  {
                    "font": {
                      "size": 16
                    },
                    "showarrow": false,
                    "text": "SSE",
                    "x": 0.225,
                    "xanchor": "center",
                    "xref": "paper",
                    "y": 1,
                    "yanchor": "bottom",
                    "yref": "paper"
                  },
                  {
                    "font": {
                      "size": 16
                    },
                    "showarrow": false,
                    "text": "Silhouette Score",
                    "x": 0.775,
                    "xanchor": "center",
                    "xref": "paper",
                    "y": 1,
                    "yanchor": "bottom",
                    "yref": "paper"
                  }
                ],
                "autosize": false,
                "height": 800,
                "template": {
                  "data": {
                    "bar": [
                      {
                        "error_x": {
                          "color": "#2a3f5f"
                        },
                        "error_y": {
                          "color": "#2a3f5f"
                        },
                        "marker": {
                          "line": {
                            "color": "#E5ECF6",
                            "width": 0.5
                          },
                          "pattern": {
                            "fillmode": "overlay",
                            "size": 10,
                            "solidity": 0.2
                          }
                        },
                        "type": "bar"
                      }
                    ],
                    "barpolar": [
                      {
                        "marker": {
                          "line": {
                            "color": "#E5ECF6",
                            "width": 0.5
                          },
                          "pattern": {
                            "fillmode": "overlay",
                            "size": 10,
                            "solidity": 0.2
                          }
                        },
                        "type": "barpolar"
                      }
                    ],
                    "carpet": [
                      {
                        "aaxis": {
                          "endlinecolor": "#2a3f5f",
                          "gridcolor": "white",
                          "linecolor": "white",
                          "minorgridcolor": "white",
                          "startlinecolor": "#2a3f5f"
                        },
                        "baxis": {
                          "endlinecolor": "#2a3f5f",
                          "gridcolor": "white",
                          "linecolor": "white",
                          "minorgridcolor": "white",
                          "startlinecolor": "#2a3f5f"
                        },
                        "type": "carpet"
                      }
                    ],
                    "choropleth": [
                      {
                        "colorbar": {
                          "outlinewidth": 0,
                          "ticks": ""
                        },
                        "type": "choropleth"
                      }
                    ],
                    "contour": [
                      {
                        "colorbar": {
                          "outlinewidth": 0,
                          "ticks": ""
                        },
                        "colorscale": [
                          [
                            0,
                            "#0d0887"
                          ],
                          [
                            0.1111111111111111,
                            "#46039f"
                          ],
                          [
                            0.2222222222222222,
                            "#7201a8"
                          ],
                          [
                            0.3333333333333333,
                            "#9c179e"
                          ],
                          [
                            0.4444444444444444,
                            "#bd3786"
                          ],
                          [
                            0.5555555555555556,
                            "#d8576b"
                          ],
                          [
                            0.6666666666666666,
                            "#ed7953"
                          ],
                          [
                            0.7777777777777778,
                            "#fb9f3a"
                          ],
                          [
                            0.8888888888888888,
                            "#fdca26"
                          ],
                          [
                            1,
                            "#f0f921"
                          ]
                        ],
                        "type": "contour"
                      }
                    ],
                    "contourcarpet": [
                      {
                        "colorbar": {
                          "outlinewidth": 0,
                          "ticks": ""
                        },
                        "type": "contourcarpet"
                      }
                    ],
                    "heatmap": [
                      {
                        "colorbar": {
                          "outlinewidth": 0,
                          "ticks": ""
                        },
                        "colorscale": [
                          [
                            0,
                            "#0d0887"
                          ],
                          [
                            0.1111111111111111,
                            "#46039f"
                          ],
                          [
                            0.2222222222222222,
                            "#7201a8"
                          ],
                          [
                            0.3333333333333333,
                            "#9c179e"
                          ],
                          [
                            0.4444444444444444,
                            "#bd3786"
                          ],
                          [
                            0.5555555555555556,
                            "#d8576b"
                          ],
                          [
                            0.6666666666666666,
                            "#ed7953"
                          ],
                          [
                            0.7777777777777778,
                            "#fb9f3a"
                          ],
                          [
                            0.8888888888888888,
                            "#fdca26"
                          ],
                          [
                            1,
                            "#f0f921"
                          ]
                        ],
                        "type": "heatmap"
                      }
                    ],
                    "heatmapgl": [
                      {
                        "colorbar": {
                          "outlinewidth": 0,
                          "ticks": ""
                        },
                        "colorscale": [
                          [
                            0,
                            "#0d0887"
                          ],
                          [
                            0.1111111111111111,
                            "#46039f"
                          ],
                          [
                            0.2222222222222222,
                            "#7201a8"
                          ],
                          [
                            0.3333333333333333,
                            "#9c179e"
                          ],
                          [
                            0.4444444444444444,
                            "#bd3786"
                          ],
                          [
                            0.5555555555555556,
                            "#d8576b"
                          ],
                          [
                            0.6666666666666666,
                            "#ed7953"
                          ],
                          [
                            0.7777777777777778,
                            "#fb9f3a"
                          ],
                          [
                            0.8888888888888888,
                            "#fdca26"
                          ],
                          [
                            1,
                            "#f0f921"
                          ]
                        ],
                        "type": "heatmapgl"
                      }
                    ],
                    "histogram": [
                      {
                        "marker": {
                          "pattern": {
                            "fillmode": "overlay",
                            "size": 10,
                            "solidity": 0.2
                          }
                        },
                        "type": "histogram"
                      }
                    ],
                    "histogram2d": [
                      {
                        "colorbar": {
                          "outlinewidth": 0,
                          "ticks": ""
                        },
                        "colorscale": [
                          [
                            0,
                            "#0d0887"
                          ],
                          [
                            0.1111111111111111,
                            "#46039f"
                          ],
                          [
                            0.2222222222222222,
                            "#7201a8"
                          ],
                          [
                            0.3333333333333333,
                            "#9c179e"
                          ],
                          [
                            0.4444444444444444,
                            "#bd3786"
                          ],
                          [
                            0.5555555555555556,
                            "#d8576b"
                          ],
                          [
                            0.6666666666666666,
                            "#ed7953"
                          ],
                          [
                            0.7777777777777778,
                            "#fb9f3a"
                          ],
                          [
                            0.8888888888888888,
                            "#fdca26"
                          ],
                          [
                            1,
                            "#f0f921"
                          ]
                        ],
                        "type": "histogram2d"
                      }
                    ],
                    "histogram2dcontour": [
                      {
                        "colorbar": {
                          "outlinewidth": 0,
                          "ticks": ""
                        },
                        "colorscale": [
                          [
                            0,
                            "#0d0887"
                          ],
                          [
                            0.1111111111111111,
                            "#46039f"
                          ],
                          [
                            0.2222222222222222,
                            "#7201a8"
                          ],
                          [
                            0.3333333333333333,
                            "#9c179e"
                          ],
                          [
                            0.4444444444444444,
                            "#bd3786"
                          ],
                          [
                            0.5555555555555556,
                            "#d8576b"
                          ],
                          [
                            0.6666666666666666,
                            "#ed7953"
                          ],
                          [
                            0.7777777777777778,
                            "#fb9f3a"
                          ],
                          [
                            0.8888888888888888,
                            "#fdca26"
                          ],
                          [
                            1,
                            "#f0f921"
                          ]
                        ],
                        "type": "histogram2dcontour"
                      }
                    ],
                    "mesh3d": [
                      {
                        "colorbar": {
                          "outlinewidth": 0,
                          "ticks": ""
                        },
                        "type": "mesh3d"
                      }
                    ],
                    "parcoords": [
                      {
                        "line": {
                          "colorbar": {
                            "outlinewidth": 0,
                            "ticks": ""
                          }
                        },
                        "type": "parcoords"
                      }
                    ],
                    "pie": [
                      {
                        "automargin": true,
                        "type": "pie"
                      }
                    ],
                    "scatter": [
                      {
                        "fillpattern": {
                          "fillmode": "overlay",
                          "size": 10,
                          "solidity": 0.2
                        },
                        "type": "scatter"
                      }
                    ],
                    "scatter3d": [
                      {
                        "line": {
                          "colorbar": {
                            "outlinewidth": 0,
                            "ticks": ""
                          }
                        },
                        "marker": {
                          "colorbar": {
                            "outlinewidth": 0,
                            "ticks": ""
                          }
                        },
                        "type": "scatter3d"
                      }
                    ],
                    "scattercarpet": [
                      {
                        "marker": {
                          "colorbar": {
                            "outlinewidth": 0,
                            "ticks": ""
                          }
                        },
                        "type": "scattercarpet"
                      }
                    ],
                    "scattergeo": [
                      {
                        "marker": {
                          "colorbar": {
                            "outlinewidth": 0,
                            "ticks": ""
                          }
                        },
                        "type": "scattergeo"
                      }
                    ],
                    "scattergl": [
                      {
                        "marker": {
                          "colorbar": {
                            "outlinewidth": 0,
                            "ticks": ""
                          }
                        },
                        "type": "scattergl"
                      }
                    ],
                    "scattermapbox": [
                      {
                        "marker": {
                          "colorbar": {
                            "outlinewidth": 0,
                            "ticks": ""
                          }
                        },
                        "type": "scattermapbox"
                      }
                    ],
                    "scatterpolar": [
                      {
                        "marker": {
                          "colorbar": {
                            "outlinewidth": 0,
                            "ticks": ""
                          }
                        },
                        "type": "scatterpolar"
                      }
                    ],
                    "scatterpolargl": [
                      {
                        "marker": {
                          "colorbar": {
                            "outlinewidth": 0,
                            "ticks": ""
                          }
                        },
                        "type": "scatterpolargl"
                      }
                    ],
                    "scatterternary": [
                      {
                        "marker": {
                          "colorbar": {
                            "outlinewidth": 0,
                            "ticks": ""
                          }
                        },
                        "type": "scatterternary"
                      }
                    ],
                    "surface": [
                      {
                        "colorbar": {
                          "outlinewidth": 0,
                          "ticks": ""
                        },
                        "colorscale": [
                          [
                            0,
                            "#0d0887"
                          ],
                          [
                            0.1111111111111111,
                            "#46039f"
                          ],
                          [
                            0.2222222222222222,
                            "#7201a8"
                          ],
                          [
                            0.3333333333333333,
                            "#9c179e"
                          ],
                          [
                            0.4444444444444444,
                            "#bd3786"
                          ],
                          [
                            0.5555555555555556,
                            "#d8576b"
                          ],
                          [
                            0.6666666666666666,
                            "#ed7953"
                          ],
                          [
                            0.7777777777777778,
                            "#fb9f3a"
                          ],
                          [
                            0.8888888888888888,
                            "#fdca26"
                          ],
                          [
                            1,
                            "#f0f921"
                          ]
                        ],
                        "type": "surface"
                      }
                    ],
                    "table": [
                      {
                        "cells": {
                          "fill": {
                            "color": "#EBF0F8"
                          },
                          "line": {
                            "color": "white"
                          }
                        },
                        "header": {
                          "fill": {
                            "color": "#C8D4E3"
                          },
                          "line": {
                            "color": "white"
                          }
                        },
                        "type": "table"
                      }
                    ]
                  },
                  "layout": {
                    "annotationdefaults": {
                      "arrowcolor": "#2a3f5f",
                      "arrowhead": 0,
                      "arrowwidth": 1
                    },
                    "autotypenumbers": "strict",
                    "coloraxis": {
                      "colorbar": {
                        "outlinewidth": 0,
                        "ticks": ""
                      }
                    },
                    "colorscale": {
                      "diverging": [
                        [
                          0,
                          "#8e0152"
                        ],
                        [
                          0.1,
                          "#c51b7d"
                        ],
                        [
                          0.2,
                          "#de77ae"
                        ],
                        [
                          0.3,
                          "#f1b6da"
                        ],
                        [
                          0.4,
                          "#fde0ef"
                        ],
                        [
                          0.5,
                          "#f7f7f7"
                        ],
                        [
                          0.6,
                          "#e6f5d0"
                        ],
                        [
                          0.7,
                          "#b8e186"
                        ],
                        [
                          0.8,
                          "#7fbc41"
                        ],
                        [
                          0.9,
                          "#4d9221"
                        ],
                        [
                          1,
                          "#276419"
                        ]
                      ],
                      "sequential": [
                        [
                          0,
                          "#0d0887"
                        ],
                        [
                          0.1111111111111111,
                          "#46039f"
                        ],
                        [
                          0.2222222222222222,
                          "#7201a8"
                        ],
                        [
                          0.3333333333333333,
                          "#9c179e"
                        ],
                        [
                          0.4444444444444444,
                          "#bd3786"
                        ],
                        [
                          0.5555555555555556,
                          "#d8576b"
                        ],
                        [
                          0.6666666666666666,
                          "#ed7953"
                        ],
                        [
                          0.7777777777777778,
                          "#fb9f3a"
                        ],
                        [
                          0.8888888888888888,
                          "#fdca26"
                        ],
                        [
                          1,
                          "#f0f921"
                        ]
                      ],
                      "sequentialminus": [
                        [
                          0,
                          "#0d0887"
                        ],
                        [
                          0.1111111111111111,
                          "#46039f"
                        ],
                        [
                          0.2222222222222222,
                          "#7201a8"
                        ],
                        [
                          0.3333333333333333,
                          "#9c179e"
                        ],
                        [
                          0.4444444444444444,
                          "#bd3786"
                        ],
                        [
                          0.5555555555555556,
                          "#d8576b"
                        ],
                        [
                          0.6666666666666666,
                          "#ed7953"
                        ],
                        [
                          0.7777777777777778,
                          "#fb9f3a"
                        ],
                        [
                          0.8888888888888888,
                          "#fdca26"
                        ],
                        [
                          1,
                          "#f0f921"
                        ]
                      ]
                    },
                    "colorway": [
                      "#636efa",
                      "#EF553B",
                      "#00cc96",
                      "#ab63fa",
                      "#FFA15A",
                      "#19d3f3",
                      "#FF6692",
                      "#B6E880",
                      "#FF97FF",
                      "#FECB52"
                    ],
                    "font": {
                      "color": "#2a3f5f"
                    },
                    "geo": {
                      "bgcolor": "white",
                      "lakecolor": "white",
                      "landcolor": "#E5ECF6",
                      "showlakes": true,
                      "showland": true,
                      "subunitcolor": "white"
                    },
                    "hoverlabel": {
                      "align": "left"
                    },
                    "hovermode": "closest",
                    "mapbox": {
                      "style": "light"
                    },
                    "paper_bgcolor": "white",
                    "plot_bgcolor": "#E5ECF6",
                    "polar": {
                      "angularaxis": {
                        "gridcolor": "white",
                        "linecolor": "white",
                        "ticks": ""
                      },
                      "bgcolor": "#E5ECF6",
                      "radialaxis": {
                        "gridcolor": "white",
                        "linecolor": "white",
                        "ticks": ""
                      }
                    },
                    "scene": {
                      "xaxis": {
                        "backgroundcolor": "#E5ECF6",
                        "gridcolor": "white",
                        "gridwidth": 2,
                        "linecolor": "white",
                        "showbackground": true,
                        "ticks": "",
                        "zerolinecolor": "white"
                      },
                      "yaxis": {
                        "backgroundcolor": "#E5ECF6",
                        "gridcolor": "white",
                        "gridwidth": 2,
                        "linecolor": "white",
                        "showbackground": true,
                        "ticks": "",
                        "zerolinecolor": "white"
                      },
                      "zaxis": {
                        "backgroundcolor": "#E5ECF6",
                        "gridcolor": "white",
                        "gridwidth": 2,
                        "linecolor": "white",
                        "showbackground": true,
                        "ticks": "",
                        "zerolinecolor": "white"
                      }
                    },
                    "shapedefaults": {
                      "line": {
                        "color": "#2a3f5f"
                      }
                    },
                    "ternary": {
                      "aaxis": {
                        "gridcolor": "white",
                        "linecolor": "white",
                        "ticks": ""
                      },
                      "baxis": {
                        "gridcolor": "white",
                        "linecolor": "white",
                        "ticks": ""
                      },
                      "bgcolor": "#E5ECF6",
                      "caxis": {
                        "gridcolor": "white",
                        "linecolor": "white",
                        "ticks": ""
                      }
                    },
                    "title": {
                      "x": 0.05
                    },
                    "xaxis": {
                      "automargin": true,
                      "gridcolor": "white",
                      "linecolor": "white",
                      "ticks": "",
                      "title": {
                        "standoff": 15
                      },
                      "zerolinecolor": "white",
                      "zerolinewidth": 2
                    },
                    "yaxis": {
                      "automargin": true,
                      "gridcolor": "white",
                      "linecolor": "white",
                      "ticks": "",
                      "title": {
                        "standoff": 15
                      },
                      "zerolinecolor": "white",
                      "zerolinewidth": 2
                    }
                  }
                },
                "title": {
                  "text": "Gráfico de análise - SSE e Silhouette Score"
                },
                "width": 1800,
                "xaxis": {
                  "anchor": "y",
                  "domain": [
                    0,
                    0.45
                  ]
                },
                "xaxis2": {
                  "anchor": "y2",
                  "domain": [
                    0.55,
                    1
                  ]
                },
                "yaxis": {
                  "anchor": "x",
                  "domain": [
                    0,
                    1
                  ]
                },
                "yaxis2": {
                  "anchor": "x2",
                  "domain": [
                    0,
                    1
                  ]
                }
              }
            },
            "text/html": [
              "<div>                            <div id=\"00cb3c30-d0de-4119-b09d-f22661d63135\" class=\"plotly-graph-div\" style=\"height:800px; width:1800px;\"></div>            <script type=\"text/javascript\">                require([\"plotly\"], function(Plotly) {                    window.PLOTLYENV=window.PLOTLYENV || {};                                    if (document.getElementById(\"00cb3c30-d0de-4119-b09d-f22661d63135\")) {                    Plotly.newPlot(                        \"00cb3c30-d0de-4119-b09d-f22661d63135\",                        [{\"name\":\"SSE\",\"x\":[2,3,4,5,6,7,8,9,10],\"y\":[9576.74104527417,8341.46793351403,7785.50558899986,7189.363893201829,7206.517955397879,6652.85955183162,6429.82610512333,6200.957610981566,6151.469383759534],\"type\":\"scatter\",\"xaxis\":\"x\",\"yaxis\":\"y\"},{\"name\":\"Silhouette Score\",\"x\":[2,3,4,5,6,7,8,9,10],\"y\":[0.16920621358962182,0.16249737641924025,0.14072180249012728,0.14869392249612312,0.13578003816409026,0.16076565609253277,0.15930815675900908,0.15969064702485514,0.14734541980208135],\"type\":\"scatter\",\"xaxis\":\"x2\",\"yaxis\":\"y2\"}],                        {\"template\":{\"data\":{\"histogram2dcontour\":[{\"type\":\"histogram2dcontour\",\"colorbar\":{\"outlinewidth\":0,\"ticks\":\"\"},\"colorscale\":[[0.0,\"#0d0887\"],[0.1111111111111111,\"#46039f\"],[0.2222222222222222,\"#7201a8\"],[0.3333333333333333,\"#9c179e\"],[0.4444444444444444,\"#bd3786\"],[0.5555555555555556,\"#d8576b\"],[0.6666666666666666,\"#ed7953\"],[0.7777777777777778,\"#fb9f3a\"],[0.8888888888888888,\"#fdca26\"],[1.0,\"#f0f921\"]]}],\"choropleth\":[{\"type\":\"choropleth\",\"colorbar\":{\"outlinewidth\":0,\"ticks\":\"\"}}],\"histogram2d\":[{\"type\":\"histogram2d\",\"colorbar\":{\"outlinewidth\":0,\"ticks\":\"\"},\"colorscale\":[[0.0,\"#0d0887\"],[0.1111111111111111,\"#46039f\"],[0.2222222222222222,\"#7201a8\"],[0.3333333333333333,\"#9c179e\"],[0.4444444444444444,\"#bd3786\"],[0.5555555555555556,\"#d8576b\"],[0.6666666666666666,\"#ed7953\"],[0.7777777777777778,\"#fb9f3a\"],[0.8888888888888888,\"#fdca26\"],[1.0,\"#f0f921\"]]}],\"heatmap\":[{\"type\":\"heatmap\",\"colorbar\":{\"outlinewidth\":0,\"ticks\":\"\"},\"colorscale\":[[0.0,\"#0d0887\"],[0.1111111111111111,\"#46039f\"],[0.2222222222222222,\"#7201a8\"],[0.3333333333333333,\"#9c179e\"],[0.4444444444444444,\"#bd3786\"],[0.5555555555555556,\"#d8576b\"],[0.6666666666666666,\"#ed7953\"],[0.7777777777777778,\"#fb9f3a\"],[0.8888888888888888,\"#fdca26\"],[1.0,\"#f0f921\"]]}],\"heatmapgl\":[{\"type\":\"heatmapgl\",\"colorbar\":{\"outlinewidth\":0,\"ticks\":\"\"},\"colorscale\":[[0.0,\"#0d0887\"],[0.1111111111111111,\"#46039f\"],[0.2222222222222222,\"#7201a8\"],[0.3333333333333333,\"#9c179e\"],[0.4444444444444444,\"#bd3786\"],[0.5555555555555556,\"#d8576b\"],[0.6666666666666666,\"#ed7953\"],[0.7777777777777778,\"#fb9f3a\"],[0.8888888888888888,\"#fdca26\"],[1.0,\"#f0f921\"]]}],\"contourcarpet\":[{\"type\":\"contourcarpet\",\"colorbar\":{\"outlinewidth\":0,\"ticks\":\"\"}}],\"contour\":[{\"type\":\"contour\",\"colorbar\":{\"outlinewidth\":0,\"ticks\":\"\"},\"colorscale\":[[0.0,\"#0d0887\"],[0.1111111111111111,\"#46039f\"],[0.2222222222222222,\"#7201a8\"],[0.3333333333333333,\"#9c179e\"],[0.4444444444444444,\"#bd3786\"],[0.5555555555555556,\"#d8576b\"],[0.6666666666666666,\"#ed7953\"],[0.7777777777777778,\"#fb9f3a\"],[0.8888888888888888,\"#fdca26\"],[1.0,\"#f0f921\"]]}],\"surface\":[{\"type\":\"surface\",\"colorbar\":{\"outlinewidth\":0,\"ticks\":\"\"},\"colorscale\":[[0.0,\"#0d0887\"],[0.1111111111111111,\"#46039f\"],[0.2222222222222222,\"#7201a8\"],[0.3333333333333333,\"#9c179e\"],[0.4444444444444444,\"#bd3786\"],[0.5555555555555556,\"#d8576b\"],[0.6666666666666666,\"#ed7953\"],[0.7777777777777778,\"#fb9f3a\"],[0.8888888888888888,\"#fdca26\"],[1.0,\"#f0f921\"]]}],\"mesh3d\":[{\"type\":\"mesh3d\",\"colorbar\":{\"outlinewidth\":0,\"ticks\":\"\"}}],\"scatter\":[{\"fillpattern\":{\"fillmode\":\"overlay\",\"size\":10,\"solidity\":0.2},\"type\":\"scatter\"}],\"parcoords\":[{\"type\":\"parcoords\",\"line\":{\"colorbar\":{\"outlinewidth\":0,\"ticks\":\"\"}}}],\"scatterpolargl\":[{\"type\":\"scatterpolargl\",\"marker\":{\"colorbar\":{\"outlinewidth\":0,\"ticks\":\"\"}}}],\"bar\":[{\"error_x\":{\"color\":\"#2a3f5f\"},\"error_y\":{\"color\":\"#2a3f5f\"},\"marker\":{\"line\":{\"color\":\"#E5ECF6\",\"width\":0.5},\"pattern\":{\"fillmode\":\"overlay\",\"size\":10,\"solidity\":0.2}},\"type\":\"bar\"}],\"scattergeo\":[{\"type\":\"scattergeo\",\"marker\":{\"colorbar\":{\"outlinewidth\":0,\"ticks\":\"\"}}}],\"scatterpolar\":[{\"type\":\"scatterpolar\",\"marker\":{\"colorbar\":{\"outlinewidth\":0,\"ticks\":\"\"}}}],\"histogram\":[{\"marker\":{\"pattern\":{\"fillmode\":\"overlay\",\"size\":10,\"solidity\":0.2}},\"type\":\"histogram\"}],\"scattergl\":[{\"type\":\"scattergl\",\"marker\":{\"colorbar\":{\"outlinewidth\":0,\"ticks\":\"\"}}}],\"scatter3d\":[{\"type\":\"scatter3d\",\"line\":{\"colorbar\":{\"outlinewidth\":0,\"ticks\":\"\"}},\"marker\":{\"colorbar\":{\"outlinewidth\":0,\"ticks\":\"\"}}}],\"scattermapbox\":[{\"type\":\"scattermapbox\",\"marker\":{\"colorbar\":{\"outlinewidth\":0,\"ticks\":\"\"}}}],\"scatterternary\":[{\"type\":\"scatterternary\",\"marker\":{\"colorbar\":{\"outlinewidth\":0,\"ticks\":\"\"}}}],\"scattercarpet\":[{\"type\":\"scattercarpet\",\"marker\":{\"colorbar\":{\"outlinewidth\":0,\"ticks\":\"\"}}}],\"carpet\":[{\"aaxis\":{\"endlinecolor\":\"#2a3f5f\",\"gridcolor\":\"white\",\"linecolor\":\"white\",\"minorgridcolor\":\"white\",\"startlinecolor\":\"#2a3f5f\"},\"baxis\":{\"endlinecolor\":\"#2a3f5f\",\"gridcolor\":\"white\",\"linecolor\":\"white\",\"minorgridcolor\":\"white\",\"startlinecolor\":\"#2a3f5f\"},\"type\":\"carpet\"}],\"table\":[{\"cells\":{\"fill\":{\"color\":\"#EBF0F8\"},\"line\":{\"color\":\"white\"}},\"header\":{\"fill\":{\"color\":\"#C8D4E3\"},\"line\":{\"color\":\"white\"}},\"type\":\"table\"}],\"barpolar\":[{\"marker\":{\"line\":{\"color\":\"#E5ECF6\",\"width\":0.5},\"pattern\":{\"fillmode\":\"overlay\",\"size\":10,\"solidity\":0.2}},\"type\":\"barpolar\"}],\"pie\":[{\"automargin\":true,\"type\":\"pie\"}]},\"layout\":{\"autotypenumbers\":\"strict\",\"colorway\":[\"#636efa\",\"#EF553B\",\"#00cc96\",\"#ab63fa\",\"#FFA15A\",\"#19d3f3\",\"#FF6692\",\"#B6E880\",\"#FF97FF\",\"#FECB52\"],\"font\":{\"color\":\"#2a3f5f\"},\"hovermode\":\"closest\",\"hoverlabel\":{\"align\":\"left\"},\"paper_bgcolor\":\"white\",\"plot_bgcolor\":\"#E5ECF6\",\"polar\":{\"bgcolor\":\"#E5ECF6\",\"angularaxis\":{\"gridcolor\":\"white\",\"linecolor\":\"white\",\"ticks\":\"\"},\"radialaxis\":{\"gridcolor\":\"white\",\"linecolor\":\"white\",\"ticks\":\"\"}},\"ternary\":{\"bgcolor\":\"#E5ECF6\",\"aaxis\":{\"gridcolor\":\"white\",\"linecolor\":\"white\",\"ticks\":\"\"},\"baxis\":{\"gridcolor\":\"white\",\"linecolor\":\"white\",\"ticks\":\"\"},\"caxis\":{\"gridcolor\":\"white\",\"linecolor\":\"white\",\"ticks\":\"\"}},\"coloraxis\":{\"colorbar\":{\"outlinewidth\":0,\"ticks\":\"\"}},\"colorscale\":{\"sequential\":[[0.0,\"#0d0887\"],[0.1111111111111111,\"#46039f\"],[0.2222222222222222,\"#7201a8\"],[0.3333333333333333,\"#9c179e\"],[0.4444444444444444,\"#bd3786\"],[0.5555555555555556,\"#d8576b\"],[0.6666666666666666,\"#ed7953\"],[0.7777777777777778,\"#fb9f3a\"],[0.8888888888888888,\"#fdca26\"],[1.0,\"#f0f921\"]],\"sequentialminus\":[[0.0,\"#0d0887\"],[0.1111111111111111,\"#46039f\"],[0.2222222222222222,\"#7201a8\"],[0.3333333333333333,\"#9c179e\"],[0.4444444444444444,\"#bd3786\"],[0.5555555555555556,\"#d8576b\"],[0.6666666666666666,\"#ed7953\"],[0.7777777777777778,\"#fb9f3a\"],[0.8888888888888888,\"#fdca26\"],[1.0,\"#f0f921\"]],\"diverging\":[[0,\"#8e0152\"],[0.1,\"#c51b7d\"],[0.2,\"#de77ae\"],[0.3,\"#f1b6da\"],[0.4,\"#fde0ef\"],[0.5,\"#f7f7f7\"],[0.6,\"#e6f5d0\"],[0.7,\"#b8e186\"],[0.8,\"#7fbc41\"],[0.9,\"#4d9221\"],[1,\"#276419\"]]},\"xaxis\":{\"gridcolor\":\"white\",\"linecolor\":\"white\",\"ticks\":\"\",\"title\":{\"standoff\":15},\"zerolinecolor\":\"white\",\"automargin\":true,\"zerolinewidth\":2},\"yaxis\":{\"gridcolor\":\"white\",\"linecolor\":\"white\",\"ticks\":\"\",\"title\":{\"standoff\":15},\"zerolinecolor\":\"white\",\"automargin\":true,\"zerolinewidth\":2},\"scene\":{\"xaxis\":{\"backgroundcolor\":\"#E5ECF6\",\"gridcolor\":\"white\",\"linecolor\":\"white\",\"showbackground\":true,\"ticks\":\"\",\"zerolinecolor\":\"white\",\"gridwidth\":2},\"yaxis\":{\"backgroundcolor\":\"#E5ECF6\",\"gridcolor\":\"white\",\"linecolor\":\"white\",\"showbackground\":true,\"ticks\":\"\",\"zerolinecolor\":\"white\",\"gridwidth\":2},\"zaxis\":{\"backgroundcolor\":\"#E5ECF6\",\"gridcolor\":\"white\",\"linecolor\":\"white\",\"showbackground\":true,\"ticks\":\"\",\"zerolinecolor\":\"white\",\"gridwidth\":2}},\"shapedefaults\":{\"line\":{\"color\":\"#2a3f5f\"}},\"annotationdefaults\":{\"arrowcolor\":\"#2a3f5f\",\"arrowhead\":0,\"arrowwidth\":1},\"geo\":{\"bgcolor\":\"white\",\"landcolor\":\"#E5ECF6\",\"subunitcolor\":\"white\",\"showland\":true,\"showlakes\":true,\"lakecolor\":\"white\"},\"title\":{\"x\":0.05},\"mapbox\":{\"style\":\"light\"}}},\"xaxis\":{\"anchor\":\"y\",\"domain\":[0.0,0.45]},\"yaxis\":{\"anchor\":\"x\",\"domain\":[0.0,1.0]},\"xaxis2\":{\"anchor\":\"y2\",\"domain\":[0.55,1.0]},\"yaxis2\":{\"anchor\":\"x2\",\"domain\":[0.0,1.0]},\"annotations\":[{\"font\":{\"size\":16},\"showarrow\":false,\"text\":\"SSE\",\"x\":0.225,\"xanchor\":\"center\",\"xref\":\"paper\",\"y\":1.0,\"yanchor\":\"bottom\",\"yref\":\"paper\"},{\"font\":{\"size\":16},\"showarrow\":false,\"text\":\"Silhouette Score\",\"x\":0.775,\"xanchor\":\"center\",\"xref\":\"paper\",\"y\":1.0,\"yanchor\":\"bottom\",\"yref\":\"paper\"}],\"title\":{\"text\":\"Gr\\u00e1fico de an\\u00e1lise - SSE e Silhouette Score\"},\"autosize\":false,\"width\":1800,\"height\":800},                        {\"responsive\": true}                    ).then(function(){\n",
              "                            \n",
              "var gd = document.getElementById('00cb3c30-d0de-4119-b09d-f22661d63135');\n",
              "var x = new MutationObserver(function (mutations, observer) {{\n",
              "        var display = window.getComputedStyle(gd).display;\n",
              "        if (!display || display === 'none') {{\n",
              "            console.log([gd, 'removed!']);\n",
              "            Plotly.purge(gd);\n",
              "            observer.disconnect();\n",
              "        }}\n",
              "}});\n",
              "\n",
              "// Listen for the removal of the full notebook cells\n",
              "var notebookContainer = gd.closest('#notebook-container');\n",
              "if (notebookContainer) {{\n",
              "    x.observe(notebookContainer, {childList: true});\n",
              "}}\n",
              "\n",
              "// Listen for the clearing of the current output cell\n",
              "var outputEl = gd.closest('.output');\n",
              "if (outputEl) {{\n",
              "    x.observe(outputEl, {childList: true});\n",
              "}}\n",
              "\n",
              "                        })                };                });            </script>        </div>"
            ]
          },
          "metadata": {},
          "output_type": "display_data"
        },
        {
          "data": {
            "text/html": [
              "<pre style=\"white-space:pre;overflow-x:auto;line-height:normal;font-family:Menlo,'DejaVu Sans Mono',consolas,'Courier New',monospace\"><span style=\"font-style: italic\">                      Resultados                      </span>\n",
              "┏━━━━━━━━━━┳━━━━━━━━━━━━━━━━━━━┳━━━━━━━━━━━━━━━━━━━━━┓\n",
              "┃<span style=\"font-weight: bold\"> Clusters </span>┃<span style=\"font-weight: bold\">        SSE        </span>┃<span style=\"font-weight: bold\">  Silhouette Score   </span>┃\n",
              "┡━━━━━━━━━━╇━━━━━━━━━━━━━━━━━━━╇━━━━━━━━━━━━━━━━━━━━━┩\n",
              "│<span style=\"color: #008080; text-decoration-color: #008080\">    2     </span>│<span style=\"color: #800080; text-decoration-color: #800080\"> 9576.74104527417  </span>│<span style=\"color: #008000; text-decoration-color: #008000\"> 0.16920621358962182 </span>│\n",
              "│<span style=\"color: #008080; text-decoration-color: #008080\">    3     </span>│<span style=\"color: #800080; text-decoration-color: #800080\"> 8341.46793351403  </span>│<span style=\"color: #008000; text-decoration-color: #008000\"> 0.16249737641924025 </span>│\n",
              "│<span style=\"color: #008080; text-decoration-color: #008080\">    4     </span>│<span style=\"color: #800080; text-decoration-color: #800080\"> 7785.50558899986  </span>│<span style=\"color: #008000; text-decoration-color: #008000\"> 0.14072180249012728 </span>│\n",
              "│<span style=\"color: #008080; text-decoration-color: #008080\">    5     </span>│<span style=\"color: #800080; text-decoration-color: #800080\"> 7189.363893201829 </span>│<span style=\"color: #008000; text-decoration-color: #008000\"> 0.14869392249612312 </span>│\n",
              "│<span style=\"color: #008080; text-decoration-color: #008080\">    6     </span>│<span style=\"color: #800080; text-decoration-color: #800080\"> 7206.517955397879 </span>│<span style=\"color: #008000; text-decoration-color: #008000\"> 0.13578003816409026 </span>│\n",
              "│<span style=\"color: #008080; text-decoration-color: #008080\">    7     </span>│<span style=\"color: #800080; text-decoration-color: #800080\"> 6652.85955183162  </span>│<span style=\"color: #008000; text-decoration-color: #008000\"> 0.16076565609253277 </span>│\n",
              "│<span style=\"color: #008080; text-decoration-color: #008080\">    8     </span>│<span style=\"color: #800080; text-decoration-color: #800080\"> 6429.82610512333  </span>│<span style=\"color: #008000; text-decoration-color: #008000\"> 0.15930815675900908 </span>│\n",
              "│<span style=\"color: #008080; text-decoration-color: #008080\">    9     </span>│<span style=\"color: #800080; text-decoration-color: #800080\"> 6200.957610981566 </span>│<span style=\"color: #008000; text-decoration-color: #008000\"> 0.15969064702485514 </span>│\n",
              "│<span style=\"color: #008080; text-decoration-color: #008080\">    10    </span>│<span style=\"color: #800080; text-decoration-color: #800080\"> 6151.469383759534 </span>│<span style=\"color: #008000; text-decoration-color: #008000\"> 0.14734541980208135 </span>│\n",
              "└──────────┴───────────────────┴─────────────────────┘\n",
              "</pre>\n"
            ],
            "text/plain": [
              "\u001b[3m                      Resultados                      \u001b[0m\n",
              "┏━━━━━━━━━━┳━━━━━━━━━━━━━━━━━━━┳━━━━━━━━━━━━━━━━━━━━━┓\n",
              "┃\u001b[1m \u001b[0m\u001b[1mClusters\u001b[0m\u001b[1m \u001b[0m┃\u001b[1m \u001b[0m\u001b[1m       SSE       \u001b[0m\u001b[1m \u001b[0m┃\u001b[1m \u001b[0m\u001b[1m Silhouette Score  \u001b[0m\u001b[1m \u001b[0m┃\n",
              "┡━━━━━━━━━━╇━━━━━━━━━━━━━━━━━━━╇━━━━━━━━━━━━━━━━━━━━━┩\n",
              "│\u001b[36m \u001b[0m\u001b[36m   2    \u001b[0m\u001b[36m \u001b[0m│\u001b[35m \u001b[0m\u001b[35m9576.74104527417 \u001b[0m\u001b[35m \u001b[0m│\u001b[32m \u001b[0m\u001b[32m0.16920621358962182\u001b[0m\u001b[32m \u001b[0m│\n",
              "│\u001b[36m \u001b[0m\u001b[36m   3    \u001b[0m\u001b[36m \u001b[0m│\u001b[35m \u001b[0m\u001b[35m8341.46793351403 \u001b[0m\u001b[35m \u001b[0m│\u001b[32m \u001b[0m\u001b[32m0.16249737641924025\u001b[0m\u001b[32m \u001b[0m│\n",
              "│\u001b[36m \u001b[0m\u001b[36m   4    \u001b[0m\u001b[36m \u001b[0m│\u001b[35m \u001b[0m\u001b[35m7785.50558899986 \u001b[0m\u001b[35m \u001b[0m│\u001b[32m \u001b[0m\u001b[32m0.14072180249012728\u001b[0m\u001b[32m \u001b[0m│\n",
              "│\u001b[36m \u001b[0m\u001b[36m   5    \u001b[0m\u001b[36m \u001b[0m│\u001b[35m \u001b[0m\u001b[35m7189.363893201829\u001b[0m\u001b[35m \u001b[0m│\u001b[32m \u001b[0m\u001b[32m0.14869392249612312\u001b[0m\u001b[32m \u001b[0m│\n",
              "│\u001b[36m \u001b[0m\u001b[36m   6    \u001b[0m\u001b[36m \u001b[0m│\u001b[35m \u001b[0m\u001b[35m7206.517955397879\u001b[0m\u001b[35m \u001b[0m│\u001b[32m \u001b[0m\u001b[32m0.13578003816409026\u001b[0m\u001b[32m \u001b[0m│\n",
              "│\u001b[36m \u001b[0m\u001b[36m   7    \u001b[0m\u001b[36m \u001b[0m│\u001b[35m \u001b[0m\u001b[35m6652.85955183162 \u001b[0m\u001b[35m \u001b[0m│\u001b[32m \u001b[0m\u001b[32m0.16076565609253277\u001b[0m\u001b[32m \u001b[0m│\n",
              "│\u001b[36m \u001b[0m\u001b[36m   8    \u001b[0m\u001b[36m \u001b[0m│\u001b[35m \u001b[0m\u001b[35m6429.82610512333 \u001b[0m\u001b[35m \u001b[0m│\u001b[32m \u001b[0m\u001b[32m0.15930815675900908\u001b[0m\u001b[32m \u001b[0m│\n",
              "│\u001b[36m \u001b[0m\u001b[36m   9    \u001b[0m\u001b[36m \u001b[0m│\u001b[35m \u001b[0m\u001b[35m6200.957610981566\u001b[0m\u001b[35m \u001b[0m│\u001b[32m \u001b[0m\u001b[32m0.15969064702485514\u001b[0m\u001b[32m \u001b[0m│\n",
              "│\u001b[36m \u001b[0m\u001b[36m   10   \u001b[0m\u001b[36m \u001b[0m│\u001b[35m \u001b[0m\u001b[35m6151.469383759534\u001b[0m\u001b[35m \u001b[0m│\u001b[32m \u001b[0m\u001b[32m0.14734541980208135\u001b[0m\u001b[32m \u001b[0m│\n",
              "└──────────┴───────────────────┴─────────────────────┘\n"
            ]
          },
          "metadata": {},
          "output_type": "display_data"
        }
      ],
      "source": [
        "# Esta função plota a soma dos erros quadráticos (SSE) e o escore de silhueta para um intervalo de clusters.\n",
        "def optimal_kmeans(df, start=2, end=11):\n",
        "    \n",
        "    '''\n",
        "    df: DataFrame que sera clusterizado.\n",
        "    start: Número inicial de clusters que você deseja testar.\n",
        "    end: Número final de clusters que você deseja testar.\n",
        "    '''\n",
        "    \n",
        "    # Soma dos erros quadráticos\n",
        "    sse = {}\n",
        "    \n",
        "    # Escore de silhueta\n",
        "    silhouette = {}\n",
        "    \n",
        "    # Adiciona um dicionario de resultados\n",
        "    results = {}\n",
        "    \n",
        "    for k in range(start, end):\n",
        "        kmeans = KMeans(n_clusters=k, max_iter=100, random_state=42).fit(df)\n",
        "        df[\"clusters\"] = kmeans.labels_\n",
        "        sse[k] = kmeans.inertia_ \n",
        "        silhouette[k] = silhouette_score(df, kmeans.labels_, metric='euclidean')\n",
        "      \n",
        "\n",
        "    # Plota um subplot com o plotly com o primeiro gráfico sendo o sse e o outro com o silouette\n",
        "    fig = make_subplots(rows=1, cols=2, subplot_titles=(\"SSE\", \"Silhouette Score\"))\n",
        "\n",
        "    fig.add_trace(go.Scatter(x=list(sse.keys()), y=list(sse.values()), \n",
        "                             name='SSE'), row=1, col=1)\n",
        "    \n",
        "    fig.add_trace(go.Scatter(x=list(silhouette.keys()), y=list(silhouette.values()), \n",
        "                             name='Silhouette Score'), row=1, col=2)\n",
        "    \n",
        "    fig.update_layout(title_text=\"Gráfico de análise - SSE e Silhouette Score\")\n",
        "\n",
        "    fig.update_layout(\n",
        "        autosize=False,\n",
        "        width=1800,\n",
        "        height=800,\n",
        "    )    \n",
        "\n",
        "    fig.show()\n",
        "    \n",
        "    # Com o rich, cria uma tabela com os resultados\n",
        "    table = Table(title=\"Resultados\")\n",
        "    table.add_column(\"Clusters\", justify=\"center\", style=\"cyan\", no_wrap=True)\n",
        "    table.add_column(\"SSE\", justify=\"center\", style=\"magenta\", no_wrap=True)\n",
        "    table.add_column(\"Silhouette Score\", justify=\"center\", style=\"green\", no_wrap=True)\n",
        "    \n",
        "    for k in range(start, end):\n",
        "        table.add_row(str(k), str(sse[k]), str(silhouette[k]))\n",
        "\n",
        "    console = Console()\n",
        "    console.print(table)\n",
        "\n",
        "# Uso da função\n",
        "optimal_kmeans(df)"
      ]
    },
    {
      "cell_type": "markdown",
      "metadata": {},
      "source": [
        "# Função de Otimização do DBSCAN\n",
        "\n",
        "Define uma função ideal para o dbscan que é usada para encontrar os parâmetros ideais para o algoritmo de cluster DBSCAN (Density-Based Spatial Clustering of Applications with Noise). A função leva um DataFrame df para ser agrupado, um intervalo de eps_values (distância máxima entre duas amostras para que elas sejam consideradas na mesma vizinhança) e min_samples_values (o número de amostras em uma vizinhança para que um ponto seja considerado como um ponto central) como entradas. Realizando uma busca em grade, mostrando todos os valores possiveis"
      ]
    },
    {
      "cell_type": "code",
      "execution_count": 161,
      "metadata": {},
      "outputs": [
        {
          "data": {
            "application/vnd.plotly.v1+json": {
              "config": {
                "plotlyServerURL": "https://plot.ly"
              },
              "data": [
                {
                  "type": "scatter",
                  "x": [
                    "(3.3489795918367347, 2)",
                    "(3.7551020408163267, 2)",
                    "(4.161224489795918, 2)",
                    "(4.5673469387755095, 2)",
                    "(4.5673469387755095, 3)",
                    "(4.5673469387755095, 4)",
                    "(4.9734693877551015, 2)",
                    "(4.9734693877551015, 3)",
                    "(4.9734693877551015, 4)",
                    "(4.9734693877551015, 5)",
                    "(5.3795918367346935, 2)",
                    "(5.3795918367346935, 3)",
                    "(5.3795918367346935, 4)",
                    "(5.3795918367346935, 5)",
                    "(5.3795918367346935, 6)",
                    "(5.3795918367346935, 7)",
                    "(5.3795918367346935, 8)",
                    "(5.785714285714285, 2)",
                    "(5.785714285714285, 3)",
                    "(5.785714285714285, 4)",
                    "(5.785714285714285, 5)",
                    "(5.785714285714285, 6)",
                    "(5.785714285714285, 7)",
                    "(5.785714285714285, 8)",
                    "(5.785714285714285, 9)",
                    "(5.785714285714285, 10)",
                    "(5.785714285714285, 11)",
                    "(5.785714285714285, 12)",
                    "(6.191836734693877, 2)",
                    "(6.191836734693877, 3)",
                    "(6.191836734693877, 4)",
                    "(6.191836734693877, 5)",
                    "(6.191836734693877, 6)",
                    "(6.191836734693877, 7)",
                    "(6.191836734693877, 8)",
                    "(6.191836734693877, 9)",
                    "(6.191836734693877, 10)",
                    "(6.191836734693877, 11)",
                    "(6.191836734693877, 12)",
                    "(6.191836734693877, 13)",
                    "(6.191836734693877, 14)",
                    "(6.597959183673469, 2)",
                    "(6.597959183673469, 3)",
                    "(6.597959183673469, 4)",
                    "(6.597959183673469, 5)",
                    "(6.597959183673469, 6)",
                    "(6.597959183673469, 7)",
                    "(6.597959183673469, 8)",
                    "(6.597959183673469, 9)",
                    "(6.597959183673469, 10)",
                    "(6.597959183673469, 11)",
                    "(6.597959183673469, 12)",
                    "(6.597959183673469, 13)",
                    "(6.597959183673469, 14)",
                    "(7.004081632653061, 2)",
                    "(7.004081632653061, 3)",
                    "(7.004081632653061, 4)",
                    "(7.004081632653061, 5)",
                    "(7.004081632653061, 6)",
                    "(7.004081632653061, 7)",
                    "(7.004081632653061, 8)",
                    "(7.004081632653061, 9)",
                    "(7.004081632653061, 10)",
                    "(7.004081632653061, 11)",
                    "(7.004081632653061, 12)",
                    "(7.004081632653061, 13)",
                    "(7.004081632653061, 14)",
                    "(7.410204081632653, 2)",
                    "(7.410204081632653, 3)",
                    "(7.410204081632653, 4)",
                    "(7.410204081632653, 5)",
                    "(7.410204081632653, 6)",
                    "(7.410204081632653, 7)",
                    "(7.410204081632653, 8)",
                    "(7.410204081632653, 9)",
                    "(7.410204081632653, 10)",
                    "(7.410204081632653, 11)",
                    "(7.410204081632653, 12)",
                    "(7.410204081632653, 13)",
                    "(7.410204081632653, 14)",
                    "(7.816326530612244, 2)",
                    "(7.816326530612244, 3)",
                    "(7.816326530612244, 4)",
                    "(7.816326530612244, 5)",
                    "(7.816326530612244, 6)",
                    "(7.816326530612244, 7)",
                    "(7.816326530612244, 8)",
                    "(7.816326530612244, 9)",
                    "(7.816326530612244, 10)",
                    "(7.816326530612244, 11)",
                    "(7.816326530612244, 12)",
                    "(7.816326530612244, 13)",
                    "(7.816326530612244, 14)",
                    "(8.222448979591837, 2)",
                    "(8.222448979591837, 3)",
                    "(8.222448979591837, 4)",
                    "(8.222448979591837, 5)",
                    "(8.222448979591837, 6)",
                    "(8.222448979591837, 7)",
                    "(8.222448979591837, 8)",
                    "(8.222448979591837, 9)",
                    "(8.222448979591837, 10)",
                    "(8.222448979591837, 11)",
                    "(8.222448979591837, 12)",
                    "(8.222448979591837, 13)",
                    "(8.222448979591837, 14)",
                    "(8.628571428571428, 13)",
                    "(8.628571428571428, 14)",
                    "(9.03469387755102, 14)"
                  ],
                  "y": [
                    -0.10480444112901122,
                    -0.10480444112901122,
                    -0.22596111074857672,
                    -0.22909419142284043,
                    -0.11208135736905296,
                    -0.04155962462632482,
                    -0.17716011858548572,
                    -0.17245818638727373,
                    -0.016375654662300506,
                    -0.01992745662180044,
                    -0.07778250141686645,
                    -0.07352363627451836,
                    -0.11392868032410289,
                    -0.0942986551512442,
                    -0.07635804121647895,
                    0.000011842172408340404,
                    0.000011842172408340404,
                    -0.008169765445336931,
                    0.003197909763609542,
                    -0.015806510398767574,
                    -0.023890499426630362,
                    -0.008611292727944827,
                    -0.05769213905651315,
                    -0.068276848825327,
                    0.028945455462706497,
                    0.02116376699652612,
                    0.02116376699652612,
                    0.005958440633584836,
                    -0.06342855655026242,
                    0.042007571335556985,
                    0.03285494758484445,
                    0.036049440554928404,
                    0.071635542983881,
                    0.08474744226546951,
                    0.04287619029232182,
                    -0.019409861387179837,
                    -0.01096473073600401,
                    0.03913030913720082,
                    0.03571091524892712,
                    0.03571091524892712,
                    0.03571091524892712,
                    -0.027949730646737607,
                    0.04076525191369833,
                    0.08229753374928515,
                    0.07606822886436705,
                    0.0987181341233159,
                    0.06174802082615353,
                    0.04954006691986782,
                    0.09800755312708587,
                    0.09800755312708587,
                    0.09525113399850076,
                    0.09136302784761749,
                    0.00732967687956513,
                    0.006004419588525062,
                    -0.022029476681170806,
                    0.012734464369104713,
                    0.10084130871565712,
                    0.10704618412674562,
                    0.12008215234064079,
                    0.11336118364818677,
                    0.11289406531889258,
                    0.11392589226609126,
                    0.0912377280725315,
                    0.13383519027902582,
                    0.1305859094369084,
                    0.11797450090607851,
                    0.11524143415993554,
                    0.04057676324073076,
                    0.10129538754296342,
                    0.07757345592459113,
                    0.0622985200687111,
                    0.13280599206419316,
                    0.1334802898439644,
                    0.13478107453044083,
                    0.13303610509606817,
                    0.12176118399914417,
                    0.11810262690680977,
                    0.11588790032161926,
                    0.11156003272044619,
                    0.10097796135858787,
                    0.09513887255052131,
                    0.09513887255052131,
                    0.09513887255052131,
                    0.09513887255052131,
                    0.09513887255052131,
                    0.1049876323788936,
                    0.10563462121749863,
                    0.13235724943234356,
                    0.1288534255286658,
                    0.12847328898870902,
                    0.12719626297833447,
                    0.11948928838764583,
                    0.12588348846113231,
                    0.09513887255052131,
                    0.09513887255052131,
                    0.09513887255052131,
                    0.09513887255052131,
                    0.09513887255052131,
                    0.09513887255052131,
                    0.09513887255052131,
                    0.09513887255052131,
                    0.1211724983583399,
                    0.1211724983583399,
                    0.13199682446573008,
                    0.13174494957656088,
                    0.13286822976029838,
                    0.10901629155091697,
                    0.10901629155091697,
                    0.10901629155091697
                  ]
                }
              ],
              "layout": {
                "autosize": false,
                "height": 1000,
                "template": {
                  "data": {
                    "bar": [
                      {
                        "error_x": {
                          "color": "#2a3f5f"
                        },
                        "error_y": {
                          "color": "#2a3f5f"
                        },
                        "marker": {
                          "line": {
                            "color": "#E5ECF6",
                            "width": 0.5
                          },
                          "pattern": {
                            "fillmode": "overlay",
                            "size": 10,
                            "solidity": 0.2
                          }
                        },
                        "type": "bar"
                      }
                    ],
                    "barpolar": [
                      {
                        "marker": {
                          "line": {
                            "color": "#E5ECF6",
                            "width": 0.5
                          },
                          "pattern": {
                            "fillmode": "overlay",
                            "size": 10,
                            "solidity": 0.2
                          }
                        },
                        "type": "barpolar"
                      }
                    ],
                    "carpet": [
                      {
                        "aaxis": {
                          "endlinecolor": "#2a3f5f",
                          "gridcolor": "white",
                          "linecolor": "white",
                          "minorgridcolor": "white",
                          "startlinecolor": "#2a3f5f"
                        },
                        "baxis": {
                          "endlinecolor": "#2a3f5f",
                          "gridcolor": "white",
                          "linecolor": "white",
                          "minorgridcolor": "white",
                          "startlinecolor": "#2a3f5f"
                        },
                        "type": "carpet"
                      }
                    ],
                    "choropleth": [
                      {
                        "colorbar": {
                          "outlinewidth": 0,
                          "ticks": ""
                        },
                        "type": "choropleth"
                      }
                    ],
                    "contour": [
                      {
                        "colorbar": {
                          "outlinewidth": 0,
                          "ticks": ""
                        },
                        "colorscale": [
                          [
                            0,
                            "#0d0887"
                          ],
                          [
                            0.1111111111111111,
                            "#46039f"
                          ],
                          [
                            0.2222222222222222,
                            "#7201a8"
                          ],
                          [
                            0.3333333333333333,
                            "#9c179e"
                          ],
                          [
                            0.4444444444444444,
                            "#bd3786"
                          ],
                          [
                            0.5555555555555556,
                            "#d8576b"
                          ],
                          [
                            0.6666666666666666,
                            "#ed7953"
                          ],
                          [
                            0.7777777777777778,
                            "#fb9f3a"
                          ],
                          [
                            0.8888888888888888,
                            "#fdca26"
                          ],
                          [
                            1,
                            "#f0f921"
                          ]
                        ],
                        "type": "contour"
                      }
                    ],
                    "contourcarpet": [
                      {
                        "colorbar": {
                          "outlinewidth": 0,
                          "ticks": ""
                        },
                        "type": "contourcarpet"
                      }
                    ],
                    "heatmap": [
                      {
                        "colorbar": {
                          "outlinewidth": 0,
                          "ticks": ""
                        },
                        "colorscale": [
                          [
                            0,
                            "#0d0887"
                          ],
                          [
                            0.1111111111111111,
                            "#46039f"
                          ],
                          [
                            0.2222222222222222,
                            "#7201a8"
                          ],
                          [
                            0.3333333333333333,
                            "#9c179e"
                          ],
                          [
                            0.4444444444444444,
                            "#bd3786"
                          ],
                          [
                            0.5555555555555556,
                            "#d8576b"
                          ],
                          [
                            0.6666666666666666,
                            "#ed7953"
                          ],
                          [
                            0.7777777777777778,
                            "#fb9f3a"
                          ],
                          [
                            0.8888888888888888,
                            "#fdca26"
                          ],
                          [
                            1,
                            "#f0f921"
                          ]
                        ],
                        "type": "heatmap"
                      }
                    ],
                    "heatmapgl": [
                      {
                        "colorbar": {
                          "outlinewidth": 0,
                          "ticks": ""
                        },
                        "colorscale": [
                          [
                            0,
                            "#0d0887"
                          ],
                          [
                            0.1111111111111111,
                            "#46039f"
                          ],
                          [
                            0.2222222222222222,
                            "#7201a8"
                          ],
                          [
                            0.3333333333333333,
                            "#9c179e"
                          ],
                          [
                            0.4444444444444444,
                            "#bd3786"
                          ],
                          [
                            0.5555555555555556,
                            "#d8576b"
                          ],
                          [
                            0.6666666666666666,
                            "#ed7953"
                          ],
                          [
                            0.7777777777777778,
                            "#fb9f3a"
                          ],
                          [
                            0.8888888888888888,
                            "#fdca26"
                          ],
                          [
                            1,
                            "#f0f921"
                          ]
                        ],
                        "type": "heatmapgl"
                      }
                    ],
                    "histogram": [
                      {
                        "marker": {
                          "pattern": {
                            "fillmode": "overlay",
                            "size": 10,
                            "solidity": 0.2
                          }
                        },
                        "type": "histogram"
                      }
                    ],
                    "histogram2d": [
                      {
                        "colorbar": {
                          "outlinewidth": 0,
                          "ticks": ""
                        },
                        "colorscale": [
                          [
                            0,
                            "#0d0887"
                          ],
                          [
                            0.1111111111111111,
                            "#46039f"
                          ],
                          [
                            0.2222222222222222,
                            "#7201a8"
                          ],
                          [
                            0.3333333333333333,
                            "#9c179e"
                          ],
                          [
                            0.4444444444444444,
                            "#bd3786"
                          ],
                          [
                            0.5555555555555556,
                            "#d8576b"
                          ],
                          [
                            0.6666666666666666,
                            "#ed7953"
                          ],
                          [
                            0.7777777777777778,
                            "#fb9f3a"
                          ],
                          [
                            0.8888888888888888,
                            "#fdca26"
                          ],
                          [
                            1,
                            "#f0f921"
                          ]
                        ],
                        "type": "histogram2d"
                      }
                    ],
                    "histogram2dcontour": [
                      {
                        "colorbar": {
                          "outlinewidth": 0,
                          "ticks": ""
                        },
                        "colorscale": [
                          [
                            0,
                            "#0d0887"
                          ],
                          [
                            0.1111111111111111,
                            "#46039f"
                          ],
                          [
                            0.2222222222222222,
                            "#7201a8"
                          ],
                          [
                            0.3333333333333333,
                            "#9c179e"
                          ],
                          [
                            0.4444444444444444,
                            "#bd3786"
                          ],
                          [
                            0.5555555555555556,
                            "#d8576b"
                          ],
                          [
                            0.6666666666666666,
                            "#ed7953"
                          ],
                          [
                            0.7777777777777778,
                            "#fb9f3a"
                          ],
                          [
                            0.8888888888888888,
                            "#fdca26"
                          ],
                          [
                            1,
                            "#f0f921"
                          ]
                        ],
                        "type": "histogram2dcontour"
                      }
                    ],
                    "mesh3d": [
                      {
                        "colorbar": {
                          "outlinewidth": 0,
                          "ticks": ""
                        },
                        "type": "mesh3d"
                      }
                    ],
                    "parcoords": [
                      {
                        "line": {
                          "colorbar": {
                            "outlinewidth": 0,
                            "ticks": ""
                          }
                        },
                        "type": "parcoords"
                      }
                    ],
                    "pie": [
                      {
                        "automargin": true,
                        "type": "pie"
                      }
                    ],
                    "scatter": [
                      {
                        "fillpattern": {
                          "fillmode": "overlay",
                          "size": 10,
                          "solidity": 0.2
                        },
                        "type": "scatter"
                      }
                    ],
                    "scatter3d": [
                      {
                        "line": {
                          "colorbar": {
                            "outlinewidth": 0,
                            "ticks": ""
                          }
                        },
                        "marker": {
                          "colorbar": {
                            "outlinewidth": 0,
                            "ticks": ""
                          }
                        },
                        "type": "scatter3d"
                      }
                    ],
                    "scattercarpet": [
                      {
                        "marker": {
                          "colorbar": {
                            "outlinewidth": 0,
                            "ticks": ""
                          }
                        },
                        "type": "scattercarpet"
                      }
                    ],
                    "scattergeo": [
                      {
                        "marker": {
                          "colorbar": {
                            "outlinewidth": 0,
                            "ticks": ""
                          }
                        },
                        "type": "scattergeo"
                      }
                    ],
                    "scattergl": [
                      {
                        "marker": {
                          "colorbar": {
                            "outlinewidth": 0,
                            "ticks": ""
                          }
                        },
                        "type": "scattergl"
                      }
                    ],
                    "scattermapbox": [
                      {
                        "marker": {
                          "colorbar": {
                            "outlinewidth": 0,
                            "ticks": ""
                          }
                        },
                        "type": "scattermapbox"
                      }
                    ],
                    "scatterpolar": [
                      {
                        "marker": {
                          "colorbar": {
                            "outlinewidth": 0,
                            "ticks": ""
                          }
                        },
                        "type": "scatterpolar"
                      }
                    ],
                    "scatterpolargl": [
                      {
                        "marker": {
                          "colorbar": {
                            "outlinewidth": 0,
                            "ticks": ""
                          }
                        },
                        "type": "scatterpolargl"
                      }
                    ],
                    "scatterternary": [
                      {
                        "marker": {
                          "colorbar": {
                            "outlinewidth": 0,
                            "ticks": ""
                          }
                        },
                        "type": "scatterternary"
                      }
                    ],
                    "surface": [
                      {
                        "colorbar": {
                          "outlinewidth": 0,
                          "ticks": ""
                        },
                        "colorscale": [
                          [
                            0,
                            "#0d0887"
                          ],
                          [
                            0.1111111111111111,
                            "#46039f"
                          ],
                          [
                            0.2222222222222222,
                            "#7201a8"
                          ],
                          [
                            0.3333333333333333,
                            "#9c179e"
                          ],
                          [
                            0.4444444444444444,
                            "#bd3786"
                          ],
                          [
                            0.5555555555555556,
                            "#d8576b"
                          ],
                          [
                            0.6666666666666666,
                            "#ed7953"
                          ],
                          [
                            0.7777777777777778,
                            "#fb9f3a"
                          ],
                          [
                            0.8888888888888888,
                            "#fdca26"
                          ],
                          [
                            1,
                            "#f0f921"
                          ]
                        ],
                        "type": "surface"
                      }
                    ],
                    "table": [
                      {
                        "cells": {
                          "fill": {
                            "color": "#EBF0F8"
                          },
                          "line": {
                            "color": "white"
                          }
                        },
                        "header": {
                          "fill": {
                            "color": "#C8D4E3"
                          },
                          "line": {
                            "color": "white"
                          }
                        },
                        "type": "table"
                      }
                    ]
                  },
                  "layout": {
                    "annotationdefaults": {
                      "arrowcolor": "#2a3f5f",
                      "arrowhead": 0,
                      "arrowwidth": 1
                    },
                    "autotypenumbers": "strict",
                    "coloraxis": {
                      "colorbar": {
                        "outlinewidth": 0,
                        "ticks": ""
                      }
                    },
                    "colorscale": {
                      "diverging": [
                        [
                          0,
                          "#8e0152"
                        ],
                        [
                          0.1,
                          "#c51b7d"
                        ],
                        [
                          0.2,
                          "#de77ae"
                        ],
                        [
                          0.3,
                          "#f1b6da"
                        ],
                        [
                          0.4,
                          "#fde0ef"
                        ],
                        [
                          0.5,
                          "#f7f7f7"
                        ],
                        [
                          0.6,
                          "#e6f5d0"
                        ],
                        [
                          0.7,
                          "#b8e186"
                        ],
                        [
                          0.8,
                          "#7fbc41"
                        ],
                        [
                          0.9,
                          "#4d9221"
                        ],
                        [
                          1,
                          "#276419"
                        ]
                      ],
                      "sequential": [
                        [
                          0,
                          "#0d0887"
                        ],
                        [
                          0.1111111111111111,
                          "#46039f"
                        ],
                        [
                          0.2222222222222222,
                          "#7201a8"
                        ],
                        [
                          0.3333333333333333,
                          "#9c179e"
                        ],
                        [
                          0.4444444444444444,
                          "#bd3786"
                        ],
                        [
                          0.5555555555555556,
                          "#d8576b"
                        ],
                        [
                          0.6666666666666666,
                          "#ed7953"
                        ],
                        [
                          0.7777777777777778,
                          "#fb9f3a"
                        ],
                        [
                          0.8888888888888888,
                          "#fdca26"
                        ],
                        [
                          1,
                          "#f0f921"
                        ]
                      ],
                      "sequentialminus": [
                        [
                          0,
                          "#0d0887"
                        ],
                        [
                          0.1111111111111111,
                          "#46039f"
                        ],
                        [
                          0.2222222222222222,
                          "#7201a8"
                        ],
                        [
                          0.3333333333333333,
                          "#9c179e"
                        ],
                        [
                          0.4444444444444444,
                          "#bd3786"
                        ],
                        [
                          0.5555555555555556,
                          "#d8576b"
                        ],
                        [
                          0.6666666666666666,
                          "#ed7953"
                        ],
                        [
                          0.7777777777777778,
                          "#fb9f3a"
                        ],
                        [
                          0.8888888888888888,
                          "#fdca26"
                        ],
                        [
                          1,
                          "#f0f921"
                        ]
                      ]
                    },
                    "colorway": [
                      "#636efa",
                      "#EF553B",
                      "#00cc96",
                      "#ab63fa",
                      "#FFA15A",
                      "#19d3f3",
                      "#FF6692",
                      "#B6E880",
                      "#FF97FF",
                      "#FECB52"
                    ],
                    "font": {
                      "color": "#2a3f5f"
                    },
                    "geo": {
                      "bgcolor": "white",
                      "lakecolor": "white",
                      "landcolor": "#E5ECF6",
                      "showlakes": true,
                      "showland": true,
                      "subunitcolor": "white"
                    },
                    "hoverlabel": {
                      "align": "left"
                    },
                    "hovermode": "closest",
                    "mapbox": {
                      "style": "light"
                    },
                    "paper_bgcolor": "white",
                    "plot_bgcolor": "#E5ECF6",
                    "polar": {
                      "angularaxis": {
                        "gridcolor": "white",
                        "linecolor": "white",
                        "ticks": ""
                      },
                      "bgcolor": "#E5ECF6",
                      "radialaxis": {
                        "gridcolor": "white",
                        "linecolor": "white",
                        "ticks": ""
                      }
                    },
                    "scene": {
                      "xaxis": {
                        "backgroundcolor": "#E5ECF6",
                        "gridcolor": "white",
                        "gridwidth": 2,
                        "linecolor": "white",
                        "showbackground": true,
                        "ticks": "",
                        "zerolinecolor": "white"
                      },
                      "yaxis": {
                        "backgroundcolor": "#E5ECF6",
                        "gridcolor": "white",
                        "gridwidth": 2,
                        "linecolor": "white",
                        "showbackground": true,
                        "ticks": "",
                        "zerolinecolor": "white"
                      },
                      "zaxis": {
                        "backgroundcolor": "#E5ECF6",
                        "gridcolor": "white",
                        "gridwidth": 2,
                        "linecolor": "white",
                        "showbackground": true,
                        "ticks": "",
                        "zerolinecolor": "white"
                      }
                    },
                    "shapedefaults": {
                      "line": {
                        "color": "#2a3f5f"
                      }
                    },
                    "ternary": {
                      "aaxis": {
                        "gridcolor": "white",
                        "linecolor": "white",
                        "ticks": ""
                      },
                      "baxis": {
                        "gridcolor": "white",
                        "linecolor": "white",
                        "ticks": ""
                      },
                      "bgcolor": "#E5ECF6",
                      "caxis": {
                        "gridcolor": "white",
                        "linecolor": "white",
                        "ticks": ""
                      }
                    },
                    "title": {
                      "x": 0.05
                    },
                    "xaxis": {
                      "automargin": true,
                      "gridcolor": "white",
                      "linecolor": "white",
                      "ticks": "",
                      "title": {
                        "standoff": 15
                      },
                      "zerolinecolor": "white",
                      "zerolinewidth": 2
                    },
                    "yaxis": {
                      "automargin": true,
                      "gridcolor": "white",
                      "linecolor": "white",
                      "ticks": "",
                      "title": {
                        "standoff": 15
                      },
                      "zerolinecolor": "white",
                      "zerolinewidth": 2
                    }
                  }
                },
                "title": {
                  "text": "Gráfico de análise - DBSCAN"
                },
                "width": 1400
              }
            },
            "text/html": [
              "<div>                            <div id=\"c9b43dd2-e225-4da2-b914-3697095bda80\" class=\"plotly-graph-div\" style=\"height:1000px; width:1400px;\"></div>            <script type=\"text/javascript\">                require([\"plotly\"], function(Plotly) {                    window.PLOTLYENV=window.PLOTLYENV || {};                                    if (document.getElementById(\"c9b43dd2-e225-4da2-b914-3697095bda80\")) {                    Plotly.newPlot(                        \"c9b43dd2-e225-4da2-b914-3697095bda80\",                        [{\"x\":[\"(3.3489795918367347, 2)\",\"(3.7551020408163267, 2)\",\"(4.161224489795918, 2)\",\"(4.5673469387755095, 2)\",\"(4.5673469387755095, 3)\",\"(4.5673469387755095, 4)\",\"(4.9734693877551015, 2)\",\"(4.9734693877551015, 3)\",\"(4.9734693877551015, 4)\",\"(4.9734693877551015, 5)\",\"(5.3795918367346935, 2)\",\"(5.3795918367346935, 3)\",\"(5.3795918367346935, 4)\",\"(5.3795918367346935, 5)\",\"(5.3795918367346935, 6)\",\"(5.3795918367346935, 7)\",\"(5.3795918367346935, 8)\",\"(5.785714285714285, 2)\",\"(5.785714285714285, 3)\",\"(5.785714285714285, 4)\",\"(5.785714285714285, 5)\",\"(5.785714285714285, 6)\",\"(5.785714285714285, 7)\",\"(5.785714285714285, 8)\",\"(5.785714285714285, 9)\",\"(5.785714285714285, 10)\",\"(5.785714285714285, 11)\",\"(5.785714285714285, 12)\",\"(6.191836734693877, 2)\",\"(6.191836734693877, 3)\",\"(6.191836734693877, 4)\",\"(6.191836734693877, 5)\",\"(6.191836734693877, 6)\",\"(6.191836734693877, 7)\",\"(6.191836734693877, 8)\",\"(6.191836734693877, 9)\",\"(6.191836734693877, 10)\",\"(6.191836734693877, 11)\",\"(6.191836734693877, 12)\",\"(6.191836734693877, 13)\",\"(6.191836734693877, 14)\",\"(6.597959183673469, 2)\",\"(6.597959183673469, 3)\",\"(6.597959183673469, 4)\",\"(6.597959183673469, 5)\",\"(6.597959183673469, 6)\",\"(6.597959183673469, 7)\",\"(6.597959183673469, 8)\",\"(6.597959183673469, 9)\",\"(6.597959183673469, 10)\",\"(6.597959183673469, 11)\",\"(6.597959183673469, 12)\",\"(6.597959183673469, 13)\",\"(6.597959183673469, 14)\",\"(7.004081632653061, 2)\",\"(7.004081632653061, 3)\",\"(7.004081632653061, 4)\",\"(7.004081632653061, 5)\",\"(7.004081632653061, 6)\",\"(7.004081632653061, 7)\",\"(7.004081632653061, 8)\",\"(7.004081632653061, 9)\",\"(7.004081632653061, 10)\",\"(7.004081632653061, 11)\",\"(7.004081632653061, 12)\",\"(7.004081632653061, 13)\",\"(7.004081632653061, 14)\",\"(7.410204081632653, 2)\",\"(7.410204081632653, 3)\",\"(7.410204081632653, 4)\",\"(7.410204081632653, 5)\",\"(7.410204081632653, 6)\",\"(7.410204081632653, 7)\",\"(7.410204081632653, 8)\",\"(7.410204081632653, 9)\",\"(7.410204081632653, 10)\",\"(7.410204081632653, 11)\",\"(7.410204081632653, 12)\",\"(7.410204081632653, 13)\",\"(7.410204081632653, 14)\",\"(7.816326530612244, 2)\",\"(7.816326530612244, 3)\",\"(7.816326530612244, 4)\",\"(7.816326530612244, 5)\",\"(7.816326530612244, 6)\",\"(7.816326530612244, 7)\",\"(7.816326530612244, 8)\",\"(7.816326530612244, 9)\",\"(7.816326530612244, 10)\",\"(7.816326530612244, 11)\",\"(7.816326530612244, 12)\",\"(7.816326530612244, 13)\",\"(7.816326530612244, 14)\",\"(8.222448979591837, 2)\",\"(8.222448979591837, 3)\",\"(8.222448979591837, 4)\",\"(8.222448979591837, 5)\",\"(8.222448979591837, 6)\",\"(8.222448979591837, 7)\",\"(8.222448979591837, 8)\",\"(8.222448979591837, 9)\",\"(8.222448979591837, 10)\",\"(8.222448979591837, 11)\",\"(8.222448979591837, 12)\",\"(8.222448979591837, 13)\",\"(8.222448979591837, 14)\",\"(8.628571428571428, 13)\",\"(8.628571428571428, 14)\",\"(9.03469387755102, 14)\"],\"y\":[-0.10480444112901122,-0.10480444112901122,-0.22596111074857672,-0.22909419142284043,-0.11208135736905296,-0.04155962462632482,-0.17716011858548572,-0.17245818638727373,-0.016375654662300506,-0.01992745662180044,-0.07778250141686645,-0.07352363627451836,-0.11392868032410289,-0.0942986551512442,-0.07635804121647895,1.1842172408340404e-05,1.1842172408340404e-05,-0.008169765445336931,0.003197909763609542,-0.015806510398767574,-0.023890499426630362,-0.008611292727944827,-0.05769213905651315,-0.068276848825327,0.028945455462706497,0.02116376699652612,0.02116376699652612,0.005958440633584836,-0.06342855655026242,0.042007571335556985,0.03285494758484445,0.036049440554928404,0.071635542983881,0.08474744226546951,0.04287619029232182,-0.019409861387179837,-0.01096473073600401,0.03913030913720082,0.03571091524892712,0.03571091524892712,0.03571091524892712,-0.027949730646737607,0.04076525191369833,0.08229753374928515,0.07606822886436705,0.0987181341233159,0.06174802082615353,0.04954006691986782,0.09800755312708587,0.09800755312708587,0.09525113399850076,0.09136302784761749,0.00732967687956513,0.006004419588525062,-0.022029476681170806,0.012734464369104713,0.10084130871565712,0.10704618412674562,0.12008215234064079,0.11336118364818677,0.11289406531889258,0.11392589226609126,0.0912377280725315,0.13383519027902582,0.1305859094369084,0.11797450090607851,0.11524143415993554,0.04057676324073076,0.10129538754296342,0.07757345592459113,0.0622985200687111,0.13280599206419316,0.1334802898439644,0.13478107453044083,0.13303610509606817,0.12176118399914417,0.11810262690680977,0.11588790032161926,0.11156003272044619,0.10097796135858787,0.09513887255052131,0.09513887255052131,0.09513887255052131,0.09513887255052131,0.09513887255052131,0.1049876323788936,0.10563462121749863,0.13235724943234356,0.1288534255286658,0.12847328898870902,0.12719626297833447,0.11948928838764583,0.12588348846113231,0.09513887255052131,0.09513887255052131,0.09513887255052131,0.09513887255052131,0.09513887255052131,0.09513887255052131,0.09513887255052131,0.09513887255052131,0.1211724983583399,0.1211724983583399,0.13199682446573008,0.13174494957656088,0.13286822976029838,0.10901629155091697,0.10901629155091697,0.10901629155091697],\"type\":\"scatter\"}],                        {\"template\":{\"data\":{\"histogram2dcontour\":[{\"type\":\"histogram2dcontour\",\"colorbar\":{\"outlinewidth\":0,\"ticks\":\"\"},\"colorscale\":[[0.0,\"#0d0887\"],[0.1111111111111111,\"#46039f\"],[0.2222222222222222,\"#7201a8\"],[0.3333333333333333,\"#9c179e\"],[0.4444444444444444,\"#bd3786\"],[0.5555555555555556,\"#d8576b\"],[0.6666666666666666,\"#ed7953\"],[0.7777777777777778,\"#fb9f3a\"],[0.8888888888888888,\"#fdca26\"],[1.0,\"#f0f921\"]]}],\"choropleth\":[{\"type\":\"choropleth\",\"colorbar\":{\"outlinewidth\":0,\"ticks\":\"\"}}],\"histogram2d\":[{\"type\":\"histogram2d\",\"colorbar\":{\"outlinewidth\":0,\"ticks\":\"\"},\"colorscale\":[[0.0,\"#0d0887\"],[0.1111111111111111,\"#46039f\"],[0.2222222222222222,\"#7201a8\"],[0.3333333333333333,\"#9c179e\"],[0.4444444444444444,\"#bd3786\"],[0.5555555555555556,\"#d8576b\"],[0.6666666666666666,\"#ed7953\"],[0.7777777777777778,\"#fb9f3a\"],[0.8888888888888888,\"#fdca26\"],[1.0,\"#f0f921\"]]}],\"heatmap\":[{\"type\":\"heatmap\",\"colorbar\":{\"outlinewidth\":0,\"ticks\":\"\"},\"colorscale\":[[0.0,\"#0d0887\"],[0.1111111111111111,\"#46039f\"],[0.2222222222222222,\"#7201a8\"],[0.3333333333333333,\"#9c179e\"],[0.4444444444444444,\"#bd3786\"],[0.5555555555555556,\"#d8576b\"],[0.6666666666666666,\"#ed7953\"],[0.7777777777777778,\"#fb9f3a\"],[0.8888888888888888,\"#fdca26\"],[1.0,\"#f0f921\"]]}],\"heatmapgl\":[{\"type\":\"heatmapgl\",\"colorbar\":{\"outlinewidth\":0,\"ticks\":\"\"},\"colorscale\":[[0.0,\"#0d0887\"],[0.1111111111111111,\"#46039f\"],[0.2222222222222222,\"#7201a8\"],[0.3333333333333333,\"#9c179e\"],[0.4444444444444444,\"#bd3786\"],[0.5555555555555556,\"#d8576b\"],[0.6666666666666666,\"#ed7953\"],[0.7777777777777778,\"#fb9f3a\"],[0.8888888888888888,\"#fdca26\"],[1.0,\"#f0f921\"]]}],\"contourcarpet\":[{\"type\":\"contourcarpet\",\"colorbar\":{\"outlinewidth\":0,\"ticks\":\"\"}}],\"contour\":[{\"type\":\"contour\",\"colorbar\":{\"outlinewidth\":0,\"ticks\":\"\"},\"colorscale\":[[0.0,\"#0d0887\"],[0.1111111111111111,\"#46039f\"],[0.2222222222222222,\"#7201a8\"],[0.3333333333333333,\"#9c179e\"],[0.4444444444444444,\"#bd3786\"],[0.5555555555555556,\"#d8576b\"],[0.6666666666666666,\"#ed7953\"],[0.7777777777777778,\"#fb9f3a\"],[0.8888888888888888,\"#fdca26\"],[1.0,\"#f0f921\"]]}],\"surface\":[{\"type\":\"surface\",\"colorbar\":{\"outlinewidth\":0,\"ticks\":\"\"},\"colorscale\":[[0.0,\"#0d0887\"],[0.1111111111111111,\"#46039f\"],[0.2222222222222222,\"#7201a8\"],[0.3333333333333333,\"#9c179e\"],[0.4444444444444444,\"#bd3786\"],[0.5555555555555556,\"#d8576b\"],[0.6666666666666666,\"#ed7953\"],[0.7777777777777778,\"#fb9f3a\"],[0.8888888888888888,\"#fdca26\"],[1.0,\"#f0f921\"]]}],\"mesh3d\":[{\"type\":\"mesh3d\",\"colorbar\":{\"outlinewidth\":0,\"ticks\":\"\"}}],\"scatter\":[{\"fillpattern\":{\"fillmode\":\"overlay\",\"size\":10,\"solidity\":0.2},\"type\":\"scatter\"}],\"parcoords\":[{\"type\":\"parcoords\",\"line\":{\"colorbar\":{\"outlinewidth\":0,\"ticks\":\"\"}}}],\"scatterpolargl\":[{\"type\":\"scatterpolargl\",\"marker\":{\"colorbar\":{\"outlinewidth\":0,\"ticks\":\"\"}}}],\"bar\":[{\"error_x\":{\"color\":\"#2a3f5f\"},\"error_y\":{\"color\":\"#2a3f5f\"},\"marker\":{\"line\":{\"color\":\"#E5ECF6\",\"width\":0.5},\"pattern\":{\"fillmode\":\"overlay\",\"size\":10,\"solidity\":0.2}},\"type\":\"bar\"}],\"scattergeo\":[{\"type\":\"scattergeo\",\"marker\":{\"colorbar\":{\"outlinewidth\":0,\"ticks\":\"\"}}}],\"scatterpolar\":[{\"type\":\"scatterpolar\",\"marker\":{\"colorbar\":{\"outlinewidth\":0,\"ticks\":\"\"}}}],\"histogram\":[{\"marker\":{\"pattern\":{\"fillmode\":\"overlay\",\"size\":10,\"solidity\":0.2}},\"type\":\"histogram\"}],\"scattergl\":[{\"type\":\"scattergl\",\"marker\":{\"colorbar\":{\"outlinewidth\":0,\"ticks\":\"\"}}}],\"scatter3d\":[{\"type\":\"scatter3d\",\"line\":{\"colorbar\":{\"outlinewidth\":0,\"ticks\":\"\"}},\"marker\":{\"colorbar\":{\"outlinewidth\":0,\"ticks\":\"\"}}}],\"scattermapbox\":[{\"type\":\"scattermapbox\",\"marker\":{\"colorbar\":{\"outlinewidth\":0,\"ticks\":\"\"}}}],\"scatterternary\":[{\"type\":\"scatterternary\",\"marker\":{\"colorbar\":{\"outlinewidth\":0,\"ticks\":\"\"}}}],\"scattercarpet\":[{\"type\":\"scattercarpet\",\"marker\":{\"colorbar\":{\"outlinewidth\":0,\"ticks\":\"\"}}}],\"carpet\":[{\"aaxis\":{\"endlinecolor\":\"#2a3f5f\",\"gridcolor\":\"white\",\"linecolor\":\"white\",\"minorgridcolor\":\"white\",\"startlinecolor\":\"#2a3f5f\"},\"baxis\":{\"endlinecolor\":\"#2a3f5f\",\"gridcolor\":\"white\",\"linecolor\":\"white\",\"minorgridcolor\":\"white\",\"startlinecolor\":\"#2a3f5f\"},\"type\":\"carpet\"}],\"table\":[{\"cells\":{\"fill\":{\"color\":\"#EBF0F8\"},\"line\":{\"color\":\"white\"}},\"header\":{\"fill\":{\"color\":\"#C8D4E3\"},\"line\":{\"color\":\"white\"}},\"type\":\"table\"}],\"barpolar\":[{\"marker\":{\"line\":{\"color\":\"#E5ECF6\",\"width\":0.5},\"pattern\":{\"fillmode\":\"overlay\",\"size\":10,\"solidity\":0.2}},\"type\":\"barpolar\"}],\"pie\":[{\"automargin\":true,\"type\":\"pie\"}]},\"layout\":{\"autotypenumbers\":\"strict\",\"colorway\":[\"#636efa\",\"#EF553B\",\"#00cc96\",\"#ab63fa\",\"#FFA15A\",\"#19d3f3\",\"#FF6692\",\"#B6E880\",\"#FF97FF\",\"#FECB52\"],\"font\":{\"color\":\"#2a3f5f\"},\"hovermode\":\"closest\",\"hoverlabel\":{\"align\":\"left\"},\"paper_bgcolor\":\"white\",\"plot_bgcolor\":\"#E5ECF6\",\"polar\":{\"bgcolor\":\"#E5ECF6\",\"angularaxis\":{\"gridcolor\":\"white\",\"linecolor\":\"white\",\"ticks\":\"\"},\"radialaxis\":{\"gridcolor\":\"white\",\"linecolor\":\"white\",\"ticks\":\"\"}},\"ternary\":{\"bgcolor\":\"#E5ECF6\",\"aaxis\":{\"gridcolor\":\"white\",\"linecolor\":\"white\",\"ticks\":\"\"},\"baxis\":{\"gridcolor\":\"white\",\"linecolor\":\"white\",\"ticks\":\"\"},\"caxis\":{\"gridcolor\":\"white\",\"linecolor\":\"white\",\"ticks\":\"\"}},\"coloraxis\":{\"colorbar\":{\"outlinewidth\":0,\"ticks\":\"\"}},\"colorscale\":{\"sequential\":[[0.0,\"#0d0887\"],[0.1111111111111111,\"#46039f\"],[0.2222222222222222,\"#7201a8\"],[0.3333333333333333,\"#9c179e\"],[0.4444444444444444,\"#bd3786\"],[0.5555555555555556,\"#d8576b\"],[0.6666666666666666,\"#ed7953\"],[0.7777777777777778,\"#fb9f3a\"],[0.8888888888888888,\"#fdca26\"],[1.0,\"#f0f921\"]],\"sequentialminus\":[[0.0,\"#0d0887\"],[0.1111111111111111,\"#46039f\"],[0.2222222222222222,\"#7201a8\"],[0.3333333333333333,\"#9c179e\"],[0.4444444444444444,\"#bd3786\"],[0.5555555555555556,\"#d8576b\"],[0.6666666666666666,\"#ed7953\"],[0.7777777777777778,\"#fb9f3a\"],[0.8888888888888888,\"#fdca26\"],[1.0,\"#f0f921\"]],\"diverging\":[[0,\"#8e0152\"],[0.1,\"#c51b7d\"],[0.2,\"#de77ae\"],[0.3,\"#f1b6da\"],[0.4,\"#fde0ef\"],[0.5,\"#f7f7f7\"],[0.6,\"#e6f5d0\"],[0.7,\"#b8e186\"],[0.8,\"#7fbc41\"],[0.9,\"#4d9221\"],[1,\"#276419\"]]},\"xaxis\":{\"gridcolor\":\"white\",\"linecolor\":\"white\",\"ticks\":\"\",\"title\":{\"standoff\":15},\"zerolinecolor\":\"white\",\"automargin\":true,\"zerolinewidth\":2},\"yaxis\":{\"gridcolor\":\"white\",\"linecolor\":\"white\",\"ticks\":\"\",\"title\":{\"standoff\":15},\"zerolinecolor\":\"white\",\"automargin\":true,\"zerolinewidth\":2},\"scene\":{\"xaxis\":{\"backgroundcolor\":\"#E5ECF6\",\"gridcolor\":\"white\",\"linecolor\":\"white\",\"showbackground\":true,\"ticks\":\"\",\"zerolinecolor\":\"white\",\"gridwidth\":2},\"yaxis\":{\"backgroundcolor\":\"#E5ECF6\",\"gridcolor\":\"white\",\"linecolor\":\"white\",\"showbackground\":true,\"ticks\":\"\",\"zerolinecolor\":\"white\",\"gridwidth\":2},\"zaxis\":{\"backgroundcolor\":\"#E5ECF6\",\"gridcolor\":\"white\",\"linecolor\":\"white\",\"showbackground\":true,\"ticks\":\"\",\"zerolinecolor\":\"white\",\"gridwidth\":2}},\"shapedefaults\":{\"line\":{\"color\":\"#2a3f5f\"}},\"annotationdefaults\":{\"arrowcolor\":\"#2a3f5f\",\"arrowhead\":0,\"arrowwidth\":1},\"geo\":{\"bgcolor\":\"white\",\"landcolor\":\"#E5ECF6\",\"subunitcolor\":\"white\",\"showland\":true,\"showlakes\":true,\"lakecolor\":\"white\"},\"title\":{\"x\":0.05},\"mapbox\":{\"style\":\"light\"}}},\"title\":{\"text\":\"Gr\\u00e1fico de an\\u00e1lise - DBSCAN\"},\"autosize\":false,\"width\":1400,\"height\":1000},                        {\"responsive\": true}                    ).then(function(){\n",
              "                            \n",
              "var gd = document.getElementById('c9b43dd2-e225-4da2-b914-3697095bda80');\n",
              "var x = new MutationObserver(function (mutations, observer) {{\n",
              "        var display = window.getComputedStyle(gd).display;\n",
              "        if (!display || display === 'none') {{\n",
              "            console.log([gd, 'removed!']);\n",
              "            Plotly.purge(gd);\n",
              "            observer.disconnect();\n",
              "        }}\n",
              "}});\n",
              "\n",
              "// Listen for the removal of the full notebook cells\n",
              "var notebookContainer = gd.closest('#notebook-container');\n",
              "if (notebookContainer) {{\n",
              "    x.observe(notebookContainer, {childList: true});\n",
              "}}\n",
              "\n",
              "// Listen for the clearing of the current output cell\n",
              "var outputEl = gd.closest('.output');\n",
              "if (outputEl) {{\n",
              "    x.observe(outputEl, {childList: true});\n",
              "}}\n",
              "\n",
              "                        })                };                });            </script>        </div>"
            ]
          },
          "metadata": {},
          "output_type": "display_data"
        },
        {
          "data": {
            "text/html": [
              "<pre style=\"white-space:pre;overflow-x:auto;line-height:normal;font-family:Menlo,'DejaVu Sans Mono',consolas,'Courier New',monospace\"><span style=\"font-style: italic\">                         Resultados                          </span>\n",
              "┏━━━━━━━━━━━━━━━━━━━━┳━━━━━━━━━━━━━┳━━━━━━━━━━━━━━━━━━━━━━━━┓\n",
              "┃<span style=\"font-weight: bold\">        Eps         </span>┃<span style=\"font-weight: bold\"> Min Samples </span>┃<span style=\"font-weight: bold\">    Silhouette Score    </span>┃\n",
              "┡━━━━━━━━━━━━━━━━━━━━╇━━━━━━━━━━━━━╇━━━━━━━━━━━━━━━━━━━━━━━━┩\n",
              "│<span style=\"color: #008080; text-decoration-color: #008080\"> 3.3489795918367347 </span>│<span style=\"color: #800080; text-decoration-color: #800080\">      2      </span>│<span style=\"color: #008000; text-decoration-color: #008000\">  -0.10480444112901122  </span>│\n",
              "│<span style=\"color: #008080; text-decoration-color: #008080\"> 3.7551020408163267 </span>│<span style=\"color: #800080; text-decoration-color: #800080\">      2      </span>│<span style=\"color: #008000; text-decoration-color: #008000\">  -0.10480444112901122  </span>│\n",
              "│<span style=\"color: #008080; text-decoration-color: #008080\"> 4.161224489795918  </span>│<span style=\"color: #800080; text-decoration-color: #800080\">      2      </span>│<span style=\"color: #008000; text-decoration-color: #008000\">  -0.22596111074857672  </span>│\n",
              "│<span style=\"color: #008080; text-decoration-color: #008080\"> 4.5673469387755095 </span>│<span style=\"color: #800080; text-decoration-color: #800080\">      2      </span>│<span style=\"color: #008000; text-decoration-color: #008000\">  -0.22909419142284043  </span>│\n",
              "│<span style=\"color: #008080; text-decoration-color: #008080\"> 4.5673469387755095 </span>│<span style=\"color: #800080; text-decoration-color: #800080\">      3      </span>│<span style=\"color: #008000; text-decoration-color: #008000\">  -0.11208135736905296  </span>│\n",
              "│<span style=\"color: #008080; text-decoration-color: #008080\"> 4.5673469387755095 </span>│<span style=\"color: #800080; text-decoration-color: #800080\">      4      </span>│<span style=\"color: #008000; text-decoration-color: #008000\">  -0.04155962462632482  </span>│\n",
              "│<span style=\"color: #008080; text-decoration-color: #008080\"> 4.9734693877551015 </span>│<span style=\"color: #800080; text-decoration-color: #800080\">      2      </span>│<span style=\"color: #008000; text-decoration-color: #008000\">  -0.17716011858548572  </span>│\n",
              "│<span style=\"color: #008080; text-decoration-color: #008080\"> 4.9734693877551015 </span>│<span style=\"color: #800080; text-decoration-color: #800080\">      3      </span>│<span style=\"color: #008000; text-decoration-color: #008000\">  -0.17245818638727373  </span>│\n",
              "│<span style=\"color: #008080; text-decoration-color: #008080\"> 4.9734693877551015 </span>│<span style=\"color: #800080; text-decoration-color: #800080\">      4      </span>│<span style=\"color: #008000; text-decoration-color: #008000\"> -0.016375654662300506  </span>│\n",
              "│<span style=\"color: #008080; text-decoration-color: #008080\"> 4.9734693877551015 </span>│<span style=\"color: #800080; text-decoration-color: #800080\">      5      </span>│<span style=\"color: #008000; text-decoration-color: #008000\">  -0.01992745662180044  </span>│\n",
              "│<span style=\"color: #008080; text-decoration-color: #008080\"> 5.3795918367346935 </span>│<span style=\"color: #800080; text-decoration-color: #800080\">      2      </span>│<span style=\"color: #008000; text-decoration-color: #008000\">  -0.07778250141686645  </span>│\n",
              "│<span style=\"color: #008080; text-decoration-color: #008080\"> 5.3795918367346935 </span>│<span style=\"color: #800080; text-decoration-color: #800080\">      3      </span>│<span style=\"color: #008000; text-decoration-color: #008000\">  -0.07352363627451836  </span>│\n",
              "│<span style=\"color: #008080; text-decoration-color: #008080\"> 5.3795918367346935 </span>│<span style=\"color: #800080; text-decoration-color: #800080\">      4      </span>│<span style=\"color: #008000; text-decoration-color: #008000\">  -0.11392868032410289  </span>│\n",
              "│<span style=\"color: #008080; text-decoration-color: #008080\"> 5.3795918367346935 </span>│<span style=\"color: #800080; text-decoration-color: #800080\">      5      </span>│<span style=\"color: #008000; text-decoration-color: #008000\">  -0.0942986551512442   </span>│\n",
              "│<span style=\"color: #008080; text-decoration-color: #008080\"> 5.3795918367346935 </span>│<span style=\"color: #800080; text-decoration-color: #800080\">      6      </span>│<span style=\"color: #008000; text-decoration-color: #008000\">  -0.07635804121647895  </span>│\n",
              "│<span style=\"color: #008080; text-decoration-color: #008080\"> 5.3795918367346935 </span>│<span style=\"color: #800080; text-decoration-color: #800080\">      7      </span>│<span style=\"color: #008000; text-decoration-color: #008000\"> 1.1842172408340404e-05 </span>│\n",
              "│<span style=\"color: #008080; text-decoration-color: #008080\"> 5.3795918367346935 </span>│<span style=\"color: #800080; text-decoration-color: #800080\">      8      </span>│<span style=\"color: #008000; text-decoration-color: #008000\"> 1.1842172408340404e-05 </span>│\n",
              "│<span style=\"color: #008080; text-decoration-color: #008080\"> 5.785714285714285  </span>│<span style=\"color: #800080; text-decoration-color: #800080\">      2      </span>│<span style=\"color: #008000; text-decoration-color: #008000\"> -0.008169765445336931  </span>│\n",
              "│<span style=\"color: #008080; text-decoration-color: #008080\"> 5.785714285714285  </span>│<span style=\"color: #800080; text-decoration-color: #800080\">      3      </span>│<span style=\"color: #008000; text-decoration-color: #008000\">  0.003197909763609542  </span>│\n",
              "│<span style=\"color: #008080; text-decoration-color: #008080\"> 5.785714285714285  </span>│<span style=\"color: #800080; text-decoration-color: #800080\">      4      </span>│<span style=\"color: #008000; text-decoration-color: #008000\"> -0.015806510398767574  </span>│\n",
              "│<span style=\"color: #008080; text-decoration-color: #008080\"> 5.785714285714285  </span>│<span style=\"color: #800080; text-decoration-color: #800080\">      5      </span>│<span style=\"color: #008000; text-decoration-color: #008000\"> -0.023890499426630362  </span>│\n",
              "│<span style=\"color: #008080; text-decoration-color: #008080\"> 5.785714285714285  </span>│<span style=\"color: #800080; text-decoration-color: #800080\">      6      </span>│<span style=\"color: #008000; text-decoration-color: #008000\"> -0.008611292727944827  </span>│\n",
              "│<span style=\"color: #008080; text-decoration-color: #008080\"> 5.785714285714285  </span>│<span style=\"color: #800080; text-decoration-color: #800080\">      7      </span>│<span style=\"color: #008000; text-decoration-color: #008000\">  -0.05769213905651315  </span>│\n",
              "│<span style=\"color: #008080; text-decoration-color: #008080\"> 5.785714285714285  </span>│<span style=\"color: #800080; text-decoration-color: #800080\">      8      </span>│<span style=\"color: #008000; text-decoration-color: #008000\">   -0.068276848825327   </span>│\n",
              "│<span style=\"color: #008080; text-decoration-color: #008080\"> 5.785714285714285  </span>│<span style=\"color: #800080; text-decoration-color: #800080\">      9      </span>│<span style=\"color: #008000; text-decoration-color: #008000\">  0.028945455462706497  </span>│\n",
              "│<span style=\"color: #008080; text-decoration-color: #008080\"> 5.785714285714285  </span>│<span style=\"color: #800080; text-decoration-color: #800080\">     10      </span>│<span style=\"color: #008000; text-decoration-color: #008000\">  0.02116376699652612   </span>│\n",
              "│<span style=\"color: #008080; text-decoration-color: #008080\"> 5.785714285714285  </span>│<span style=\"color: #800080; text-decoration-color: #800080\">     11      </span>│<span style=\"color: #008000; text-decoration-color: #008000\">  0.02116376699652612   </span>│\n",
              "│<span style=\"color: #008080; text-decoration-color: #008080\"> 5.785714285714285  </span>│<span style=\"color: #800080; text-decoration-color: #800080\">     12      </span>│<span style=\"color: #008000; text-decoration-color: #008000\">  0.005958440633584836  </span>│\n",
              "│<span style=\"color: #008080; text-decoration-color: #008080\"> 6.191836734693877  </span>│<span style=\"color: #800080; text-decoration-color: #800080\">      2      </span>│<span style=\"color: #008000; text-decoration-color: #008000\">  -0.06342855655026242  </span>│\n",
              "│<span style=\"color: #008080; text-decoration-color: #008080\"> 6.191836734693877  </span>│<span style=\"color: #800080; text-decoration-color: #800080\">      3      </span>│<span style=\"color: #008000; text-decoration-color: #008000\">  0.042007571335556985  </span>│\n",
              "│<span style=\"color: #008080; text-decoration-color: #008080\"> 6.191836734693877  </span>│<span style=\"color: #800080; text-decoration-color: #800080\">      4      </span>│<span style=\"color: #008000; text-decoration-color: #008000\">  0.03285494758484445   </span>│\n",
              "│<span style=\"color: #008080; text-decoration-color: #008080\"> 6.191836734693877  </span>│<span style=\"color: #800080; text-decoration-color: #800080\">      5      </span>│<span style=\"color: #008000; text-decoration-color: #008000\">  0.036049440554928404  </span>│\n",
              "│<span style=\"color: #008080; text-decoration-color: #008080\"> 6.191836734693877  </span>│<span style=\"color: #800080; text-decoration-color: #800080\">      6      </span>│<span style=\"color: #008000; text-decoration-color: #008000\">   0.071635542983881    </span>│\n",
              "│<span style=\"color: #008080; text-decoration-color: #008080\"> 6.191836734693877  </span>│<span style=\"color: #800080; text-decoration-color: #800080\">      7      </span>│<span style=\"color: #008000; text-decoration-color: #008000\">  0.08474744226546951   </span>│\n",
              "│<span style=\"color: #008080; text-decoration-color: #008080\"> 6.191836734693877  </span>│<span style=\"color: #800080; text-decoration-color: #800080\">      8      </span>│<span style=\"color: #008000; text-decoration-color: #008000\">  0.04287619029232182   </span>│\n",
              "│<span style=\"color: #008080; text-decoration-color: #008080\"> 6.191836734693877  </span>│<span style=\"color: #800080; text-decoration-color: #800080\">      9      </span>│<span style=\"color: #008000; text-decoration-color: #008000\"> -0.019409861387179837  </span>│\n",
              "│<span style=\"color: #008080; text-decoration-color: #008080\"> 6.191836734693877  </span>│<span style=\"color: #800080; text-decoration-color: #800080\">     10      </span>│<span style=\"color: #008000; text-decoration-color: #008000\">  -0.01096473073600401  </span>│\n",
              "│<span style=\"color: #008080; text-decoration-color: #008080\"> 6.191836734693877  </span>│<span style=\"color: #800080; text-decoration-color: #800080\">     11      </span>│<span style=\"color: #008000; text-decoration-color: #008000\">  0.03913030913720082   </span>│\n",
              "│<span style=\"color: #008080; text-decoration-color: #008080\"> 6.191836734693877  </span>│<span style=\"color: #800080; text-decoration-color: #800080\">     12      </span>│<span style=\"color: #008000; text-decoration-color: #008000\">  0.03571091524892712   </span>│\n",
              "│<span style=\"color: #008080; text-decoration-color: #008080\"> 6.191836734693877  </span>│<span style=\"color: #800080; text-decoration-color: #800080\">     13      </span>│<span style=\"color: #008000; text-decoration-color: #008000\">  0.03571091524892712   </span>│\n",
              "│<span style=\"color: #008080; text-decoration-color: #008080\"> 6.191836734693877  </span>│<span style=\"color: #800080; text-decoration-color: #800080\">     14      </span>│<span style=\"color: #008000; text-decoration-color: #008000\">  0.03571091524892712   </span>│\n",
              "│<span style=\"color: #008080; text-decoration-color: #008080\"> 6.597959183673469  </span>│<span style=\"color: #800080; text-decoration-color: #800080\">      2      </span>│<span style=\"color: #008000; text-decoration-color: #008000\"> -0.027949730646737607  </span>│\n",
              "│<span style=\"color: #008080; text-decoration-color: #008080\"> 6.597959183673469  </span>│<span style=\"color: #800080; text-decoration-color: #800080\">      3      </span>│<span style=\"color: #008000; text-decoration-color: #008000\">  0.04076525191369833   </span>│\n",
              "│<span style=\"color: #008080; text-decoration-color: #008080\"> 6.597959183673469  </span>│<span style=\"color: #800080; text-decoration-color: #800080\">      4      </span>│<span style=\"color: #008000; text-decoration-color: #008000\">  0.08229753374928515   </span>│\n",
              "│<span style=\"color: #008080; text-decoration-color: #008080\"> 6.597959183673469  </span>│<span style=\"color: #800080; text-decoration-color: #800080\">      5      </span>│<span style=\"color: #008000; text-decoration-color: #008000\">  0.07606822886436705   </span>│\n",
              "│<span style=\"color: #008080; text-decoration-color: #008080\"> 6.597959183673469  </span>│<span style=\"color: #800080; text-decoration-color: #800080\">      6      </span>│<span style=\"color: #008000; text-decoration-color: #008000\">   0.0987181341233159   </span>│\n",
              "│<span style=\"color: #008080; text-decoration-color: #008080\"> 6.597959183673469  </span>│<span style=\"color: #800080; text-decoration-color: #800080\">      7      </span>│<span style=\"color: #008000; text-decoration-color: #008000\">  0.06174802082615353   </span>│\n",
              "│<span style=\"color: #008080; text-decoration-color: #008080\"> 6.597959183673469  </span>│<span style=\"color: #800080; text-decoration-color: #800080\">      8      </span>│<span style=\"color: #008000; text-decoration-color: #008000\">  0.04954006691986782   </span>│\n",
              "│<span style=\"color: #008080; text-decoration-color: #008080\"> 6.597959183673469  </span>│<span style=\"color: #800080; text-decoration-color: #800080\">      9      </span>│<span style=\"color: #008000; text-decoration-color: #008000\">  0.09800755312708587   </span>│\n",
              "│<span style=\"color: #008080; text-decoration-color: #008080\"> 6.597959183673469  </span>│<span style=\"color: #800080; text-decoration-color: #800080\">     10      </span>│<span style=\"color: #008000; text-decoration-color: #008000\">  0.09800755312708587   </span>│\n",
              "│<span style=\"color: #008080; text-decoration-color: #008080\"> 6.597959183673469  </span>│<span style=\"color: #800080; text-decoration-color: #800080\">     11      </span>│<span style=\"color: #008000; text-decoration-color: #008000\">  0.09525113399850076   </span>│\n",
              "│<span style=\"color: #008080; text-decoration-color: #008080\"> 6.597959183673469  </span>│<span style=\"color: #800080; text-decoration-color: #800080\">     12      </span>│<span style=\"color: #008000; text-decoration-color: #008000\">  0.09136302784761749   </span>│\n",
              "│<span style=\"color: #008080; text-decoration-color: #008080\"> 6.597959183673469  </span>│<span style=\"color: #800080; text-decoration-color: #800080\">     13      </span>│<span style=\"color: #008000; text-decoration-color: #008000\">  0.00732967687956513   </span>│\n",
              "│<span style=\"color: #008080; text-decoration-color: #008080\"> 6.597959183673469  </span>│<span style=\"color: #800080; text-decoration-color: #800080\">     14      </span>│<span style=\"color: #008000; text-decoration-color: #008000\">  0.006004419588525062  </span>│\n",
              "│<span style=\"color: #008080; text-decoration-color: #008080\"> 7.004081632653061  </span>│<span style=\"color: #800080; text-decoration-color: #800080\">      2      </span>│<span style=\"color: #008000; text-decoration-color: #008000\"> -0.022029476681170806  </span>│\n",
              "│<span style=\"color: #008080; text-decoration-color: #008080\"> 7.004081632653061  </span>│<span style=\"color: #800080; text-decoration-color: #800080\">      3      </span>│<span style=\"color: #008000; text-decoration-color: #008000\">  0.012734464369104713  </span>│\n",
              "│<span style=\"color: #008080; text-decoration-color: #008080\"> 7.004081632653061  </span>│<span style=\"color: #800080; text-decoration-color: #800080\">      4      </span>│<span style=\"color: #008000; text-decoration-color: #008000\">  0.10084130871565712   </span>│\n",
              "│<span style=\"color: #008080; text-decoration-color: #008080\"> 7.004081632653061  </span>│<span style=\"color: #800080; text-decoration-color: #800080\">      5      </span>│<span style=\"color: #008000; text-decoration-color: #008000\">  0.10704618412674562   </span>│\n",
              "│<span style=\"color: #008080; text-decoration-color: #008080\"> 7.004081632653061  </span>│<span style=\"color: #800080; text-decoration-color: #800080\">      6      </span>│<span style=\"color: #008000; text-decoration-color: #008000\">  0.12008215234064079   </span>│\n",
              "│<span style=\"color: #008080; text-decoration-color: #008080\"> 7.004081632653061  </span>│<span style=\"color: #800080; text-decoration-color: #800080\">      7      </span>│<span style=\"color: #008000; text-decoration-color: #008000\">  0.11336118364818677   </span>│\n",
              "│<span style=\"color: #008080; text-decoration-color: #008080\"> 7.004081632653061  </span>│<span style=\"color: #800080; text-decoration-color: #800080\">      8      </span>│<span style=\"color: #008000; text-decoration-color: #008000\">  0.11289406531889258   </span>│\n",
              "│<span style=\"color: #008080; text-decoration-color: #008080\"> 7.004081632653061  </span>│<span style=\"color: #800080; text-decoration-color: #800080\">      9      </span>│<span style=\"color: #008000; text-decoration-color: #008000\">  0.11392589226609126   </span>│\n",
              "│<span style=\"color: #008080; text-decoration-color: #008080\"> 7.004081632653061  </span>│<span style=\"color: #800080; text-decoration-color: #800080\">     10      </span>│<span style=\"color: #008000; text-decoration-color: #008000\">   0.0912377280725315   </span>│\n",
              "│<span style=\"color: #008080; text-decoration-color: #008080\"> 7.004081632653061  </span>│<span style=\"color: #800080; text-decoration-color: #800080\">     11      </span>│<span style=\"color: #008000; text-decoration-color: #008000\">  0.13383519027902582   </span>│\n",
              "│<span style=\"color: #008080; text-decoration-color: #008080\"> 7.004081632653061  </span>│<span style=\"color: #800080; text-decoration-color: #800080\">     12      </span>│<span style=\"color: #008000; text-decoration-color: #008000\">   0.1305859094369084   </span>│\n",
              "│<span style=\"color: #008080; text-decoration-color: #008080\"> 7.004081632653061  </span>│<span style=\"color: #800080; text-decoration-color: #800080\">     13      </span>│<span style=\"color: #008000; text-decoration-color: #008000\">  0.11797450090607851   </span>│\n",
              "│<span style=\"color: #008080; text-decoration-color: #008080\"> 7.004081632653061  </span>│<span style=\"color: #800080; text-decoration-color: #800080\">     14      </span>│<span style=\"color: #008000; text-decoration-color: #008000\">  0.11524143415993554   </span>│\n",
              "│<span style=\"color: #008080; text-decoration-color: #008080\"> 7.410204081632653  </span>│<span style=\"color: #800080; text-decoration-color: #800080\">      2      </span>│<span style=\"color: #008000; text-decoration-color: #008000\">  0.04057676324073076   </span>│\n",
              "│<span style=\"color: #008080; text-decoration-color: #008080\"> 7.410204081632653  </span>│<span style=\"color: #800080; text-decoration-color: #800080\">      3      </span>│<span style=\"color: #008000; text-decoration-color: #008000\">  0.10129538754296342   </span>│\n",
              "│<span style=\"color: #008080; text-decoration-color: #008080\"> 7.410204081632653  </span>│<span style=\"color: #800080; text-decoration-color: #800080\">      4      </span>│<span style=\"color: #008000; text-decoration-color: #008000\">  0.07757345592459113   </span>│\n",
              "│<span style=\"color: #008080; text-decoration-color: #008080\"> 7.410204081632653  </span>│<span style=\"color: #800080; text-decoration-color: #800080\">      5      </span>│<span style=\"color: #008000; text-decoration-color: #008000\">   0.0622985200687111   </span>│\n",
              "│<span style=\"color: #008080; text-decoration-color: #008080\"> 7.410204081632653  </span>│<span style=\"color: #800080; text-decoration-color: #800080\">      6      </span>│<span style=\"color: #008000; text-decoration-color: #008000\">  0.13280599206419316   </span>│\n",
              "│<span style=\"color: #008080; text-decoration-color: #008080\"> 7.410204081632653  </span>│<span style=\"color: #800080; text-decoration-color: #800080\">      7      </span>│<span style=\"color: #008000; text-decoration-color: #008000\">   0.1334802898439644   </span>│\n",
              "│<span style=\"color: #008080; text-decoration-color: #008080\"> 7.410204081632653  </span>│<span style=\"color: #800080; text-decoration-color: #800080\">      8      </span>│<span style=\"color: #008000; text-decoration-color: #008000\">  0.13478107453044083   </span>│\n",
              "│<span style=\"color: #008080; text-decoration-color: #008080\"> 7.410204081632653  </span>│<span style=\"color: #800080; text-decoration-color: #800080\">      9      </span>│<span style=\"color: #008000; text-decoration-color: #008000\">  0.13303610509606817   </span>│\n",
              "│<span style=\"color: #008080; text-decoration-color: #008080\"> 7.410204081632653  </span>│<span style=\"color: #800080; text-decoration-color: #800080\">     10      </span>│<span style=\"color: #008000; text-decoration-color: #008000\">  0.12176118399914417   </span>│\n",
              "│<span style=\"color: #008080; text-decoration-color: #008080\"> 7.410204081632653  </span>│<span style=\"color: #800080; text-decoration-color: #800080\">     11      </span>│<span style=\"color: #008000; text-decoration-color: #008000\">  0.11810262690680977   </span>│\n",
              "│<span style=\"color: #008080; text-decoration-color: #008080\"> 7.410204081632653  </span>│<span style=\"color: #800080; text-decoration-color: #800080\">     12      </span>│<span style=\"color: #008000; text-decoration-color: #008000\">  0.11588790032161926   </span>│\n",
              "│<span style=\"color: #008080; text-decoration-color: #008080\"> 7.410204081632653  </span>│<span style=\"color: #800080; text-decoration-color: #800080\">     13      </span>│<span style=\"color: #008000; text-decoration-color: #008000\">  0.11156003272044619   </span>│\n",
              "│<span style=\"color: #008080; text-decoration-color: #008080\"> 7.410204081632653  </span>│<span style=\"color: #800080; text-decoration-color: #800080\">     14      </span>│<span style=\"color: #008000; text-decoration-color: #008000\">  0.10097796135858787   </span>│\n",
              "│<span style=\"color: #008080; text-decoration-color: #008080\"> 7.816326530612244  </span>│<span style=\"color: #800080; text-decoration-color: #800080\">      2      </span>│<span style=\"color: #008000; text-decoration-color: #008000\">  0.09513887255052131   </span>│\n",
              "│<span style=\"color: #008080; text-decoration-color: #008080\"> 7.816326530612244  </span>│<span style=\"color: #800080; text-decoration-color: #800080\">      3      </span>│<span style=\"color: #008000; text-decoration-color: #008000\">  0.09513887255052131   </span>│\n",
              "│<span style=\"color: #008080; text-decoration-color: #008080\"> 7.816326530612244  </span>│<span style=\"color: #800080; text-decoration-color: #800080\">      4      </span>│<span style=\"color: #008000; text-decoration-color: #008000\">  0.09513887255052131   </span>│\n",
              "│<span style=\"color: #008080; text-decoration-color: #008080\"> 7.816326530612244  </span>│<span style=\"color: #800080; text-decoration-color: #800080\">      5      </span>│<span style=\"color: #008000; text-decoration-color: #008000\">  0.09513887255052131   </span>│\n",
              "│<span style=\"color: #008080; text-decoration-color: #008080\"> 7.816326530612244  </span>│<span style=\"color: #800080; text-decoration-color: #800080\">      6      </span>│<span style=\"color: #008000; text-decoration-color: #008000\">  0.09513887255052131   </span>│\n",
              "│<span style=\"color: #008080; text-decoration-color: #008080\"> 7.816326530612244  </span>│<span style=\"color: #800080; text-decoration-color: #800080\">      7      </span>│<span style=\"color: #008000; text-decoration-color: #008000\">   0.1049876323788936   </span>│\n",
              "│<span style=\"color: #008080; text-decoration-color: #008080\"> 7.816326530612244  </span>│<span style=\"color: #800080; text-decoration-color: #800080\">      8      </span>│<span style=\"color: #008000; text-decoration-color: #008000\">  0.10563462121749863   </span>│\n",
              "│<span style=\"color: #008080; text-decoration-color: #008080\"> 7.816326530612244  </span>│<span style=\"color: #800080; text-decoration-color: #800080\">      9      </span>│<span style=\"color: #008000; text-decoration-color: #008000\">  0.13235724943234356   </span>│\n",
              "│<span style=\"color: #008080; text-decoration-color: #008080\"> 7.816326530612244  </span>│<span style=\"color: #800080; text-decoration-color: #800080\">     10      </span>│<span style=\"color: #008000; text-decoration-color: #008000\">   0.1288534255286658   </span>│\n",
              "│<span style=\"color: #008080; text-decoration-color: #008080\"> 7.816326530612244  </span>│<span style=\"color: #800080; text-decoration-color: #800080\">     11      </span>│<span style=\"color: #008000; text-decoration-color: #008000\">  0.12847328898870902   </span>│\n",
              "│<span style=\"color: #008080; text-decoration-color: #008080\"> 7.816326530612244  </span>│<span style=\"color: #800080; text-decoration-color: #800080\">     12      </span>│<span style=\"color: #008000; text-decoration-color: #008000\">  0.12719626297833447   </span>│\n",
              "│<span style=\"color: #008080; text-decoration-color: #008080\"> 7.816326530612244  </span>│<span style=\"color: #800080; text-decoration-color: #800080\">     13      </span>│<span style=\"color: #008000; text-decoration-color: #008000\">  0.11948928838764583   </span>│\n",
              "│<span style=\"color: #008080; text-decoration-color: #008080\"> 7.816326530612244  </span>│<span style=\"color: #800080; text-decoration-color: #800080\">     14      </span>│<span style=\"color: #008000; text-decoration-color: #008000\">  0.12588348846113231   </span>│\n",
              "│<span style=\"color: #008080; text-decoration-color: #008080\"> 8.222448979591837  </span>│<span style=\"color: #800080; text-decoration-color: #800080\">      2      </span>│<span style=\"color: #008000; text-decoration-color: #008000\">  0.09513887255052131   </span>│\n",
              "│<span style=\"color: #008080; text-decoration-color: #008080\"> 8.222448979591837  </span>│<span style=\"color: #800080; text-decoration-color: #800080\">      3      </span>│<span style=\"color: #008000; text-decoration-color: #008000\">  0.09513887255052131   </span>│\n",
              "│<span style=\"color: #008080; text-decoration-color: #008080\"> 8.222448979591837  </span>│<span style=\"color: #800080; text-decoration-color: #800080\">      4      </span>│<span style=\"color: #008000; text-decoration-color: #008000\">  0.09513887255052131   </span>│\n",
              "│<span style=\"color: #008080; text-decoration-color: #008080\"> 8.222448979591837  </span>│<span style=\"color: #800080; text-decoration-color: #800080\">      5      </span>│<span style=\"color: #008000; text-decoration-color: #008000\">  0.09513887255052131   </span>│\n",
              "│<span style=\"color: #008080; text-decoration-color: #008080\"> 8.222448979591837  </span>│<span style=\"color: #800080; text-decoration-color: #800080\">      6      </span>│<span style=\"color: #008000; text-decoration-color: #008000\">  0.09513887255052131   </span>│\n",
              "│<span style=\"color: #008080; text-decoration-color: #008080\"> 8.222448979591837  </span>│<span style=\"color: #800080; text-decoration-color: #800080\">      7      </span>│<span style=\"color: #008000; text-decoration-color: #008000\">  0.09513887255052131   </span>│\n",
              "│<span style=\"color: #008080; text-decoration-color: #008080\"> 8.222448979591837  </span>│<span style=\"color: #800080; text-decoration-color: #800080\">      8      </span>│<span style=\"color: #008000; text-decoration-color: #008000\">  0.09513887255052131   </span>│\n",
              "│<span style=\"color: #008080; text-decoration-color: #008080\"> 8.222448979591837  </span>│<span style=\"color: #800080; text-decoration-color: #800080\">      9      </span>│<span style=\"color: #008000; text-decoration-color: #008000\">  0.09513887255052131   </span>│\n",
              "│<span style=\"color: #008080; text-decoration-color: #008080\"> 8.222448979591837  </span>│<span style=\"color: #800080; text-decoration-color: #800080\">     10      </span>│<span style=\"color: #008000; text-decoration-color: #008000\">   0.1211724983583399   </span>│\n",
              "│<span style=\"color: #008080; text-decoration-color: #008080\"> 8.222448979591837  </span>│<span style=\"color: #800080; text-decoration-color: #800080\">     11      </span>│<span style=\"color: #008000; text-decoration-color: #008000\">   0.1211724983583399   </span>│\n",
              "│<span style=\"color: #008080; text-decoration-color: #008080\"> 8.222448979591837  </span>│<span style=\"color: #800080; text-decoration-color: #800080\">     12      </span>│<span style=\"color: #008000; text-decoration-color: #008000\">  0.13199682446573008   </span>│\n",
              "│<span style=\"color: #008080; text-decoration-color: #008080\"> 8.222448979591837  </span>│<span style=\"color: #800080; text-decoration-color: #800080\">     13      </span>│<span style=\"color: #008000; text-decoration-color: #008000\">  0.13174494957656088   </span>│\n",
              "│<span style=\"color: #008080; text-decoration-color: #008080\"> 8.222448979591837  </span>│<span style=\"color: #800080; text-decoration-color: #800080\">     14      </span>│<span style=\"color: #008000; text-decoration-color: #008000\">  0.13286822976029838   </span>│\n",
              "│<span style=\"color: #008080; text-decoration-color: #008080\"> 8.628571428571428  </span>│<span style=\"color: #800080; text-decoration-color: #800080\">     13      </span>│<span style=\"color: #008000; text-decoration-color: #008000\">  0.10901629155091697   </span>│\n",
              "│<span style=\"color: #008080; text-decoration-color: #008080\"> 8.628571428571428  </span>│<span style=\"color: #800080; text-decoration-color: #800080\">     14      </span>│<span style=\"color: #008000; text-decoration-color: #008000\">  0.10901629155091697   </span>│\n",
              "│<span style=\"color: #008080; text-decoration-color: #008080\">  9.03469387755102  </span>│<span style=\"color: #800080; text-decoration-color: #800080\">     14      </span>│<span style=\"color: #008000; text-decoration-color: #008000\">  0.10901629155091697   </span>│\n",
              "└────────────────────┴─────────────┴────────────────────────┘\n",
              "</pre>\n"
            ],
            "text/plain": [
              "\u001b[3m                         Resultados                          \u001b[0m\n",
              "┏━━━━━━━━━━━━━━━━━━━━┳━━━━━━━━━━━━━┳━━━━━━━━━━━━━━━━━━━━━━━━┓\n",
              "┃\u001b[1m \u001b[0m\u001b[1m       Eps        \u001b[0m\u001b[1m \u001b[0m┃\u001b[1m \u001b[0m\u001b[1mMin Samples\u001b[0m\u001b[1m \u001b[0m┃\u001b[1m \u001b[0m\u001b[1m   Silhouette Score   \u001b[0m\u001b[1m \u001b[0m┃\n",
              "┡━━━━━━━━━━━━━━━━━━━━╇━━━━━━━━━━━━━╇━━━━━━━━━━━━━━━━━━━━━━━━┩\n",
              "│\u001b[36m \u001b[0m\u001b[36m3.3489795918367347\u001b[0m\u001b[36m \u001b[0m│\u001b[35m \u001b[0m\u001b[35m     2     \u001b[0m\u001b[35m \u001b[0m│\u001b[32m \u001b[0m\u001b[32m -0.10480444112901122 \u001b[0m\u001b[32m \u001b[0m│\n",
              "│\u001b[36m \u001b[0m\u001b[36m3.7551020408163267\u001b[0m\u001b[36m \u001b[0m│\u001b[35m \u001b[0m\u001b[35m     2     \u001b[0m\u001b[35m \u001b[0m│\u001b[32m \u001b[0m\u001b[32m -0.10480444112901122 \u001b[0m\u001b[32m \u001b[0m│\n",
              "│\u001b[36m \u001b[0m\u001b[36m4.161224489795918 \u001b[0m\u001b[36m \u001b[0m│\u001b[35m \u001b[0m\u001b[35m     2     \u001b[0m\u001b[35m \u001b[0m│\u001b[32m \u001b[0m\u001b[32m -0.22596111074857672 \u001b[0m\u001b[32m \u001b[0m│\n",
              "│\u001b[36m \u001b[0m\u001b[36m4.5673469387755095\u001b[0m\u001b[36m \u001b[0m│\u001b[35m \u001b[0m\u001b[35m     2     \u001b[0m\u001b[35m \u001b[0m│\u001b[32m \u001b[0m\u001b[32m -0.22909419142284043 \u001b[0m\u001b[32m \u001b[0m│\n",
              "│\u001b[36m \u001b[0m\u001b[36m4.5673469387755095\u001b[0m\u001b[36m \u001b[0m│\u001b[35m \u001b[0m\u001b[35m     3     \u001b[0m\u001b[35m \u001b[0m│\u001b[32m \u001b[0m\u001b[32m -0.11208135736905296 \u001b[0m\u001b[32m \u001b[0m│\n",
              "│\u001b[36m \u001b[0m\u001b[36m4.5673469387755095\u001b[0m\u001b[36m \u001b[0m│\u001b[35m \u001b[0m\u001b[35m     4     \u001b[0m\u001b[35m \u001b[0m│\u001b[32m \u001b[0m\u001b[32m -0.04155962462632482 \u001b[0m\u001b[32m \u001b[0m│\n",
              "│\u001b[36m \u001b[0m\u001b[36m4.9734693877551015\u001b[0m\u001b[36m \u001b[0m│\u001b[35m \u001b[0m\u001b[35m     2     \u001b[0m\u001b[35m \u001b[0m│\u001b[32m \u001b[0m\u001b[32m -0.17716011858548572 \u001b[0m\u001b[32m \u001b[0m│\n",
              "│\u001b[36m \u001b[0m\u001b[36m4.9734693877551015\u001b[0m\u001b[36m \u001b[0m│\u001b[35m \u001b[0m\u001b[35m     3     \u001b[0m\u001b[35m \u001b[0m│\u001b[32m \u001b[0m\u001b[32m -0.17245818638727373 \u001b[0m\u001b[32m \u001b[0m│\n",
              "│\u001b[36m \u001b[0m\u001b[36m4.9734693877551015\u001b[0m\u001b[36m \u001b[0m│\u001b[35m \u001b[0m\u001b[35m     4     \u001b[0m\u001b[35m \u001b[0m│\u001b[32m \u001b[0m\u001b[32m-0.016375654662300506 \u001b[0m\u001b[32m \u001b[0m│\n",
              "│\u001b[36m \u001b[0m\u001b[36m4.9734693877551015\u001b[0m\u001b[36m \u001b[0m│\u001b[35m \u001b[0m\u001b[35m     5     \u001b[0m\u001b[35m \u001b[0m│\u001b[32m \u001b[0m\u001b[32m -0.01992745662180044 \u001b[0m\u001b[32m \u001b[0m│\n",
              "│\u001b[36m \u001b[0m\u001b[36m5.3795918367346935\u001b[0m\u001b[36m \u001b[0m│\u001b[35m \u001b[0m\u001b[35m     2     \u001b[0m\u001b[35m \u001b[0m│\u001b[32m \u001b[0m\u001b[32m -0.07778250141686645 \u001b[0m\u001b[32m \u001b[0m│\n",
              "│\u001b[36m \u001b[0m\u001b[36m5.3795918367346935\u001b[0m\u001b[36m \u001b[0m│\u001b[35m \u001b[0m\u001b[35m     3     \u001b[0m\u001b[35m \u001b[0m│\u001b[32m \u001b[0m\u001b[32m -0.07352363627451836 \u001b[0m\u001b[32m \u001b[0m│\n",
              "│\u001b[36m \u001b[0m\u001b[36m5.3795918367346935\u001b[0m\u001b[36m \u001b[0m│\u001b[35m \u001b[0m\u001b[35m     4     \u001b[0m\u001b[35m \u001b[0m│\u001b[32m \u001b[0m\u001b[32m -0.11392868032410289 \u001b[0m\u001b[32m \u001b[0m│\n",
              "│\u001b[36m \u001b[0m\u001b[36m5.3795918367346935\u001b[0m\u001b[36m \u001b[0m│\u001b[35m \u001b[0m\u001b[35m     5     \u001b[0m\u001b[35m \u001b[0m│\u001b[32m \u001b[0m\u001b[32m -0.0942986551512442  \u001b[0m\u001b[32m \u001b[0m│\n",
              "│\u001b[36m \u001b[0m\u001b[36m5.3795918367346935\u001b[0m\u001b[36m \u001b[0m│\u001b[35m \u001b[0m\u001b[35m     6     \u001b[0m\u001b[35m \u001b[0m│\u001b[32m \u001b[0m\u001b[32m -0.07635804121647895 \u001b[0m\u001b[32m \u001b[0m│\n",
              "│\u001b[36m \u001b[0m\u001b[36m5.3795918367346935\u001b[0m\u001b[36m \u001b[0m│\u001b[35m \u001b[0m\u001b[35m     7     \u001b[0m\u001b[35m \u001b[0m│\u001b[32m \u001b[0m\u001b[32m1.1842172408340404e-05\u001b[0m\u001b[32m \u001b[0m│\n",
              "│\u001b[36m \u001b[0m\u001b[36m5.3795918367346935\u001b[0m\u001b[36m \u001b[0m│\u001b[35m \u001b[0m\u001b[35m     8     \u001b[0m\u001b[35m \u001b[0m│\u001b[32m \u001b[0m\u001b[32m1.1842172408340404e-05\u001b[0m\u001b[32m \u001b[0m│\n",
              "│\u001b[36m \u001b[0m\u001b[36m5.785714285714285 \u001b[0m\u001b[36m \u001b[0m│\u001b[35m \u001b[0m\u001b[35m     2     \u001b[0m\u001b[35m \u001b[0m│\u001b[32m \u001b[0m\u001b[32m-0.008169765445336931 \u001b[0m\u001b[32m \u001b[0m│\n",
              "│\u001b[36m \u001b[0m\u001b[36m5.785714285714285 \u001b[0m\u001b[36m \u001b[0m│\u001b[35m \u001b[0m\u001b[35m     3     \u001b[0m\u001b[35m \u001b[0m│\u001b[32m \u001b[0m\u001b[32m 0.003197909763609542 \u001b[0m\u001b[32m \u001b[0m│\n",
              "│\u001b[36m \u001b[0m\u001b[36m5.785714285714285 \u001b[0m\u001b[36m \u001b[0m│\u001b[35m \u001b[0m\u001b[35m     4     \u001b[0m\u001b[35m \u001b[0m│\u001b[32m \u001b[0m\u001b[32m-0.015806510398767574 \u001b[0m\u001b[32m \u001b[0m│\n",
              "│\u001b[36m \u001b[0m\u001b[36m5.785714285714285 \u001b[0m\u001b[36m \u001b[0m│\u001b[35m \u001b[0m\u001b[35m     5     \u001b[0m\u001b[35m \u001b[0m│\u001b[32m \u001b[0m\u001b[32m-0.023890499426630362 \u001b[0m\u001b[32m \u001b[0m│\n",
              "│\u001b[36m \u001b[0m\u001b[36m5.785714285714285 \u001b[0m\u001b[36m \u001b[0m│\u001b[35m \u001b[0m\u001b[35m     6     \u001b[0m\u001b[35m \u001b[0m│\u001b[32m \u001b[0m\u001b[32m-0.008611292727944827 \u001b[0m\u001b[32m \u001b[0m│\n",
              "│\u001b[36m \u001b[0m\u001b[36m5.785714285714285 \u001b[0m\u001b[36m \u001b[0m│\u001b[35m \u001b[0m\u001b[35m     7     \u001b[0m\u001b[35m \u001b[0m│\u001b[32m \u001b[0m\u001b[32m -0.05769213905651315 \u001b[0m\u001b[32m \u001b[0m│\n",
              "│\u001b[36m \u001b[0m\u001b[36m5.785714285714285 \u001b[0m\u001b[36m \u001b[0m│\u001b[35m \u001b[0m\u001b[35m     8     \u001b[0m\u001b[35m \u001b[0m│\u001b[32m \u001b[0m\u001b[32m  -0.068276848825327  \u001b[0m\u001b[32m \u001b[0m│\n",
              "│\u001b[36m \u001b[0m\u001b[36m5.785714285714285 \u001b[0m\u001b[36m \u001b[0m│\u001b[35m \u001b[0m\u001b[35m     9     \u001b[0m\u001b[35m \u001b[0m│\u001b[32m \u001b[0m\u001b[32m 0.028945455462706497 \u001b[0m\u001b[32m \u001b[0m│\n",
              "│\u001b[36m \u001b[0m\u001b[36m5.785714285714285 \u001b[0m\u001b[36m \u001b[0m│\u001b[35m \u001b[0m\u001b[35m    10     \u001b[0m\u001b[35m \u001b[0m│\u001b[32m \u001b[0m\u001b[32m 0.02116376699652612  \u001b[0m\u001b[32m \u001b[0m│\n",
              "│\u001b[36m \u001b[0m\u001b[36m5.785714285714285 \u001b[0m\u001b[36m \u001b[0m│\u001b[35m \u001b[0m\u001b[35m    11     \u001b[0m\u001b[35m \u001b[0m│\u001b[32m \u001b[0m\u001b[32m 0.02116376699652612  \u001b[0m\u001b[32m \u001b[0m│\n",
              "│\u001b[36m \u001b[0m\u001b[36m5.785714285714285 \u001b[0m\u001b[36m \u001b[0m│\u001b[35m \u001b[0m\u001b[35m    12     \u001b[0m\u001b[35m \u001b[0m│\u001b[32m \u001b[0m\u001b[32m 0.005958440633584836 \u001b[0m\u001b[32m \u001b[0m│\n",
              "│\u001b[36m \u001b[0m\u001b[36m6.191836734693877 \u001b[0m\u001b[36m \u001b[0m│\u001b[35m \u001b[0m\u001b[35m     2     \u001b[0m\u001b[35m \u001b[0m│\u001b[32m \u001b[0m\u001b[32m -0.06342855655026242 \u001b[0m\u001b[32m \u001b[0m│\n",
              "│\u001b[36m \u001b[0m\u001b[36m6.191836734693877 \u001b[0m\u001b[36m \u001b[0m│\u001b[35m \u001b[0m\u001b[35m     3     \u001b[0m\u001b[35m \u001b[0m│\u001b[32m \u001b[0m\u001b[32m 0.042007571335556985 \u001b[0m\u001b[32m \u001b[0m│\n",
              "│\u001b[36m \u001b[0m\u001b[36m6.191836734693877 \u001b[0m\u001b[36m \u001b[0m│\u001b[35m \u001b[0m\u001b[35m     4     \u001b[0m\u001b[35m \u001b[0m│\u001b[32m \u001b[0m\u001b[32m 0.03285494758484445  \u001b[0m\u001b[32m \u001b[0m│\n",
              "│\u001b[36m \u001b[0m\u001b[36m6.191836734693877 \u001b[0m\u001b[36m \u001b[0m│\u001b[35m \u001b[0m\u001b[35m     5     \u001b[0m\u001b[35m \u001b[0m│\u001b[32m \u001b[0m\u001b[32m 0.036049440554928404 \u001b[0m\u001b[32m \u001b[0m│\n",
              "│\u001b[36m \u001b[0m\u001b[36m6.191836734693877 \u001b[0m\u001b[36m \u001b[0m│\u001b[35m \u001b[0m\u001b[35m     6     \u001b[0m\u001b[35m \u001b[0m│\u001b[32m \u001b[0m\u001b[32m  0.071635542983881   \u001b[0m\u001b[32m \u001b[0m│\n",
              "│\u001b[36m \u001b[0m\u001b[36m6.191836734693877 \u001b[0m\u001b[36m \u001b[0m│\u001b[35m \u001b[0m\u001b[35m     7     \u001b[0m\u001b[35m \u001b[0m│\u001b[32m \u001b[0m\u001b[32m 0.08474744226546951  \u001b[0m\u001b[32m \u001b[0m│\n",
              "│\u001b[36m \u001b[0m\u001b[36m6.191836734693877 \u001b[0m\u001b[36m \u001b[0m│\u001b[35m \u001b[0m\u001b[35m     8     \u001b[0m\u001b[35m \u001b[0m│\u001b[32m \u001b[0m\u001b[32m 0.04287619029232182  \u001b[0m\u001b[32m \u001b[0m│\n",
              "│\u001b[36m \u001b[0m\u001b[36m6.191836734693877 \u001b[0m\u001b[36m \u001b[0m│\u001b[35m \u001b[0m\u001b[35m     9     \u001b[0m\u001b[35m \u001b[0m│\u001b[32m \u001b[0m\u001b[32m-0.019409861387179837 \u001b[0m\u001b[32m \u001b[0m│\n",
              "│\u001b[36m \u001b[0m\u001b[36m6.191836734693877 \u001b[0m\u001b[36m \u001b[0m│\u001b[35m \u001b[0m\u001b[35m    10     \u001b[0m\u001b[35m \u001b[0m│\u001b[32m \u001b[0m\u001b[32m -0.01096473073600401 \u001b[0m\u001b[32m \u001b[0m│\n",
              "│\u001b[36m \u001b[0m\u001b[36m6.191836734693877 \u001b[0m\u001b[36m \u001b[0m│\u001b[35m \u001b[0m\u001b[35m    11     \u001b[0m\u001b[35m \u001b[0m│\u001b[32m \u001b[0m\u001b[32m 0.03913030913720082  \u001b[0m\u001b[32m \u001b[0m│\n",
              "│\u001b[36m \u001b[0m\u001b[36m6.191836734693877 \u001b[0m\u001b[36m \u001b[0m│\u001b[35m \u001b[0m\u001b[35m    12     \u001b[0m\u001b[35m \u001b[0m│\u001b[32m \u001b[0m\u001b[32m 0.03571091524892712  \u001b[0m\u001b[32m \u001b[0m│\n",
              "│\u001b[36m \u001b[0m\u001b[36m6.191836734693877 \u001b[0m\u001b[36m \u001b[0m│\u001b[35m \u001b[0m\u001b[35m    13     \u001b[0m\u001b[35m \u001b[0m│\u001b[32m \u001b[0m\u001b[32m 0.03571091524892712  \u001b[0m\u001b[32m \u001b[0m│\n",
              "│\u001b[36m \u001b[0m\u001b[36m6.191836734693877 \u001b[0m\u001b[36m \u001b[0m│\u001b[35m \u001b[0m\u001b[35m    14     \u001b[0m\u001b[35m \u001b[0m│\u001b[32m \u001b[0m\u001b[32m 0.03571091524892712  \u001b[0m\u001b[32m \u001b[0m│\n",
              "│\u001b[36m \u001b[0m\u001b[36m6.597959183673469 \u001b[0m\u001b[36m \u001b[0m│\u001b[35m \u001b[0m\u001b[35m     2     \u001b[0m\u001b[35m \u001b[0m│\u001b[32m \u001b[0m\u001b[32m-0.027949730646737607 \u001b[0m\u001b[32m \u001b[0m│\n",
              "│\u001b[36m \u001b[0m\u001b[36m6.597959183673469 \u001b[0m\u001b[36m \u001b[0m│\u001b[35m \u001b[0m\u001b[35m     3     \u001b[0m\u001b[35m \u001b[0m│\u001b[32m \u001b[0m\u001b[32m 0.04076525191369833  \u001b[0m\u001b[32m \u001b[0m│\n",
              "│\u001b[36m \u001b[0m\u001b[36m6.597959183673469 \u001b[0m\u001b[36m \u001b[0m│\u001b[35m \u001b[0m\u001b[35m     4     \u001b[0m\u001b[35m \u001b[0m│\u001b[32m \u001b[0m\u001b[32m 0.08229753374928515  \u001b[0m\u001b[32m \u001b[0m│\n",
              "│\u001b[36m \u001b[0m\u001b[36m6.597959183673469 \u001b[0m\u001b[36m \u001b[0m│\u001b[35m \u001b[0m\u001b[35m     5     \u001b[0m\u001b[35m \u001b[0m│\u001b[32m \u001b[0m\u001b[32m 0.07606822886436705  \u001b[0m\u001b[32m \u001b[0m│\n",
              "│\u001b[36m \u001b[0m\u001b[36m6.597959183673469 \u001b[0m\u001b[36m \u001b[0m│\u001b[35m \u001b[0m\u001b[35m     6     \u001b[0m\u001b[35m \u001b[0m│\u001b[32m \u001b[0m\u001b[32m  0.0987181341233159  \u001b[0m\u001b[32m \u001b[0m│\n",
              "│\u001b[36m \u001b[0m\u001b[36m6.597959183673469 \u001b[0m\u001b[36m \u001b[0m│\u001b[35m \u001b[0m\u001b[35m     7     \u001b[0m\u001b[35m \u001b[0m│\u001b[32m \u001b[0m\u001b[32m 0.06174802082615353  \u001b[0m\u001b[32m \u001b[0m│\n",
              "│\u001b[36m \u001b[0m\u001b[36m6.597959183673469 \u001b[0m\u001b[36m \u001b[0m│\u001b[35m \u001b[0m\u001b[35m     8     \u001b[0m\u001b[35m \u001b[0m│\u001b[32m \u001b[0m\u001b[32m 0.04954006691986782  \u001b[0m\u001b[32m \u001b[0m│\n",
              "│\u001b[36m \u001b[0m\u001b[36m6.597959183673469 \u001b[0m\u001b[36m \u001b[0m│\u001b[35m \u001b[0m\u001b[35m     9     \u001b[0m\u001b[35m \u001b[0m│\u001b[32m \u001b[0m\u001b[32m 0.09800755312708587  \u001b[0m\u001b[32m \u001b[0m│\n",
              "│\u001b[36m \u001b[0m\u001b[36m6.597959183673469 \u001b[0m\u001b[36m \u001b[0m│\u001b[35m \u001b[0m\u001b[35m    10     \u001b[0m\u001b[35m \u001b[0m│\u001b[32m \u001b[0m\u001b[32m 0.09800755312708587  \u001b[0m\u001b[32m \u001b[0m│\n",
              "│\u001b[36m \u001b[0m\u001b[36m6.597959183673469 \u001b[0m\u001b[36m \u001b[0m│\u001b[35m \u001b[0m\u001b[35m    11     \u001b[0m\u001b[35m \u001b[0m│\u001b[32m \u001b[0m\u001b[32m 0.09525113399850076  \u001b[0m\u001b[32m \u001b[0m│\n",
              "│\u001b[36m \u001b[0m\u001b[36m6.597959183673469 \u001b[0m\u001b[36m \u001b[0m│\u001b[35m \u001b[0m\u001b[35m    12     \u001b[0m\u001b[35m \u001b[0m│\u001b[32m \u001b[0m\u001b[32m 0.09136302784761749  \u001b[0m\u001b[32m \u001b[0m│\n",
              "│\u001b[36m \u001b[0m\u001b[36m6.597959183673469 \u001b[0m\u001b[36m \u001b[0m│\u001b[35m \u001b[0m\u001b[35m    13     \u001b[0m\u001b[35m \u001b[0m│\u001b[32m \u001b[0m\u001b[32m 0.00732967687956513  \u001b[0m\u001b[32m \u001b[0m│\n",
              "│\u001b[36m \u001b[0m\u001b[36m6.597959183673469 \u001b[0m\u001b[36m \u001b[0m│\u001b[35m \u001b[0m\u001b[35m    14     \u001b[0m\u001b[35m \u001b[0m│\u001b[32m \u001b[0m\u001b[32m 0.006004419588525062 \u001b[0m\u001b[32m \u001b[0m│\n",
              "│\u001b[36m \u001b[0m\u001b[36m7.004081632653061 \u001b[0m\u001b[36m \u001b[0m│\u001b[35m \u001b[0m\u001b[35m     2     \u001b[0m\u001b[35m \u001b[0m│\u001b[32m \u001b[0m\u001b[32m-0.022029476681170806 \u001b[0m\u001b[32m \u001b[0m│\n",
              "│\u001b[36m \u001b[0m\u001b[36m7.004081632653061 \u001b[0m\u001b[36m \u001b[0m│\u001b[35m \u001b[0m\u001b[35m     3     \u001b[0m\u001b[35m \u001b[0m│\u001b[32m \u001b[0m\u001b[32m 0.012734464369104713 \u001b[0m\u001b[32m \u001b[0m│\n",
              "│\u001b[36m \u001b[0m\u001b[36m7.004081632653061 \u001b[0m\u001b[36m \u001b[0m│\u001b[35m \u001b[0m\u001b[35m     4     \u001b[0m\u001b[35m \u001b[0m│\u001b[32m \u001b[0m\u001b[32m 0.10084130871565712  \u001b[0m\u001b[32m \u001b[0m│\n",
              "│\u001b[36m \u001b[0m\u001b[36m7.004081632653061 \u001b[0m\u001b[36m \u001b[0m│\u001b[35m \u001b[0m\u001b[35m     5     \u001b[0m\u001b[35m \u001b[0m│\u001b[32m \u001b[0m\u001b[32m 0.10704618412674562  \u001b[0m\u001b[32m \u001b[0m│\n",
              "│\u001b[36m \u001b[0m\u001b[36m7.004081632653061 \u001b[0m\u001b[36m \u001b[0m│\u001b[35m \u001b[0m\u001b[35m     6     \u001b[0m\u001b[35m \u001b[0m│\u001b[32m \u001b[0m\u001b[32m 0.12008215234064079  \u001b[0m\u001b[32m \u001b[0m│\n",
              "│\u001b[36m \u001b[0m\u001b[36m7.004081632653061 \u001b[0m\u001b[36m \u001b[0m│\u001b[35m \u001b[0m\u001b[35m     7     \u001b[0m\u001b[35m \u001b[0m│\u001b[32m \u001b[0m\u001b[32m 0.11336118364818677  \u001b[0m\u001b[32m \u001b[0m│\n",
              "│\u001b[36m \u001b[0m\u001b[36m7.004081632653061 \u001b[0m\u001b[36m \u001b[0m│\u001b[35m \u001b[0m\u001b[35m     8     \u001b[0m\u001b[35m \u001b[0m│\u001b[32m \u001b[0m\u001b[32m 0.11289406531889258  \u001b[0m\u001b[32m \u001b[0m│\n",
              "│\u001b[36m \u001b[0m\u001b[36m7.004081632653061 \u001b[0m\u001b[36m \u001b[0m│\u001b[35m \u001b[0m\u001b[35m     9     \u001b[0m\u001b[35m \u001b[0m│\u001b[32m \u001b[0m\u001b[32m 0.11392589226609126  \u001b[0m\u001b[32m \u001b[0m│\n",
              "│\u001b[36m \u001b[0m\u001b[36m7.004081632653061 \u001b[0m\u001b[36m \u001b[0m│\u001b[35m \u001b[0m\u001b[35m    10     \u001b[0m\u001b[35m \u001b[0m│\u001b[32m \u001b[0m\u001b[32m  0.0912377280725315  \u001b[0m\u001b[32m \u001b[0m│\n",
              "│\u001b[36m \u001b[0m\u001b[36m7.004081632653061 \u001b[0m\u001b[36m \u001b[0m│\u001b[35m \u001b[0m\u001b[35m    11     \u001b[0m\u001b[35m \u001b[0m│\u001b[32m \u001b[0m\u001b[32m 0.13383519027902582  \u001b[0m\u001b[32m \u001b[0m│\n",
              "│\u001b[36m \u001b[0m\u001b[36m7.004081632653061 \u001b[0m\u001b[36m \u001b[0m│\u001b[35m \u001b[0m\u001b[35m    12     \u001b[0m\u001b[35m \u001b[0m│\u001b[32m \u001b[0m\u001b[32m  0.1305859094369084  \u001b[0m\u001b[32m \u001b[0m│\n",
              "│\u001b[36m \u001b[0m\u001b[36m7.004081632653061 \u001b[0m\u001b[36m \u001b[0m│\u001b[35m \u001b[0m\u001b[35m    13     \u001b[0m\u001b[35m \u001b[0m│\u001b[32m \u001b[0m\u001b[32m 0.11797450090607851  \u001b[0m\u001b[32m \u001b[0m│\n",
              "│\u001b[36m \u001b[0m\u001b[36m7.004081632653061 \u001b[0m\u001b[36m \u001b[0m│\u001b[35m \u001b[0m\u001b[35m    14     \u001b[0m\u001b[35m \u001b[0m│\u001b[32m \u001b[0m\u001b[32m 0.11524143415993554  \u001b[0m\u001b[32m \u001b[0m│\n",
              "│\u001b[36m \u001b[0m\u001b[36m7.410204081632653 \u001b[0m\u001b[36m \u001b[0m│\u001b[35m \u001b[0m\u001b[35m     2     \u001b[0m\u001b[35m \u001b[0m│\u001b[32m \u001b[0m\u001b[32m 0.04057676324073076  \u001b[0m\u001b[32m \u001b[0m│\n",
              "│\u001b[36m \u001b[0m\u001b[36m7.410204081632653 \u001b[0m\u001b[36m \u001b[0m│\u001b[35m \u001b[0m\u001b[35m     3     \u001b[0m\u001b[35m \u001b[0m│\u001b[32m \u001b[0m\u001b[32m 0.10129538754296342  \u001b[0m\u001b[32m \u001b[0m│\n",
              "│\u001b[36m \u001b[0m\u001b[36m7.410204081632653 \u001b[0m\u001b[36m \u001b[0m│\u001b[35m \u001b[0m\u001b[35m     4     \u001b[0m\u001b[35m \u001b[0m│\u001b[32m \u001b[0m\u001b[32m 0.07757345592459113  \u001b[0m\u001b[32m \u001b[0m│\n",
              "│\u001b[36m \u001b[0m\u001b[36m7.410204081632653 \u001b[0m\u001b[36m \u001b[0m│\u001b[35m \u001b[0m\u001b[35m     5     \u001b[0m\u001b[35m \u001b[0m│\u001b[32m \u001b[0m\u001b[32m  0.0622985200687111  \u001b[0m\u001b[32m \u001b[0m│\n",
              "│\u001b[36m \u001b[0m\u001b[36m7.410204081632653 \u001b[0m\u001b[36m \u001b[0m│\u001b[35m \u001b[0m\u001b[35m     6     \u001b[0m\u001b[35m \u001b[0m│\u001b[32m \u001b[0m\u001b[32m 0.13280599206419316  \u001b[0m\u001b[32m \u001b[0m│\n",
              "│\u001b[36m \u001b[0m\u001b[36m7.410204081632653 \u001b[0m\u001b[36m \u001b[0m│\u001b[35m \u001b[0m\u001b[35m     7     \u001b[0m\u001b[35m \u001b[0m│\u001b[32m \u001b[0m\u001b[32m  0.1334802898439644  \u001b[0m\u001b[32m \u001b[0m│\n",
              "│\u001b[36m \u001b[0m\u001b[36m7.410204081632653 \u001b[0m\u001b[36m \u001b[0m│\u001b[35m \u001b[0m\u001b[35m     8     \u001b[0m\u001b[35m \u001b[0m│\u001b[32m \u001b[0m\u001b[32m 0.13478107453044083  \u001b[0m\u001b[32m \u001b[0m│\n",
              "│\u001b[36m \u001b[0m\u001b[36m7.410204081632653 \u001b[0m\u001b[36m \u001b[0m│\u001b[35m \u001b[0m\u001b[35m     9     \u001b[0m\u001b[35m \u001b[0m│\u001b[32m \u001b[0m\u001b[32m 0.13303610509606817  \u001b[0m\u001b[32m \u001b[0m│\n",
              "│\u001b[36m \u001b[0m\u001b[36m7.410204081632653 \u001b[0m\u001b[36m \u001b[0m│\u001b[35m \u001b[0m\u001b[35m    10     \u001b[0m\u001b[35m \u001b[0m│\u001b[32m \u001b[0m\u001b[32m 0.12176118399914417  \u001b[0m\u001b[32m \u001b[0m│\n",
              "│\u001b[36m \u001b[0m\u001b[36m7.410204081632653 \u001b[0m\u001b[36m \u001b[0m│\u001b[35m \u001b[0m\u001b[35m    11     \u001b[0m\u001b[35m \u001b[0m│\u001b[32m \u001b[0m\u001b[32m 0.11810262690680977  \u001b[0m\u001b[32m \u001b[0m│\n",
              "│\u001b[36m \u001b[0m\u001b[36m7.410204081632653 \u001b[0m\u001b[36m \u001b[0m│\u001b[35m \u001b[0m\u001b[35m    12     \u001b[0m\u001b[35m \u001b[0m│\u001b[32m \u001b[0m\u001b[32m 0.11588790032161926  \u001b[0m\u001b[32m \u001b[0m│\n",
              "│\u001b[36m \u001b[0m\u001b[36m7.410204081632653 \u001b[0m\u001b[36m \u001b[0m│\u001b[35m \u001b[0m\u001b[35m    13     \u001b[0m\u001b[35m \u001b[0m│\u001b[32m \u001b[0m\u001b[32m 0.11156003272044619  \u001b[0m\u001b[32m \u001b[0m│\n",
              "│\u001b[36m \u001b[0m\u001b[36m7.410204081632653 \u001b[0m\u001b[36m \u001b[0m│\u001b[35m \u001b[0m\u001b[35m    14     \u001b[0m\u001b[35m \u001b[0m│\u001b[32m \u001b[0m\u001b[32m 0.10097796135858787  \u001b[0m\u001b[32m \u001b[0m│\n",
              "│\u001b[36m \u001b[0m\u001b[36m7.816326530612244 \u001b[0m\u001b[36m \u001b[0m│\u001b[35m \u001b[0m\u001b[35m     2     \u001b[0m\u001b[35m \u001b[0m│\u001b[32m \u001b[0m\u001b[32m 0.09513887255052131  \u001b[0m\u001b[32m \u001b[0m│\n",
              "│\u001b[36m \u001b[0m\u001b[36m7.816326530612244 \u001b[0m\u001b[36m \u001b[0m│\u001b[35m \u001b[0m\u001b[35m     3     \u001b[0m\u001b[35m \u001b[0m│\u001b[32m \u001b[0m\u001b[32m 0.09513887255052131  \u001b[0m\u001b[32m \u001b[0m│\n",
              "│\u001b[36m \u001b[0m\u001b[36m7.816326530612244 \u001b[0m\u001b[36m \u001b[0m│\u001b[35m \u001b[0m\u001b[35m     4     \u001b[0m\u001b[35m \u001b[0m│\u001b[32m \u001b[0m\u001b[32m 0.09513887255052131  \u001b[0m\u001b[32m \u001b[0m│\n",
              "│\u001b[36m \u001b[0m\u001b[36m7.816326530612244 \u001b[0m\u001b[36m \u001b[0m│\u001b[35m \u001b[0m\u001b[35m     5     \u001b[0m\u001b[35m \u001b[0m│\u001b[32m \u001b[0m\u001b[32m 0.09513887255052131  \u001b[0m\u001b[32m \u001b[0m│\n",
              "│\u001b[36m \u001b[0m\u001b[36m7.816326530612244 \u001b[0m\u001b[36m \u001b[0m│\u001b[35m \u001b[0m\u001b[35m     6     \u001b[0m\u001b[35m \u001b[0m│\u001b[32m \u001b[0m\u001b[32m 0.09513887255052131  \u001b[0m\u001b[32m \u001b[0m│\n",
              "│\u001b[36m \u001b[0m\u001b[36m7.816326530612244 \u001b[0m\u001b[36m \u001b[0m│\u001b[35m \u001b[0m\u001b[35m     7     \u001b[0m\u001b[35m \u001b[0m│\u001b[32m \u001b[0m\u001b[32m  0.1049876323788936  \u001b[0m\u001b[32m \u001b[0m│\n",
              "│\u001b[36m \u001b[0m\u001b[36m7.816326530612244 \u001b[0m\u001b[36m \u001b[0m│\u001b[35m \u001b[0m\u001b[35m     8     \u001b[0m\u001b[35m \u001b[0m│\u001b[32m \u001b[0m\u001b[32m 0.10563462121749863  \u001b[0m\u001b[32m \u001b[0m│\n",
              "│\u001b[36m \u001b[0m\u001b[36m7.816326530612244 \u001b[0m\u001b[36m \u001b[0m│\u001b[35m \u001b[0m\u001b[35m     9     \u001b[0m\u001b[35m \u001b[0m│\u001b[32m \u001b[0m\u001b[32m 0.13235724943234356  \u001b[0m\u001b[32m \u001b[0m│\n",
              "│\u001b[36m \u001b[0m\u001b[36m7.816326530612244 \u001b[0m\u001b[36m \u001b[0m│\u001b[35m \u001b[0m\u001b[35m    10     \u001b[0m\u001b[35m \u001b[0m│\u001b[32m \u001b[0m\u001b[32m  0.1288534255286658  \u001b[0m\u001b[32m \u001b[0m│\n",
              "│\u001b[36m \u001b[0m\u001b[36m7.816326530612244 \u001b[0m\u001b[36m \u001b[0m│\u001b[35m \u001b[0m\u001b[35m    11     \u001b[0m\u001b[35m \u001b[0m│\u001b[32m \u001b[0m\u001b[32m 0.12847328898870902  \u001b[0m\u001b[32m \u001b[0m│\n",
              "│\u001b[36m \u001b[0m\u001b[36m7.816326530612244 \u001b[0m\u001b[36m \u001b[0m│\u001b[35m \u001b[0m\u001b[35m    12     \u001b[0m\u001b[35m \u001b[0m│\u001b[32m \u001b[0m\u001b[32m 0.12719626297833447  \u001b[0m\u001b[32m \u001b[0m│\n",
              "│\u001b[36m \u001b[0m\u001b[36m7.816326530612244 \u001b[0m\u001b[36m \u001b[0m│\u001b[35m \u001b[0m\u001b[35m    13     \u001b[0m\u001b[35m \u001b[0m│\u001b[32m \u001b[0m\u001b[32m 0.11948928838764583  \u001b[0m\u001b[32m \u001b[0m│\n",
              "│\u001b[36m \u001b[0m\u001b[36m7.816326530612244 \u001b[0m\u001b[36m \u001b[0m│\u001b[35m \u001b[0m\u001b[35m    14     \u001b[0m\u001b[35m \u001b[0m│\u001b[32m \u001b[0m\u001b[32m 0.12588348846113231  \u001b[0m\u001b[32m \u001b[0m│\n",
              "│\u001b[36m \u001b[0m\u001b[36m8.222448979591837 \u001b[0m\u001b[36m \u001b[0m│\u001b[35m \u001b[0m\u001b[35m     2     \u001b[0m\u001b[35m \u001b[0m│\u001b[32m \u001b[0m\u001b[32m 0.09513887255052131  \u001b[0m\u001b[32m \u001b[0m│\n",
              "│\u001b[36m \u001b[0m\u001b[36m8.222448979591837 \u001b[0m\u001b[36m \u001b[0m│\u001b[35m \u001b[0m\u001b[35m     3     \u001b[0m\u001b[35m \u001b[0m│\u001b[32m \u001b[0m\u001b[32m 0.09513887255052131  \u001b[0m\u001b[32m \u001b[0m│\n",
              "│\u001b[36m \u001b[0m\u001b[36m8.222448979591837 \u001b[0m\u001b[36m \u001b[0m│\u001b[35m \u001b[0m\u001b[35m     4     \u001b[0m\u001b[35m \u001b[0m│\u001b[32m \u001b[0m\u001b[32m 0.09513887255052131  \u001b[0m\u001b[32m \u001b[0m│\n",
              "│\u001b[36m \u001b[0m\u001b[36m8.222448979591837 \u001b[0m\u001b[36m \u001b[0m│\u001b[35m \u001b[0m\u001b[35m     5     \u001b[0m\u001b[35m \u001b[0m│\u001b[32m \u001b[0m\u001b[32m 0.09513887255052131  \u001b[0m\u001b[32m \u001b[0m│\n",
              "│\u001b[36m \u001b[0m\u001b[36m8.222448979591837 \u001b[0m\u001b[36m \u001b[0m│\u001b[35m \u001b[0m\u001b[35m     6     \u001b[0m\u001b[35m \u001b[0m│\u001b[32m \u001b[0m\u001b[32m 0.09513887255052131  \u001b[0m\u001b[32m \u001b[0m│\n",
              "│\u001b[36m \u001b[0m\u001b[36m8.222448979591837 \u001b[0m\u001b[36m \u001b[0m│\u001b[35m \u001b[0m\u001b[35m     7     \u001b[0m\u001b[35m \u001b[0m│\u001b[32m \u001b[0m\u001b[32m 0.09513887255052131  \u001b[0m\u001b[32m \u001b[0m│\n",
              "│\u001b[36m \u001b[0m\u001b[36m8.222448979591837 \u001b[0m\u001b[36m \u001b[0m│\u001b[35m \u001b[0m\u001b[35m     8     \u001b[0m\u001b[35m \u001b[0m│\u001b[32m \u001b[0m\u001b[32m 0.09513887255052131  \u001b[0m\u001b[32m \u001b[0m│\n",
              "│\u001b[36m \u001b[0m\u001b[36m8.222448979591837 \u001b[0m\u001b[36m \u001b[0m│\u001b[35m \u001b[0m\u001b[35m     9     \u001b[0m\u001b[35m \u001b[0m│\u001b[32m \u001b[0m\u001b[32m 0.09513887255052131  \u001b[0m\u001b[32m \u001b[0m│\n",
              "│\u001b[36m \u001b[0m\u001b[36m8.222448979591837 \u001b[0m\u001b[36m \u001b[0m│\u001b[35m \u001b[0m\u001b[35m    10     \u001b[0m\u001b[35m \u001b[0m│\u001b[32m \u001b[0m\u001b[32m  0.1211724983583399  \u001b[0m\u001b[32m \u001b[0m│\n",
              "│\u001b[36m \u001b[0m\u001b[36m8.222448979591837 \u001b[0m\u001b[36m \u001b[0m│\u001b[35m \u001b[0m\u001b[35m    11     \u001b[0m\u001b[35m \u001b[0m│\u001b[32m \u001b[0m\u001b[32m  0.1211724983583399  \u001b[0m\u001b[32m \u001b[0m│\n",
              "│\u001b[36m \u001b[0m\u001b[36m8.222448979591837 \u001b[0m\u001b[36m \u001b[0m│\u001b[35m \u001b[0m\u001b[35m    12     \u001b[0m\u001b[35m \u001b[0m│\u001b[32m \u001b[0m\u001b[32m 0.13199682446573008  \u001b[0m\u001b[32m \u001b[0m│\n",
              "│\u001b[36m \u001b[0m\u001b[36m8.222448979591837 \u001b[0m\u001b[36m \u001b[0m│\u001b[35m \u001b[0m\u001b[35m    13     \u001b[0m\u001b[35m \u001b[0m│\u001b[32m \u001b[0m\u001b[32m 0.13174494957656088  \u001b[0m\u001b[32m \u001b[0m│\n",
              "│\u001b[36m \u001b[0m\u001b[36m8.222448979591837 \u001b[0m\u001b[36m \u001b[0m│\u001b[35m \u001b[0m\u001b[35m    14     \u001b[0m\u001b[35m \u001b[0m│\u001b[32m \u001b[0m\u001b[32m 0.13286822976029838  \u001b[0m\u001b[32m \u001b[0m│\n",
              "│\u001b[36m \u001b[0m\u001b[36m8.628571428571428 \u001b[0m\u001b[36m \u001b[0m│\u001b[35m \u001b[0m\u001b[35m    13     \u001b[0m\u001b[35m \u001b[0m│\u001b[32m \u001b[0m\u001b[32m 0.10901629155091697  \u001b[0m\u001b[32m \u001b[0m│\n",
              "│\u001b[36m \u001b[0m\u001b[36m8.628571428571428 \u001b[0m\u001b[36m \u001b[0m│\u001b[35m \u001b[0m\u001b[35m    14     \u001b[0m\u001b[35m \u001b[0m│\u001b[32m \u001b[0m\u001b[32m 0.10901629155091697  \u001b[0m\u001b[32m \u001b[0m│\n",
              "│\u001b[36m \u001b[0m\u001b[36m 9.03469387755102 \u001b[0m\u001b[36m \u001b[0m│\u001b[35m \u001b[0m\u001b[35m    14     \u001b[0m\u001b[35m \u001b[0m│\u001b[32m \u001b[0m\u001b[32m 0.10901629155091697  \u001b[0m\u001b[32m \u001b[0m│\n",
              "└────────────────────┴─────────────┴────────────────────────┘\n"
            ]
          },
          "metadata": {},
          "output_type": "display_data"
        }
      ],
      "source": [
        "# Esta função plota o escore de silhueta para uma variedade de valores eps e min_samples.\n",
        "def optimal_dbscan(df, eps_values=np.linspace(0.1, 20, 50), min_samples_values=range(2, 15)):\n",
        "    \n",
        "    '''\n",
        "    df: DataFrame que sera clusterizado.\n",
        "    eps_values: Valores de eps que você deseja testar.\n",
        "    min_samples_values: Valores de min_samples que você deseja testar.\n",
        "    '''\n",
        "    \n",
        "    # Escore de silhueta\n",
        "    silhouette = {}\n",
        "    \n",
        "    for eps in eps_values:\n",
        "        for min_samples in min_samples_values:\n",
        "            dbscan = DBSCAN(eps=eps, min_samples=min_samples).fit(df)\n",
        "            n_clusters = len(set(dbscan.labels_))\n",
        "            if 1 < n_clusters < df.shape[0]:  # Deve haver pelo menos 2 clusters e menos que n_samples para o escore de silhueta\n",
        "                silhouette[(eps, min_samples)] = silhouette_score(df, dbscan.labels_)\n",
        "    \n",
        "    # Plota um gráfico com o plotly\n",
        "    fig = go.Figure(data=go.Scatter(x=[str(i) for i in silhouette.keys()], y=list(silhouette.values())))\n",
        "    \n",
        "    fig.update_layout(title_text=\"Gráfico de análise - DBSCAN\")\n",
        "\n",
        "    fig.update_layout(\n",
        "        autosize=False,\n",
        "        width=1400,\n",
        "        height=1000,\n",
        "    )\n",
        "    \n",
        "    fig.show()\n",
        "    \n",
        "    # Com o rich, cria uma tabela com os resultados\n",
        "    table = Table(title=\"Resultados\")\n",
        "    table.add_column(\"Eps\", justify=\"center\", style=\"cyan\", no_wrap=True)\n",
        "    table.add_column(\"Min Samples\", justify=\"center\", style=\"magenta\", no_wrap=True)\n",
        "    table.add_column(\"Silhouette Score\", justify=\"center\", style=\"green\", no_wrap=True)\n",
        "    \n",
        "    for key, value in silhouette.items():\n",
        "        table.add_row(str(key[0]), str(key[1]), str(value))\n",
        "    \n",
        "    console = Console()\n",
        "    console.print(table)\n",
        "    \n",
        "optimal_dbscan(df)"
      ]
    },
    {
      "cell_type": "markdown",
      "metadata": {},
      "source": [
        "# Função de Otimização do AGNES\n",
        "\n",
        "Define a função que é usada para encontrar o número ideal de clusters e método de ligação para Agglomerative Clustering (AGNES) em um determinado conjunto de dados. AGNES é um tipo de método de agrupamento hierárquico que mescla o par mais próximo de clusters em cada etapa. Resultando em todos os possiveis valores de clusters e suas respectivas inércias."
      ]
    },
    {
      "cell_type": "code",
      "execution_count": 162,
      "metadata": {},
      "outputs": [
        {
          "data": {
            "application/vnd.plotly.v1+json": {
              "config": {
                "plotlyServerURL": "https://plot.ly"
              },
              "data": [
                {
                  "mode": "lines+markers",
                  "name": "ward",
                  "type": "scatter",
                  "x": [
                    2,
                    3,
                    4,
                    5,
                    6,
                    7,
                    8,
                    9,
                    10
                  ],
                  "y": [
                    0.18807453869822213,
                    0.1541185392067335,
                    0.13606889845188838,
                    0.14265412776493583,
                    0.147140020930462,
                    0.14131498396572326,
                    0.1367343647407059,
                    0.13667043382091312,
                    0.13329588898684172
                  ]
                },
                {
                  "mode": "lines+markers",
                  "name": "complete",
                  "type": "scatter",
                  "x": [
                    2,
                    3,
                    4,
                    5,
                    6,
                    7,
                    8,
                    9,
                    10
                  ],
                  "y": [
                    0.1295440791425587,
                    0.1189812829284411,
                    0.10992661001137863,
                    0.10918605684795538,
                    0.11502817827984325,
                    0.10347241148997002,
                    0.10987107153998671,
                    0.1144138361668523,
                    0.12020135166709317
                  ]
                },
                {
                  "mode": "lines+markers",
                  "name": "average",
                  "type": "scatter",
                  "x": [
                    2,
                    3,
                    4,
                    5,
                    6,
                    7,
                    8,
                    9,
                    10
                  ],
                  "y": [
                    0.1729488217095168,
                    0.12547685764897568,
                    0.1598694403754856,
                    0.1682867491308201,
                    0.15627024933610414,
                    0.1325176019057598,
                    0.13143638907043112,
                    0.11608483044547785,
                    0.11436281718371485
                  ]
                },
                {
                  "mode": "lines+markers",
                  "name": "single",
                  "type": "scatter",
                  "x": [
                    2,
                    3,
                    4,
                    5,
                    6,
                    7,
                    8,
                    9,
                    10
                  ],
                  "y": [
                    0.09513887255052131,
                    0.04057676324073076,
                    0.035018886770669035,
                    -0.03880366922664436,
                    -0.04621814845182896,
                    -0.07763316642062353,
                    -0.10509226401365336,
                    -0.15807225725602397,
                    -0.15823384190745754
                  ]
                }
              ],
              "layout": {
                "autosize": false,
                "height": 800,
                "template": {
                  "data": {
                    "bar": [
                      {
                        "error_x": {
                          "color": "#2a3f5f"
                        },
                        "error_y": {
                          "color": "#2a3f5f"
                        },
                        "marker": {
                          "line": {
                            "color": "#E5ECF6",
                            "width": 0.5
                          },
                          "pattern": {
                            "fillmode": "overlay",
                            "size": 10,
                            "solidity": 0.2
                          }
                        },
                        "type": "bar"
                      }
                    ],
                    "barpolar": [
                      {
                        "marker": {
                          "line": {
                            "color": "#E5ECF6",
                            "width": 0.5
                          },
                          "pattern": {
                            "fillmode": "overlay",
                            "size": 10,
                            "solidity": 0.2
                          }
                        },
                        "type": "barpolar"
                      }
                    ],
                    "carpet": [
                      {
                        "aaxis": {
                          "endlinecolor": "#2a3f5f",
                          "gridcolor": "white",
                          "linecolor": "white",
                          "minorgridcolor": "white",
                          "startlinecolor": "#2a3f5f"
                        },
                        "baxis": {
                          "endlinecolor": "#2a3f5f",
                          "gridcolor": "white",
                          "linecolor": "white",
                          "minorgridcolor": "white",
                          "startlinecolor": "#2a3f5f"
                        },
                        "type": "carpet"
                      }
                    ],
                    "choropleth": [
                      {
                        "colorbar": {
                          "outlinewidth": 0,
                          "ticks": ""
                        },
                        "type": "choropleth"
                      }
                    ],
                    "contour": [
                      {
                        "colorbar": {
                          "outlinewidth": 0,
                          "ticks": ""
                        },
                        "colorscale": [
                          [
                            0,
                            "#0d0887"
                          ],
                          [
                            0.1111111111111111,
                            "#46039f"
                          ],
                          [
                            0.2222222222222222,
                            "#7201a8"
                          ],
                          [
                            0.3333333333333333,
                            "#9c179e"
                          ],
                          [
                            0.4444444444444444,
                            "#bd3786"
                          ],
                          [
                            0.5555555555555556,
                            "#d8576b"
                          ],
                          [
                            0.6666666666666666,
                            "#ed7953"
                          ],
                          [
                            0.7777777777777778,
                            "#fb9f3a"
                          ],
                          [
                            0.8888888888888888,
                            "#fdca26"
                          ],
                          [
                            1,
                            "#f0f921"
                          ]
                        ],
                        "type": "contour"
                      }
                    ],
                    "contourcarpet": [
                      {
                        "colorbar": {
                          "outlinewidth": 0,
                          "ticks": ""
                        },
                        "type": "contourcarpet"
                      }
                    ],
                    "heatmap": [
                      {
                        "colorbar": {
                          "outlinewidth": 0,
                          "ticks": ""
                        },
                        "colorscale": [
                          [
                            0,
                            "#0d0887"
                          ],
                          [
                            0.1111111111111111,
                            "#46039f"
                          ],
                          [
                            0.2222222222222222,
                            "#7201a8"
                          ],
                          [
                            0.3333333333333333,
                            "#9c179e"
                          ],
                          [
                            0.4444444444444444,
                            "#bd3786"
                          ],
                          [
                            0.5555555555555556,
                            "#d8576b"
                          ],
                          [
                            0.6666666666666666,
                            "#ed7953"
                          ],
                          [
                            0.7777777777777778,
                            "#fb9f3a"
                          ],
                          [
                            0.8888888888888888,
                            "#fdca26"
                          ],
                          [
                            1,
                            "#f0f921"
                          ]
                        ],
                        "type": "heatmap"
                      }
                    ],
                    "heatmapgl": [
                      {
                        "colorbar": {
                          "outlinewidth": 0,
                          "ticks": ""
                        },
                        "colorscale": [
                          [
                            0,
                            "#0d0887"
                          ],
                          [
                            0.1111111111111111,
                            "#46039f"
                          ],
                          [
                            0.2222222222222222,
                            "#7201a8"
                          ],
                          [
                            0.3333333333333333,
                            "#9c179e"
                          ],
                          [
                            0.4444444444444444,
                            "#bd3786"
                          ],
                          [
                            0.5555555555555556,
                            "#d8576b"
                          ],
                          [
                            0.6666666666666666,
                            "#ed7953"
                          ],
                          [
                            0.7777777777777778,
                            "#fb9f3a"
                          ],
                          [
                            0.8888888888888888,
                            "#fdca26"
                          ],
                          [
                            1,
                            "#f0f921"
                          ]
                        ],
                        "type": "heatmapgl"
                      }
                    ],
                    "histogram": [
                      {
                        "marker": {
                          "pattern": {
                            "fillmode": "overlay",
                            "size": 10,
                            "solidity": 0.2
                          }
                        },
                        "type": "histogram"
                      }
                    ],
                    "histogram2d": [
                      {
                        "colorbar": {
                          "outlinewidth": 0,
                          "ticks": ""
                        },
                        "colorscale": [
                          [
                            0,
                            "#0d0887"
                          ],
                          [
                            0.1111111111111111,
                            "#46039f"
                          ],
                          [
                            0.2222222222222222,
                            "#7201a8"
                          ],
                          [
                            0.3333333333333333,
                            "#9c179e"
                          ],
                          [
                            0.4444444444444444,
                            "#bd3786"
                          ],
                          [
                            0.5555555555555556,
                            "#d8576b"
                          ],
                          [
                            0.6666666666666666,
                            "#ed7953"
                          ],
                          [
                            0.7777777777777778,
                            "#fb9f3a"
                          ],
                          [
                            0.8888888888888888,
                            "#fdca26"
                          ],
                          [
                            1,
                            "#f0f921"
                          ]
                        ],
                        "type": "histogram2d"
                      }
                    ],
                    "histogram2dcontour": [
                      {
                        "colorbar": {
                          "outlinewidth": 0,
                          "ticks": ""
                        },
                        "colorscale": [
                          [
                            0,
                            "#0d0887"
                          ],
                          [
                            0.1111111111111111,
                            "#46039f"
                          ],
                          [
                            0.2222222222222222,
                            "#7201a8"
                          ],
                          [
                            0.3333333333333333,
                            "#9c179e"
                          ],
                          [
                            0.4444444444444444,
                            "#bd3786"
                          ],
                          [
                            0.5555555555555556,
                            "#d8576b"
                          ],
                          [
                            0.6666666666666666,
                            "#ed7953"
                          ],
                          [
                            0.7777777777777778,
                            "#fb9f3a"
                          ],
                          [
                            0.8888888888888888,
                            "#fdca26"
                          ],
                          [
                            1,
                            "#f0f921"
                          ]
                        ],
                        "type": "histogram2dcontour"
                      }
                    ],
                    "mesh3d": [
                      {
                        "colorbar": {
                          "outlinewidth": 0,
                          "ticks": ""
                        },
                        "type": "mesh3d"
                      }
                    ],
                    "parcoords": [
                      {
                        "line": {
                          "colorbar": {
                            "outlinewidth": 0,
                            "ticks": ""
                          }
                        },
                        "type": "parcoords"
                      }
                    ],
                    "pie": [
                      {
                        "automargin": true,
                        "type": "pie"
                      }
                    ],
                    "scatter": [
                      {
                        "fillpattern": {
                          "fillmode": "overlay",
                          "size": 10,
                          "solidity": 0.2
                        },
                        "type": "scatter"
                      }
                    ],
                    "scatter3d": [
                      {
                        "line": {
                          "colorbar": {
                            "outlinewidth": 0,
                            "ticks": ""
                          }
                        },
                        "marker": {
                          "colorbar": {
                            "outlinewidth": 0,
                            "ticks": ""
                          }
                        },
                        "type": "scatter3d"
                      }
                    ],
                    "scattercarpet": [
                      {
                        "marker": {
                          "colorbar": {
                            "outlinewidth": 0,
                            "ticks": ""
                          }
                        },
                        "type": "scattercarpet"
                      }
                    ],
                    "scattergeo": [
                      {
                        "marker": {
                          "colorbar": {
                            "outlinewidth": 0,
                            "ticks": ""
                          }
                        },
                        "type": "scattergeo"
                      }
                    ],
                    "scattergl": [
                      {
                        "marker": {
                          "colorbar": {
                            "outlinewidth": 0,
                            "ticks": ""
                          }
                        },
                        "type": "scattergl"
                      }
                    ],
                    "scattermapbox": [
                      {
                        "marker": {
                          "colorbar": {
                            "outlinewidth": 0,
                            "ticks": ""
                          }
                        },
                        "type": "scattermapbox"
                      }
                    ],
                    "scatterpolar": [
                      {
                        "marker": {
                          "colorbar": {
                            "outlinewidth": 0,
                            "ticks": ""
                          }
                        },
                        "type": "scatterpolar"
                      }
                    ],
                    "scatterpolargl": [
                      {
                        "marker": {
                          "colorbar": {
                            "outlinewidth": 0,
                            "ticks": ""
                          }
                        },
                        "type": "scatterpolargl"
                      }
                    ],
                    "scatterternary": [
                      {
                        "marker": {
                          "colorbar": {
                            "outlinewidth": 0,
                            "ticks": ""
                          }
                        },
                        "type": "scatterternary"
                      }
                    ],
                    "surface": [
                      {
                        "colorbar": {
                          "outlinewidth": 0,
                          "ticks": ""
                        },
                        "colorscale": [
                          [
                            0,
                            "#0d0887"
                          ],
                          [
                            0.1111111111111111,
                            "#46039f"
                          ],
                          [
                            0.2222222222222222,
                            "#7201a8"
                          ],
                          [
                            0.3333333333333333,
                            "#9c179e"
                          ],
                          [
                            0.4444444444444444,
                            "#bd3786"
                          ],
                          [
                            0.5555555555555556,
                            "#d8576b"
                          ],
                          [
                            0.6666666666666666,
                            "#ed7953"
                          ],
                          [
                            0.7777777777777778,
                            "#fb9f3a"
                          ],
                          [
                            0.8888888888888888,
                            "#fdca26"
                          ],
                          [
                            1,
                            "#f0f921"
                          ]
                        ],
                        "type": "surface"
                      }
                    ],
                    "table": [
                      {
                        "cells": {
                          "fill": {
                            "color": "#EBF0F8"
                          },
                          "line": {
                            "color": "white"
                          }
                        },
                        "header": {
                          "fill": {
                            "color": "#C8D4E3"
                          },
                          "line": {
                            "color": "white"
                          }
                        },
                        "type": "table"
                      }
                    ]
                  },
                  "layout": {
                    "annotationdefaults": {
                      "arrowcolor": "#2a3f5f",
                      "arrowhead": 0,
                      "arrowwidth": 1
                    },
                    "autotypenumbers": "strict",
                    "coloraxis": {
                      "colorbar": {
                        "outlinewidth": 0,
                        "ticks": ""
                      }
                    },
                    "colorscale": {
                      "diverging": [
                        [
                          0,
                          "#8e0152"
                        ],
                        [
                          0.1,
                          "#c51b7d"
                        ],
                        [
                          0.2,
                          "#de77ae"
                        ],
                        [
                          0.3,
                          "#f1b6da"
                        ],
                        [
                          0.4,
                          "#fde0ef"
                        ],
                        [
                          0.5,
                          "#f7f7f7"
                        ],
                        [
                          0.6,
                          "#e6f5d0"
                        ],
                        [
                          0.7,
                          "#b8e186"
                        ],
                        [
                          0.8,
                          "#7fbc41"
                        ],
                        [
                          0.9,
                          "#4d9221"
                        ],
                        [
                          1,
                          "#276419"
                        ]
                      ],
                      "sequential": [
                        [
                          0,
                          "#0d0887"
                        ],
                        [
                          0.1111111111111111,
                          "#46039f"
                        ],
                        [
                          0.2222222222222222,
                          "#7201a8"
                        ],
                        [
                          0.3333333333333333,
                          "#9c179e"
                        ],
                        [
                          0.4444444444444444,
                          "#bd3786"
                        ],
                        [
                          0.5555555555555556,
                          "#d8576b"
                        ],
                        [
                          0.6666666666666666,
                          "#ed7953"
                        ],
                        [
                          0.7777777777777778,
                          "#fb9f3a"
                        ],
                        [
                          0.8888888888888888,
                          "#fdca26"
                        ],
                        [
                          1,
                          "#f0f921"
                        ]
                      ],
                      "sequentialminus": [
                        [
                          0,
                          "#0d0887"
                        ],
                        [
                          0.1111111111111111,
                          "#46039f"
                        ],
                        [
                          0.2222222222222222,
                          "#7201a8"
                        ],
                        [
                          0.3333333333333333,
                          "#9c179e"
                        ],
                        [
                          0.4444444444444444,
                          "#bd3786"
                        ],
                        [
                          0.5555555555555556,
                          "#d8576b"
                        ],
                        [
                          0.6666666666666666,
                          "#ed7953"
                        ],
                        [
                          0.7777777777777778,
                          "#fb9f3a"
                        ],
                        [
                          0.8888888888888888,
                          "#fdca26"
                        ],
                        [
                          1,
                          "#f0f921"
                        ]
                      ]
                    },
                    "colorway": [
                      "#636efa",
                      "#EF553B",
                      "#00cc96",
                      "#ab63fa",
                      "#FFA15A",
                      "#19d3f3",
                      "#FF6692",
                      "#B6E880",
                      "#FF97FF",
                      "#FECB52"
                    ],
                    "font": {
                      "color": "#2a3f5f"
                    },
                    "geo": {
                      "bgcolor": "white",
                      "lakecolor": "white",
                      "landcolor": "#E5ECF6",
                      "showlakes": true,
                      "showland": true,
                      "subunitcolor": "white"
                    },
                    "hoverlabel": {
                      "align": "left"
                    },
                    "hovermode": "closest",
                    "mapbox": {
                      "style": "light"
                    },
                    "paper_bgcolor": "white",
                    "plot_bgcolor": "#E5ECF6",
                    "polar": {
                      "angularaxis": {
                        "gridcolor": "white",
                        "linecolor": "white",
                        "ticks": ""
                      },
                      "bgcolor": "#E5ECF6",
                      "radialaxis": {
                        "gridcolor": "white",
                        "linecolor": "white",
                        "ticks": ""
                      }
                    },
                    "scene": {
                      "xaxis": {
                        "backgroundcolor": "#E5ECF6",
                        "gridcolor": "white",
                        "gridwidth": 2,
                        "linecolor": "white",
                        "showbackground": true,
                        "ticks": "",
                        "zerolinecolor": "white"
                      },
                      "yaxis": {
                        "backgroundcolor": "#E5ECF6",
                        "gridcolor": "white",
                        "gridwidth": 2,
                        "linecolor": "white",
                        "showbackground": true,
                        "ticks": "",
                        "zerolinecolor": "white"
                      },
                      "zaxis": {
                        "backgroundcolor": "#E5ECF6",
                        "gridcolor": "white",
                        "gridwidth": 2,
                        "linecolor": "white",
                        "showbackground": true,
                        "ticks": "",
                        "zerolinecolor": "white"
                      }
                    },
                    "shapedefaults": {
                      "line": {
                        "color": "#2a3f5f"
                      }
                    },
                    "ternary": {
                      "aaxis": {
                        "gridcolor": "white",
                        "linecolor": "white",
                        "ticks": ""
                      },
                      "baxis": {
                        "gridcolor": "white",
                        "linecolor": "white",
                        "ticks": ""
                      },
                      "bgcolor": "#E5ECF6",
                      "caxis": {
                        "gridcolor": "white",
                        "linecolor": "white",
                        "ticks": ""
                      }
                    },
                    "title": {
                      "x": 0.05
                    },
                    "xaxis": {
                      "automargin": true,
                      "gridcolor": "white",
                      "linecolor": "white",
                      "ticks": "",
                      "title": {
                        "standoff": 15
                      },
                      "zerolinecolor": "white",
                      "zerolinewidth": 2
                    },
                    "yaxis": {
                      "automargin": true,
                      "gridcolor": "white",
                      "linecolor": "white",
                      "ticks": "",
                      "title": {
                        "standoff": 15
                      },
                      "zerolinecolor": "white",
                      "zerolinewidth": 2
                    }
                  }
                },
                "title": {
                  "text": "Gráfico de análise - Agglomerative Clustering"
                },
                "width": 1400
              }
            },
            "text/html": [
              "<div>                            <div id=\"b163aa71-4135-434d-99f9-69dc9c49873e\" class=\"plotly-graph-div\" style=\"height:800px; width:1400px;\"></div>            <script type=\"text/javascript\">                require([\"plotly\"], function(Plotly) {                    window.PLOTLYENV=window.PLOTLYENV || {};                                    if (document.getElementById(\"b163aa71-4135-434d-99f9-69dc9c49873e\")) {                    Plotly.newPlot(                        \"b163aa71-4135-434d-99f9-69dc9c49873e\",                        [{\"mode\":\"lines+markers\",\"name\":\"ward\",\"x\":[2,3,4,5,6,7,8,9,10],\"y\":[0.18807453869822213,0.1541185392067335,0.13606889845188838,0.14265412776493583,0.147140020930462,0.14131498396572326,0.1367343647407059,0.13667043382091312,0.13329588898684172],\"type\":\"scatter\"},{\"mode\":\"lines+markers\",\"name\":\"complete\",\"x\":[2,3,4,5,6,7,8,9,10],\"y\":[0.1295440791425587,0.1189812829284411,0.10992661001137863,0.10918605684795538,0.11502817827984325,0.10347241148997002,0.10987107153998671,0.1144138361668523,0.12020135166709317],\"type\":\"scatter\"},{\"mode\":\"lines+markers\",\"name\":\"average\",\"x\":[2,3,4,5,6,7,8,9,10],\"y\":[0.1729488217095168,0.12547685764897568,0.1598694403754856,0.1682867491308201,0.15627024933610414,0.1325176019057598,0.13143638907043112,0.11608483044547785,0.11436281718371485],\"type\":\"scatter\"},{\"mode\":\"lines+markers\",\"name\":\"single\",\"x\":[2,3,4,5,6,7,8,9,10],\"y\":[0.09513887255052131,0.04057676324073076,0.035018886770669035,-0.03880366922664436,-0.04621814845182896,-0.07763316642062353,-0.10509226401365336,-0.15807225725602397,-0.15823384190745754],\"type\":\"scatter\"}],                        {\"template\":{\"data\":{\"histogram2dcontour\":[{\"type\":\"histogram2dcontour\",\"colorbar\":{\"outlinewidth\":0,\"ticks\":\"\"},\"colorscale\":[[0.0,\"#0d0887\"],[0.1111111111111111,\"#46039f\"],[0.2222222222222222,\"#7201a8\"],[0.3333333333333333,\"#9c179e\"],[0.4444444444444444,\"#bd3786\"],[0.5555555555555556,\"#d8576b\"],[0.6666666666666666,\"#ed7953\"],[0.7777777777777778,\"#fb9f3a\"],[0.8888888888888888,\"#fdca26\"],[1.0,\"#f0f921\"]]}],\"choropleth\":[{\"type\":\"choropleth\",\"colorbar\":{\"outlinewidth\":0,\"ticks\":\"\"}}],\"histogram2d\":[{\"type\":\"histogram2d\",\"colorbar\":{\"outlinewidth\":0,\"ticks\":\"\"},\"colorscale\":[[0.0,\"#0d0887\"],[0.1111111111111111,\"#46039f\"],[0.2222222222222222,\"#7201a8\"],[0.3333333333333333,\"#9c179e\"],[0.4444444444444444,\"#bd3786\"],[0.5555555555555556,\"#d8576b\"],[0.6666666666666666,\"#ed7953\"],[0.7777777777777778,\"#fb9f3a\"],[0.8888888888888888,\"#fdca26\"],[1.0,\"#f0f921\"]]}],\"heatmap\":[{\"type\":\"heatmap\",\"colorbar\":{\"outlinewidth\":0,\"ticks\":\"\"},\"colorscale\":[[0.0,\"#0d0887\"],[0.1111111111111111,\"#46039f\"],[0.2222222222222222,\"#7201a8\"],[0.3333333333333333,\"#9c179e\"],[0.4444444444444444,\"#bd3786\"],[0.5555555555555556,\"#d8576b\"],[0.6666666666666666,\"#ed7953\"],[0.7777777777777778,\"#fb9f3a\"],[0.8888888888888888,\"#fdca26\"],[1.0,\"#f0f921\"]]}],\"heatmapgl\":[{\"type\":\"heatmapgl\",\"colorbar\":{\"outlinewidth\":0,\"ticks\":\"\"},\"colorscale\":[[0.0,\"#0d0887\"],[0.1111111111111111,\"#46039f\"],[0.2222222222222222,\"#7201a8\"],[0.3333333333333333,\"#9c179e\"],[0.4444444444444444,\"#bd3786\"],[0.5555555555555556,\"#d8576b\"],[0.6666666666666666,\"#ed7953\"],[0.7777777777777778,\"#fb9f3a\"],[0.8888888888888888,\"#fdca26\"],[1.0,\"#f0f921\"]]}],\"contourcarpet\":[{\"type\":\"contourcarpet\",\"colorbar\":{\"outlinewidth\":0,\"ticks\":\"\"}}],\"contour\":[{\"type\":\"contour\",\"colorbar\":{\"outlinewidth\":0,\"ticks\":\"\"},\"colorscale\":[[0.0,\"#0d0887\"],[0.1111111111111111,\"#46039f\"],[0.2222222222222222,\"#7201a8\"],[0.3333333333333333,\"#9c179e\"],[0.4444444444444444,\"#bd3786\"],[0.5555555555555556,\"#d8576b\"],[0.6666666666666666,\"#ed7953\"],[0.7777777777777778,\"#fb9f3a\"],[0.8888888888888888,\"#fdca26\"],[1.0,\"#f0f921\"]]}],\"surface\":[{\"type\":\"surface\",\"colorbar\":{\"outlinewidth\":0,\"ticks\":\"\"},\"colorscale\":[[0.0,\"#0d0887\"],[0.1111111111111111,\"#46039f\"],[0.2222222222222222,\"#7201a8\"],[0.3333333333333333,\"#9c179e\"],[0.4444444444444444,\"#bd3786\"],[0.5555555555555556,\"#d8576b\"],[0.6666666666666666,\"#ed7953\"],[0.7777777777777778,\"#fb9f3a\"],[0.8888888888888888,\"#fdca26\"],[1.0,\"#f0f921\"]]}],\"mesh3d\":[{\"type\":\"mesh3d\",\"colorbar\":{\"outlinewidth\":0,\"ticks\":\"\"}}],\"scatter\":[{\"fillpattern\":{\"fillmode\":\"overlay\",\"size\":10,\"solidity\":0.2},\"type\":\"scatter\"}],\"parcoords\":[{\"type\":\"parcoords\",\"line\":{\"colorbar\":{\"outlinewidth\":0,\"ticks\":\"\"}}}],\"scatterpolargl\":[{\"type\":\"scatterpolargl\",\"marker\":{\"colorbar\":{\"outlinewidth\":0,\"ticks\":\"\"}}}],\"bar\":[{\"error_x\":{\"color\":\"#2a3f5f\"},\"error_y\":{\"color\":\"#2a3f5f\"},\"marker\":{\"line\":{\"color\":\"#E5ECF6\",\"width\":0.5},\"pattern\":{\"fillmode\":\"overlay\",\"size\":10,\"solidity\":0.2}},\"type\":\"bar\"}],\"scattergeo\":[{\"type\":\"scattergeo\",\"marker\":{\"colorbar\":{\"outlinewidth\":0,\"ticks\":\"\"}}}],\"scatterpolar\":[{\"type\":\"scatterpolar\",\"marker\":{\"colorbar\":{\"outlinewidth\":0,\"ticks\":\"\"}}}],\"histogram\":[{\"marker\":{\"pattern\":{\"fillmode\":\"overlay\",\"size\":10,\"solidity\":0.2}},\"type\":\"histogram\"}],\"scattergl\":[{\"type\":\"scattergl\",\"marker\":{\"colorbar\":{\"outlinewidth\":0,\"ticks\":\"\"}}}],\"scatter3d\":[{\"type\":\"scatter3d\",\"line\":{\"colorbar\":{\"outlinewidth\":0,\"ticks\":\"\"}},\"marker\":{\"colorbar\":{\"outlinewidth\":0,\"ticks\":\"\"}}}],\"scattermapbox\":[{\"type\":\"scattermapbox\",\"marker\":{\"colorbar\":{\"outlinewidth\":0,\"ticks\":\"\"}}}],\"scatterternary\":[{\"type\":\"scatterternary\",\"marker\":{\"colorbar\":{\"outlinewidth\":0,\"ticks\":\"\"}}}],\"scattercarpet\":[{\"type\":\"scattercarpet\",\"marker\":{\"colorbar\":{\"outlinewidth\":0,\"ticks\":\"\"}}}],\"carpet\":[{\"aaxis\":{\"endlinecolor\":\"#2a3f5f\",\"gridcolor\":\"white\",\"linecolor\":\"white\",\"minorgridcolor\":\"white\",\"startlinecolor\":\"#2a3f5f\"},\"baxis\":{\"endlinecolor\":\"#2a3f5f\",\"gridcolor\":\"white\",\"linecolor\":\"white\",\"minorgridcolor\":\"white\",\"startlinecolor\":\"#2a3f5f\"},\"type\":\"carpet\"}],\"table\":[{\"cells\":{\"fill\":{\"color\":\"#EBF0F8\"},\"line\":{\"color\":\"white\"}},\"header\":{\"fill\":{\"color\":\"#C8D4E3\"},\"line\":{\"color\":\"white\"}},\"type\":\"table\"}],\"barpolar\":[{\"marker\":{\"line\":{\"color\":\"#E5ECF6\",\"width\":0.5},\"pattern\":{\"fillmode\":\"overlay\",\"size\":10,\"solidity\":0.2}},\"type\":\"barpolar\"}],\"pie\":[{\"automargin\":true,\"type\":\"pie\"}]},\"layout\":{\"autotypenumbers\":\"strict\",\"colorway\":[\"#636efa\",\"#EF553B\",\"#00cc96\",\"#ab63fa\",\"#FFA15A\",\"#19d3f3\",\"#FF6692\",\"#B6E880\",\"#FF97FF\",\"#FECB52\"],\"font\":{\"color\":\"#2a3f5f\"},\"hovermode\":\"closest\",\"hoverlabel\":{\"align\":\"left\"},\"paper_bgcolor\":\"white\",\"plot_bgcolor\":\"#E5ECF6\",\"polar\":{\"bgcolor\":\"#E5ECF6\",\"angularaxis\":{\"gridcolor\":\"white\",\"linecolor\":\"white\",\"ticks\":\"\"},\"radialaxis\":{\"gridcolor\":\"white\",\"linecolor\":\"white\",\"ticks\":\"\"}},\"ternary\":{\"bgcolor\":\"#E5ECF6\",\"aaxis\":{\"gridcolor\":\"white\",\"linecolor\":\"white\",\"ticks\":\"\"},\"baxis\":{\"gridcolor\":\"white\",\"linecolor\":\"white\",\"ticks\":\"\"},\"caxis\":{\"gridcolor\":\"white\",\"linecolor\":\"white\",\"ticks\":\"\"}},\"coloraxis\":{\"colorbar\":{\"outlinewidth\":0,\"ticks\":\"\"}},\"colorscale\":{\"sequential\":[[0.0,\"#0d0887\"],[0.1111111111111111,\"#46039f\"],[0.2222222222222222,\"#7201a8\"],[0.3333333333333333,\"#9c179e\"],[0.4444444444444444,\"#bd3786\"],[0.5555555555555556,\"#d8576b\"],[0.6666666666666666,\"#ed7953\"],[0.7777777777777778,\"#fb9f3a\"],[0.8888888888888888,\"#fdca26\"],[1.0,\"#f0f921\"]],\"sequentialminus\":[[0.0,\"#0d0887\"],[0.1111111111111111,\"#46039f\"],[0.2222222222222222,\"#7201a8\"],[0.3333333333333333,\"#9c179e\"],[0.4444444444444444,\"#bd3786\"],[0.5555555555555556,\"#d8576b\"],[0.6666666666666666,\"#ed7953\"],[0.7777777777777778,\"#fb9f3a\"],[0.8888888888888888,\"#fdca26\"],[1.0,\"#f0f921\"]],\"diverging\":[[0,\"#8e0152\"],[0.1,\"#c51b7d\"],[0.2,\"#de77ae\"],[0.3,\"#f1b6da\"],[0.4,\"#fde0ef\"],[0.5,\"#f7f7f7\"],[0.6,\"#e6f5d0\"],[0.7,\"#b8e186\"],[0.8,\"#7fbc41\"],[0.9,\"#4d9221\"],[1,\"#276419\"]]},\"xaxis\":{\"gridcolor\":\"white\",\"linecolor\":\"white\",\"ticks\":\"\",\"title\":{\"standoff\":15},\"zerolinecolor\":\"white\",\"automargin\":true,\"zerolinewidth\":2},\"yaxis\":{\"gridcolor\":\"white\",\"linecolor\":\"white\",\"ticks\":\"\",\"title\":{\"standoff\":15},\"zerolinecolor\":\"white\",\"automargin\":true,\"zerolinewidth\":2},\"scene\":{\"xaxis\":{\"backgroundcolor\":\"#E5ECF6\",\"gridcolor\":\"white\",\"linecolor\":\"white\",\"showbackground\":true,\"ticks\":\"\",\"zerolinecolor\":\"white\",\"gridwidth\":2},\"yaxis\":{\"backgroundcolor\":\"#E5ECF6\",\"gridcolor\":\"white\",\"linecolor\":\"white\",\"showbackground\":true,\"ticks\":\"\",\"zerolinecolor\":\"white\",\"gridwidth\":2},\"zaxis\":{\"backgroundcolor\":\"#E5ECF6\",\"gridcolor\":\"white\",\"linecolor\":\"white\",\"showbackground\":true,\"ticks\":\"\",\"zerolinecolor\":\"white\",\"gridwidth\":2}},\"shapedefaults\":{\"line\":{\"color\":\"#2a3f5f\"}},\"annotationdefaults\":{\"arrowcolor\":\"#2a3f5f\",\"arrowhead\":0,\"arrowwidth\":1},\"geo\":{\"bgcolor\":\"white\",\"landcolor\":\"#E5ECF6\",\"subunitcolor\":\"white\",\"showland\":true,\"showlakes\":true,\"lakecolor\":\"white\"},\"title\":{\"x\":0.05},\"mapbox\":{\"style\":\"light\"}}},\"title\":{\"text\":\"Gr\\u00e1fico de an\\u00e1lise - Agglomerative Clustering\"},\"autosize\":false,\"width\":1400,\"height\":800},                        {\"responsive\": true}                    ).then(function(){\n",
              "                            \n",
              "var gd = document.getElementById('b163aa71-4135-434d-99f9-69dc9c49873e');\n",
              "var x = new MutationObserver(function (mutations, observer) {{\n",
              "        var display = window.getComputedStyle(gd).display;\n",
              "        if (!display || display === 'none') {{\n",
              "            console.log([gd, 'removed!']);\n",
              "            Plotly.purge(gd);\n",
              "            observer.disconnect();\n",
              "        }}\n",
              "}});\n",
              "\n",
              "// Listen for the removal of the full notebook cells\n",
              "var notebookContainer = gd.closest('#notebook-container');\n",
              "if (notebookContainer) {{\n",
              "    x.observe(notebookContainer, {childList: true});\n",
              "}}\n",
              "\n",
              "// Listen for the clearing of the current output cell\n",
              "var outputEl = gd.closest('.output');\n",
              "if (outputEl) {{\n",
              "    x.observe(outputEl, {childList: true});\n",
              "}}\n",
              "\n",
              "                        })                };                });            </script>        </div>"
            ]
          },
          "metadata": {},
          "output_type": "display_data"
        },
        {
          "data": {
            "text/html": [
              "<pre style=\"white-space:pre;overflow-x:auto;line-height:normal;font-family:Menlo,'DejaVu Sans Mono',consolas,'Courier New',monospace\"><span style=\"font-style: italic\">                  Resultados                  </span>\n",
              "┏━━━━━━━━━━┳━━━━━━━━━━┳━━━━━━━━━━━━━━━━━━━━━━┓\n",
              "┃<span style=\"font-weight: bold\"> Linkage  </span>┃<span style=\"font-weight: bold\"> Clusters </span>┃<span style=\"font-weight: bold\">   Silhouette Score   </span>┃\n",
              "┡━━━━━━━━━━╇━━━━━━━━━━╇━━━━━━━━━━━━━━━━━━━━━━┩\n",
              "│<span style=\"color: #008080; text-decoration-color: #008080\">   ward   </span>│<span style=\"color: #800080; text-decoration-color: #800080\">    2     </span>│<span style=\"color: #008000; text-decoration-color: #008000\"> 0.18807453869822213  </span>│\n",
              "│<span style=\"color: #008080; text-decoration-color: #008080\">   ward   </span>│<span style=\"color: #800080; text-decoration-color: #800080\">    3     </span>│<span style=\"color: #008000; text-decoration-color: #008000\">  0.1541185392067335  </span>│\n",
              "│<span style=\"color: #008080; text-decoration-color: #008080\">   ward   </span>│<span style=\"color: #800080; text-decoration-color: #800080\">    4     </span>│<span style=\"color: #008000; text-decoration-color: #008000\"> 0.13606889845188838  </span>│\n",
              "│<span style=\"color: #008080; text-decoration-color: #008080\">   ward   </span>│<span style=\"color: #800080; text-decoration-color: #800080\">    5     </span>│<span style=\"color: #008000; text-decoration-color: #008000\"> 0.14265412776493583  </span>│\n",
              "│<span style=\"color: #008080; text-decoration-color: #008080\">   ward   </span>│<span style=\"color: #800080; text-decoration-color: #800080\">    6     </span>│<span style=\"color: #008000; text-decoration-color: #008000\">  0.147140020930462   </span>│\n",
              "│<span style=\"color: #008080; text-decoration-color: #008080\">   ward   </span>│<span style=\"color: #800080; text-decoration-color: #800080\">    7     </span>│<span style=\"color: #008000; text-decoration-color: #008000\"> 0.14131498396572326  </span>│\n",
              "│<span style=\"color: #008080; text-decoration-color: #008080\">   ward   </span>│<span style=\"color: #800080; text-decoration-color: #800080\">    8     </span>│<span style=\"color: #008000; text-decoration-color: #008000\">  0.1367343647407059  </span>│\n",
              "│<span style=\"color: #008080; text-decoration-color: #008080\">   ward   </span>│<span style=\"color: #800080; text-decoration-color: #800080\">    9     </span>│<span style=\"color: #008000; text-decoration-color: #008000\"> 0.13667043382091312  </span>│\n",
              "│<span style=\"color: #008080; text-decoration-color: #008080\">   ward   </span>│<span style=\"color: #800080; text-decoration-color: #800080\">    10    </span>│<span style=\"color: #008000; text-decoration-color: #008000\"> 0.13329588898684172  </span>│\n",
              "│<span style=\"color: #008080; text-decoration-color: #008080\"> complete </span>│<span style=\"color: #800080; text-decoration-color: #800080\">    2     </span>│<span style=\"color: #008000; text-decoration-color: #008000\">  0.1295440791425587  </span>│\n",
              "│<span style=\"color: #008080; text-decoration-color: #008080\"> complete </span>│<span style=\"color: #800080; text-decoration-color: #800080\">    3     </span>│<span style=\"color: #008000; text-decoration-color: #008000\">  0.1189812829284411  </span>│\n",
              "│<span style=\"color: #008080; text-decoration-color: #008080\"> complete </span>│<span style=\"color: #800080; text-decoration-color: #800080\">    4     </span>│<span style=\"color: #008000; text-decoration-color: #008000\"> 0.10992661001137863  </span>│\n",
              "│<span style=\"color: #008080; text-decoration-color: #008080\"> complete </span>│<span style=\"color: #800080; text-decoration-color: #800080\">    5     </span>│<span style=\"color: #008000; text-decoration-color: #008000\"> 0.10918605684795538  </span>│\n",
              "│<span style=\"color: #008080; text-decoration-color: #008080\"> complete </span>│<span style=\"color: #800080; text-decoration-color: #800080\">    6     </span>│<span style=\"color: #008000; text-decoration-color: #008000\"> 0.11502817827984325  </span>│\n",
              "│<span style=\"color: #008080; text-decoration-color: #008080\"> complete </span>│<span style=\"color: #800080; text-decoration-color: #800080\">    7     </span>│<span style=\"color: #008000; text-decoration-color: #008000\"> 0.10347241148997002  </span>│\n",
              "│<span style=\"color: #008080; text-decoration-color: #008080\"> complete </span>│<span style=\"color: #800080; text-decoration-color: #800080\">    8     </span>│<span style=\"color: #008000; text-decoration-color: #008000\"> 0.10987107153998671  </span>│\n",
              "│<span style=\"color: #008080; text-decoration-color: #008080\"> complete </span>│<span style=\"color: #800080; text-decoration-color: #800080\">    9     </span>│<span style=\"color: #008000; text-decoration-color: #008000\">  0.1144138361668523  </span>│\n",
              "│<span style=\"color: #008080; text-decoration-color: #008080\"> complete </span>│<span style=\"color: #800080; text-decoration-color: #800080\">    10    </span>│<span style=\"color: #008000; text-decoration-color: #008000\"> 0.12020135166709317  </span>│\n",
              "│<span style=\"color: #008080; text-decoration-color: #008080\"> average  </span>│<span style=\"color: #800080; text-decoration-color: #800080\">    2     </span>│<span style=\"color: #008000; text-decoration-color: #008000\">  0.1729488217095168  </span>│\n",
              "│<span style=\"color: #008080; text-decoration-color: #008080\"> average  </span>│<span style=\"color: #800080; text-decoration-color: #800080\">    3     </span>│<span style=\"color: #008000; text-decoration-color: #008000\"> 0.12547685764897568  </span>│\n",
              "│<span style=\"color: #008080; text-decoration-color: #008080\"> average  </span>│<span style=\"color: #800080; text-decoration-color: #800080\">    4     </span>│<span style=\"color: #008000; text-decoration-color: #008000\">  0.1598694403754856  </span>│\n",
              "│<span style=\"color: #008080; text-decoration-color: #008080\"> average  </span>│<span style=\"color: #800080; text-decoration-color: #800080\">    5     </span>│<span style=\"color: #008000; text-decoration-color: #008000\">  0.1682867491308201  </span>│\n",
              "│<span style=\"color: #008080; text-decoration-color: #008080\"> average  </span>│<span style=\"color: #800080; text-decoration-color: #800080\">    6     </span>│<span style=\"color: #008000; text-decoration-color: #008000\"> 0.15627024933610414  </span>│\n",
              "│<span style=\"color: #008080; text-decoration-color: #008080\"> average  </span>│<span style=\"color: #800080; text-decoration-color: #800080\">    7     </span>│<span style=\"color: #008000; text-decoration-color: #008000\">  0.1325176019057598  </span>│\n",
              "│<span style=\"color: #008080; text-decoration-color: #008080\"> average  </span>│<span style=\"color: #800080; text-decoration-color: #800080\">    8     </span>│<span style=\"color: #008000; text-decoration-color: #008000\"> 0.13143638907043112  </span>│\n",
              "│<span style=\"color: #008080; text-decoration-color: #008080\"> average  </span>│<span style=\"color: #800080; text-decoration-color: #800080\">    9     </span>│<span style=\"color: #008000; text-decoration-color: #008000\"> 0.11608483044547785  </span>│\n",
              "│<span style=\"color: #008080; text-decoration-color: #008080\"> average  </span>│<span style=\"color: #800080; text-decoration-color: #800080\">    10    </span>│<span style=\"color: #008000; text-decoration-color: #008000\"> 0.11436281718371485  </span>│\n",
              "│<span style=\"color: #008080; text-decoration-color: #008080\">  single  </span>│<span style=\"color: #800080; text-decoration-color: #800080\">    2     </span>│<span style=\"color: #008000; text-decoration-color: #008000\"> 0.09513887255052131  </span>│\n",
              "│<span style=\"color: #008080; text-decoration-color: #008080\">  single  </span>│<span style=\"color: #800080; text-decoration-color: #800080\">    3     </span>│<span style=\"color: #008000; text-decoration-color: #008000\"> 0.04057676324073076  </span>│\n",
              "│<span style=\"color: #008080; text-decoration-color: #008080\">  single  </span>│<span style=\"color: #800080; text-decoration-color: #800080\">    4     </span>│<span style=\"color: #008000; text-decoration-color: #008000\"> 0.035018886770669035 </span>│\n",
              "│<span style=\"color: #008080; text-decoration-color: #008080\">  single  </span>│<span style=\"color: #800080; text-decoration-color: #800080\">    5     </span>│<span style=\"color: #008000; text-decoration-color: #008000\"> -0.03880366922664436 </span>│\n",
              "│<span style=\"color: #008080; text-decoration-color: #008080\">  single  </span>│<span style=\"color: #800080; text-decoration-color: #800080\">    6     </span>│<span style=\"color: #008000; text-decoration-color: #008000\"> -0.04621814845182896 </span>│\n",
              "│<span style=\"color: #008080; text-decoration-color: #008080\">  single  </span>│<span style=\"color: #800080; text-decoration-color: #800080\">    7     </span>│<span style=\"color: #008000; text-decoration-color: #008000\"> -0.07763316642062353 </span>│\n",
              "│<span style=\"color: #008080; text-decoration-color: #008080\">  single  </span>│<span style=\"color: #800080; text-decoration-color: #800080\">    8     </span>│<span style=\"color: #008000; text-decoration-color: #008000\"> -0.10509226401365336 </span>│\n",
              "│<span style=\"color: #008080; text-decoration-color: #008080\">  single  </span>│<span style=\"color: #800080; text-decoration-color: #800080\">    9     </span>│<span style=\"color: #008000; text-decoration-color: #008000\"> -0.15807225725602397 </span>│\n",
              "│<span style=\"color: #008080; text-decoration-color: #008080\">  single  </span>│<span style=\"color: #800080; text-decoration-color: #800080\">    10    </span>│<span style=\"color: #008000; text-decoration-color: #008000\"> -0.15823384190745754 </span>│\n",
              "└──────────┴──────────┴──────────────────────┘\n",
              "</pre>\n"
            ],
            "text/plain": [
              "\u001b[3m                  Resultados                  \u001b[0m\n",
              "┏━━━━━━━━━━┳━━━━━━━━━━┳━━━━━━━━━━━━━━━━━━━━━━┓\n",
              "┃\u001b[1m \u001b[0m\u001b[1mLinkage \u001b[0m\u001b[1m \u001b[0m┃\u001b[1m \u001b[0m\u001b[1mClusters\u001b[0m\u001b[1m \u001b[0m┃\u001b[1m \u001b[0m\u001b[1m  Silhouette Score  \u001b[0m\u001b[1m \u001b[0m┃\n",
              "┡━━━━━━━━━━╇━━━━━━━━━━╇━━━━━━━━━━━━━━━━━━━━━━┩\n",
              "│\u001b[36m \u001b[0m\u001b[36m  ward  \u001b[0m\u001b[36m \u001b[0m│\u001b[35m \u001b[0m\u001b[35m   2    \u001b[0m\u001b[35m \u001b[0m│\u001b[32m \u001b[0m\u001b[32m0.18807453869822213 \u001b[0m\u001b[32m \u001b[0m│\n",
              "│\u001b[36m \u001b[0m\u001b[36m  ward  \u001b[0m\u001b[36m \u001b[0m│\u001b[35m \u001b[0m\u001b[35m   3    \u001b[0m\u001b[35m \u001b[0m│\u001b[32m \u001b[0m\u001b[32m 0.1541185392067335 \u001b[0m\u001b[32m \u001b[0m│\n",
              "│\u001b[36m \u001b[0m\u001b[36m  ward  \u001b[0m\u001b[36m \u001b[0m│\u001b[35m \u001b[0m\u001b[35m   4    \u001b[0m\u001b[35m \u001b[0m│\u001b[32m \u001b[0m\u001b[32m0.13606889845188838 \u001b[0m\u001b[32m \u001b[0m│\n",
              "│\u001b[36m \u001b[0m\u001b[36m  ward  \u001b[0m\u001b[36m \u001b[0m│\u001b[35m \u001b[0m\u001b[35m   5    \u001b[0m\u001b[35m \u001b[0m│\u001b[32m \u001b[0m\u001b[32m0.14265412776493583 \u001b[0m\u001b[32m \u001b[0m│\n",
              "│\u001b[36m \u001b[0m\u001b[36m  ward  \u001b[0m\u001b[36m \u001b[0m│\u001b[35m \u001b[0m\u001b[35m   6    \u001b[0m\u001b[35m \u001b[0m│\u001b[32m \u001b[0m\u001b[32m 0.147140020930462  \u001b[0m\u001b[32m \u001b[0m│\n",
              "│\u001b[36m \u001b[0m\u001b[36m  ward  \u001b[0m\u001b[36m \u001b[0m│\u001b[35m \u001b[0m\u001b[35m   7    \u001b[0m\u001b[35m \u001b[0m│\u001b[32m \u001b[0m\u001b[32m0.14131498396572326 \u001b[0m\u001b[32m \u001b[0m│\n",
              "│\u001b[36m \u001b[0m\u001b[36m  ward  \u001b[0m\u001b[36m \u001b[0m│\u001b[35m \u001b[0m\u001b[35m   8    \u001b[0m\u001b[35m \u001b[0m│\u001b[32m \u001b[0m\u001b[32m 0.1367343647407059 \u001b[0m\u001b[32m \u001b[0m│\n",
              "│\u001b[36m \u001b[0m\u001b[36m  ward  \u001b[0m\u001b[36m \u001b[0m│\u001b[35m \u001b[0m\u001b[35m   9    \u001b[0m\u001b[35m \u001b[0m│\u001b[32m \u001b[0m\u001b[32m0.13667043382091312 \u001b[0m\u001b[32m \u001b[0m│\n",
              "│\u001b[36m \u001b[0m\u001b[36m  ward  \u001b[0m\u001b[36m \u001b[0m│\u001b[35m \u001b[0m\u001b[35m   10   \u001b[0m\u001b[35m \u001b[0m│\u001b[32m \u001b[0m\u001b[32m0.13329588898684172 \u001b[0m\u001b[32m \u001b[0m│\n",
              "│\u001b[36m \u001b[0m\u001b[36mcomplete\u001b[0m\u001b[36m \u001b[0m│\u001b[35m \u001b[0m\u001b[35m   2    \u001b[0m\u001b[35m \u001b[0m│\u001b[32m \u001b[0m\u001b[32m 0.1295440791425587 \u001b[0m\u001b[32m \u001b[0m│\n",
              "│\u001b[36m \u001b[0m\u001b[36mcomplete\u001b[0m\u001b[36m \u001b[0m│\u001b[35m \u001b[0m\u001b[35m   3    \u001b[0m\u001b[35m \u001b[0m│\u001b[32m \u001b[0m\u001b[32m 0.1189812829284411 \u001b[0m\u001b[32m \u001b[0m│\n",
              "│\u001b[36m \u001b[0m\u001b[36mcomplete\u001b[0m\u001b[36m \u001b[0m│\u001b[35m \u001b[0m\u001b[35m   4    \u001b[0m\u001b[35m \u001b[0m│\u001b[32m \u001b[0m\u001b[32m0.10992661001137863 \u001b[0m\u001b[32m \u001b[0m│\n",
              "│\u001b[36m \u001b[0m\u001b[36mcomplete\u001b[0m\u001b[36m \u001b[0m│\u001b[35m \u001b[0m\u001b[35m   5    \u001b[0m\u001b[35m \u001b[0m│\u001b[32m \u001b[0m\u001b[32m0.10918605684795538 \u001b[0m\u001b[32m \u001b[0m│\n",
              "│\u001b[36m \u001b[0m\u001b[36mcomplete\u001b[0m\u001b[36m \u001b[0m│\u001b[35m \u001b[0m\u001b[35m   6    \u001b[0m\u001b[35m \u001b[0m│\u001b[32m \u001b[0m\u001b[32m0.11502817827984325 \u001b[0m\u001b[32m \u001b[0m│\n",
              "│\u001b[36m \u001b[0m\u001b[36mcomplete\u001b[0m\u001b[36m \u001b[0m│\u001b[35m \u001b[0m\u001b[35m   7    \u001b[0m\u001b[35m \u001b[0m│\u001b[32m \u001b[0m\u001b[32m0.10347241148997002 \u001b[0m\u001b[32m \u001b[0m│\n",
              "│\u001b[36m \u001b[0m\u001b[36mcomplete\u001b[0m\u001b[36m \u001b[0m│\u001b[35m \u001b[0m\u001b[35m   8    \u001b[0m\u001b[35m \u001b[0m│\u001b[32m \u001b[0m\u001b[32m0.10987107153998671 \u001b[0m\u001b[32m \u001b[0m│\n",
              "│\u001b[36m \u001b[0m\u001b[36mcomplete\u001b[0m\u001b[36m \u001b[0m│\u001b[35m \u001b[0m\u001b[35m   9    \u001b[0m\u001b[35m \u001b[0m│\u001b[32m \u001b[0m\u001b[32m 0.1144138361668523 \u001b[0m\u001b[32m \u001b[0m│\n",
              "│\u001b[36m \u001b[0m\u001b[36mcomplete\u001b[0m\u001b[36m \u001b[0m│\u001b[35m \u001b[0m\u001b[35m   10   \u001b[0m\u001b[35m \u001b[0m│\u001b[32m \u001b[0m\u001b[32m0.12020135166709317 \u001b[0m\u001b[32m \u001b[0m│\n",
              "│\u001b[36m \u001b[0m\u001b[36maverage \u001b[0m\u001b[36m \u001b[0m│\u001b[35m \u001b[0m\u001b[35m   2    \u001b[0m\u001b[35m \u001b[0m│\u001b[32m \u001b[0m\u001b[32m 0.1729488217095168 \u001b[0m\u001b[32m \u001b[0m│\n",
              "│\u001b[36m \u001b[0m\u001b[36maverage \u001b[0m\u001b[36m \u001b[0m│\u001b[35m \u001b[0m\u001b[35m   3    \u001b[0m\u001b[35m \u001b[0m│\u001b[32m \u001b[0m\u001b[32m0.12547685764897568 \u001b[0m\u001b[32m \u001b[0m│\n",
              "│\u001b[36m \u001b[0m\u001b[36maverage \u001b[0m\u001b[36m \u001b[0m│\u001b[35m \u001b[0m\u001b[35m   4    \u001b[0m\u001b[35m \u001b[0m│\u001b[32m \u001b[0m\u001b[32m 0.1598694403754856 \u001b[0m\u001b[32m \u001b[0m│\n",
              "│\u001b[36m \u001b[0m\u001b[36maverage \u001b[0m\u001b[36m \u001b[0m│\u001b[35m \u001b[0m\u001b[35m   5    \u001b[0m\u001b[35m \u001b[0m│\u001b[32m \u001b[0m\u001b[32m 0.1682867491308201 \u001b[0m\u001b[32m \u001b[0m│\n",
              "│\u001b[36m \u001b[0m\u001b[36maverage \u001b[0m\u001b[36m \u001b[0m│\u001b[35m \u001b[0m\u001b[35m   6    \u001b[0m\u001b[35m \u001b[0m│\u001b[32m \u001b[0m\u001b[32m0.15627024933610414 \u001b[0m\u001b[32m \u001b[0m│\n",
              "│\u001b[36m \u001b[0m\u001b[36maverage \u001b[0m\u001b[36m \u001b[0m│\u001b[35m \u001b[0m\u001b[35m   7    \u001b[0m\u001b[35m \u001b[0m│\u001b[32m \u001b[0m\u001b[32m 0.1325176019057598 \u001b[0m\u001b[32m \u001b[0m│\n",
              "│\u001b[36m \u001b[0m\u001b[36maverage \u001b[0m\u001b[36m \u001b[0m│\u001b[35m \u001b[0m\u001b[35m   8    \u001b[0m\u001b[35m \u001b[0m│\u001b[32m \u001b[0m\u001b[32m0.13143638907043112 \u001b[0m\u001b[32m \u001b[0m│\n",
              "│\u001b[36m \u001b[0m\u001b[36maverage \u001b[0m\u001b[36m \u001b[0m│\u001b[35m \u001b[0m\u001b[35m   9    \u001b[0m\u001b[35m \u001b[0m│\u001b[32m \u001b[0m\u001b[32m0.11608483044547785 \u001b[0m\u001b[32m \u001b[0m│\n",
              "│\u001b[36m \u001b[0m\u001b[36maverage \u001b[0m\u001b[36m \u001b[0m│\u001b[35m \u001b[0m\u001b[35m   10   \u001b[0m\u001b[35m \u001b[0m│\u001b[32m \u001b[0m\u001b[32m0.11436281718371485 \u001b[0m\u001b[32m \u001b[0m│\n",
              "│\u001b[36m \u001b[0m\u001b[36m single \u001b[0m\u001b[36m \u001b[0m│\u001b[35m \u001b[0m\u001b[35m   2    \u001b[0m\u001b[35m \u001b[0m│\u001b[32m \u001b[0m\u001b[32m0.09513887255052131 \u001b[0m\u001b[32m \u001b[0m│\n",
              "│\u001b[36m \u001b[0m\u001b[36m single \u001b[0m\u001b[36m \u001b[0m│\u001b[35m \u001b[0m\u001b[35m   3    \u001b[0m\u001b[35m \u001b[0m│\u001b[32m \u001b[0m\u001b[32m0.04057676324073076 \u001b[0m\u001b[32m \u001b[0m│\n",
              "│\u001b[36m \u001b[0m\u001b[36m single \u001b[0m\u001b[36m \u001b[0m│\u001b[35m \u001b[0m\u001b[35m   4    \u001b[0m\u001b[35m \u001b[0m│\u001b[32m \u001b[0m\u001b[32m0.035018886770669035\u001b[0m\u001b[32m \u001b[0m│\n",
              "│\u001b[36m \u001b[0m\u001b[36m single \u001b[0m\u001b[36m \u001b[0m│\u001b[35m \u001b[0m\u001b[35m   5    \u001b[0m\u001b[35m \u001b[0m│\u001b[32m \u001b[0m\u001b[32m-0.03880366922664436\u001b[0m\u001b[32m \u001b[0m│\n",
              "│\u001b[36m \u001b[0m\u001b[36m single \u001b[0m\u001b[36m \u001b[0m│\u001b[35m \u001b[0m\u001b[35m   6    \u001b[0m\u001b[35m \u001b[0m│\u001b[32m \u001b[0m\u001b[32m-0.04621814845182896\u001b[0m\u001b[32m \u001b[0m│\n",
              "│\u001b[36m \u001b[0m\u001b[36m single \u001b[0m\u001b[36m \u001b[0m│\u001b[35m \u001b[0m\u001b[35m   7    \u001b[0m\u001b[35m \u001b[0m│\u001b[32m \u001b[0m\u001b[32m-0.07763316642062353\u001b[0m\u001b[32m \u001b[0m│\n",
              "│\u001b[36m \u001b[0m\u001b[36m single \u001b[0m\u001b[36m \u001b[0m│\u001b[35m \u001b[0m\u001b[35m   8    \u001b[0m\u001b[35m \u001b[0m│\u001b[32m \u001b[0m\u001b[32m-0.10509226401365336\u001b[0m\u001b[32m \u001b[0m│\n",
              "│\u001b[36m \u001b[0m\u001b[36m single \u001b[0m\u001b[36m \u001b[0m│\u001b[35m \u001b[0m\u001b[35m   9    \u001b[0m\u001b[35m \u001b[0m│\u001b[32m \u001b[0m\u001b[32m-0.15807225725602397\u001b[0m\u001b[32m \u001b[0m│\n",
              "│\u001b[36m \u001b[0m\u001b[36m single \u001b[0m\u001b[36m \u001b[0m│\u001b[35m \u001b[0m\u001b[35m   10   \u001b[0m\u001b[35m \u001b[0m│\u001b[32m \u001b[0m\u001b[32m-0.15823384190745754\u001b[0m\u001b[32m \u001b[0m│\n",
              "└──────────┴──────────┴──────────────────────┘\n"
            ]
          },
          "metadata": {},
          "output_type": "display_data"
        }
      ],
      "source": [
        "def optimal_agnes(df, start=2, end=11, linkage_methods=['ward', 'complete', 'average', 'single']):\n",
        "    '''\n",
        "    Esta função plota o escore de silhueta para um intervalo de números de clusters e métodos de ligação.\n",
        "    df: DataFrame. Seus dados.\n",
        "    start: int. Número inicial de clusters que você deseja testar.\n",
        "    end: int. Número final de clusters que você deseja testar.\n",
        "    linkage_methods: list. Métodos de ligação que você deseja testar.\n",
        "    '''\n",
        "    \n",
        "    # Escore de silhueta\n",
        "    silhouette = {}\n",
        "    \n",
        "    for linkage in linkage_methods:\n",
        "        for n_clusters in range(start, end):\n",
        "            agnes = AgglomerativeClustering(n_clusters=n_clusters, linkage=linkage).fit(df)\n",
        "            labels = agnes.labels_\n",
        "            silhouette[(linkage, n_clusters)] = silhouette_score(df, labels, metric='euclidean')\n",
        "    \n",
        "    # Plota um gráfico com o plotly com todos os métodos de ligação na mesma figura\n",
        "    fig = go.Figure()\n",
        "\n",
        "    for linkage in linkage_methods:\n",
        "        fig.add_trace(go.Scatter(x=list(range(start, end)), y=[silhouette[(linkage, i)] for i in range(start, end)], \n",
        "                         mode='lines+markers', name=linkage))\n",
        "        \n",
        "    fig.update_layout(title_text=\"Gráfico de análise - Agglomerative Clustering\")\n",
        "\n",
        "    fig.update_layout(\n",
        "        autosize=False,\n",
        "        width=1400,\n",
        "        height=800,\n",
        "    )\n",
        "\n",
        "    fig.show()\n",
        "\n",
        "    # Com o rich, cria uma tabela com os resultados\n",
        "    table = Table(title=\"Resultados\")\n",
        "    table.add_column(\"Linkage\", justify=\"center\", style=\"cyan\", no_wrap=True)\n",
        "    table.add_column(\"Clusters\", justify=\"center\", style=\"magenta\", no_wrap=True)\n",
        "    table.add_column(\"Silhouette Score\", justify=\"center\", style=\"green\", no_wrap=True)\n",
        "    \n",
        "    for key, value in silhouette.items():\n",
        "        table.add_row(str(key[0]), str(key[1]), str(value))\n",
        "        \n",
        "    console = Console()\n",
        "    console.print(table)\n",
        "\n",
        "# Uso da função\n",
        "optimal_agnes(df)"
      ]
    },
    {
      "cell_type": "markdown",
      "metadata": {},
      "source": [
        "---"
      ]
    },
    {
      "cell_type": "markdown",
      "metadata": {},
      "source": [
        "# Técnicas utilizadas para redução de dimensionalidade\n",
        "\n",
        "## PCA (Principal Component Analysis)\n",
        "\n",
        "PCA, ou Análise de Componentes Principais, é uma técnica de redução de dimensionalidade usada em aprendizado de máquina e estatística. O objetivo do PCA é transformar um conjunto de variáveis possivelmente correlacionadas em um conjunto menor de variáveis não correlacionadas chamadas componentes principais.\n",
        "\n",
        "### No código\n",
        "\n",
        "```python\n",
        "\n",
        "pca = PCA(n_components=2)\n",
        "\n",
        "```\n",
        "- n_components: número de componentes principais a serem mantidos, aqui, um objeto PCA é criado, especificando que queremos reduzir nosso conjunto de dados para 2 componentes principais\n",
        "\n",
        "```python\n",
        "principalComponents = pca.fit_transform(df)\n",
        "```\n",
        "\n",
        "- O método fit_transform() é chamado no objeto PCA, que calcula os componentes principais do DataFrame df e usa esses componentes para transformar df em um novo espaço de dados. O resultado é um array numpy principalComponents que contém os dados transformados\n",
        "\n"
      ]
    },
    {
      "cell_type": "markdown",
      "metadata": {},
      "source": [
        "---"
      ]
    },
    {
      "cell_type": "markdown",
      "metadata": {},
      "source": [
        "# Método do KMeans\n",
        "\n",
        "O KMeans é um método de clusterização que tem como objetivo dividir um conjunto de dados em K grupos, onde K é um número pré-definido"
      ]
    },
    {
      "cell_type": "code",
      "execution_count": 163,
      "metadata": {},
      "outputs": [
        {
          "data": {
            "text/html": [
              "<pre style=\"white-space:pre;overflow-x:auto;line-height:normal;font-family:Menlo,'DejaVu Sans Mono',consolas,'Courier New',monospace\"><span style=\"font-style: italic\">  Opinião do Modelo  </span>\n",
              "<span style=\"font-style: italic\">       K-Means       </span>\n",
              "┏━━━━━━━━━┳━━━━━━━━━┓\n",
              "┃<span style=\"font-weight: bold\"> Cluster </span>┃<span style=\"font-weight: bold\"> Opinião </span>┃\n",
              "┡━━━━━━━━━╇━━━━━━━━━┩\n",
              "│<span style=\"color: #008080; text-decoration-color: #008080\">    0    </span>│<span style=\"color: #800080; text-decoration-color: #800080\">   18    </span>│\n",
              "│<span style=\"color: #008080; text-decoration-color: #008080\">    1    </span>│<span style=\"color: #800080; text-decoration-color: #800080\">   54    </span>│\n",
              "│<span style=\"color: #008080; text-decoration-color: #008080\">    2    </span>│<span style=\"color: #800080; text-decoration-color: #800080\">   46    </span>│\n",
              "│<span style=\"color: #008080; text-decoration-color: #008080\">    3    </span>│<span style=\"color: #800080; text-decoration-color: #800080\">   48    </span>│\n",
              "│<span style=\"color: #008080; text-decoration-color: #008080\">    4    </span>│<span style=\"color: #800080; text-decoration-color: #800080\">   17    </span>│\n",
              "└─────────┴─────────┘\n",
              "</pre>\n"
            ],
            "text/plain": [
              "\u001b[3m  Opinião do Modelo  \u001b[0m\n",
              "\u001b[3m       K-Means       \u001b[0m\n",
              "┏━━━━━━━━━┳━━━━━━━━━┓\n",
              "┃\u001b[1m \u001b[0m\u001b[1mCluster\u001b[0m\u001b[1m \u001b[0m┃\u001b[1m \u001b[0m\u001b[1mOpinião\u001b[0m\u001b[1m \u001b[0m┃\n",
              "┡━━━━━━━━━╇━━━━━━━━━┩\n",
              "│\u001b[36m \u001b[0m\u001b[36m   0   \u001b[0m\u001b[36m \u001b[0m│\u001b[35m \u001b[0m\u001b[35m  18   \u001b[0m\u001b[35m \u001b[0m│\n",
              "│\u001b[36m \u001b[0m\u001b[36m   1   \u001b[0m\u001b[36m \u001b[0m│\u001b[35m \u001b[0m\u001b[35m  54   \u001b[0m\u001b[35m \u001b[0m│\n",
              "│\u001b[36m \u001b[0m\u001b[36m   2   \u001b[0m\u001b[36m \u001b[0m│\u001b[35m \u001b[0m\u001b[35m  46   \u001b[0m\u001b[35m \u001b[0m│\n",
              "│\u001b[36m \u001b[0m\u001b[36m   3   \u001b[0m\u001b[36m \u001b[0m│\u001b[35m \u001b[0m\u001b[35m  48   \u001b[0m\u001b[35m \u001b[0m│\n",
              "│\u001b[36m \u001b[0m\u001b[36m   4   \u001b[0m\u001b[36m \u001b[0m│\u001b[35m \u001b[0m\u001b[35m  17   \u001b[0m\u001b[35m \u001b[0m│\n",
              "└─────────┴─────────┘\n"
            ]
          },
          "metadata": {},
          "output_type": "display_data"
        },
        {
          "data": {
            "text/html": [
              "<pre style=\"white-space:pre;overflow-x:auto;line-height:normal;font-family:Menlo,'DejaVu Sans Mono',consolas,'Courier New',monospace\"><span style=\"font-weight: bold\">[</span><span style=\"color: #008080; text-decoration-color: #008080; font-weight: bold\">3</span> <span style=\"color: #008080; text-decoration-color: #008080; font-weight: bold\">1</span> <span style=\"color: #008080; text-decoration-color: #008080; font-weight: bold\">2</span> <span style=\"color: #008080; text-decoration-color: #008080; font-weight: bold\">1</span> <span style=\"color: #008080; text-decoration-color: #008080; font-weight: bold\">2</span> <span style=\"color: #008080; text-decoration-color: #008080; font-weight: bold\">3</span> <span style=\"color: #008080; text-decoration-color: #008080; font-weight: bold\">1</span> <span style=\"color: #008080; text-decoration-color: #008080; font-weight: bold\">3</span> <span style=\"color: #008080; text-decoration-color: #008080; font-weight: bold\">2</span> <span style=\"color: #008080; text-decoration-color: #008080; font-weight: bold\">3</span> <span style=\"color: #008080; text-decoration-color: #008080; font-weight: bold\">2</span> <span style=\"color: #008080; text-decoration-color: #008080; font-weight: bold\">1</span> <span style=\"color: #008080; text-decoration-color: #008080; font-weight: bold\">2</span> <span style=\"color: #008080; text-decoration-color: #008080; font-weight: bold\">2</span> <span style=\"color: #008080; text-decoration-color: #008080; font-weight: bold\">2</span> <span style=\"color: #008080; text-decoration-color: #008080; font-weight: bold\">2</span> <span style=\"color: #008080; text-decoration-color: #008080; font-weight: bold\">3</span> <span style=\"color: #008080; text-decoration-color: #008080; font-weight: bold\">2</span> <span style=\"color: #008080; text-decoration-color: #008080; font-weight: bold\">2</span> <span style=\"color: #008080; text-decoration-color: #008080; font-weight: bold\">2</span> <span style=\"color: #008080; text-decoration-color: #008080; font-weight: bold\">2</span> <span style=\"color: #008080; text-decoration-color: #008080; font-weight: bold\">1</span> <span style=\"color: #008080; text-decoration-color: #008080; font-weight: bold\">2</span> <span style=\"color: #008080; text-decoration-color: #008080; font-weight: bold\">3</span> <span style=\"color: #008080; text-decoration-color: #008080; font-weight: bold\">1</span> <span style=\"color: #008080; text-decoration-color: #008080; font-weight: bold\">1</span> <span style=\"color: #008080; text-decoration-color: #008080; font-weight: bold\">1</span> <span style=\"color: #008080; text-decoration-color: #008080; font-weight: bold\">3</span> <span style=\"color: #008080; text-decoration-color: #008080; font-weight: bold\">3</span> <span style=\"color: #008080; text-decoration-color: #008080; font-weight: bold\">2</span> <span style=\"color: #008080; text-decoration-color: #008080; font-weight: bold\">1</span> <span style=\"color: #008080; text-decoration-color: #008080; font-weight: bold\">3</span> <span style=\"color: #008080; text-decoration-color: #008080; font-weight: bold\">4</span> <span style=\"color: #008080; text-decoration-color: #008080; font-weight: bold\">2</span> <span style=\"color: #008080; text-decoration-color: #008080; font-weight: bold\">1</span> <span style=\"color: #008080; text-decoration-color: #008080; font-weight: bold\">3</span> <span style=\"color: #008080; text-decoration-color: #008080; font-weight: bold\">1</span>\n",
              " <span style=\"color: #008080; text-decoration-color: #008080; font-weight: bold\">1</span> <span style=\"color: #008080; text-decoration-color: #008080; font-weight: bold\">1</span> <span style=\"color: #008080; text-decoration-color: #008080; font-weight: bold\">2</span> <span style=\"color: #008080; text-decoration-color: #008080; font-weight: bold\">0</span> <span style=\"color: #008080; text-decoration-color: #008080; font-weight: bold\">2</span> <span style=\"color: #008080; text-decoration-color: #008080; font-weight: bold\">3</span> <span style=\"color: #008080; text-decoration-color: #008080; font-weight: bold\">1</span> <span style=\"color: #008080; text-decoration-color: #008080; font-weight: bold\">3</span> <span style=\"color: #008080; text-decoration-color: #008080; font-weight: bold\">3</span> <span style=\"color: #008080; text-decoration-color: #008080; font-weight: bold\">3</span> <span style=\"color: #008080; text-decoration-color: #008080; font-weight: bold\">3</span> <span style=\"color: #008080; text-decoration-color: #008080; font-weight: bold\">1</span> <span style=\"color: #008080; text-decoration-color: #008080; font-weight: bold\">4</span> <span style=\"color: #008080; text-decoration-color: #008080; font-weight: bold\">2</span> <span style=\"color: #008080; text-decoration-color: #008080; font-weight: bold\">0</span> <span style=\"color: #008080; text-decoration-color: #008080; font-weight: bold\">1</span> <span style=\"color: #008080; text-decoration-color: #008080; font-weight: bold\">3</span> <span style=\"color: #008080; text-decoration-color: #008080; font-weight: bold\">2</span> <span style=\"color: #008080; text-decoration-color: #008080; font-weight: bold\">2</span> <span style=\"color: #008080; text-decoration-color: #008080; font-weight: bold\">2</span> <span style=\"color: #008080; text-decoration-color: #008080; font-weight: bold\">1</span> <span style=\"color: #008080; text-decoration-color: #008080; font-weight: bold\">1</span> <span style=\"color: #008080; text-decoration-color: #008080; font-weight: bold\">3</span> <span style=\"color: #008080; text-decoration-color: #008080; font-weight: bold\">1</span> <span style=\"color: #008080; text-decoration-color: #008080; font-weight: bold\">3</span> <span style=\"color: #008080; text-decoration-color: #008080; font-weight: bold\">2</span> <span style=\"color: #008080; text-decoration-color: #008080; font-weight: bold\">1</span> <span style=\"color: #008080; text-decoration-color: #008080; font-weight: bold\">1</span> <span style=\"color: #008080; text-decoration-color: #008080; font-weight: bold\">2</span> <span style=\"color: #008080; text-decoration-color: #008080; font-weight: bold\">2</span> <span style=\"color: #008080; text-decoration-color: #008080; font-weight: bold\">1</span> <span style=\"color: #008080; text-decoration-color: #008080; font-weight: bold\">0</span> <span style=\"color: #008080; text-decoration-color: #008080; font-weight: bold\">1</span> <span style=\"color: #008080; text-decoration-color: #008080; font-weight: bold\">4</span> <span style=\"color: #008080; text-decoration-color: #008080; font-weight: bold\">1</span> <span style=\"color: #008080; text-decoration-color: #008080; font-weight: bold\">4</span> <span style=\"color: #008080; text-decoration-color: #008080; font-weight: bold\">3</span>\n",
              " <span style=\"color: #008080; text-decoration-color: #008080; font-weight: bold\">0</span> <span style=\"color: #008080; text-decoration-color: #008080; font-weight: bold\">0</span> <span style=\"color: #008080; text-decoration-color: #008080; font-weight: bold\">3</span> <span style=\"color: #008080; text-decoration-color: #008080; font-weight: bold\">4</span> <span style=\"color: #008080; text-decoration-color: #008080; font-weight: bold\">3</span> <span style=\"color: #008080; text-decoration-color: #008080; font-weight: bold\">1</span> <span style=\"color: #008080; text-decoration-color: #008080; font-weight: bold\">1</span> <span style=\"color: #008080; text-decoration-color: #008080; font-weight: bold\">3</span> <span style=\"color: #008080; text-decoration-color: #008080; font-weight: bold\">1</span> <span style=\"color: #008080; text-decoration-color: #008080; font-weight: bold\">4</span> <span style=\"color: #008080; text-decoration-color: #008080; font-weight: bold\">1</span> <span style=\"color: #008080; text-decoration-color: #008080; font-weight: bold\">3</span> <span style=\"color: #008080; text-decoration-color: #008080; font-weight: bold\">1</span> <span style=\"color: #008080; text-decoration-color: #008080; font-weight: bold\">1</span> <span style=\"color: #008080; text-decoration-color: #008080; font-weight: bold\">4</span> <span style=\"color: #008080; text-decoration-color: #008080; font-weight: bold\">3</span> <span style=\"color: #008080; text-decoration-color: #008080; font-weight: bold\">3</span> <span style=\"color: #008080; text-decoration-color: #008080; font-weight: bold\">3</span> <span style=\"color: #008080; text-decoration-color: #008080; font-weight: bold\">1</span> <span style=\"color: #008080; text-decoration-color: #008080; font-weight: bold\">3</span> <span style=\"color: #008080; text-decoration-color: #008080; font-weight: bold\">2</span> <span style=\"color: #008080; text-decoration-color: #008080; font-weight: bold\">1</span> <span style=\"color: #008080; text-decoration-color: #008080; font-weight: bold\">3</span> <span style=\"color: #008080; text-decoration-color: #008080; font-weight: bold\">1</span> <span style=\"color: #008080; text-decoration-color: #008080; font-weight: bold\">1</span> <span style=\"color: #008080; text-decoration-color: #008080; font-weight: bold\">2</span> <span style=\"color: #008080; text-decoration-color: #008080; font-weight: bold\">1</span> <span style=\"color: #008080; text-decoration-color: #008080; font-weight: bold\">3</span> <span style=\"color: #008080; text-decoration-color: #008080; font-weight: bold\">3</span> <span style=\"color: #008080; text-decoration-color: #008080; font-weight: bold\">1</span> <span style=\"color: #008080; text-decoration-color: #008080; font-weight: bold\">1</span> <span style=\"color: #008080; text-decoration-color: #008080; font-weight: bold\">0</span> <span style=\"color: #008080; text-decoration-color: #008080; font-weight: bold\">1</span> <span style=\"color: #008080; text-decoration-color: #008080; font-weight: bold\">3</span> <span style=\"color: #008080; text-decoration-color: #008080; font-weight: bold\">3</span> <span style=\"color: #008080; text-decoration-color: #008080; font-weight: bold\">3</span> <span style=\"color: #008080; text-decoration-color: #008080; font-weight: bold\">1</span>\n",
              " <span style=\"color: #008080; text-decoration-color: #008080; font-weight: bold\">3</span> <span style=\"color: #008080; text-decoration-color: #008080; font-weight: bold\">3</span> <span style=\"color: #008080; text-decoration-color: #008080; font-weight: bold\">4</span> <span style=\"color: #008080; text-decoration-color: #008080; font-weight: bold\">4</span> <span style=\"color: #008080; text-decoration-color: #008080; font-weight: bold\">3</span> <span style=\"color: #008080; text-decoration-color: #008080; font-weight: bold\">0</span> <span style=\"color: #008080; text-decoration-color: #008080; font-weight: bold\">1</span> <span style=\"color: #008080; text-decoration-color: #008080; font-weight: bold\">2</span> <span style=\"color: #008080; text-decoration-color: #008080; font-weight: bold\">1</span> <span style=\"color: #008080; text-decoration-color: #008080; font-weight: bold\">1</span> <span style=\"color: #008080; text-decoration-color: #008080; font-weight: bold\">3</span> <span style=\"color: #008080; text-decoration-color: #008080; font-weight: bold\">1</span> <span style=\"color: #008080; text-decoration-color: #008080; font-weight: bold\">3</span> <span style=\"color: #008080; text-decoration-color: #008080; font-weight: bold\">1</span> <span style=\"color: #008080; text-decoration-color: #008080; font-weight: bold\">2</span> <span style=\"color: #008080; text-decoration-color: #008080; font-weight: bold\">3</span> <span style=\"color: #008080; text-decoration-color: #008080; font-weight: bold\">4</span> <span style=\"color: #008080; text-decoration-color: #008080; font-weight: bold\">0</span> <span style=\"color: #008080; text-decoration-color: #008080; font-weight: bold\">4</span> <span style=\"color: #008080; text-decoration-color: #008080; font-weight: bold\">4</span> <span style=\"color: #008080; text-decoration-color: #008080; font-weight: bold\">1</span> <span style=\"color: #008080; text-decoration-color: #008080; font-weight: bold\">3</span> <span style=\"color: #008080; text-decoration-color: #008080; font-weight: bold\">2</span> <span style=\"color: #008080; text-decoration-color: #008080; font-weight: bold\">2</span> <span style=\"color: #008080; text-decoration-color: #008080; font-weight: bold\">4</span> <span style=\"color: #008080; text-decoration-color: #008080; font-weight: bold\">2</span> <span style=\"color: #008080; text-decoration-color: #008080; font-weight: bold\">1</span> <span style=\"color: #008080; text-decoration-color: #008080; font-weight: bold\">2</span> <span style=\"color: #008080; text-decoration-color: #008080; font-weight: bold\">2</span> <span style=\"color: #008080; text-decoration-color: #008080; font-weight: bold\">1</span> <span style=\"color: #008080; text-decoration-color: #008080; font-weight: bold\">3</span> <span style=\"color: #008080; text-decoration-color: #008080; font-weight: bold\">1</span> <span style=\"color: #008080; text-decoration-color: #008080; font-weight: bold\">0</span> <span style=\"color: #008080; text-decoration-color: #008080; font-weight: bold\">1</span> <span style=\"color: #008080; text-decoration-color: #008080; font-weight: bold\">2</span> <span style=\"color: #008080; text-decoration-color: #008080; font-weight: bold\">0</span> <span style=\"color: #008080; text-decoration-color: #008080; font-weight: bold\">1</span>\n",
              " <span style=\"color: #008080; text-decoration-color: #008080; font-weight: bold\">2</span> <span style=\"color: #008080; text-decoration-color: #008080; font-weight: bold\">4</span> <span style=\"color: #008080; text-decoration-color: #008080; font-weight: bold\">2</span> <span style=\"color: #008080; text-decoration-color: #008080; font-weight: bold\">3</span> <span style=\"color: #008080; text-decoration-color: #008080; font-weight: bold\">0</span> <span style=\"color: #008080; text-decoration-color: #008080; font-weight: bold\">1</span> <span style=\"color: #008080; text-decoration-color: #008080; font-weight: bold\">2</span> <span style=\"color: #008080; text-decoration-color: #008080; font-weight: bold\">0</span> <span style=\"color: #008080; text-decoration-color: #008080; font-weight: bold\">2</span> <span style=\"color: #008080; text-decoration-color: #008080; font-weight: bold\">4</span> <span style=\"color: #008080; text-decoration-color: #008080; font-weight: bold\">1</span> <span style=\"color: #008080; text-decoration-color: #008080; font-weight: bold\">0</span> <span style=\"color: #008080; text-decoration-color: #008080; font-weight: bold\">2</span> <span style=\"color: #008080; text-decoration-color: #008080; font-weight: bold\">0</span> <span style=\"color: #008080; text-decoration-color: #008080; font-weight: bold\">2</span> <span style=\"color: #008080; text-decoration-color: #008080; font-weight: bold\">1</span> <span style=\"color: #008080; text-decoration-color: #008080; font-weight: bold\">2</span> <span style=\"color: #008080; text-decoration-color: #008080; font-weight: bold\">3</span> <span style=\"color: #008080; text-decoration-color: #008080; font-weight: bold\">3</span> <span style=\"color: #008080; text-decoration-color: #008080; font-weight: bold\">4</span> <span style=\"color: #008080; text-decoration-color: #008080; font-weight: bold\">3</span> <span style=\"color: #008080; text-decoration-color: #008080; font-weight: bold\">0</span> <span style=\"color: #008080; text-decoration-color: #008080; font-weight: bold\">3</span> <span style=\"color: #008080; text-decoration-color: #008080; font-weight: bold\">0</span> <span style=\"color: #008080; text-decoration-color: #008080; font-weight: bold\">2</span> <span style=\"color: #008080; text-decoration-color: #008080; font-weight: bold\">3</span> <span style=\"color: #008080; text-decoration-color: #008080; font-weight: bold\">1</span> <span style=\"color: #008080; text-decoration-color: #008080; font-weight: bold\">2</span> <span style=\"color: #008080; text-decoration-color: #008080; font-weight: bold\">2</span> <span style=\"color: #008080; text-decoration-color: #008080; font-weight: bold\">0</span> <span style=\"color: #008080; text-decoration-color: #008080; font-weight: bold\">4</span> <span style=\"color: #008080; text-decoration-color: #008080; font-weight: bold\">2</span> <span style=\"color: #008080; text-decoration-color: #008080; font-weight: bold\">2</span> <span style=\"color: #008080; text-decoration-color: #008080; font-weight: bold\">0</span> <span style=\"color: #008080; text-decoration-color: #008080; font-weight: bold\">3</span><span style=\"font-weight: bold\">]</span>\n",
              "</pre>\n"
            ],
            "text/plain": [
              "\u001b[1m[\u001b[0m\u001b[1;36m3\u001b[0m \u001b[1;36m1\u001b[0m \u001b[1;36m2\u001b[0m \u001b[1;36m1\u001b[0m \u001b[1;36m2\u001b[0m \u001b[1;36m3\u001b[0m \u001b[1;36m1\u001b[0m \u001b[1;36m3\u001b[0m \u001b[1;36m2\u001b[0m \u001b[1;36m3\u001b[0m \u001b[1;36m2\u001b[0m \u001b[1;36m1\u001b[0m \u001b[1;36m2\u001b[0m \u001b[1;36m2\u001b[0m \u001b[1;36m2\u001b[0m \u001b[1;36m2\u001b[0m \u001b[1;36m3\u001b[0m \u001b[1;36m2\u001b[0m \u001b[1;36m2\u001b[0m \u001b[1;36m2\u001b[0m \u001b[1;36m2\u001b[0m \u001b[1;36m1\u001b[0m \u001b[1;36m2\u001b[0m \u001b[1;36m3\u001b[0m \u001b[1;36m1\u001b[0m \u001b[1;36m1\u001b[0m \u001b[1;36m1\u001b[0m \u001b[1;36m3\u001b[0m \u001b[1;36m3\u001b[0m \u001b[1;36m2\u001b[0m \u001b[1;36m1\u001b[0m \u001b[1;36m3\u001b[0m \u001b[1;36m4\u001b[0m \u001b[1;36m2\u001b[0m \u001b[1;36m1\u001b[0m \u001b[1;36m3\u001b[0m \u001b[1;36m1\u001b[0m\n",
              " \u001b[1;36m1\u001b[0m \u001b[1;36m1\u001b[0m \u001b[1;36m2\u001b[0m \u001b[1;36m0\u001b[0m \u001b[1;36m2\u001b[0m \u001b[1;36m3\u001b[0m \u001b[1;36m1\u001b[0m \u001b[1;36m3\u001b[0m \u001b[1;36m3\u001b[0m \u001b[1;36m3\u001b[0m \u001b[1;36m3\u001b[0m \u001b[1;36m1\u001b[0m \u001b[1;36m4\u001b[0m \u001b[1;36m2\u001b[0m \u001b[1;36m0\u001b[0m \u001b[1;36m1\u001b[0m \u001b[1;36m3\u001b[0m \u001b[1;36m2\u001b[0m \u001b[1;36m2\u001b[0m \u001b[1;36m2\u001b[0m \u001b[1;36m1\u001b[0m \u001b[1;36m1\u001b[0m \u001b[1;36m3\u001b[0m \u001b[1;36m1\u001b[0m \u001b[1;36m3\u001b[0m \u001b[1;36m2\u001b[0m \u001b[1;36m1\u001b[0m \u001b[1;36m1\u001b[0m \u001b[1;36m2\u001b[0m \u001b[1;36m2\u001b[0m \u001b[1;36m1\u001b[0m \u001b[1;36m0\u001b[0m \u001b[1;36m1\u001b[0m \u001b[1;36m4\u001b[0m \u001b[1;36m1\u001b[0m \u001b[1;36m4\u001b[0m \u001b[1;36m3\u001b[0m\n",
              " \u001b[1;36m0\u001b[0m \u001b[1;36m0\u001b[0m \u001b[1;36m3\u001b[0m \u001b[1;36m4\u001b[0m \u001b[1;36m3\u001b[0m \u001b[1;36m1\u001b[0m \u001b[1;36m1\u001b[0m \u001b[1;36m3\u001b[0m \u001b[1;36m1\u001b[0m \u001b[1;36m4\u001b[0m \u001b[1;36m1\u001b[0m \u001b[1;36m3\u001b[0m \u001b[1;36m1\u001b[0m \u001b[1;36m1\u001b[0m \u001b[1;36m4\u001b[0m \u001b[1;36m3\u001b[0m \u001b[1;36m3\u001b[0m \u001b[1;36m3\u001b[0m \u001b[1;36m1\u001b[0m \u001b[1;36m3\u001b[0m \u001b[1;36m2\u001b[0m \u001b[1;36m1\u001b[0m \u001b[1;36m3\u001b[0m \u001b[1;36m1\u001b[0m \u001b[1;36m1\u001b[0m \u001b[1;36m2\u001b[0m \u001b[1;36m1\u001b[0m \u001b[1;36m3\u001b[0m \u001b[1;36m3\u001b[0m \u001b[1;36m1\u001b[0m \u001b[1;36m1\u001b[0m \u001b[1;36m0\u001b[0m \u001b[1;36m1\u001b[0m \u001b[1;36m3\u001b[0m \u001b[1;36m3\u001b[0m \u001b[1;36m3\u001b[0m \u001b[1;36m1\u001b[0m\n",
              " \u001b[1;36m3\u001b[0m \u001b[1;36m3\u001b[0m \u001b[1;36m4\u001b[0m \u001b[1;36m4\u001b[0m \u001b[1;36m3\u001b[0m \u001b[1;36m0\u001b[0m \u001b[1;36m1\u001b[0m \u001b[1;36m2\u001b[0m \u001b[1;36m1\u001b[0m \u001b[1;36m1\u001b[0m \u001b[1;36m3\u001b[0m \u001b[1;36m1\u001b[0m \u001b[1;36m3\u001b[0m \u001b[1;36m1\u001b[0m \u001b[1;36m2\u001b[0m \u001b[1;36m3\u001b[0m \u001b[1;36m4\u001b[0m \u001b[1;36m0\u001b[0m \u001b[1;36m4\u001b[0m \u001b[1;36m4\u001b[0m \u001b[1;36m1\u001b[0m \u001b[1;36m3\u001b[0m \u001b[1;36m2\u001b[0m \u001b[1;36m2\u001b[0m \u001b[1;36m4\u001b[0m \u001b[1;36m2\u001b[0m \u001b[1;36m1\u001b[0m \u001b[1;36m2\u001b[0m \u001b[1;36m2\u001b[0m \u001b[1;36m1\u001b[0m \u001b[1;36m3\u001b[0m \u001b[1;36m1\u001b[0m \u001b[1;36m0\u001b[0m \u001b[1;36m1\u001b[0m \u001b[1;36m2\u001b[0m \u001b[1;36m0\u001b[0m \u001b[1;36m1\u001b[0m\n",
              " \u001b[1;36m2\u001b[0m \u001b[1;36m4\u001b[0m \u001b[1;36m2\u001b[0m \u001b[1;36m3\u001b[0m \u001b[1;36m0\u001b[0m \u001b[1;36m1\u001b[0m \u001b[1;36m2\u001b[0m \u001b[1;36m0\u001b[0m \u001b[1;36m2\u001b[0m \u001b[1;36m4\u001b[0m \u001b[1;36m1\u001b[0m \u001b[1;36m0\u001b[0m \u001b[1;36m2\u001b[0m \u001b[1;36m0\u001b[0m \u001b[1;36m2\u001b[0m \u001b[1;36m1\u001b[0m \u001b[1;36m2\u001b[0m \u001b[1;36m3\u001b[0m \u001b[1;36m3\u001b[0m \u001b[1;36m4\u001b[0m \u001b[1;36m3\u001b[0m \u001b[1;36m0\u001b[0m \u001b[1;36m3\u001b[0m \u001b[1;36m0\u001b[0m \u001b[1;36m2\u001b[0m \u001b[1;36m3\u001b[0m \u001b[1;36m1\u001b[0m \u001b[1;36m2\u001b[0m \u001b[1;36m2\u001b[0m \u001b[1;36m0\u001b[0m \u001b[1;36m4\u001b[0m \u001b[1;36m2\u001b[0m \u001b[1;36m2\u001b[0m \u001b[1;36m0\u001b[0m \u001b[1;36m3\u001b[0m\u001b[1m]\u001b[0m\n"
            ]
          },
          "metadata": {},
          "output_type": "display_data"
        },
        {
          "data": {
            "application/vnd.plotly.v1+json": {
              "config": {
                "plotlyServerURL": "https://plot.ly"
              },
              "data": [
                {
                  "hovertemplate": "cluster=%{marker.color}<br>principal component 1=%{x}<br>principal component 2=%{y}<extra></extra>",
                  "legendgroup": "1",
                  "marker": {
                    "color": [
                      1,
                      1,
                      1,
                      1,
                      1,
                      1,
                      1,
                      1,
                      1,
                      1,
                      1,
                      1,
                      1,
                      1,
                      1,
                      1,
                      1,
                      1
                    ],
                    "coloraxis": "coloraxis",
                    "size": [
                      1,
                      1,
                      1,
                      1,
                      1,
                      1,
                      1,
                      1,
                      1,
                      1,
                      1,
                      1,
                      1,
                      1,
                      1,
                      1,
                      1,
                      1
                    ],
                    "sizemode": "area",
                    "sizeref": 0.0125,
                    "symbol": "circle"
                  },
                  "mode": "markers",
                  "name": "Cluster 1",
                  "orientation": "v",
                  "showlegend": true,
                  "type": "scatter",
                  "x": [
                    -2.62943394724134,
                    -1.9145115431105761,
                    -0.09783437948548102,
                    -2.1809549743788046,
                    -3.020115060054507,
                    -2.3771094682742118,
                    -2.0122408901102893,
                    0.4129548424339453,
                    0.07438985426140952,
                    0.4366968816312686,
                    -3.61905785208718,
                    0.09131249015535056,
                    -2.0523239294781046,
                    -0.6431358132470655,
                    -0.7292986636579019,
                    -3.858452654344325,
                    -1.7086012141239988,
                    -1.5188128891185388
                  ],
                  "xaxis": "x",
                  "y": [
                    -5.318344171177109,
                    -4.429640625481539,
                    -7.162025814584383,
                    -5.811172424296934,
                    -4.181265126936998,
                    -3.670926179458559,
                    -6.410632844679682,
                    -7.613705640676826,
                    -5.640763163330021,
                    -6.622015668502773,
                    -3.0385623493595193,
                    -3.578217646745264,
                    -5.636220667105605,
                    -7.28383072590816,
                    -6.473718822941966,
                    -5.1189835698501485,
                    -7.126561358094062,
                    -5.376294503222811
                  ],
                  "yaxis": "y"
                },
                {
                  "hovertemplate": "cluster=%{marker.color}<br>principal component 1=%{x}<br>principal component 2=%{y}<extra></extra>",
                  "legendgroup": "2",
                  "marker": {
                    "color": [
                      2,
                      2,
                      2,
                      2,
                      2,
                      2,
                      2,
                      2,
                      2,
                      2,
                      2,
                      2,
                      2,
                      2,
                      2,
                      2,
                      2,
                      2,
                      2,
                      2,
                      2,
                      2,
                      2,
                      2,
                      2,
                      2,
                      2,
                      2,
                      2,
                      2,
                      2,
                      2,
                      2,
                      2,
                      2,
                      2,
                      2,
                      2,
                      2,
                      2,
                      2,
                      2,
                      2,
                      2,
                      2,
                      2,
                      2,
                      2,
                      2,
                      2,
                      2,
                      2,
                      2,
                      2
                    ],
                    "coloraxis": "coloraxis",
                    "size": [
                      2,
                      2,
                      2,
                      2,
                      2,
                      2,
                      2,
                      2,
                      2,
                      2,
                      2,
                      2,
                      2,
                      2,
                      2,
                      2,
                      2,
                      2,
                      2,
                      2,
                      2,
                      2,
                      2,
                      2,
                      2,
                      2,
                      2,
                      2,
                      2,
                      2,
                      2,
                      2,
                      2,
                      2,
                      2,
                      2,
                      2,
                      2,
                      2,
                      2,
                      2,
                      2,
                      2,
                      2,
                      2,
                      2,
                      2,
                      2,
                      2,
                      2,
                      2,
                      2,
                      2,
                      2
                    ],
                    "sizemode": "area",
                    "sizeref": 0.0125,
                    "symbol": "diamond"
                  },
                  "mode": "markers",
                  "name": "Cluster 2",
                  "orientation": "v",
                  "showlegend": true,
                  "type": "scatter",
                  "x": [
                    -4.528263509355871,
                    -6.607969490072341,
                    -5.210672765987325,
                    -2.250059145782138,
                    -4.83221749668707,
                    -2.146088227010943,
                    -6.383909461316077,
                    -0.369863847423091,
                    -1.1490788468330384,
                    -5.624654958923791,
                    -4.099535347356499,
                    -5.928195457231365,
                    -3.71309877326064,
                    -3.627542721675168,
                    -6.437427963173612,
                    -4.4985439407201,
                    -1.683271021444316,
                    -2.411675518705194,
                    -5.241694533250034,
                    -5.4640548152806385,
                    -3.4420879065844154,
                    -2.538377839514864,
                    -4.025983406141444,
                    -2.915526068643301,
                    -4.664881702062278,
                    -6.079113497282829,
                    -4.693257263210803,
                    -4.648702673741612,
                    -4.394485016201411,
                    -1.941928714599852,
                    -5.723462697590041,
                    0.9593055818068323,
                    -2.6353116277672557,
                    -4.5312206036504445,
                    -5.240274330911886,
                    -6.594644943896961,
                    -4.637651304968263,
                    -3.3066789115945188,
                    -5.827560468983204,
                    -0.7899078752417361,
                    -6.320529635953859,
                    -2.864017190389815,
                    -4.702003596675098,
                    -3.740191292411308,
                    -4.674697287217857,
                    -1.9424289661447245,
                    -4.467797053700106,
                    -1.8895269913647044,
                    -0.7786821333541446,
                    -4.959570993968236,
                    -2.997136077955616,
                    -6.2147360312103554,
                    -4.821123717196615,
                    -5.9093086854650325
                  ],
                  "xaxis": "x",
                  "y": [
                    2.40805979717858,
                    1.1496464596569866,
                    -0.527766296635027,
                    -1.1726775196890353,
                    -0.5914462998120671,
                    -2.244074892096024,
                    1.8710555999439722,
                    2.3447880120182854,
                    0.022112464726462562,
                    0.5165401828881944,
                    4.7410640262811015,
                    1.0170721889772623,
                    3.1263300248256107,
                    0.25777977553529485,
                    1.6399916046579373,
                    2.899015760794284,
                    1.366363718548896,
                    1.9108858547539775,
                    0.2670004634281554,
                    0.40447903333735497,
                    2.200688342080907,
                    1.495949178015185,
                    -0.233358555939435,
                    5.248921916912712,
                    2.343471868570172,
                    1.2851928081838504,
                    1.3534983464893433,
                    2.8115456598199358,
                    -0.927623278045316,
                    0.2216596447699904,
                    0.7212179171296178,
                    2.9569824556575557,
                    1.1590673796965891,
                    2.030966524062323,
                    2.557646294062233,
                    1.778089999542243,
                    -0.3072376873369495,
                    2.598014883158045,
                    1.312491686152736,
                    3.4337480096785424,
                    1.2939774742271142,
                    -0.1604746209618915,
                    0.7446843962361923,
                    2.550436529031477,
                    3.2612221231424265,
                    1.430723879395374,
                    0.5862640765223048,
                    0.7407202571274735,
                    3.1238616794965037,
                    1.2433276044883974,
                    -0.9978943929511861,
                    1.703957544723603,
                    3.745313795827839,
                    1.0808428406404076
                  ],
                  "yaxis": "y"
                },
                {
                  "hovertemplate": "cluster=%{marker.color}<br>principal component 1=%{x}<br>principal component 2=%{y}<extra></extra>",
                  "legendgroup": "3",
                  "marker": {
                    "color": [
                      3,
                      3,
                      3,
                      3,
                      3,
                      3,
                      3,
                      3,
                      3,
                      3,
                      3,
                      3,
                      3,
                      3,
                      3,
                      3,
                      3,
                      3,
                      3,
                      3,
                      3,
                      3,
                      3,
                      3,
                      3,
                      3,
                      3,
                      3,
                      3,
                      3,
                      3,
                      3,
                      3,
                      3,
                      3,
                      3,
                      3,
                      3,
                      3,
                      3,
                      3,
                      3,
                      3,
                      3,
                      3,
                      3
                    ],
                    "coloraxis": "coloraxis",
                    "size": [
                      3,
                      3,
                      3,
                      3,
                      3,
                      3,
                      3,
                      3,
                      3,
                      3,
                      3,
                      3,
                      3,
                      3,
                      3,
                      3,
                      3,
                      3,
                      3,
                      3,
                      3,
                      3,
                      3,
                      3,
                      3,
                      3,
                      3,
                      3,
                      3,
                      3,
                      3,
                      3,
                      3,
                      3,
                      3,
                      3,
                      3,
                      3,
                      3,
                      3,
                      3,
                      3,
                      3,
                      3,
                      3,
                      3
                    ],
                    "sizemode": "area",
                    "sizeref": 0.0125,
                    "symbol": "square"
                  },
                  "mode": "markers",
                  "name": "Cluster 3",
                  "orientation": "v",
                  "showlegend": true,
                  "type": "scatter",
                  "x": [
                    3.6438828836760044,
                    3.6524505924267645,
                    6.375641073318005,
                    2.302580326822227,
                    8.111346229048008,
                    3.4899248239301506,
                    4.133595886269193,
                    5.488905894923699,
                    5.303003471609426,
                    5.6173300310144185,
                    8.066220539541087,
                    9.214112204471503,
                    3.205891389245931,
                    6.714779139426496,
                    1.974445778388283,
                    6.240602712011002,
                    6.578230821483683,
                    8.441665498683827,
                    7.667046096930938,
                    7.658942852663237,
                    6.470693424716895,
                    8.082164574083201,
                    5.13255880331096,
                    5.153382561672342,
                    6.623303615841347,
                    6.1244211721890975,
                    7.8097215362641,
                    3.724616299207804,
                    5.777702148306235,
                    8.47367904175534,
                    4.613291532743513,
                    4.845445270459992,
                    8.69538334294892,
                    8.811843911788818,
                    5.808915219775914,
                    9.059533469761062,
                    4.479813375781192,
                    2.668545980023131,
                    5.778436881240016,
                    3.7006717258263624,
                    3.879820426562158,
                    7.918131471372993,
                    8.374410235240507,
                    8.049046985857364,
                    6.27587866639921,
                    3.60242878203809
                  ],
                  "xaxis": "x",
                  "y": [
                    7.440161079934278,
                    7.3293160964720485,
                    1.8049284029894996,
                    8.20939428390387,
                    -1.216303554681815,
                    -0.6874095136225115,
                    7.582869382431928,
                    2.465557366140117,
                    4.462946747320969,
                    0.5000508275496633,
                    -0.9412734124895257,
                    -1.5746101460736732,
                    2.3423200435253038,
                    0.42980894200893044,
                    2.9479347546188484,
                    1.5128929084187066,
                    0.11395309391563352,
                    -2.887613149707447,
                    -0.9098026687310822,
                    -0.24827841288661526,
                    4.087427843107748,
                    -1.4886369696469957,
                    4.839906392780952,
                    4.91162563223943,
                    -2.574830317543623,
                    -0.20671724820385776,
                    -0.3868568869028958,
                    5.11432149023622,
                    0.46118055314922335,
                    -1.8614230931316138,
                    4.009442785775796,
                    0.7531001235542384,
                    -1.6683014682670607,
                    -0.7701748514401108,
                    6.65735430779764,
                    -1.837684235311377,
                    0.8198533250579864,
                    5.30391053635938,
                    1.9506113144010067,
                    7.189167961498388,
                    6.194767969928224,
                    -0.14496571791554355,
                    -1.5299508826945514,
                    -1.3606009478454943,
                    0.09716196844099768,
                    3.2969534626053747
                  ],
                  "yaxis": "y"
                },
                {
                  "hovertemplate": "cluster=%{marker.color}<br>principal component 1=%{x}<br>principal component 2=%{y}<extra></extra>",
                  "legendgroup": "4",
                  "marker": {
                    "color": [
                      4,
                      4,
                      4,
                      4,
                      4,
                      4,
                      4,
                      4,
                      4,
                      4,
                      4,
                      4,
                      4,
                      4,
                      4,
                      4,
                      4,
                      4,
                      4,
                      4,
                      4,
                      4,
                      4,
                      4,
                      4,
                      4,
                      4,
                      4,
                      4,
                      4,
                      4,
                      4,
                      4,
                      4,
                      4,
                      4,
                      4,
                      4,
                      4,
                      4,
                      4,
                      4,
                      4,
                      4,
                      4,
                      4,
                      4,
                      4
                    ],
                    "coloraxis": "coloraxis",
                    "size": [
                      4,
                      4,
                      4,
                      4,
                      4,
                      4,
                      4,
                      4,
                      4,
                      4,
                      4,
                      4,
                      4,
                      4,
                      4,
                      4,
                      4,
                      4,
                      4,
                      4,
                      4,
                      4,
                      4,
                      4,
                      4,
                      4,
                      4,
                      4,
                      4,
                      4,
                      4,
                      4,
                      4,
                      4,
                      4,
                      4,
                      4,
                      4,
                      4,
                      4,
                      4,
                      4,
                      4,
                      4,
                      4,
                      4,
                      4,
                      4
                    ],
                    "sizemode": "area",
                    "sizeref": 0.0125,
                    "symbol": "x"
                  },
                  "mode": "markers",
                  "name": "Cluster 4",
                  "orientation": "v",
                  "showlegend": true,
                  "type": "scatter",
                  "x": [
                    0.374814266685975,
                    -2.9077793683690127,
                    -1.3134528447985023,
                    -1.8065655049272904,
                    0.5680024133498169,
                    0.6972942920828623,
                    -3.3561360226160613,
                    -3.0752860566766573,
                    -2.78093910809144,
                    -2.250645636348712,
                    -1.4327409591007454,
                    -2.7040686818625312,
                    1.4715104574451543,
                    -1.3942756745123368,
                    -2.367851150193467,
                    -2.312996703047328,
                    0.25907953022615476,
                    -1.3447244223267538,
                    -0.6549347739584294,
                    -0.6384347512233026,
                    -2.4063814180166907,
                    -1.9113332640698235,
                    -0.80582205865509,
                    -1.7441574703389398,
                    2.3373410486357558,
                    2.201552200094695,
                    -0.41853387307115714,
                    -1.219250229829547,
                    -1.5922261463429324,
                    0.9923858100908965,
                    -3.0410367132559126,
                    -3.083085667110798,
                    1.6410236430059233,
                    -2.798824201994865,
                    0.5879779263374347,
                    1.632967540927584,
                    -2.9407435261355612,
                    0.6700911501996616,
                    2.2537121505494495,
                    1.5487496348298213,
                    -2.9823025377722088,
                    -0.7303949551553521,
                    -0.9879159083728634,
                    -2.48618404057914,
                    1.0585357903841832,
                    1.482037758325933,
                    -0.02664235992486417,
                    -2.1922016698676514
                  ],
                  "xaxis": "x",
                  "y": [
                    1.0194898024054173,
                    1.2463649157211234,
                    4.684456604135591,
                    -2.159391485696168,
                    -2.7900882110527485,
                    0.3444765110766616,
                    2.1652686907254655,
                    1.4489499456395527,
                    -1.293300072534747,
                    -0.25053868896667714,
                    -0.6547205573502188,
                    0.040682214021320835,
                    -0.8772851125759813,
                    0.7268308158019271,
                    1.26482600694239,
                    1.367378770277754,
                    -0.5447371235204851,
                    -1.149226411687033,
                    -2.170530323245,
                    -3.1561330878444016,
                    -0.15398005184642918,
                    -0.1803461955374536,
                    -2.436969292416292,
                    -0.17662517259217,
                    -1.3627135606876513,
                    -1.3927929203940421,
                    5.648981075172065,
                    -2.5587727611069124,
                    -1.0899465598241709,
                    5.77874392413026,
                    2.3629320998100716,
                    2.7547216369959746,
                    -0.27484266279341313,
                    -0.021573906666767596,
                    6.932965125051074,
                    0.5639147129951064,
                    1.5165026057994675,
                    3.791061944143022,
                    -0.4921543518929287,
                    -0.3942034288902288,
                    0.9501808892317468,
                    0.5394189147811626,
                    -2.5414295656476114,
                    1.2011715463952262,
                    6.332824501653661,
                    1.2183808410254886,
                    7.600018551239146,
                    1.0281565402626394
                  ],
                  "yaxis": "y"
                },
                {
                  "hovertemplate": "cluster=%{marker.color}<br>principal component 1=%{x}<br>principal component 2=%{y}<extra></extra>",
                  "legendgroup": "5",
                  "marker": {
                    "color": [
                      5,
                      5,
                      5,
                      5,
                      5,
                      5,
                      5,
                      5,
                      5,
                      5,
                      5,
                      5,
                      5,
                      5,
                      5,
                      5,
                      5
                    ],
                    "coloraxis": "coloraxis",
                    "size": [
                      5,
                      5,
                      5,
                      5,
                      5,
                      5,
                      5,
                      5,
                      5,
                      5,
                      5,
                      5,
                      5,
                      5,
                      5,
                      5,
                      5
                    ],
                    "sizemode": "area",
                    "sizeref": 0.0125,
                    "symbol": "cross"
                  },
                  "mode": "markers",
                  "name": "Cluster 5",
                  "orientation": "v",
                  "showlegend": true,
                  "type": "scatter",
                  "x": [
                    -2.5567771075441166,
                    -2.105515696118556,
                    1.462033016447972,
                    0.9028442312689857,
                    0.5709906844154811,
                    1.5846544388110202,
                    -0.3801350037637757,
                    -0.7480559923357526,
                    0.1768940139461078,
                    -1.1020552706963909,
                    0.7504879683983108,
                    2.8577776177550698,
                    2.495656418063257,
                    3.850702843335504,
                    -0.03525140594769985,
                    0.676648355106955,
                    3.223302248689161
                  ],
                  "xaxis": "x",
                  "y": [
                    -5.102323064256514,
                    -2.925687859486031,
                    -5.313657198521488,
                    -6.8041239336474835,
                    -6.672460488465606,
                    -6.978582410290506,
                    -5.186621803952153,
                    -6.521359177409043,
                    -4.319104368770287,
                    -5.780314907552795,
                    -3.87254312980451,
                    -3.107588618712094,
                    -7.376967431641742,
                    -6.181098201302808,
                    -3.1003742278409865,
                    -5.930137277728334,
                    -5.068174936922175
                  ],
                  "yaxis": "y"
                }
              ],
              "layout": {
                "coloraxis": {
                  "colorbar": {
                    "title": {
                      "text": "cluster"
                    }
                  },
                  "colorscale": [
                    [
                      0,
                      "#0d0887"
                    ],
                    [
                      0.1111111111111111,
                      "#46039f"
                    ],
                    [
                      0.2222222222222222,
                      "#7201a8"
                    ],
                    [
                      0.3333333333333333,
                      "#9c179e"
                    ],
                    [
                      0.4444444444444444,
                      "#bd3786"
                    ],
                    [
                      0.5555555555555556,
                      "#d8576b"
                    ],
                    [
                      0.6666666666666666,
                      "#ed7953"
                    ],
                    [
                      0.7777777777777778,
                      "#fb9f3a"
                    ],
                    [
                      0.8888888888888888,
                      "#fdca26"
                    ],
                    [
                      1,
                      "#f0f921"
                    ]
                  ],
                  "showscale": false
                },
                "height": 800,
                "legend": {
                  "bordercolor": "Black",
                  "borderwidth": 2,
                  "font": {
                    "color": "black",
                    "family": "sans-serif",
                    "size": 20
                  },
                  "itemsizing": "constant",
                  "title": {
                    "text": ""
                  },
                  "tracegroupgap": 0,
                  "traceorder": "normal"
                },
                "margin": {
                  "b": 0,
                  "l": 0,
                  "r": 0,
                  "t": 0
                },
                "plot_bgcolor": "white",
                "template": {
                  "data": {
                    "bar": [
                      {
                        "error_x": {
                          "color": "#2a3f5f"
                        },
                        "error_y": {
                          "color": "#2a3f5f"
                        },
                        "marker": {
                          "line": {
                            "color": "#E5ECF6",
                            "width": 0.5
                          },
                          "pattern": {
                            "fillmode": "overlay",
                            "size": 10,
                            "solidity": 0.2
                          }
                        },
                        "type": "bar"
                      }
                    ],
                    "barpolar": [
                      {
                        "marker": {
                          "line": {
                            "color": "#E5ECF6",
                            "width": 0.5
                          },
                          "pattern": {
                            "fillmode": "overlay",
                            "size": 10,
                            "solidity": 0.2
                          }
                        },
                        "type": "barpolar"
                      }
                    ],
                    "carpet": [
                      {
                        "aaxis": {
                          "endlinecolor": "#2a3f5f",
                          "gridcolor": "white",
                          "linecolor": "white",
                          "minorgridcolor": "white",
                          "startlinecolor": "#2a3f5f"
                        },
                        "baxis": {
                          "endlinecolor": "#2a3f5f",
                          "gridcolor": "white",
                          "linecolor": "white",
                          "minorgridcolor": "white",
                          "startlinecolor": "#2a3f5f"
                        },
                        "type": "carpet"
                      }
                    ],
                    "choropleth": [
                      {
                        "colorbar": {
                          "outlinewidth": 0,
                          "ticks": ""
                        },
                        "type": "choropleth"
                      }
                    ],
                    "contour": [
                      {
                        "colorbar": {
                          "outlinewidth": 0,
                          "ticks": ""
                        },
                        "colorscale": [
                          [
                            0,
                            "#0d0887"
                          ],
                          [
                            0.1111111111111111,
                            "#46039f"
                          ],
                          [
                            0.2222222222222222,
                            "#7201a8"
                          ],
                          [
                            0.3333333333333333,
                            "#9c179e"
                          ],
                          [
                            0.4444444444444444,
                            "#bd3786"
                          ],
                          [
                            0.5555555555555556,
                            "#d8576b"
                          ],
                          [
                            0.6666666666666666,
                            "#ed7953"
                          ],
                          [
                            0.7777777777777778,
                            "#fb9f3a"
                          ],
                          [
                            0.8888888888888888,
                            "#fdca26"
                          ],
                          [
                            1,
                            "#f0f921"
                          ]
                        ],
                        "type": "contour"
                      }
                    ],
                    "contourcarpet": [
                      {
                        "colorbar": {
                          "outlinewidth": 0,
                          "ticks": ""
                        },
                        "type": "contourcarpet"
                      }
                    ],
                    "heatmap": [
                      {
                        "colorbar": {
                          "outlinewidth": 0,
                          "ticks": ""
                        },
                        "colorscale": [
                          [
                            0,
                            "#0d0887"
                          ],
                          [
                            0.1111111111111111,
                            "#46039f"
                          ],
                          [
                            0.2222222222222222,
                            "#7201a8"
                          ],
                          [
                            0.3333333333333333,
                            "#9c179e"
                          ],
                          [
                            0.4444444444444444,
                            "#bd3786"
                          ],
                          [
                            0.5555555555555556,
                            "#d8576b"
                          ],
                          [
                            0.6666666666666666,
                            "#ed7953"
                          ],
                          [
                            0.7777777777777778,
                            "#fb9f3a"
                          ],
                          [
                            0.8888888888888888,
                            "#fdca26"
                          ],
                          [
                            1,
                            "#f0f921"
                          ]
                        ],
                        "type": "heatmap"
                      }
                    ],
                    "heatmapgl": [
                      {
                        "colorbar": {
                          "outlinewidth": 0,
                          "ticks": ""
                        },
                        "colorscale": [
                          [
                            0,
                            "#0d0887"
                          ],
                          [
                            0.1111111111111111,
                            "#46039f"
                          ],
                          [
                            0.2222222222222222,
                            "#7201a8"
                          ],
                          [
                            0.3333333333333333,
                            "#9c179e"
                          ],
                          [
                            0.4444444444444444,
                            "#bd3786"
                          ],
                          [
                            0.5555555555555556,
                            "#d8576b"
                          ],
                          [
                            0.6666666666666666,
                            "#ed7953"
                          ],
                          [
                            0.7777777777777778,
                            "#fb9f3a"
                          ],
                          [
                            0.8888888888888888,
                            "#fdca26"
                          ],
                          [
                            1,
                            "#f0f921"
                          ]
                        ],
                        "type": "heatmapgl"
                      }
                    ],
                    "histogram": [
                      {
                        "marker": {
                          "pattern": {
                            "fillmode": "overlay",
                            "size": 10,
                            "solidity": 0.2
                          }
                        },
                        "type": "histogram"
                      }
                    ],
                    "histogram2d": [
                      {
                        "colorbar": {
                          "outlinewidth": 0,
                          "ticks": ""
                        },
                        "colorscale": [
                          [
                            0,
                            "#0d0887"
                          ],
                          [
                            0.1111111111111111,
                            "#46039f"
                          ],
                          [
                            0.2222222222222222,
                            "#7201a8"
                          ],
                          [
                            0.3333333333333333,
                            "#9c179e"
                          ],
                          [
                            0.4444444444444444,
                            "#bd3786"
                          ],
                          [
                            0.5555555555555556,
                            "#d8576b"
                          ],
                          [
                            0.6666666666666666,
                            "#ed7953"
                          ],
                          [
                            0.7777777777777778,
                            "#fb9f3a"
                          ],
                          [
                            0.8888888888888888,
                            "#fdca26"
                          ],
                          [
                            1,
                            "#f0f921"
                          ]
                        ],
                        "type": "histogram2d"
                      }
                    ],
                    "histogram2dcontour": [
                      {
                        "colorbar": {
                          "outlinewidth": 0,
                          "ticks": ""
                        },
                        "colorscale": [
                          [
                            0,
                            "#0d0887"
                          ],
                          [
                            0.1111111111111111,
                            "#46039f"
                          ],
                          [
                            0.2222222222222222,
                            "#7201a8"
                          ],
                          [
                            0.3333333333333333,
                            "#9c179e"
                          ],
                          [
                            0.4444444444444444,
                            "#bd3786"
                          ],
                          [
                            0.5555555555555556,
                            "#d8576b"
                          ],
                          [
                            0.6666666666666666,
                            "#ed7953"
                          ],
                          [
                            0.7777777777777778,
                            "#fb9f3a"
                          ],
                          [
                            0.8888888888888888,
                            "#fdca26"
                          ],
                          [
                            1,
                            "#f0f921"
                          ]
                        ],
                        "type": "histogram2dcontour"
                      }
                    ],
                    "mesh3d": [
                      {
                        "colorbar": {
                          "outlinewidth": 0,
                          "ticks": ""
                        },
                        "type": "mesh3d"
                      }
                    ],
                    "parcoords": [
                      {
                        "line": {
                          "colorbar": {
                            "outlinewidth": 0,
                            "ticks": ""
                          }
                        },
                        "type": "parcoords"
                      }
                    ],
                    "pie": [
                      {
                        "automargin": true,
                        "type": "pie"
                      }
                    ],
                    "scatter": [
                      {
                        "fillpattern": {
                          "fillmode": "overlay",
                          "size": 10,
                          "solidity": 0.2
                        },
                        "type": "scatter"
                      }
                    ],
                    "scatter3d": [
                      {
                        "line": {
                          "colorbar": {
                            "outlinewidth": 0,
                            "ticks": ""
                          }
                        },
                        "marker": {
                          "colorbar": {
                            "outlinewidth": 0,
                            "ticks": ""
                          }
                        },
                        "type": "scatter3d"
                      }
                    ],
                    "scattercarpet": [
                      {
                        "marker": {
                          "colorbar": {
                            "outlinewidth": 0,
                            "ticks": ""
                          }
                        },
                        "type": "scattercarpet"
                      }
                    ],
                    "scattergeo": [
                      {
                        "marker": {
                          "colorbar": {
                            "outlinewidth": 0,
                            "ticks": ""
                          }
                        },
                        "type": "scattergeo"
                      }
                    ],
                    "scattergl": [
                      {
                        "marker": {
                          "colorbar": {
                            "outlinewidth": 0,
                            "ticks": ""
                          }
                        },
                        "type": "scattergl"
                      }
                    ],
                    "scattermapbox": [
                      {
                        "marker": {
                          "colorbar": {
                            "outlinewidth": 0,
                            "ticks": ""
                          }
                        },
                        "type": "scattermapbox"
                      }
                    ],
                    "scatterpolar": [
                      {
                        "marker": {
                          "colorbar": {
                            "outlinewidth": 0,
                            "ticks": ""
                          }
                        },
                        "type": "scatterpolar"
                      }
                    ],
                    "scatterpolargl": [
                      {
                        "marker": {
                          "colorbar": {
                            "outlinewidth": 0,
                            "ticks": ""
                          }
                        },
                        "type": "scatterpolargl"
                      }
                    ],
                    "scatterternary": [
                      {
                        "marker": {
                          "colorbar": {
                            "outlinewidth": 0,
                            "ticks": ""
                          }
                        },
                        "type": "scatterternary"
                      }
                    ],
                    "surface": [
                      {
                        "colorbar": {
                          "outlinewidth": 0,
                          "ticks": ""
                        },
                        "colorscale": [
                          [
                            0,
                            "#0d0887"
                          ],
                          [
                            0.1111111111111111,
                            "#46039f"
                          ],
                          [
                            0.2222222222222222,
                            "#7201a8"
                          ],
                          [
                            0.3333333333333333,
                            "#9c179e"
                          ],
                          [
                            0.4444444444444444,
                            "#bd3786"
                          ],
                          [
                            0.5555555555555556,
                            "#d8576b"
                          ],
                          [
                            0.6666666666666666,
                            "#ed7953"
                          ],
                          [
                            0.7777777777777778,
                            "#fb9f3a"
                          ],
                          [
                            0.8888888888888888,
                            "#fdca26"
                          ],
                          [
                            1,
                            "#f0f921"
                          ]
                        ],
                        "type": "surface"
                      }
                    ],
                    "table": [
                      {
                        "cells": {
                          "fill": {
                            "color": "#EBF0F8"
                          },
                          "line": {
                            "color": "white"
                          }
                        },
                        "header": {
                          "fill": {
                            "color": "#C8D4E3"
                          },
                          "line": {
                            "color": "white"
                          }
                        },
                        "type": "table"
                      }
                    ]
                  },
                  "layout": {
                    "annotationdefaults": {
                      "arrowcolor": "#2a3f5f",
                      "arrowhead": 0,
                      "arrowwidth": 1
                    },
                    "autotypenumbers": "strict",
                    "coloraxis": {
                      "colorbar": {
                        "outlinewidth": 0,
                        "ticks": ""
                      }
                    },
                    "colorscale": {
                      "diverging": [
                        [
                          0,
                          "#8e0152"
                        ],
                        [
                          0.1,
                          "#c51b7d"
                        ],
                        [
                          0.2,
                          "#de77ae"
                        ],
                        [
                          0.3,
                          "#f1b6da"
                        ],
                        [
                          0.4,
                          "#fde0ef"
                        ],
                        [
                          0.5,
                          "#f7f7f7"
                        ],
                        [
                          0.6,
                          "#e6f5d0"
                        ],
                        [
                          0.7,
                          "#b8e186"
                        ],
                        [
                          0.8,
                          "#7fbc41"
                        ],
                        [
                          0.9,
                          "#4d9221"
                        ],
                        [
                          1,
                          "#276419"
                        ]
                      ],
                      "sequential": [
                        [
                          0,
                          "#0d0887"
                        ],
                        [
                          0.1111111111111111,
                          "#46039f"
                        ],
                        [
                          0.2222222222222222,
                          "#7201a8"
                        ],
                        [
                          0.3333333333333333,
                          "#9c179e"
                        ],
                        [
                          0.4444444444444444,
                          "#bd3786"
                        ],
                        [
                          0.5555555555555556,
                          "#d8576b"
                        ],
                        [
                          0.6666666666666666,
                          "#ed7953"
                        ],
                        [
                          0.7777777777777778,
                          "#fb9f3a"
                        ],
                        [
                          0.8888888888888888,
                          "#fdca26"
                        ],
                        [
                          1,
                          "#f0f921"
                        ]
                      ],
                      "sequentialminus": [
                        [
                          0,
                          "#0d0887"
                        ],
                        [
                          0.1111111111111111,
                          "#46039f"
                        ],
                        [
                          0.2222222222222222,
                          "#7201a8"
                        ],
                        [
                          0.3333333333333333,
                          "#9c179e"
                        ],
                        [
                          0.4444444444444444,
                          "#bd3786"
                        ],
                        [
                          0.5555555555555556,
                          "#d8576b"
                        ],
                        [
                          0.6666666666666666,
                          "#ed7953"
                        ],
                        [
                          0.7777777777777778,
                          "#fb9f3a"
                        ],
                        [
                          0.8888888888888888,
                          "#fdca26"
                        ],
                        [
                          1,
                          "#f0f921"
                        ]
                      ]
                    },
                    "colorway": [
                      "#636efa",
                      "#EF553B",
                      "#00cc96",
                      "#ab63fa",
                      "#FFA15A",
                      "#19d3f3",
                      "#FF6692",
                      "#B6E880",
                      "#FF97FF",
                      "#FECB52"
                    ],
                    "font": {
                      "color": "#2a3f5f"
                    },
                    "geo": {
                      "bgcolor": "white",
                      "lakecolor": "white",
                      "landcolor": "#E5ECF6",
                      "showlakes": true,
                      "showland": true,
                      "subunitcolor": "white"
                    },
                    "hoverlabel": {
                      "align": "left"
                    },
                    "hovermode": "closest",
                    "mapbox": {
                      "style": "light"
                    },
                    "paper_bgcolor": "white",
                    "plot_bgcolor": "#E5ECF6",
                    "polar": {
                      "angularaxis": {
                        "gridcolor": "white",
                        "linecolor": "white",
                        "ticks": ""
                      },
                      "bgcolor": "#E5ECF6",
                      "radialaxis": {
                        "gridcolor": "white",
                        "linecolor": "white",
                        "ticks": ""
                      }
                    },
                    "scene": {
                      "xaxis": {
                        "backgroundcolor": "#E5ECF6",
                        "gridcolor": "white",
                        "gridwidth": 2,
                        "linecolor": "white",
                        "showbackground": true,
                        "ticks": "",
                        "zerolinecolor": "white"
                      },
                      "yaxis": {
                        "backgroundcolor": "#E5ECF6",
                        "gridcolor": "white",
                        "gridwidth": 2,
                        "linecolor": "white",
                        "showbackground": true,
                        "ticks": "",
                        "zerolinecolor": "white"
                      },
                      "zaxis": {
                        "backgroundcolor": "#E5ECF6",
                        "gridcolor": "white",
                        "gridwidth": 2,
                        "linecolor": "white",
                        "showbackground": true,
                        "ticks": "",
                        "zerolinecolor": "white"
                      }
                    },
                    "shapedefaults": {
                      "line": {
                        "color": "#2a3f5f"
                      }
                    },
                    "ternary": {
                      "aaxis": {
                        "gridcolor": "white",
                        "linecolor": "white",
                        "ticks": ""
                      },
                      "baxis": {
                        "gridcolor": "white",
                        "linecolor": "white",
                        "ticks": ""
                      },
                      "bgcolor": "#E5ECF6",
                      "caxis": {
                        "gridcolor": "white",
                        "linecolor": "white",
                        "ticks": ""
                      }
                    },
                    "title": {
                      "x": 0.05
                    },
                    "xaxis": {
                      "automargin": true,
                      "gridcolor": "white",
                      "linecolor": "white",
                      "ticks": "",
                      "title": {
                        "standoff": 15
                      },
                      "zerolinecolor": "white",
                      "zerolinewidth": 2
                    },
                    "yaxis": {
                      "automargin": true,
                      "gridcolor": "white",
                      "linecolor": "white",
                      "ticks": "",
                      "title": {
                        "standoff": 15
                      },
                      "zerolinecolor": "white",
                      "zerolinewidth": 2
                    }
                  }
                },
                "width": 800,
                "xaxis": {
                  "anchor": "y",
                  "domain": [
                    0,
                    1
                  ],
                  "showgrid": false,
                  "showline": false,
                  "showticklabels": false,
                  "title": {
                    "text": ""
                  },
                  "zeroline": false
                },
                "yaxis": {
                  "anchor": "x",
                  "domain": [
                    0,
                    1
                  ],
                  "showgrid": false,
                  "showline": false,
                  "showticklabels": false,
                  "title": {
                    "text": ""
                  },
                  "zeroline": false
                }
              }
            },
            "text/html": [
              "<div>                            <div id=\"b0c62d26-dc58-4874-aeba-511326b35639\" class=\"plotly-graph-div\" style=\"height:800px; width:800px;\"></div>            <script type=\"text/javascript\">                require([\"plotly\"], function(Plotly) {                    window.PLOTLYENV=window.PLOTLYENV || {};                                    if (document.getElementById(\"b0c62d26-dc58-4874-aeba-511326b35639\")) {                    Plotly.newPlot(                        \"b0c62d26-dc58-4874-aeba-511326b35639\",                        [{\"hovertemplate\":\"cluster=%{marker.color}\\u003cbr\\u003eprincipal component 1=%{x}\\u003cbr\\u003eprincipal component 2=%{y}\\u003cextra\\u003e\\u003c\\u002fextra\\u003e\",\"legendgroup\":\"1\",\"marker\":{\"color\":[1,1,1,1,1,1,1,1,1,1,1,1,1,1,1,1,1,1],\"coloraxis\":\"coloraxis\",\"size\":[1,1,1,1,1,1,1,1,1,1,1,1,1,1,1,1,1,1],\"sizemode\":\"area\",\"sizeref\":0.0125,\"symbol\":\"circle\"},\"mode\":\"markers\",\"name\":\"Cluster 1\",\"orientation\":\"v\",\"showlegend\":true,\"x\":[-2.62943394724134,-1.9145115431105761,-0.09783437948548102,-2.1809549743788046,-3.020115060054507,-2.3771094682742118,-2.0122408901102893,0.4129548424339453,0.07438985426140952,0.4366968816312686,-3.61905785208718,0.09131249015535056,-2.0523239294781046,-0.6431358132470655,-0.7292986636579019,-3.858452654344325,-1.7086012141239988,-1.5188128891185388],\"xaxis\":\"x\",\"y\":[-5.318344171177109,-4.429640625481539,-7.162025814584383,-5.811172424296934,-4.181265126936998,-3.670926179458559,-6.410632844679682,-7.613705640676826,-5.640763163330021,-6.622015668502773,-3.0385623493595193,-3.578217646745264,-5.636220667105605,-7.28383072590816,-6.473718822941966,-5.1189835698501485,-7.126561358094062,-5.376294503222811],\"yaxis\":\"y\",\"type\":\"scatter\"},{\"hovertemplate\":\"cluster=%{marker.color}\\u003cbr\\u003eprincipal component 1=%{x}\\u003cbr\\u003eprincipal component 2=%{y}\\u003cextra\\u003e\\u003c\\u002fextra\\u003e\",\"legendgroup\":\"2\",\"marker\":{\"color\":[2,2,2,2,2,2,2,2,2,2,2,2,2,2,2,2,2,2,2,2,2,2,2,2,2,2,2,2,2,2,2,2,2,2,2,2,2,2,2,2,2,2,2,2,2,2,2,2,2,2,2,2,2,2],\"coloraxis\":\"coloraxis\",\"size\":[2,2,2,2,2,2,2,2,2,2,2,2,2,2,2,2,2,2,2,2,2,2,2,2,2,2,2,2,2,2,2,2,2,2,2,2,2,2,2,2,2,2,2,2,2,2,2,2,2,2,2,2,2,2],\"sizemode\":\"area\",\"sizeref\":0.0125,\"symbol\":\"diamond\"},\"mode\":\"markers\",\"name\":\"Cluster 2\",\"orientation\":\"v\",\"showlegend\":true,\"x\":[-4.528263509355871,-6.607969490072341,-5.210672765987325,-2.250059145782138,-4.83221749668707,-2.146088227010943,-6.383909461316077,-0.369863847423091,-1.1490788468330384,-5.624654958923791,-4.099535347356499,-5.928195457231365,-3.71309877326064,-3.627542721675168,-6.437427963173612,-4.4985439407201,-1.683271021444316,-2.411675518705194,-5.241694533250034,-5.4640548152806385,-3.4420879065844154,-2.538377839514864,-4.025983406141444,-2.915526068643301,-4.664881702062278,-6.079113497282829,-4.693257263210803,-4.648702673741612,-4.394485016201411,-1.941928714599852,-5.723462697590041,0.9593055818068323,-2.6353116277672557,-4.5312206036504445,-5.240274330911886,-6.594644943896961,-4.637651304968263,-3.3066789115945188,-5.827560468983204,-0.7899078752417361,-6.320529635953859,-2.864017190389815,-4.702003596675098,-3.740191292411308,-4.674697287217857,-1.9424289661447245,-4.467797053700106,-1.8895269913647044,-0.7786821333541446,-4.959570993968236,-2.997136077955616,-6.2147360312103554,-4.821123717196615,-5.9093086854650325],\"xaxis\":\"x\",\"y\":[2.40805979717858,1.1496464596569866,-0.527766296635027,-1.1726775196890353,-0.5914462998120671,-2.244074892096024,1.8710555999439722,2.3447880120182854,0.022112464726462562,0.5165401828881944,4.7410640262811015,1.0170721889772623,3.1263300248256107,0.25777977553529485,1.6399916046579373,2.899015760794284,1.366363718548896,1.9108858547539775,0.2670004634281554,0.40447903333735497,2.200688342080907,1.495949178015185,-0.233358555939435,5.248921916912712,2.343471868570172,1.2851928081838504,1.3534983464893433,2.8115456598199358,-0.927623278045316,0.2216596447699904,0.7212179171296178,2.9569824556575557,1.1590673796965891,2.030966524062323,2.557646294062233,1.778089999542243,-0.3072376873369495,2.598014883158045,1.312491686152736,3.4337480096785424,1.2939774742271142,-0.1604746209618915,0.7446843962361923,2.550436529031477,3.2612221231424265,1.430723879395374,0.5862640765223048,0.7407202571274735,3.1238616794965037,1.2433276044883974,-0.9978943929511861,1.703957544723603,3.745313795827839,1.0808428406404076],\"yaxis\":\"y\",\"type\":\"scatter\"},{\"hovertemplate\":\"cluster=%{marker.color}\\u003cbr\\u003eprincipal component 1=%{x}\\u003cbr\\u003eprincipal component 2=%{y}\\u003cextra\\u003e\\u003c\\u002fextra\\u003e\",\"legendgroup\":\"3\",\"marker\":{\"color\":[3,3,3,3,3,3,3,3,3,3,3,3,3,3,3,3,3,3,3,3,3,3,3,3,3,3,3,3,3,3,3,3,3,3,3,3,3,3,3,3,3,3,3,3,3,3],\"coloraxis\":\"coloraxis\",\"size\":[3,3,3,3,3,3,3,3,3,3,3,3,3,3,3,3,3,3,3,3,3,3,3,3,3,3,3,3,3,3,3,3,3,3,3,3,3,3,3,3,3,3,3,3,3,3],\"sizemode\":\"area\",\"sizeref\":0.0125,\"symbol\":\"square\"},\"mode\":\"markers\",\"name\":\"Cluster 3\",\"orientation\":\"v\",\"showlegend\":true,\"x\":[3.6438828836760044,3.6524505924267645,6.375641073318005,2.302580326822227,8.111346229048008,3.4899248239301506,4.133595886269193,5.488905894923699,5.303003471609426,5.6173300310144185,8.066220539541087,9.214112204471503,3.205891389245931,6.714779139426496,1.974445778388283,6.240602712011002,6.578230821483683,8.441665498683827,7.667046096930938,7.658942852663237,6.470693424716895,8.082164574083201,5.13255880331096,5.153382561672342,6.623303615841347,6.1244211721890975,7.8097215362641,3.724616299207804,5.777702148306235,8.47367904175534,4.613291532743513,4.845445270459992,8.69538334294892,8.811843911788818,5.808915219775914,9.059533469761062,4.479813375781192,2.668545980023131,5.778436881240016,3.7006717258263624,3.879820426562158,7.918131471372993,8.374410235240507,8.049046985857364,6.27587866639921,3.60242878203809],\"xaxis\":\"x\",\"y\":[7.440161079934278,7.3293160964720485,1.8049284029894996,8.20939428390387,-1.216303554681815,-0.6874095136225115,7.582869382431928,2.465557366140117,4.462946747320969,0.5000508275496633,-0.9412734124895257,-1.5746101460736732,2.3423200435253038,0.42980894200893044,2.9479347546188484,1.5128929084187066,0.11395309391563352,-2.887613149707447,-0.9098026687310822,-0.24827841288661526,4.087427843107748,-1.4886369696469957,4.839906392780952,4.91162563223943,-2.574830317543623,-0.20671724820385776,-0.3868568869028958,5.11432149023622,0.46118055314922335,-1.8614230931316138,4.009442785775796,0.7531001235542384,-1.6683014682670607,-0.7701748514401108,6.65735430779764,-1.837684235311377,0.8198533250579864,5.30391053635938,1.9506113144010067,7.189167961498388,6.194767969928224,-0.14496571791554355,-1.5299508826945514,-1.3606009478454943,0.09716196844099768,3.2969534626053747],\"yaxis\":\"y\",\"type\":\"scatter\"},{\"hovertemplate\":\"cluster=%{marker.color}\\u003cbr\\u003eprincipal component 1=%{x}\\u003cbr\\u003eprincipal component 2=%{y}\\u003cextra\\u003e\\u003c\\u002fextra\\u003e\",\"legendgroup\":\"4\",\"marker\":{\"color\":[4,4,4,4,4,4,4,4,4,4,4,4,4,4,4,4,4,4,4,4,4,4,4,4,4,4,4,4,4,4,4,4,4,4,4,4,4,4,4,4,4,4,4,4,4,4,4,4],\"coloraxis\":\"coloraxis\",\"size\":[4,4,4,4,4,4,4,4,4,4,4,4,4,4,4,4,4,4,4,4,4,4,4,4,4,4,4,4,4,4,4,4,4,4,4,4,4,4,4,4,4,4,4,4,4,4,4,4],\"sizemode\":\"area\",\"sizeref\":0.0125,\"symbol\":\"x\"},\"mode\":\"markers\",\"name\":\"Cluster 4\",\"orientation\":\"v\",\"showlegend\":true,\"x\":[0.374814266685975,-2.9077793683690127,-1.3134528447985023,-1.8065655049272904,0.5680024133498169,0.6972942920828623,-3.3561360226160613,-3.0752860566766573,-2.78093910809144,-2.250645636348712,-1.4327409591007454,-2.7040686818625312,1.4715104574451543,-1.3942756745123368,-2.367851150193467,-2.312996703047328,0.25907953022615476,-1.3447244223267538,-0.6549347739584294,-0.6384347512233026,-2.4063814180166907,-1.9113332640698235,-0.80582205865509,-1.7441574703389398,2.3373410486357558,2.201552200094695,-0.41853387307115714,-1.219250229829547,-1.5922261463429324,0.9923858100908965,-3.0410367132559126,-3.083085667110798,1.6410236430059233,-2.798824201994865,0.5879779263374347,1.632967540927584,-2.9407435261355612,0.6700911501996616,2.2537121505494495,1.5487496348298213,-2.9823025377722088,-0.7303949551553521,-0.9879159083728634,-2.48618404057914,1.0585357903841832,1.482037758325933,-0.02664235992486417,-2.1922016698676514],\"xaxis\":\"x\",\"y\":[1.0194898024054173,1.2463649157211234,4.684456604135591,-2.159391485696168,-2.7900882110527485,0.3444765110766616,2.1652686907254655,1.4489499456395527,-1.293300072534747,-0.25053868896667714,-0.6547205573502188,0.040682214021320835,-0.8772851125759813,0.7268308158019271,1.26482600694239,1.367378770277754,-0.5447371235204851,-1.149226411687033,-2.170530323245,-3.1561330878444016,-0.15398005184642918,-0.1803461955374536,-2.436969292416292,-0.17662517259217,-1.3627135606876513,-1.3927929203940421,5.648981075172065,-2.5587727611069124,-1.0899465598241709,5.77874392413026,2.3629320998100716,2.7547216369959746,-0.27484266279341313,-0.021573906666767596,6.932965125051074,0.5639147129951064,1.5165026057994675,3.791061944143022,-0.4921543518929287,-0.3942034288902288,0.9501808892317468,0.5394189147811626,-2.5414295656476114,1.2011715463952262,6.332824501653661,1.2183808410254886,7.600018551239146,1.0281565402626394],\"yaxis\":\"y\",\"type\":\"scatter\"},{\"hovertemplate\":\"cluster=%{marker.color}\\u003cbr\\u003eprincipal component 1=%{x}\\u003cbr\\u003eprincipal component 2=%{y}\\u003cextra\\u003e\\u003c\\u002fextra\\u003e\",\"legendgroup\":\"5\",\"marker\":{\"color\":[5,5,5,5,5,5,5,5,5,5,5,5,5,5,5,5,5],\"coloraxis\":\"coloraxis\",\"size\":[5,5,5,5,5,5,5,5,5,5,5,5,5,5,5,5,5],\"sizemode\":\"area\",\"sizeref\":0.0125,\"symbol\":\"cross\"},\"mode\":\"markers\",\"name\":\"Cluster 5\",\"orientation\":\"v\",\"showlegend\":true,\"x\":[-2.5567771075441166,-2.105515696118556,1.462033016447972,0.9028442312689857,0.5709906844154811,1.5846544388110202,-0.3801350037637757,-0.7480559923357526,0.1768940139461078,-1.1020552706963909,0.7504879683983108,2.8577776177550698,2.495656418063257,3.850702843335504,-0.03525140594769985,0.676648355106955,3.223302248689161],\"xaxis\":\"x\",\"y\":[-5.102323064256514,-2.925687859486031,-5.313657198521488,-6.8041239336474835,-6.672460488465606,-6.978582410290506,-5.186621803952153,-6.521359177409043,-4.319104368770287,-5.780314907552795,-3.87254312980451,-3.107588618712094,-7.376967431641742,-6.181098201302808,-3.1003742278409865,-5.930137277728334,-5.068174936922175],\"yaxis\":\"y\",\"type\":\"scatter\"}],                        {\"template\":{\"data\":{\"histogram2dcontour\":[{\"type\":\"histogram2dcontour\",\"colorbar\":{\"outlinewidth\":0,\"ticks\":\"\"},\"colorscale\":[[0.0,\"#0d0887\"],[0.1111111111111111,\"#46039f\"],[0.2222222222222222,\"#7201a8\"],[0.3333333333333333,\"#9c179e\"],[0.4444444444444444,\"#bd3786\"],[0.5555555555555556,\"#d8576b\"],[0.6666666666666666,\"#ed7953\"],[0.7777777777777778,\"#fb9f3a\"],[0.8888888888888888,\"#fdca26\"],[1.0,\"#f0f921\"]]}],\"choropleth\":[{\"type\":\"choropleth\",\"colorbar\":{\"outlinewidth\":0,\"ticks\":\"\"}}],\"histogram2d\":[{\"type\":\"histogram2d\",\"colorbar\":{\"outlinewidth\":0,\"ticks\":\"\"},\"colorscale\":[[0.0,\"#0d0887\"],[0.1111111111111111,\"#46039f\"],[0.2222222222222222,\"#7201a8\"],[0.3333333333333333,\"#9c179e\"],[0.4444444444444444,\"#bd3786\"],[0.5555555555555556,\"#d8576b\"],[0.6666666666666666,\"#ed7953\"],[0.7777777777777778,\"#fb9f3a\"],[0.8888888888888888,\"#fdca26\"],[1.0,\"#f0f921\"]]}],\"heatmap\":[{\"type\":\"heatmap\",\"colorbar\":{\"outlinewidth\":0,\"ticks\":\"\"},\"colorscale\":[[0.0,\"#0d0887\"],[0.1111111111111111,\"#46039f\"],[0.2222222222222222,\"#7201a8\"],[0.3333333333333333,\"#9c179e\"],[0.4444444444444444,\"#bd3786\"],[0.5555555555555556,\"#d8576b\"],[0.6666666666666666,\"#ed7953\"],[0.7777777777777778,\"#fb9f3a\"],[0.8888888888888888,\"#fdca26\"],[1.0,\"#f0f921\"]]}],\"heatmapgl\":[{\"type\":\"heatmapgl\",\"colorbar\":{\"outlinewidth\":0,\"ticks\":\"\"},\"colorscale\":[[0.0,\"#0d0887\"],[0.1111111111111111,\"#46039f\"],[0.2222222222222222,\"#7201a8\"],[0.3333333333333333,\"#9c179e\"],[0.4444444444444444,\"#bd3786\"],[0.5555555555555556,\"#d8576b\"],[0.6666666666666666,\"#ed7953\"],[0.7777777777777778,\"#fb9f3a\"],[0.8888888888888888,\"#fdca26\"],[1.0,\"#f0f921\"]]}],\"contourcarpet\":[{\"type\":\"contourcarpet\",\"colorbar\":{\"outlinewidth\":0,\"ticks\":\"\"}}],\"contour\":[{\"type\":\"contour\",\"colorbar\":{\"outlinewidth\":0,\"ticks\":\"\"},\"colorscale\":[[0.0,\"#0d0887\"],[0.1111111111111111,\"#46039f\"],[0.2222222222222222,\"#7201a8\"],[0.3333333333333333,\"#9c179e\"],[0.4444444444444444,\"#bd3786\"],[0.5555555555555556,\"#d8576b\"],[0.6666666666666666,\"#ed7953\"],[0.7777777777777778,\"#fb9f3a\"],[0.8888888888888888,\"#fdca26\"],[1.0,\"#f0f921\"]]}],\"surface\":[{\"type\":\"surface\",\"colorbar\":{\"outlinewidth\":0,\"ticks\":\"\"},\"colorscale\":[[0.0,\"#0d0887\"],[0.1111111111111111,\"#46039f\"],[0.2222222222222222,\"#7201a8\"],[0.3333333333333333,\"#9c179e\"],[0.4444444444444444,\"#bd3786\"],[0.5555555555555556,\"#d8576b\"],[0.6666666666666666,\"#ed7953\"],[0.7777777777777778,\"#fb9f3a\"],[0.8888888888888888,\"#fdca26\"],[1.0,\"#f0f921\"]]}],\"mesh3d\":[{\"type\":\"mesh3d\",\"colorbar\":{\"outlinewidth\":0,\"ticks\":\"\"}}],\"scatter\":[{\"fillpattern\":{\"fillmode\":\"overlay\",\"size\":10,\"solidity\":0.2},\"type\":\"scatter\"}],\"parcoords\":[{\"type\":\"parcoords\",\"line\":{\"colorbar\":{\"outlinewidth\":0,\"ticks\":\"\"}}}],\"scatterpolargl\":[{\"type\":\"scatterpolargl\",\"marker\":{\"colorbar\":{\"outlinewidth\":0,\"ticks\":\"\"}}}],\"bar\":[{\"error_x\":{\"color\":\"#2a3f5f\"},\"error_y\":{\"color\":\"#2a3f5f\"},\"marker\":{\"line\":{\"color\":\"#E5ECF6\",\"width\":0.5},\"pattern\":{\"fillmode\":\"overlay\",\"size\":10,\"solidity\":0.2}},\"type\":\"bar\"}],\"scattergeo\":[{\"type\":\"scattergeo\",\"marker\":{\"colorbar\":{\"outlinewidth\":0,\"ticks\":\"\"}}}],\"scatterpolar\":[{\"type\":\"scatterpolar\",\"marker\":{\"colorbar\":{\"outlinewidth\":0,\"ticks\":\"\"}}}],\"histogram\":[{\"marker\":{\"pattern\":{\"fillmode\":\"overlay\",\"size\":10,\"solidity\":0.2}},\"type\":\"histogram\"}],\"scattergl\":[{\"type\":\"scattergl\",\"marker\":{\"colorbar\":{\"outlinewidth\":0,\"ticks\":\"\"}}}],\"scatter3d\":[{\"type\":\"scatter3d\",\"line\":{\"colorbar\":{\"outlinewidth\":0,\"ticks\":\"\"}},\"marker\":{\"colorbar\":{\"outlinewidth\":0,\"ticks\":\"\"}}}],\"scattermapbox\":[{\"type\":\"scattermapbox\",\"marker\":{\"colorbar\":{\"outlinewidth\":0,\"ticks\":\"\"}}}],\"scatterternary\":[{\"type\":\"scatterternary\",\"marker\":{\"colorbar\":{\"outlinewidth\":0,\"ticks\":\"\"}}}],\"scattercarpet\":[{\"type\":\"scattercarpet\",\"marker\":{\"colorbar\":{\"outlinewidth\":0,\"ticks\":\"\"}}}],\"carpet\":[{\"aaxis\":{\"endlinecolor\":\"#2a3f5f\",\"gridcolor\":\"white\",\"linecolor\":\"white\",\"minorgridcolor\":\"white\",\"startlinecolor\":\"#2a3f5f\"},\"baxis\":{\"endlinecolor\":\"#2a3f5f\",\"gridcolor\":\"white\",\"linecolor\":\"white\",\"minorgridcolor\":\"white\",\"startlinecolor\":\"#2a3f5f\"},\"type\":\"carpet\"}],\"table\":[{\"cells\":{\"fill\":{\"color\":\"#EBF0F8\"},\"line\":{\"color\":\"white\"}},\"header\":{\"fill\":{\"color\":\"#C8D4E3\"},\"line\":{\"color\":\"white\"}},\"type\":\"table\"}],\"barpolar\":[{\"marker\":{\"line\":{\"color\":\"#E5ECF6\",\"width\":0.5},\"pattern\":{\"fillmode\":\"overlay\",\"size\":10,\"solidity\":0.2}},\"type\":\"barpolar\"}],\"pie\":[{\"automargin\":true,\"type\":\"pie\"}]},\"layout\":{\"autotypenumbers\":\"strict\",\"colorway\":[\"#636efa\",\"#EF553B\",\"#00cc96\",\"#ab63fa\",\"#FFA15A\",\"#19d3f3\",\"#FF6692\",\"#B6E880\",\"#FF97FF\",\"#FECB52\"],\"font\":{\"color\":\"#2a3f5f\"},\"hovermode\":\"closest\",\"hoverlabel\":{\"align\":\"left\"},\"paper_bgcolor\":\"white\",\"plot_bgcolor\":\"#E5ECF6\",\"polar\":{\"bgcolor\":\"#E5ECF6\",\"angularaxis\":{\"gridcolor\":\"white\",\"linecolor\":\"white\",\"ticks\":\"\"},\"radialaxis\":{\"gridcolor\":\"white\",\"linecolor\":\"white\",\"ticks\":\"\"}},\"ternary\":{\"bgcolor\":\"#E5ECF6\",\"aaxis\":{\"gridcolor\":\"white\",\"linecolor\":\"white\",\"ticks\":\"\"},\"baxis\":{\"gridcolor\":\"white\",\"linecolor\":\"white\",\"ticks\":\"\"},\"caxis\":{\"gridcolor\":\"white\",\"linecolor\":\"white\",\"ticks\":\"\"}},\"coloraxis\":{\"colorbar\":{\"outlinewidth\":0,\"ticks\":\"\"}},\"colorscale\":{\"sequential\":[[0.0,\"#0d0887\"],[0.1111111111111111,\"#46039f\"],[0.2222222222222222,\"#7201a8\"],[0.3333333333333333,\"#9c179e\"],[0.4444444444444444,\"#bd3786\"],[0.5555555555555556,\"#d8576b\"],[0.6666666666666666,\"#ed7953\"],[0.7777777777777778,\"#fb9f3a\"],[0.8888888888888888,\"#fdca26\"],[1.0,\"#f0f921\"]],\"sequentialminus\":[[0.0,\"#0d0887\"],[0.1111111111111111,\"#46039f\"],[0.2222222222222222,\"#7201a8\"],[0.3333333333333333,\"#9c179e\"],[0.4444444444444444,\"#bd3786\"],[0.5555555555555556,\"#d8576b\"],[0.6666666666666666,\"#ed7953\"],[0.7777777777777778,\"#fb9f3a\"],[0.8888888888888888,\"#fdca26\"],[1.0,\"#f0f921\"]],\"diverging\":[[0,\"#8e0152\"],[0.1,\"#c51b7d\"],[0.2,\"#de77ae\"],[0.3,\"#f1b6da\"],[0.4,\"#fde0ef\"],[0.5,\"#f7f7f7\"],[0.6,\"#e6f5d0\"],[0.7,\"#b8e186\"],[0.8,\"#7fbc41\"],[0.9,\"#4d9221\"],[1,\"#276419\"]]},\"xaxis\":{\"gridcolor\":\"white\",\"linecolor\":\"white\",\"ticks\":\"\",\"title\":{\"standoff\":15},\"zerolinecolor\":\"white\",\"automargin\":true,\"zerolinewidth\":2},\"yaxis\":{\"gridcolor\":\"white\",\"linecolor\":\"white\",\"ticks\":\"\",\"title\":{\"standoff\":15},\"zerolinecolor\":\"white\",\"automargin\":true,\"zerolinewidth\":2},\"scene\":{\"xaxis\":{\"backgroundcolor\":\"#E5ECF6\",\"gridcolor\":\"white\",\"linecolor\":\"white\",\"showbackground\":true,\"ticks\":\"\",\"zerolinecolor\":\"white\",\"gridwidth\":2},\"yaxis\":{\"backgroundcolor\":\"#E5ECF6\",\"gridcolor\":\"white\",\"linecolor\":\"white\",\"showbackground\":true,\"ticks\":\"\",\"zerolinecolor\":\"white\",\"gridwidth\":2},\"zaxis\":{\"backgroundcolor\":\"#E5ECF6\",\"gridcolor\":\"white\",\"linecolor\":\"white\",\"showbackground\":true,\"ticks\":\"\",\"zerolinecolor\":\"white\",\"gridwidth\":2}},\"shapedefaults\":{\"line\":{\"color\":\"#2a3f5f\"}},\"annotationdefaults\":{\"arrowcolor\":\"#2a3f5f\",\"arrowhead\":0,\"arrowwidth\":1},\"geo\":{\"bgcolor\":\"white\",\"landcolor\":\"#E5ECF6\",\"subunitcolor\":\"white\",\"showland\":true,\"showlakes\":true,\"lakecolor\":\"white\"},\"title\":{\"x\":0.05},\"mapbox\":{\"style\":\"light\"}}},\"xaxis\":{\"anchor\":\"y\",\"domain\":[0.0,1.0],\"title\":{\"text\":\"\"},\"showline\":false,\"showgrid\":false,\"zeroline\":false,\"showticklabels\":false},\"yaxis\":{\"anchor\":\"x\",\"domain\":[0.0,1.0],\"title\":{\"text\":\"\"},\"showline\":false,\"showgrid\":false,\"zeroline\":false,\"showticklabels\":false},\"coloraxis\":{\"colorbar\":{\"title\":{\"text\":\"cluster\"}},\"colorscale\":[[0.0,\"#0d0887\"],[0.1111111111111111,\"#46039f\"],[0.2222222222222222,\"#7201a8\"],[0.3333333333333333,\"#9c179e\"],[0.4444444444444444,\"#bd3786\"],[0.5555555555555556,\"#d8576b\"],[0.6666666666666666,\"#ed7953\"],[0.7777777777777778,\"#fb9f3a\"],[0.8888888888888888,\"#fdca26\"],[1.0,\"#f0f921\"]],\"showscale\":false},\"legend\":{\"title\":{\"text\":\"\"},\"tracegroupgap\":0,\"itemsizing\":\"constant\",\"font\":{\"family\":\"sans-serif\",\"size\":20,\"color\":\"black\"},\"traceorder\":\"normal\",\"bordercolor\":\"Black\",\"borderwidth\":2},\"margin\":{\"t\":0,\"l\":0,\"r\":0,\"b\":0},\"width\":800,\"height\":800,\"plot_bgcolor\":\"white\"},                        {\"responsive\": true}                    ).then(function(){\n",
              "                            \n",
              "var gd = document.getElementById('b0c62d26-dc58-4874-aeba-511326b35639');\n",
              "var x = new MutationObserver(function (mutations, observer) {{\n",
              "        var display = window.getComputedStyle(gd).display;\n",
              "        if (!display || display === 'none') {{\n",
              "            console.log([gd, 'removed!']);\n",
              "            Plotly.purge(gd);\n",
              "            observer.disconnect();\n",
              "        }}\n",
              "}});\n",
              "\n",
              "// Listen for the removal of the full notebook cells\n",
              "var notebookContainer = gd.closest('#notebook-container');\n",
              "if (notebookContainer) {{\n",
              "    x.observe(notebookContainer, {childList: true});\n",
              "}}\n",
              "\n",
              "// Listen for the clearing of the current output cell\n",
              "var outputEl = gd.closest('.output');\n",
              "if (outputEl) {{\n",
              "    x.observe(outputEl, {childList: true});\n",
              "}}\n",
              "\n",
              "                        })                };                });            </script>        </div>"
            ]
          },
          "metadata": {},
          "output_type": "display_data"
        },
        {
          "data": {
            "text/html": [
              "<pre style=\"white-space:pre;overflow-x:auto;line-height:normal;font-family:Menlo,'DejaVu Sans Mono',consolas,'Courier New',monospace\"><span style=\"font-style: italic\">                                               Resultados do K-Means                                               </span>\n",
              "┏━━━━━━━━━━━━━━━━━━┳━━━━━━━━━━━━━━━━━━┳━━━━━━━━━━━━━━━━━━┳━━━━━━━━━━━━━━━━━━┳━━━━━━━━━━━━━━━━━━┳━━━━━━━━━━━━━━━━━━┓\n",
              "┃<span style=\"font-weight: bold\">       SSE        </span>┃<span style=\"font-weight: bold\">      Coesão      </span>┃<span style=\"font-weight: bold\"> Silhouette Score </span>┃<span style=\"font-weight: bold\">  Homogeneidade   </span>┃<span style=\"font-weight: bold\">    Rand Score    </span>┃<span style=\"font-weight: bold\">    Completude    </span>┃\n",
              "┡━━━━━━━━━━━━━━━━━━╇━━━━━━━━━━━━━━━━━━╇━━━━━━━━━━━━━━━━━━╇━━━━━━━━━━━━━━━━━━╇━━━━━━━━━━━━━━━━━━╇━━━━━━━━━━━━━━━━━━┩\n",
              "│<span style=\"color: #008080; text-decoration-color: #008080\"> 7905.8155163309… </span>│<span style=\"color: #800080; text-decoration-color: #800080\"> 17.782930597998… </span>│<span style=\"color: #008000; text-decoration-color: #008000\"> 0.1490572577991… </span>│<span style=\"color: #000080; text-decoration-color: #000080\"> 0.5738485167753… </span>│<span style=\"color: #808000; text-decoration-color: #808000\"> 0.4787819914895… </span>│<span style=\"color: #800000; text-decoration-color: #800000\"> 0.8544080637867… </span>│\n",
              "└──────────────────┴──────────────────┴──────────────────┴──────────────────┴──────────────────┴──────────────────┘\n",
              "</pre>\n"
            ],
            "text/plain": [
              "\u001b[3m                                               Resultados do K-Means                                               \u001b[0m\n",
              "┏━━━━━━━━━━━━━━━━━━┳━━━━━━━━━━━━━━━━━━┳━━━━━━━━━━━━━━━━━━┳━━━━━━━━━━━━━━━━━━┳━━━━━━━━━━━━━━━━━━┳━━━━━━━━━━━━━━━━━━┓\n",
              "┃\u001b[1m \u001b[0m\u001b[1m      SSE       \u001b[0m\u001b[1m \u001b[0m┃\u001b[1m \u001b[0m\u001b[1m     Coesão     \u001b[0m\u001b[1m \u001b[0m┃\u001b[1m \u001b[0m\u001b[1mSilhouette Score\u001b[0m\u001b[1m \u001b[0m┃\u001b[1m \u001b[0m\u001b[1m Homogeneidade  \u001b[0m\u001b[1m \u001b[0m┃\u001b[1m \u001b[0m\u001b[1m   Rand Score   \u001b[0m\u001b[1m \u001b[0m┃\u001b[1m \u001b[0m\u001b[1m   Completude   \u001b[0m\u001b[1m \u001b[0m┃\n",
              "┡━━━━━━━━━━━━━━━━━━╇━━━━━━━━━━━━━━━━━━╇━━━━━━━━━━━━━━━━━━╇━━━━━━━━━━━━━━━━━━╇━━━━━━━━━━━━━━━━━━╇━━━━━━━━━━━━━━━━━━┩\n",
              "│\u001b[36m \u001b[0m\u001b[36m7905.8155163309…\u001b[0m\u001b[36m \u001b[0m│\u001b[35m \u001b[0m\u001b[35m17.782930597998…\u001b[0m\u001b[35m \u001b[0m│\u001b[32m \u001b[0m\u001b[32m0.1490572577991…\u001b[0m\u001b[32m \u001b[0m│\u001b[34m \u001b[0m\u001b[34m0.5738485167753…\u001b[0m\u001b[34m \u001b[0m│\u001b[33m \u001b[0m\u001b[33m0.4787819914895…\u001b[0m\u001b[33m \u001b[0m│\u001b[31m \u001b[0m\u001b[31m0.8544080637867…\u001b[0m\u001b[31m \u001b[0m│\n",
              "└──────────────────┴──────────────────┴──────────────────┴──────────────────┴──────────────────┴──────────────────┘\n"
            ]
          },
          "metadata": {},
          "output_type": "display_data"
        },
        {
          "name": "stdout",
          "output_type": "stream",
          "text": [
            "Matriz de Confusão\n",
            "[[10  0  0  0  0]\n",
            " [ 0 30  0  0  0]\n",
            " [ 7  0  0  0  5]\n",
            " [ 0  1  0  0 11]\n",
            " [ 0 23  0  2  0]\n",
            " [ 1  0  1 19  1]\n",
            " [ 0  0 13  0  0]\n",
            " [ 0  0  0 23  0]\n",
            " [ 0  0 18  0  0]\n",
            " [ 0  0 14  4  0]]\n"
          ]
        }
      ],
      "source": [
        "# Define a função para o KMeans\n",
        "def KMeans_Trainer(df):\n",
        "    \n",
        "    # Determina o número de clusters do K-Means\n",
        "    n_clusters = 5\n",
        "\n",
        "    # Determina o máximo de iteração\n",
        "    max_iter = 100\n",
        "    \n",
        "    # Define o modelo\n",
        "    model = KMeans(n_clusters=n_clusters, max_iter=max_iter, random_state=42)    \n",
        "    \n",
        "    # Define os dados de treino\n",
        "    model.fit(df)\n",
        "    \n",
        "    # Define a opinião do modelo\n",
        "    X = model.labels_\n",
        "\n",
        "    # Printa a opinião do modelo com o rich\n",
        "    console = Console()\n",
        "    table = Table(title=\"Opinião do Modelo K-Means\")\n",
        "    table.add_column(\"Cluster\", style=\"cyan\", justify=\"center\")\n",
        "    table.add_column(\"Opinião\", style=\"magenta\", justify=\"center\")\n",
        "    for i in range(n_clusters):\n",
        "        table.add_row(str(i), str(np.sum(X == i)))\n",
        "    console.print(table)\n",
        "    \n",
        "    # Printa o X com o rich\n",
        "    console = Console()\n",
        "    console.print(X)\n",
        "    \n",
        "    # Plota o gráfico de dispersão dos dados K-Means\n",
        "    \n",
        "    # Supondo que meu dataframe seja o 'X' e que 'y_kmeans' seja o resultado do agrupamento\n",
        "    pca = PCA(n_components=2)\n",
        "    principalComponents = pca.fit_transform(df)\n",
        "\n",
        "    # Cria um dataframe com os componentes principais\n",
        "    principalDf = pd.DataFrame(data = principalComponents, columns = ['principal component 1', 'principal component 2'])\n",
        "\n",
        "    # Adiciona a coluna de agrupamento\n",
        "    principalDf['cluster'] = X\n",
        "\n",
        "    # Ordena o DataFrame pelo valor do cluster (Arruma a legenda do gráfico para que os clusters fiquem em ordem crescente)\n",
        "    principalDf = principalDf.sort_values(by='cluster')\n",
        "\n",
        "    # Transforma na df todos o cluster, os que era 0 viram 1, 1 vira 2 e assim por diante\n",
        "    principalDf['cluster'] = principalDf['cluster'] + 1\n",
        "\n",
        "    # Plota o gráfico de dispersão\n",
        "    fig = px.scatter(principalDf, x='principal component 1', y='principal component 2', symbol='cluster', size='cluster', color='cluster')\n",
        "\n",
        "    # Atualiza o layout do gráfico\n",
        "    fig.update_layout(\n",
        "        width=800, \n",
        "        height=800)\n",
        "\n",
        "    # Atualiza o X e Y do gráfico retirando-os\n",
        "    fig.update_xaxes(title_text='')\n",
        "    fig.update_yaxes(title_text='')\n",
        "    \n",
        "    # Remove a barra de cores\n",
        "    fig.update_layout(coloraxis_showscale=False)\n",
        "    \n",
        "    # Retira o fundo do gráfico (grid) colocando-o branco\n",
        "    fig.update_layout(plot_bgcolor='white')\n",
        "    \n",
        "    # Retira o axis do gráfico\n",
        "    fig.update_xaxes(showline=False, showgrid=False, zeroline=False)\n",
        "    fig.update_yaxes(showline=False, showgrid=False, zeroline=False)\n",
        "    \n",
        "    # Retira os numeros do eixo X e Y\n",
        "    fig.update_xaxes(showticklabels=False)\n",
        "    fig.update_yaxes(showticklabels=False)\n",
        "    \n",
        "    # Organiza a legenda em ordem crescente de clusters\n",
        "    fig.for_each_trace(lambda t: t.update(name='Cluster ' + str(t.name)))\n",
        "\n",
        "    # Configura a legenda\n",
        "    fig.update_layout(\n",
        "        legend=dict(\n",
        "            traceorder='normal',\n",
        "            font=dict(\n",
        "                family='sans-serif',\n",
        "                size=20,\n",
        "                color='black'\n",
        "            ),\n",
        "            bordercolor='Black',\n",
        "            borderwidth=2\n",
        "        ),\n",
        "        \n",
        "        # Padding para tirar o espaço em branco em volta do gráfico\n",
        "        margin=dict(l=0, r=0, t=0, b=0)\n",
        "    )\n",
        "    \n",
        "    # Retira o titulo da legenda\n",
        "    fig.update_layout(legend_title_text='')\n",
        "\n",
        "    # Exibe o gráfico\n",
        "    fig.show()\n",
        "    \n",
        "    # Soma dos quadrados das distâncias\n",
        "    sse = model.inertia_\n",
        "    \n",
        "    # Calcula a coesao\n",
        "    cohesion = mt.sqrt(model.inertia_)/model.n_clusters\n",
        "    \n",
        "    # Calcula o coeficiente de silhueta\n",
        "    silhouette_kmeans = silhouette_score(df, X)\n",
        "    \n",
        "    # Rand score do KMeans\n",
        "    rand_kmeans = metrics.adjusted_rand_score(df['clusters'], X)\n",
        "    \n",
        "    # Homogeneidade\n",
        "    homogeneity = metrics.homogeneity_score(df['clusters'], X)\n",
        "    \n",
        "    # Completude\n",
        "    completeness = metrics.completeness_score(df['clusters'], X)\n",
        "    \n",
        "    # Matriz de confusão\n",
        "    confusion_matrix = metrics.cluster.contingency_matrix(df['clusters'], X)\n",
        "    \n",
        "    \n",
        "    # Printa \n",
        "    console = Console()\n",
        "    table = Table(title=\"Resultados do K-Means\")\n",
        "    table.add_column(\"SSE\", style=\"cyan\", justify=\"center\")\n",
        "    table.add_column(\"Coesão\", style=\"magenta\", justify=\"center\")\n",
        "    table.add_column(\"Silhouette Score\", style=\"green\", justify=\"center\")\n",
        "    table.add_column(\"Homogeneidade\", style=\"blue\", justify=\"center\")\n",
        "    table.add_column(\"Rand Score\", style=\"yellow\", justify=\"center\")\n",
        "    table.add_column(\"Completude\", style=\"red\", justify=\"center\")\n",
        "    \n",
        "    \n",
        "    table.add_row(str(sse), str(cohesion), str(silhouette_kmeans), str(homogeneity), str(rand_kmeans), str(completeness))\n",
        "    \n",
        "    console.print(table)\n",
        "\n",
        "    # Printa a matriz de confusão\n",
        "    print(\"Matriz de Confusão\")\n",
        "    print(confusion_matrix)\n",
        "    \n",
        "    \n",
        "    return silhouette_kmeans\n",
        "    \n",
        "# Chamada da função KMeans\n",
        "silhouette_kmeans = KMeans_Trainer(df)\n"
      ]
    },
    {
      "cell_type": "code",
      "execution_count": null,
      "metadata": {},
      "outputs": [],
      "source": []
    },
    {
      "cell_type": "markdown",
      "metadata": {},
      "source": [
        "# Método do DBSCAN\n",
        "\n",
        "O DBSCAN é um método de clusterização que tem como objetivo dividir um conjunto de dados em grupos de densidade, onde os grupos são formados por pontos que estão próximos uns dos outros"
      ]
    },
    {
      "cell_type": "code",
      "execution_count": 164,
      "metadata": {},
      "outputs": [
        {
          "data": {
            "text/html": [
              "<pre style=\"white-space:pre;overflow-x:auto;line-height:normal;font-family:Menlo,'DejaVu Sans Mono',consolas,'Courier New',monospace\"><span style=\"font-style: italic\">  Opinião do Modelo  </span>\n",
              "<span style=\"font-style: italic\">       DBSCAN        </span>\n",
              "┏━━━━━━━━━┳━━━━━━━━━┓\n",
              "┃<span style=\"font-weight: bold\"> Cluster </span>┃<span style=\"font-weight: bold\"> Opinião </span>┃\n",
              "┡━━━━━━━━━╇━━━━━━━━━┩\n",
              "│<span style=\"color: #008080; text-decoration-color: #008080\">    0    </span>│<span style=\"color: #800080; text-decoration-color: #800080\">   138   </span>│\n",
              "│<span style=\"color: #008080; text-decoration-color: #008080\">    1    </span>│<span style=\"color: #800080; text-decoration-color: #800080\">   18    </span>│\n",
              "│<span style=\"color: #008080; text-decoration-color: #008080\">    2    </span>│<span style=\"color: #800080; text-decoration-color: #800080\">    5    </span>│\n",
              "│<span style=\"color: #008080; text-decoration-color: #008080\">    3    </span>│<span style=\"color: #800080; text-decoration-color: #800080\">    0    </span>│\n",
              "└─────────┴─────────┘\n",
              "</pre>\n"
            ],
            "text/plain": [
              "\u001b[3m  Opinião do Modelo  \u001b[0m\n",
              "\u001b[3m       DBSCAN        \u001b[0m\n",
              "┏━━━━━━━━━┳━━━━━━━━━┓\n",
              "┃\u001b[1m \u001b[0m\u001b[1mCluster\u001b[0m\u001b[1m \u001b[0m┃\u001b[1m \u001b[0m\u001b[1mOpinião\u001b[0m\u001b[1m \u001b[0m┃\n",
              "┡━━━━━━━━━╇━━━━━━━━━┩\n",
              "│\u001b[36m \u001b[0m\u001b[36m   0   \u001b[0m\u001b[36m \u001b[0m│\u001b[35m \u001b[0m\u001b[35m  138  \u001b[0m\u001b[35m \u001b[0m│\n",
              "│\u001b[36m \u001b[0m\u001b[36m   1   \u001b[0m\u001b[36m \u001b[0m│\u001b[35m \u001b[0m\u001b[35m  18   \u001b[0m\u001b[35m \u001b[0m│\n",
              "│\u001b[36m \u001b[0m\u001b[36m   2   \u001b[0m\u001b[36m \u001b[0m│\u001b[35m \u001b[0m\u001b[35m   5   \u001b[0m\u001b[35m \u001b[0m│\n",
              "│\u001b[36m \u001b[0m\u001b[36m   3   \u001b[0m\u001b[36m \u001b[0m│\u001b[35m \u001b[0m\u001b[35m   0   \u001b[0m\u001b[35m \u001b[0m│\n",
              "└─────────┴─────────┘\n"
            ]
          },
          "metadata": {},
          "output_type": "display_data"
        },
        {
          "data": {
            "text/html": [
              "<pre style=\"white-space:pre;overflow-x:auto;line-height:normal;font-family:Menlo,'DejaVu Sans Mono',consolas,'Courier New',monospace\"><span style=\"font-weight: bold\">[</span> <span style=\"color: #008080; text-decoration-color: #008080; font-weight: bold\">0</span>  <span style=\"color: #008080; text-decoration-color: #008080; font-weight: bold\">0</span>  <span style=\"color: #008080; text-decoration-color: #008080; font-weight: bold\">0</span>  <span style=\"color: #008080; text-decoration-color: #008080; font-weight: bold\">0</span>  <span style=\"color: #008080; text-decoration-color: #008080; font-weight: bold\">0</span>  <span style=\"color: #008080; text-decoration-color: #008080; font-weight: bold\">0</span>  <span style=\"color: #008080; text-decoration-color: #008080; font-weight: bold\">0</span>  <span style=\"color: #008080; text-decoration-color: #008080; font-weight: bold\">0</span> <span style=\"color: #008080; text-decoration-color: #008080; font-weight: bold\">-1</span>  <span style=\"color: #008080; text-decoration-color: #008080; font-weight: bold\">0</span>  <span style=\"color: #008080; text-decoration-color: #008080; font-weight: bold\">2</span>  <span style=\"color: #008080; text-decoration-color: #008080; font-weight: bold\">0</span>  <span style=\"color: #008080; text-decoration-color: #008080; font-weight: bold\">2</span>  <span style=\"color: #008080; text-decoration-color: #008080; font-weight: bold\">1</span>  <span style=\"color: #008080; text-decoration-color: #008080; font-weight: bold\">1</span>  <span style=\"color: #008080; text-decoration-color: #008080; font-weight: bold\">1</span>  <span style=\"color: #008080; text-decoration-color: #008080; font-weight: bold\">0</span> <span style=\"color: #008080; text-decoration-color: #008080; font-weight: bold\">-1</span>  <span style=\"color: #008080; text-decoration-color: #008080; font-weight: bold\">1</span>  <span style=\"color: #008080; text-decoration-color: #008080; font-weight: bold\">1</span> <span style=\"color: #008080; text-decoration-color: #008080; font-weight: bold\">-1</span>  <span style=\"color: #008080; text-decoration-color: #008080; font-weight: bold\">0</span>  <span style=\"color: #008080; text-decoration-color: #008080; font-weight: bold\">1</span>  <span style=\"color: #008080; text-decoration-color: #008080; font-weight: bold\">0</span>\n",
              "  <span style=\"color: #008080; text-decoration-color: #008080; font-weight: bold\">0</span>  <span style=\"color: #008080; text-decoration-color: #008080; font-weight: bold\">0</span>  <span style=\"color: #008080; text-decoration-color: #008080; font-weight: bold\">0</span>  <span style=\"color: #008080; text-decoration-color: #008080; font-weight: bold\">0</span>  <span style=\"color: #008080; text-decoration-color: #008080; font-weight: bold\">0</span>  <span style=\"color: #008080; text-decoration-color: #008080; font-weight: bold\">1</span>  <span style=\"color: #008080; text-decoration-color: #008080; font-weight: bold\">0</span>  <span style=\"color: #008080; text-decoration-color: #008080; font-weight: bold\">0</span>  <span style=\"color: #008080; text-decoration-color: #008080; font-weight: bold\">0</span> <span style=\"color: #008080; text-decoration-color: #008080; font-weight: bold\">-1</span>  <span style=\"color: #008080; text-decoration-color: #008080; font-weight: bold\">0</span>  <span style=\"color: #008080; text-decoration-color: #008080; font-weight: bold\">0</span>  <span style=\"color: #008080; text-decoration-color: #008080; font-weight: bold\">0</span>  <span style=\"color: #008080; text-decoration-color: #008080; font-weight: bold\">0</span>  <span style=\"color: #008080; text-decoration-color: #008080; font-weight: bold\">0</span>  <span style=\"color: #008080; text-decoration-color: #008080; font-weight: bold\">1</span>  <span style=\"color: #008080; text-decoration-color: #008080; font-weight: bold\">0</span>  <span style=\"color: #008080; text-decoration-color: #008080; font-weight: bold\">2</span>  <span style=\"color: #008080; text-decoration-color: #008080; font-weight: bold\">0</span>  <span style=\"color: #008080; text-decoration-color: #008080; font-weight: bold\">0</span>  <span style=\"color: #008080; text-decoration-color: #008080; font-weight: bold\">0</span>  <span style=\"color: #008080; text-decoration-color: #008080; font-weight: bold\">0</span>  <span style=\"color: #008080; text-decoration-color: #008080; font-weight: bold\">0</span>  <span style=\"color: #008080; text-decoration-color: #008080; font-weight: bold\">0</span>\n",
              "  <span style=\"color: #008080; text-decoration-color: #008080; font-weight: bold\">0</span>  <span style=\"color: #008080; text-decoration-color: #008080; font-weight: bold\">0</span> <span style=\"color: #008080; text-decoration-color: #008080; font-weight: bold\">-1</span>  <span style=\"color: #008080; text-decoration-color: #008080; font-weight: bold\">0</span>  <span style=\"color: #008080; text-decoration-color: #008080; font-weight: bold\">0</span>  <span style=\"color: #008080; text-decoration-color: #008080; font-weight: bold\">0</span> <span style=\"color: #008080; text-decoration-color: #008080; font-weight: bold\">-1</span> <span style=\"color: #008080; text-decoration-color: #008080; font-weight: bold\">-1</span> <span style=\"color: #008080; text-decoration-color: #008080; font-weight: bold\">-1</span>  <span style=\"color: #008080; text-decoration-color: #008080; font-weight: bold\">0</span>  <span style=\"color: #008080; text-decoration-color: #008080; font-weight: bold\">0</span>  <span style=\"color: #008080; text-decoration-color: #008080; font-weight: bold\">0</span> <span style=\"color: #008080; text-decoration-color: #008080; font-weight: bold\">-1</span>  <span style=\"color: #008080; text-decoration-color: #008080; font-weight: bold\">0</span> <span style=\"color: #008080; text-decoration-color: #008080; font-weight: bold\">-1</span>  <span style=\"color: #008080; text-decoration-color: #008080; font-weight: bold\">0</span>  <span style=\"color: #008080; text-decoration-color: #008080; font-weight: bold\">0</span> <span style=\"color: #008080; text-decoration-color: #008080; font-weight: bold\">-1</span>  <span style=\"color: #008080; text-decoration-color: #008080; font-weight: bold\">0</span>  <span style=\"color: #008080; text-decoration-color: #008080; font-weight: bold\">0</span>  <span style=\"color: #008080; text-decoration-color: #008080; font-weight: bold\">0</span>  <span style=\"color: #008080; text-decoration-color: #008080; font-weight: bold\">0</span>  <span style=\"color: #008080; text-decoration-color: #008080; font-weight: bold\">0</span> <span style=\"color: #008080; text-decoration-color: #008080; font-weight: bold\">-1</span>\n",
              "  <span style=\"color: #008080; text-decoration-color: #008080; font-weight: bold\">0</span>  <span style=\"color: #008080; text-decoration-color: #008080; font-weight: bold\">0</span>  <span style=\"color: #008080; text-decoration-color: #008080; font-weight: bold\">0</span>  <span style=\"color: #008080; text-decoration-color: #008080; font-weight: bold\">0</span>  <span style=\"color: #008080; text-decoration-color: #008080; font-weight: bold\">0</span>  <span style=\"color: #008080; text-decoration-color: #008080; font-weight: bold\">0</span>  <span style=\"color: #008080; text-decoration-color: #008080; font-weight: bold\">0</span>  <span style=\"color: #008080; text-decoration-color: #008080; font-weight: bold\">0</span>  <span style=\"color: #008080; text-decoration-color: #008080; font-weight: bold\">0</span>  <span style=\"color: #008080; text-decoration-color: #008080; font-weight: bold\">0</span>  <span style=\"color: #008080; text-decoration-color: #008080; font-weight: bold\">0</span>  <span style=\"color: #008080; text-decoration-color: #008080; font-weight: bold\">0</span>  <span style=\"color: #008080; text-decoration-color: #008080; font-weight: bold\">0</span>  <span style=\"color: #008080; text-decoration-color: #008080; font-weight: bold\">0</span>  <span style=\"color: #008080; text-decoration-color: #008080; font-weight: bold\">0</span>  <span style=\"color: #008080; text-decoration-color: #008080; font-weight: bold\">0</span>  <span style=\"color: #008080; text-decoration-color: #008080; font-weight: bold\">0</span>  <span style=\"color: #008080; text-decoration-color: #008080; font-weight: bold\">0</span>  <span style=\"color: #008080; text-decoration-color: #008080; font-weight: bold\">0</span>  <span style=\"color: #008080; text-decoration-color: #008080; font-weight: bold\">0</span>  <span style=\"color: #008080; text-decoration-color: #008080; font-weight: bold\">0</span>  <span style=\"color: #008080; text-decoration-color: #008080; font-weight: bold\">0</span>  <span style=\"color: #008080; text-decoration-color: #008080; font-weight: bold\">1</span>  <span style=\"color: #008080; text-decoration-color: #008080; font-weight: bold\">0</span>\n",
              "  <span style=\"color: #008080; text-decoration-color: #008080; font-weight: bold\">0</span>  <span style=\"color: #008080; text-decoration-color: #008080; font-weight: bold\">0</span>  <span style=\"color: #008080; text-decoration-color: #008080; font-weight: bold\">0</span>  <span style=\"color: #008080; text-decoration-color: #008080; font-weight: bold\">1</span>  <span style=\"color: #008080; text-decoration-color: #008080; font-weight: bold\">0</span>  <span style=\"color: #008080; text-decoration-color: #008080; font-weight: bold\">0</span>  <span style=\"color: #008080; text-decoration-color: #008080; font-weight: bold\">0</span>  <span style=\"color: #008080; text-decoration-color: #008080; font-weight: bold\">0</span>  <span style=\"color: #008080; text-decoration-color: #008080; font-weight: bold\">0</span>  <span style=\"color: #008080; text-decoration-color: #008080; font-weight: bold\">0</span>  <span style=\"color: #008080; text-decoration-color: #008080; font-weight: bold\">0</span>  <span style=\"color: #008080; text-decoration-color: #008080; font-weight: bold\">0</span>  <span style=\"color: #008080; text-decoration-color: #008080; font-weight: bold\">0</span>  <span style=\"color: #008080; text-decoration-color: #008080; font-weight: bold\">0</span>  <span style=\"color: #008080; text-decoration-color: #008080; font-weight: bold\">0</span>  <span style=\"color: #008080; text-decoration-color: #008080; font-weight: bold\">0</span>  <span style=\"color: #008080; text-decoration-color: #008080; font-weight: bold\">0</span>  <span style=\"color: #008080; text-decoration-color: #008080; font-weight: bold\">0</span>  <span style=\"color: #008080; text-decoration-color: #008080; font-weight: bold\">0</span>  <span style=\"color: #008080; text-decoration-color: #008080; font-weight: bold\">0</span>  <span style=\"color: #008080; text-decoration-color: #008080; font-weight: bold\">0</span>  <span style=\"color: #008080; text-decoration-color: #008080; font-weight: bold\">0</span>  <span style=\"color: #008080; text-decoration-color: #008080; font-weight: bold\">1</span>  <span style=\"color: #008080; text-decoration-color: #008080; font-weight: bold\">0</span>\n",
              "  <span style=\"color: #008080; text-decoration-color: #008080; font-weight: bold\">0</span>  <span style=\"color: #008080; text-decoration-color: #008080; font-weight: bold\">0</span>  <span style=\"color: #008080; text-decoration-color: #008080; font-weight: bold\">0</span>  <span style=\"color: #008080; text-decoration-color: #008080; font-weight: bold\">0</span>  <span style=\"color: #008080; text-decoration-color: #008080; font-weight: bold\">0</span>  <span style=\"color: #008080; text-decoration-color: #008080; font-weight: bold\">0</span>  <span style=\"color: #008080; text-decoration-color: #008080; font-weight: bold\">0</span>  <span style=\"color: #008080; text-decoration-color: #008080; font-weight: bold\">0</span>  <span style=\"color: #008080; text-decoration-color: #008080; font-weight: bold\">0</span>  <span style=\"color: #008080; text-decoration-color: #008080; font-weight: bold\">0</span>  <span style=\"color: #008080; text-decoration-color: #008080; font-weight: bold\">0</span>  <span style=\"color: #008080; text-decoration-color: #008080; font-weight: bold\">0</span>  <span style=\"color: #008080; text-decoration-color: #008080; font-weight: bold\">0</span> <span style=\"color: #008080; text-decoration-color: #008080; font-weight: bold\">-1</span>  <span style=\"color: #008080; text-decoration-color: #008080; font-weight: bold\">1</span>  <span style=\"color: #008080; text-decoration-color: #008080; font-weight: bold\">0</span> <span style=\"color: #008080; text-decoration-color: #008080; font-weight: bold\">-1</span>  <span style=\"color: #008080; text-decoration-color: #008080; font-weight: bold\">0</span> <span style=\"color: #008080; text-decoration-color: #008080; font-weight: bold\">-1</span> <span style=\"color: #008080; text-decoration-color: #008080; font-weight: bold\">-1</span>  <span style=\"color: #008080; text-decoration-color: #008080; font-weight: bold\">0</span>  <span style=\"color: #008080; text-decoration-color: #008080; font-weight: bold\">0</span>  <span style=\"color: #008080; text-decoration-color: #008080; font-weight: bold\">0</span>  <span style=\"color: #008080; text-decoration-color: #008080; font-weight: bold\">0</span>\n",
              "  <span style=\"color: #008080; text-decoration-color: #008080; font-weight: bold\">0</span>  <span style=\"color: #008080; text-decoration-color: #008080; font-weight: bold\">1</span>  <span style=\"color: #008080; text-decoration-color: #008080; font-weight: bold\">0</span>  <span style=\"color: #008080; text-decoration-color: #008080; font-weight: bold\">0</span> <span style=\"color: #008080; text-decoration-color: #008080; font-weight: bold\">-1</span>  <span style=\"color: #008080; text-decoration-color: #008080; font-weight: bold\">0</span>  <span style=\"color: #008080; text-decoration-color: #008080; font-weight: bold\">0</span>  <span style=\"color: #008080; text-decoration-color: #008080; font-weight: bold\">0</span> <span style=\"color: #008080; text-decoration-color: #008080; font-weight: bold\">-1</span>  <span style=\"color: #008080; text-decoration-color: #008080; font-weight: bold\">0</span>  <span style=\"color: #008080; text-decoration-color: #008080; font-weight: bold\">1</span>  <span style=\"color: #008080; text-decoration-color: #008080; font-weight: bold\">0</span>  <span style=\"color: #008080; text-decoration-color: #008080; font-weight: bold\">1</span>  <span style=\"color: #008080; text-decoration-color: #008080; font-weight: bold\">0</span>  <span style=\"color: #008080; text-decoration-color: #008080; font-weight: bold\">0</span>  <span style=\"color: #008080; text-decoration-color: #008080; font-weight: bold\">0</span>  <span style=\"color: #008080; text-decoration-color: #008080; font-weight: bold\">1</span> <span style=\"color: #008080; text-decoration-color: #008080; font-weight: bold\">-1</span> <span style=\"color: #008080; text-decoration-color: #008080; font-weight: bold\">-1</span> <span style=\"color: #008080; text-decoration-color: #008080; font-weight: bold\">-1</span>  <span style=\"color: #008080; text-decoration-color: #008080; font-weight: bold\">2</span>  <span style=\"color: #008080; text-decoration-color: #008080; font-weight: bold\">0</span>  <span style=\"color: #008080; text-decoration-color: #008080; font-weight: bold\">0</span>  <span style=\"color: #008080; text-decoration-color: #008080; font-weight: bold\">0</span>\n",
              "  <span style=\"color: #008080; text-decoration-color: #008080; font-weight: bold\">0</span>  <span style=\"color: #008080; text-decoration-color: #008080; font-weight: bold\">0</span>  <span style=\"color: #008080; text-decoration-color: #008080; font-weight: bold\">0</span>  <span style=\"color: #008080; text-decoration-color: #008080; font-weight: bold\">0</span>  <span style=\"color: #008080; text-decoration-color: #008080; font-weight: bold\">2</span>  <span style=\"color: #008080; text-decoration-color: #008080; font-weight: bold\">0</span>  <span style=\"color: #008080; text-decoration-color: #008080; font-weight: bold\">0</span>  <span style=\"color: #008080; text-decoration-color: #008080; font-weight: bold\">1</span>  <span style=\"color: #008080; text-decoration-color: #008080; font-weight: bold\">0</span>  <span style=\"color: #008080; text-decoration-color: #008080; font-weight: bold\">0</span>  <span style=\"color: #008080; text-decoration-color: #008080; font-weight: bold\">0</span> <span style=\"color: #008080; text-decoration-color: #008080; font-weight: bold\">-1</span>  <span style=\"color: #008080; text-decoration-color: #008080; font-weight: bold\">1</span>  <span style=\"color: #008080; text-decoration-color: #008080; font-weight: bold\">0</span>  <span style=\"color: #008080; text-decoration-color: #008080; font-weight: bold\">0</span><span style=\"font-weight: bold\">]</span>\n",
              "</pre>\n"
            ],
            "text/plain": [
              "\u001b[1m[\u001b[0m \u001b[1;36m0\u001b[0m  \u001b[1;36m0\u001b[0m  \u001b[1;36m0\u001b[0m  \u001b[1;36m0\u001b[0m  \u001b[1;36m0\u001b[0m  \u001b[1;36m0\u001b[0m  \u001b[1;36m0\u001b[0m  \u001b[1;36m0\u001b[0m \u001b[1;36m-1\u001b[0m  \u001b[1;36m0\u001b[0m  \u001b[1;36m2\u001b[0m  \u001b[1;36m0\u001b[0m  \u001b[1;36m2\u001b[0m  \u001b[1;36m1\u001b[0m  \u001b[1;36m1\u001b[0m  \u001b[1;36m1\u001b[0m  \u001b[1;36m0\u001b[0m \u001b[1;36m-1\u001b[0m  \u001b[1;36m1\u001b[0m  \u001b[1;36m1\u001b[0m \u001b[1;36m-1\u001b[0m  \u001b[1;36m0\u001b[0m  \u001b[1;36m1\u001b[0m  \u001b[1;36m0\u001b[0m\n",
              "  \u001b[1;36m0\u001b[0m  \u001b[1;36m0\u001b[0m  \u001b[1;36m0\u001b[0m  \u001b[1;36m0\u001b[0m  \u001b[1;36m0\u001b[0m  \u001b[1;36m1\u001b[0m  \u001b[1;36m0\u001b[0m  \u001b[1;36m0\u001b[0m  \u001b[1;36m0\u001b[0m \u001b[1;36m-1\u001b[0m  \u001b[1;36m0\u001b[0m  \u001b[1;36m0\u001b[0m  \u001b[1;36m0\u001b[0m  \u001b[1;36m0\u001b[0m  \u001b[1;36m0\u001b[0m  \u001b[1;36m1\u001b[0m  \u001b[1;36m0\u001b[0m  \u001b[1;36m2\u001b[0m  \u001b[1;36m0\u001b[0m  \u001b[1;36m0\u001b[0m  \u001b[1;36m0\u001b[0m  \u001b[1;36m0\u001b[0m  \u001b[1;36m0\u001b[0m  \u001b[1;36m0\u001b[0m\n",
              "  \u001b[1;36m0\u001b[0m  \u001b[1;36m0\u001b[0m \u001b[1;36m-1\u001b[0m  \u001b[1;36m0\u001b[0m  \u001b[1;36m0\u001b[0m  \u001b[1;36m0\u001b[0m \u001b[1;36m-1\u001b[0m \u001b[1;36m-1\u001b[0m \u001b[1;36m-1\u001b[0m  \u001b[1;36m0\u001b[0m  \u001b[1;36m0\u001b[0m  \u001b[1;36m0\u001b[0m \u001b[1;36m-1\u001b[0m  \u001b[1;36m0\u001b[0m \u001b[1;36m-1\u001b[0m  \u001b[1;36m0\u001b[0m  \u001b[1;36m0\u001b[0m \u001b[1;36m-1\u001b[0m  \u001b[1;36m0\u001b[0m  \u001b[1;36m0\u001b[0m  \u001b[1;36m0\u001b[0m  \u001b[1;36m0\u001b[0m  \u001b[1;36m0\u001b[0m \u001b[1;36m-1\u001b[0m\n",
              "  \u001b[1;36m0\u001b[0m  \u001b[1;36m0\u001b[0m  \u001b[1;36m0\u001b[0m  \u001b[1;36m0\u001b[0m  \u001b[1;36m0\u001b[0m  \u001b[1;36m0\u001b[0m  \u001b[1;36m0\u001b[0m  \u001b[1;36m0\u001b[0m  \u001b[1;36m0\u001b[0m  \u001b[1;36m0\u001b[0m  \u001b[1;36m0\u001b[0m  \u001b[1;36m0\u001b[0m  \u001b[1;36m0\u001b[0m  \u001b[1;36m0\u001b[0m  \u001b[1;36m0\u001b[0m  \u001b[1;36m0\u001b[0m  \u001b[1;36m0\u001b[0m  \u001b[1;36m0\u001b[0m  \u001b[1;36m0\u001b[0m  \u001b[1;36m0\u001b[0m  \u001b[1;36m0\u001b[0m  \u001b[1;36m0\u001b[0m  \u001b[1;36m1\u001b[0m  \u001b[1;36m0\u001b[0m\n",
              "  \u001b[1;36m0\u001b[0m  \u001b[1;36m0\u001b[0m  \u001b[1;36m0\u001b[0m  \u001b[1;36m1\u001b[0m  \u001b[1;36m0\u001b[0m  \u001b[1;36m0\u001b[0m  \u001b[1;36m0\u001b[0m  \u001b[1;36m0\u001b[0m  \u001b[1;36m0\u001b[0m  \u001b[1;36m0\u001b[0m  \u001b[1;36m0\u001b[0m  \u001b[1;36m0\u001b[0m  \u001b[1;36m0\u001b[0m  \u001b[1;36m0\u001b[0m  \u001b[1;36m0\u001b[0m  \u001b[1;36m0\u001b[0m  \u001b[1;36m0\u001b[0m  \u001b[1;36m0\u001b[0m  \u001b[1;36m0\u001b[0m  \u001b[1;36m0\u001b[0m  \u001b[1;36m0\u001b[0m  \u001b[1;36m0\u001b[0m  \u001b[1;36m1\u001b[0m  \u001b[1;36m0\u001b[0m\n",
              "  \u001b[1;36m0\u001b[0m  \u001b[1;36m0\u001b[0m  \u001b[1;36m0\u001b[0m  \u001b[1;36m0\u001b[0m  \u001b[1;36m0\u001b[0m  \u001b[1;36m0\u001b[0m  \u001b[1;36m0\u001b[0m  \u001b[1;36m0\u001b[0m  \u001b[1;36m0\u001b[0m  \u001b[1;36m0\u001b[0m  \u001b[1;36m0\u001b[0m  \u001b[1;36m0\u001b[0m  \u001b[1;36m0\u001b[0m \u001b[1;36m-1\u001b[0m  \u001b[1;36m1\u001b[0m  \u001b[1;36m0\u001b[0m \u001b[1;36m-1\u001b[0m  \u001b[1;36m0\u001b[0m \u001b[1;36m-1\u001b[0m \u001b[1;36m-1\u001b[0m  \u001b[1;36m0\u001b[0m  \u001b[1;36m0\u001b[0m  \u001b[1;36m0\u001b[0m  \u001b[1;36m0\u001b[0m\n",
              "  \u001b[1;36m0\u001b[0m  \u001b[1;36m1\u001b[0m  \u001b[1;36m0\u001b[0m  \u001b[1;36m0\u001b[0m \u001b[1;36m-1\u001b[0m  \u001b[1;36m0\u001b[0m  \u001b[1;36m0\u001b[0m  \u001b[1;36m0\u001b[0m \u001b[1;36m-1\u001b[0m  \u001b[1;36m0\u001b[0m  \u001b[1;36m1\u001b[0m  \u001b[1;36m0\u001b[0m  \u001b[1;36m1\u001b[0m  \u001b[1;36m0\u001b[0m  \u001b[1;36m0\u001b[0m  \u001b[1;36m0\u001b[0m  \u001b[1;36m1\u001b[0m \u001b[1;36m-1\u001b[0m \u001b[1;36m-1\u001b[0m \u001b[1;36m-1\u001b[0m  \u001b[1;36m2\u001b[0m  \u001b[1;36m0\u001b[0m  \u001b[1;36m0\u001b[0m  \u001b[1;36m0\u001b[0m\n",
              "  \u001b[1;36m0\u001b[0m  \u001b[1;36m0\u001b[0m  \u001b[1;36m0\u001b[0m  \u001b[1;36m0\u001b[0m  \u001b[1;36m2\u001b[0m  \u001b[1;36m0\u001b[0m  \u001b[1;36m0\u001b[0m  \u001b[1;36m1\u001b[0m  \u001b[1;36m0\u001b[0m  \u001b[1;36m0\u001b[0m  \u001b[1;36m0\u001b[0m \u001b[1;36m-1\u001b[0m  \u001b[1;36m1\u001b[0m  \u001b[1;36m0\u001b[0m  \u001b[1;36m0\u001b[0m\u001b[1m]\u001b[0m\n"
            ]
          },
          "metadata": {},
          "output_type": "display_data"
        },
        {
          "data": {
            "application/vnd.plotly.v1+json": {
              "config": {
                "plotlyServerURL": "https://plot.ly"
              },
              "data": [
                {
                  "hovertemplate": "cluster=%{marker.color}<br>principal component 1=%{x}<br>principal component 2=%{y}<extra></extra>",
                  "legendgroup": "0",
                  "marker": {
                    "color": [
                      0,
                      0,
                      0,
                      0,
                      0,
                      0,
                      0,
                      0,
                      0,
                      0,
                      0,
                      0,
                      0,
                      0,
                      0,
                      0,
                      0,
                      0,
                      0,
                      0,
                      0,
                      0
                    ],
                    "coloraxis": "coloraxis",
                    "size": [
                      0,
                      0,
                      0,
                      0,
                      0,
                      0,
                      0,
                      0,
                      0,
                      0,
                      0,
                      0,
                      0,
                      0,
                      0,
                      0,
                      0,
                      0,
                      0,
                      0,
                      0,
                      0
                    ],
                    "sizemode": "area",
                    "sizeref": 0.0075,
                    "symbol": "circle"
                  },
                  "mode": "markers",
                  "name": "Cluster 0",
                  "orientation": "v",
                  "showlegend": true,
                  "type": "scatter",
                  "x": [
                    3.60242878203809,
                    -2.62943394724134,
                    3.4899248239301506,
                    -0.369863847423091,
                    5.303003471609426,
                    -0.09783437948548102,
                    6.240602712011002,
                    6.578230821483683,
                    4.845445270459992,
                    6.1244211721890975,
                    6.27587866639921,
                    6.470693424716895,
                    6.714779139426496,
                    -0.7786821333541446,
                    -0.7899078752417361,
                    3.205891389245931,
                    5.13255880331096,
                    5.153382561672342,
                    3.724616299207804,
                    5.777702148306235,
                    1.974445778388283,
                    5.778436881240016
                  ],
                  "xaxis": "x",
                  "y": [
                    3.2969534626053747,
                    -5.318344171177109,
                    -0.6874095136225115,
                    2.3447880120182854,
                    4.462946747320969,
                    -7.162025814584383,
                    1.5128929084187066,
                    0.11395309391563352,
                    0.7531001235542384,
                    -0.20671724820385776,
                    0.09716196844099768,
                    4.087427843107748,
                    0.42980894200893044,
                    3.1238616794965037,
                    3.4337480096785424,
                    2.3423200435253038,
                    4.839906392780952,
                    4.91162563223943,
                    5.11432149023622,
                    0.46118055314922335,
                    2.9479347546188484,
                    1.9506113144010067
                  ],
                  "yaxis": "y"
                },
                {
                  "hovertemplate": "cluster=%{marker.color}<br>principal component 1=%{x}<br>principal component 2=%{y}<extra></extra>",
                  "legendgroup": "1",
                  "marker": {
                    "color": [
                      1,
                      1,
                      1,
                      1,
                      1,
                      1,
                      1,
                      1,
                      1,
                      1,
                      1,
                      1,
                      1,
                      1,
                      1,
                      1,
                      1,
                      1,
                      1,
                      1,
                      1,
                      1,
                      1,
                      1,
                      1,
                      1,
                      1,
                      1,
                      1,
                      1,
                      1,
                      1,
                      1,
                      1,
                      1,
                      1,
                      1,
                      1,
                      1,
                      1,
                      1,
                      1,
                      1,
                      1,
                      1,
                      1,
                      1,
                      1,
                      1,
                      1,
                      1,
                      1,
                      1,
                      1,
                      1,
                      1,
                      1,
                      1,
                      1,
                      1,
                      1,
                      1,
                      1,
                      1,
                      1,
                      1,
                      1,
                      1,
                      1,
                      1,
                      1,
                      1,
                      1,
                      1,
                      1,
                      1,
                      1,
                      1,
                      1,
                      1,
                      1,
                      1,
                      1,
                      1,
                      1,
                      1,
                      1,
                      1,
                      1,
                      1,
                      1,
                      1,
                      1,
                      1,
                      1,
                      1,
                      1,
                      1,
                      1,
                      1,
                      1,
                      1,
                      1,
                      1,
                      1,
                      1,
                      1,
                      1,
                      1,
                      1,
                      1,
                      1,
                      1,
                      1,
                      1,
                      1,
                      1,
                      1,
                      1,
                      1,
                      1,
                      1,
                      1,
                      1,
                      1,
                      1,
                      1,
                      1,
                      1,
                      1,
                      1,
                      1,
                      1,
                      1,
                      1,
                      1,
                      1,
                      1
                    ],
                    "coloraxis": "coloraxis",
                    "size": [
                      1,
                      1,
                      1,
                      1,
                      1,
                      1,
                      1,
                      1,
                      1,
                      1,
                      1,
                      1,
                      1,
                      1,
                      1,
                      1,
                      1,
                      1,
                      1,
                      1,
                      1,
                      1,
                      1,
                      1,
                      1,
                      1,
                      1,
                      1,
                      1,
                      1,
                      1,
                      1,
                      1,
                      1,
                      1,
                      1,
                      1,
                      1,
                      1,
                      1,
                      1,
                      1,
                      1,
                      1,
                      1,
                      1,
                      1,
                      1,
                      1,
                      1,
                      1,
                      1,
                      1,
                      1,
                      1,
                      1,
                      1,
                      1,
                      1,
                      1,
                      1,
                      1,
                      1,
                      1,
                      1,
                      1,
                      1,
                      1,
                      1,
                      1,
                      1,
                      1,
                      1,
                      1,
                      1,
                      1,
                      1,
                      1,
                      1,
                      1,
                      1,
                      1,
                      1,
                      1,
                      1,
                      1,
                      1,
                      1,
                      1,
                      1,
                      1,
                      1,
                      1,
                      1,
                      1,
                      1,
                      1,
                      1,
                      1,
                      1,
                      1,
                      1,
                      1,
                      1,
                      1,
                      1,
                      1,
                      1,
                      1,
                      1,
                      1,
                      1,
                      1,
                      1,
                      1,
                      1,
                      1,
                      1,
                      1,
                      1,
                      1,
                      1,
                      1,
                      1,
                      1,
                      1,
                      1,
                      1,
                      1,
                      1,
                      1,
                      1,
                      1,
                      1,
                      1,
                      1,
                      1,
                      1
                    ],
                    "sizemode": "area",
                    "sizeref": 0.0075,
                    "symbol": "diamond"
                  },
                  "mode": "markers",
                  "name": "Cluster 1",
                  "orientation": "v",
                  "showlegend": true,
                  "type": "scatter",
                  "x": [
                    1.0585357903841832,
                    -2.250059145782138,
                    -0.9879159083728634,
                    -5.928195457231365,
                    -2.0523239294781046,
                    -1.219250229829547,
                    -1.7086012141239988,
                    2.3373410486357558,
                    -4.83221749668707,
                    0.5680024133498169,
                    1.5846544388110202,
                    -2.146088227010943,
                    0.09131249015535056,
                    2.201552200094695,
                    -1.5922261463429324,
                    -0.3801350037637757,
                    -3.0410367132559126,
                    -6.079113497282829,
                    0.9923858100908965,
                    -3.083085667110798,
                    1.6410236430059233,
                    -2.798824201994865,
                    -4.693257263210803,
                    -5.9093086854650325,
                    -5.241694533250034,
                    -1.3134528447985023,
                    -1.8065655049272904,
                    -5.4640548152806385,
                    -2.367851150193467,
                    0.676648355106955,
                    -2.105515696118556,
                    -2.0122408901102893,
                    -4.5312206036504445,
                    -2.250645636348712,
                    -5.240274330911886,
                    -5.827560468983204,
                    -1.3942756745123368,
                    0.374814266685975,
                    -6.320529635953859,
                    -2.864017190389815,
                    2.302580326822227,
                    -4.467797053700106,
                    -2.1809549743788046,
                    -1.8895269913647044,
                    1.462033016447972,
                    -2.5567771075441166,
                    -1.7441574703389398,
                    -3.020115060054507,
                    -3.858452654344325,
                    -2.4063814180166907,
                    0.5709906844154811,
                    -1.9113332640698235,
                    -4.528263509355871,
                    -6.607969490072341,
                    -0.80582205865509,
                    -4.702003596675098,
                    2.8577776177550698,
                    -3.740191292411308,
                    -2.7040686818625312,
                    -4.674697287217857,
                    -1.9424289661447245,
                    0.7504879683983108,
                    1.4715104574451543,
                    0.6972942920828623,
                    -3.3561360226160613,
                    -6.594644943896961,
                    -3.0752860566766573,
                    -4.637651304968263,
                    -2.78093910809144,
                    -3.3066789115945188,
                    -1.941928714599852,
                    -0.7480559923357526,
                    -1.1490788468330384,
                    -0.7292986636579019,
                    -1.3447244223267538,
                    -0.6549347739584294,
                    -5.723462697590041,
                    1.482037758325933,
                    -0.02664235992486417,
                    0.9593055818068323,
                    -2.6353116277672557,
                    -2.3771094682742118,
                    -4.648702673741612,
                    -2.1922016698676514,
                    0.5879779263374347,
                    -2.9077793683690127,
                    -4.394485016201411,
                    -2.9823025377722088,
                    1.632967540927584,
                    0.9028442312689857,
                    -1.1020552706963909,
                    -2.9407435261355612,
                    0.4129548424339453,
                    -4.025983406141444,
                    -2.915526068643301,
                    -4.664881702062278,
                    0.6700911501996616,
                    -5.624654958923791,
                    2.2537121505494495,
                    -4.099535347356499,
                    4.613291532743513,
                    1.5487496348298213,
                    2.495656418063257,
                    0.4366968816312686,
                    -6.2147360312103554,
                    -2.312996703047328,
                    -4.821123717196615,
                    3.850702843335504,
                    -0.03525140594769985,
                    -3.4420879065844154,
                    -2.48618404057914,
                    -1.9145115431105761,
                    -4.959570993968236,
                    0.1768940139461078,
                    5.6173300310144185,
                    0.25907953022615476,
                    -2.997136077955616,
                    -0.6431358132470655,
                    3.223302248689161,
                    -2.538377839514864,
                    -4.4985439407201,
                    -1.4327409591007454,
                    -1.683271021444316,
                    0.07438985426140952,
                    -2.411675518705194,
                    3.6438828836760044,
                    -5.210672765987325,
                    2.668545980023131,
                    -0.6384347512233026,
                    -0.7303949551553521,
                    -6.383909461316077,
                    -0.41853387307115714,
                    -3.71309877326064,
                    -3.627542721675168,
                    -6.437427963173612,
                    -3.61905785208718,
                    4.479813375781192,
                    -1.5188128891185388
                  ],
                  "xaxis": "x",
                  "y": [
                    6.332824501653661,
                    -1.1726775196890353,
                    -2.5414295656476114,
                    1.0170721889772623,
                    -5.636220667105605,
                    -2.5587727611069124,
                    -7.126561358094062,
                    -1.3627135606876513,
                    -0.5914462998120671,
                    -2.7900882110527485,
                    -6.978582410290506,
                    -2.244074892096024,
                    -3.578217646745264,
                    -1.3927929203940421,
                    -1.0899465598241709,
                    -5.186621803952153,
                    2.3629320998100716,
                    1.2851928081838504,
                    5.77874392413026,
                    2.7547216369959746,
                    -0.27484266279341313,
                    -0.021573906666767596,
                    1.3534983464893433,
                    1.0808428406404076,
                    0.2670004634281554,
                    4.684456604135591,
                    -2.159391485696168,
                    0.40447903333735497,
                    1.26482600694239,
                    -5.930137277728334,
                    -2.925687859486031,
                    -6.410632844679682,
                    2.030966524062323,
                    -0.25053868896667714,
                    2.557646294062233,
                    1.312491686152736,
                    0.7268308158019271,
                    1.0194898024054173,
                    1.2939774742271142,
                    -0.1604746209618915,
                    8.20939428390387,
                    0.5862640765223048,
                    -5.811172424296934,
                    0.7407202571274735,
                    -5.313657198521488,
                    -5.102323064256514,
                    -0.17662517259217,
                    -4.181265126936998,
                    -5.1189835698501485,
                    -0.15398005184642918,
                    -6.672460488465606,
                    -0.1803461955374536,
                    2.40805979717858,
                    1.1496464596569866,
                    -2.436969292416292,
                    0.7446843962361923,
                    -3.107588618712094,
                    2.550436529031477,
                    0.040682214021320835,
                    3.2612221231424265,
                    1.430723879395374,
                    -3.87254312980451,
                    -0.8772851125759813,
                    0.3444765110766616,
                    2.1652686907254655,
                    1.778089999542243,
                    1.4489499456395527,
                    -0.3072376873369495,
                    -1.293300072534747,
                    2.598014883158045,
                    0.2216596447699904,
                    -6.521359177409043,
                    0.022112464726462562,
                    -6.473718822941966,
                    -1.149226411687033,
                    -2.170530323245,
                    0.7212179171296178,
                    1.2183808410254886,
                    7.600018551239146,
                    2.9569824556575557,
                    1.1590673796965891,
                    -3.670926179458559,
                    2.8115456598199358,
                    1.0281565402626394,
                    6.932965125051074,
                    1.2463649157211234,
                    -0.927623278045316,
                    0.9501808892317468,
                    0.5639147129951064,
                    -6.8041239336474835,
                    -5.780314907552795,
                    1.5165026057994675,
                    -7.613705640676826,
                    -0.233358555939435,
                    5.248921916912712,
                    2.343471868570172,
                    3.791061944143022,
                    0.5165401828881944,
                    -0.4921543518929287,
                    4.7410640262811015,
                    4.009442785775796,
                    -0.3942034288902288,
                    -7.376967431641742,
                    -6.622015668502773,
                    1.703957544723603,
                    1.367378770277754,
                    3.745313795827839,
                    -6.181098201302808,
                    -3.1003742278409865,
                    2.200688342080907,
                    1.2011715463952262,
                    -4.429640625481539,
                    1.2433276044883974,
                    -4.319104368770287,
                    0.5000508275496633,
                    -0.5447371235204851,
                    -0.9978943929511861,
                    -7.28383072590816,
                    -5.068174936922175,
                    1.495949178015185,
                    2.899015760794284,
                    -0.6547205573502188,
                    1.366363718548896,
                    -5.640763163330021,
                    1.9108858547539775,
                    7.440161079934278,
                    -0.527766296635027,
                    5.30391053635938,
                    -3.1561330878444016,
                    0.5394189147811626,
                    1.8710555999439722,
                    5.648981075172065,
                    3.1263300248256107,
                    0.25777977553529485,
                    1.6399916046579373,
                    -3.0385623493595193,
                    0.8198533250579864,
                    -5.376294503222811
                  ],
                  "yaxis": "y"
                },
                {
                  "hovertemplate": "cluster=%{marker.color}<br>principal component 1=%{x}<br>principal component 2=%{y}<extra></extra>",
                  "legendgroup": "2",
                  "marker": {
                    "color": [
                      2,
                      2,
                      2,
                      2,
                      2,
                      2,
                      2,
                      2,
                      2,
                      2,
                      2,
                      2,
                      2,
                      2,
                      2,
                      2,
                      2,
                      2
                    ],
                    "coloraxis": "coloraxis",
                    "size": [
                      2,
                      2,
                      2,
                      2,
                      2,
                      2,
                      2,
                      2,
                      2,
                      2,
                      2,
                      2,
                      2,
                      2,
                      2,
                      2,
                      2,
                      2
                    ],
                    "sizemode": "area",
                    "sizeref": 0.0075,
                    "symbol": "square"
                  },
                  "mode": "markers",
                  "name": "Cluster 2",
                  "orientation": "v",
                  "showlegend": true,
                  "type": "scatter",
                  "x": [
                    9.059533469761062,
                    8.374410235240507,
                    8.441665498683827,
                    8.066220539541087,
                    6.623303615841347,
                    5.488905894923699,
                    7.667046096930938,
                    7.658942852663237,
                    8.082164574083201,
                    8.69538334294892,
                    9.214112204471503,
                    8.111346229048008,
                    7.8097215362641,
                    8.47367904175534,
                    6.375641073318005,
                    8.811843911788818,
                    8.049046985857364,
                    7.918131471372993
                  ],
                  "xaxis": "x",
                  "y": [
                    -1.837684235311377,
                    -1.5299508826945514,
                    -2.887613149707447,
                    -0.9412734124895257,
                    -2.574830317543623,
                    2.465557366140117,
                    -0.9098026687310822,
                    -0.24827841288661526,
                    -1.4886369696469957,
                    -1.6683014682670607,
                    -1.5746101460736732,
                    -1.216303554681815,
                    -0.3868568869028958,
                    -1.8614230931316138,
                    1.8049284029894996,
                    -0.7701748514401108,
                    -1.3606009478454943,
                    -0.14496571791554355
                  ],
                  "yaxis": "y"
                },
                {
                  "hovertemplate": "cluster=%{marker.color}<br>principal component 1=%{x}<br>principal component 2=%{y}<extra></extra>",
                  "legendgroup": "3",
                  "marker": {
                    "color": [
                      3,
                      3,
                      3,
                      3,
                      3
                    ],
                    "coloraxis": "coloraxis",
                    "size": [
                      3,
                      3,
                      3,
                      3,
                      3
                    ],
                    "sizemode": "area",
                    "sizeref": 0.0075,
                    "symbol": "x"
                  },
                  "mode": "markers",
                  "name": "Cluster 3",
                  "orientation": "v",
                  "showlegend": true,
                  "type": "scatter",
                  "x": [
                    4.133595886269193,
                    3.6524505924267645,
                    3.879820426562158,
                    3.7006717258263624,
                    5.808915219775914
                  ],
                  "xaxis": "x",
                  "y": [
                    7.582869382431928,
                    7.3293160964720485,
                    6.194767969928224,
                    7.189167961498388,
                    6.65735430779764
                  ],
                  "yaxis": "y"
                }
              ],
              "layout": {
                "coloraxis": {
                  "colorbar": {
                    "title": {
                      "text": "cluster"
                    }
                  },
                  "colorscale": [
                    [
                      0,
                      "#0d0887"
                    ],
                    [
                      0.1111111111111111,
                      "#46039f"
                    ],
                    [
                      0.2222222222222222,
                      "#7201a8"
                    ],
                    [
                      0.3333333333333333,
                      "#9c179e"
                    ],
                    [
                      0.4444444444444444,
                      "#bd3786"
                    ],
                    [
                      0.5555555555555556,
                      "#d8576b"
                    ],
                    [
                      0.6666666666666666,
                      "#ed7953"
                    ],
                    [
                      0.7777777777777778,
                      "#fb9f3a"
                    ],
                    [
                      0.8888888888888888,
                      "#fdca26"
                    ],
                    [
                      1,
                      "#f0f921"
                    ]
                  ],
                  "showscale": false
                },
                "height": 800,
                "legend": {
                  "bordercolor": "Black",
                  "borderwidth": 2,
                  "font": {
                    "color": "black",
                    "family": "sans-serif",
                    "size": 20
                  },
                  "itemsizing": "constant",
                  "title": {
                    "text": ""
                  },
                  "tracegroupgap": 0,
                  "traceorder": "normal"
                },
                "margin": {
                  "b": 0,
                  "l": 0,
                  "r": 0,
                  "t": 0
                },
                "plot_bgcolor": "white",
                "template": {
                  "data": {
                    "bar": [
                      {
                        "error_x": {
                          "color": "#2a3f5f"
                        },
                        "error_y": {
                          "color": "#2a3f5f"
                        },
                        "marker": {
                          "line": {
                            "color": "#E5ECF6",
                            "width": 0.5
                          },
                          "pattern": {
                            "fillmode": "overlay",
                            "size": 10,
                            "solidity": 0.2
                          }
                        },
                        "type": "bar"
                      }
                    ],
                    "barpolar": [
                      {
                        "marker": {
                          "line": {
                            "color": "#E5ECF6",
                            "width": 0.5
                          },
                          "pattern": {
                            "fillmode": "overlay",
                            "size": 10,
                            "solidity": 0.2
                          }
                        },
                        "type": "barpolar"
                      }
                    ],
                    "carpet": [
                      {
                        "aaxis": {
                          "endlinecolor": "#2a3f5f",
                          "gridcolor": "white",
                          "linecolor": "white",
                          "minorgridcolor": "white",
                          "startlinecolor": "#2a3f5f"
                        },
                        "baxis": {
                          "endlinecolor": "#2a3f5f",
                          "gridcolor": "white",
                          "linecolor": "white",
                          "minorgridcolor": "white",
                          "startlinecolor": "#2a3f5f"
                        },
                        "type": "carpet"
                      }
                    ],
                    "choropleth": [
                      {
                        "colorbar": {
                          "outlinewidth": 0,
                          "ticks": ""
                        },
                        "type": "choropleth"
                      }
                    ],
                    "contour": [
                      {
                        "colorbar": {
                          "outlinewidth": 0,
                          "ticks": ""
                        },
                        "colorscale": [
                          [
                            0,
                            "#0d0887"
                          ],
                          [
                            0.1111111111111111,
                            "#46039f"
                          ],
                          [
                            0.2222222222222222,
                            "#7201a8"
                          ],
                          [
                            0.3333333333333333,
                            "#9c179e"
                          ],
                          [
                            0.4444444444444444,
                            "#bd3786"
                          ],
                          [
                            0.5555555555555556,
                            "#d8576b"
                          ],
                          [
                            0.6666666666666666,
                            "#ed7953"
                          ],
                          [
                            0.7777777777777778,
                            "#fb9f3a"
                          ],
                          [
                            0.8888888888888888,
                            "#fdca26"
                          ],
                          [
                            1,
                            "#f0f921"
                          ]
                        ],
                        "type": "contour"
                      }
                    ],
                    "contourcarpet": [
                      {
                        "colorbar": {
                          "outlinewidth": 0,
                          "ticks": ""
                        },
                        "type": "contourcarpet"
                      }
                    ],
                    "heatmap": [
                      {
                        "colorbar": {
                          "outlinewidth": 0,
                          "ticks": ""
                        },
                        "colorscale": [
                          [
                            0,
                            "#0d0887"
                          ],
                          [
                            0.1111111111111111,
                            "#46039f"
                          ],
                          [
                            0.2222222222222222,
                            "#7201a8"
                          ],
                          [
                            0.3333333333333333,
                            "#9c179e"
                          ],
                          [
                            0.4444444444444444,
                            "#bd3786"
                          ],
                          [
                            0.5555555555555556,
                            "#d8576b"
                          ],
                          [
                            0.6666666666666666,
                            "#ed7953"
                          ],
                          [
                            0.7777777777777778,
                            "#fb9f3a"
                          ],
                          [
                            0.8888888888888888,
                            "#fdca26"
                          ],
                          [
                            1,
                            "#f0f921"
                          ]
                        ],
                        "type": "heatmap"
                      }
                    ],
                    "heatmapgl": [
                      {
                        "colorbar": {
                          "outlinewidth": 0,
                          "ticks": ""
                        },
                        "colorscale": [
                          [
                            0,
                            "#0d0887"
                          ],
                          [
                            0.1111111111111111,
                            "#46039f"
                          ],
                          [
                            0.2222222222222222,
                            "#7201a8"
                          ],
                          [
                            0.3333333333333333,
                            "#9c179e"
                          ],
                          [
                            0.4444444444444444,
                            "#bd3786"
                          ],
                          [
                            0.5555555555555556,
                            "#d8576b"
                          ],
                          [
                            0.6666666666666666,
                            "#ed7953"
                          ],
                          [
                            0.7777777777777778,
                            "#fb9f3a"
                          ],
                          [
                            0.8888888888888888,
                            "#fdca26"
                          ],
                          [
                            1,
                            "#f0f921"
                          ]
                        ],
                        "type": "heatmapgl"
                      }
                    ],
                    "histogram": [
                      {
                        "marker": {
                          "pattern": {
                            "fillmode": "overlay",
                            "size": 10,
                            "solidity": 0.2
                          }
                        },
                        "type": "histogram"
                      }
                    ],
                    "histogram2d": [
                      {
                        "colorbar": {
                          "outlinewidth": 0,
                          "ticks": ""
                        },
                        "colorscale": [
                          [
                            0,
                            "#0d0887"
                          ],
                          [
                            0.1111111111111111,
                            "#46039f"
                          ],
                          [
                            0.2222222222222222,
                            "#7201a8"
                          ],
                          [
                            0.3333333333333333,
                            "#9c179e"
                          ],
                          [
                            0.4444444444444444,
                            "#bd3786"
                          ],
                          [
                            0.5555555555555556,
                            "#d8576b"
                          ],
                          [
                            0.6666666666666666,
                            "#ed7953"
                          ],
                          [
                            0.7777777777777778,
                            "#fb9f3a"
                          ],
                          [
                            0.8888888888888888,
                            "#fdca26"
                          ],
                          [
                            1,
                            "#f0f921"
                          ]
                        ],
                        "type": "histogram2d"
                      }
                    ],
                    "histogram2dcontour": [
                      {
                        "colorbar": {
                          "outlinewidth": 0,
                          "ticks": ""
                        },
                        "colorscale": [
                          [
                            0,
                            "#0d0887"
                          ],
                          [
                            0.1111111111111111,
                            "#46039f"
                          ],
                          [
                            0.2222222222222222,
                            "#7201a8"
                          ],
                          [
                            0.3333333333333333,
                            "#9c179e"
                          ],
                          [
                            0.4444444444444444,
                            "#bd3786"
                          ],
                          [
                            0.5555555555555556,
                            "#d8576b"
                          ],
                          [
                            0.6666666666666666,
                            "#ed7953"
                          ],
                          [
                            0.7777777777777778,
                            "#fb9f3a"
                          ],
                          [
                            0.8888888888888888,
                            "#fdca26"
                          ],
                          [
                            1,
                            "#f0f921"
                          ]
                        ],
                        "type": "histogram2dcontour"
                      }
                    ],
                    "mesh3d": [
                      {
                        "colorbar": {
                          "outlinewidth": 0,
                          "ticks": ""
                        },
                        "type": "mesh3d"
                      }
                    ],
                    "parcoords": [
                      {
                        "line": {
                          "colorbar": {
                            "outlinewidth": 0,
                            "ticks": ""
                          }
                        },
                        "type": "parcoords"
                      }
                    ],
                    "pie": [
                      {
                        "automargin": true,
                        "type": "pie"
                      }
                    ],
                    "scatter": [
                      {
                        "fillpattern": {
                          "fillmode": "overlay",
                          "size": 10,
                          "solidity": 0.2
                        },
                        "type": "scatter"
                      }
                    ],
                    "scatter3d": [
                      {
                        "line": {
                          "colorbar": {
                            "outlinewidth": 0,
                            "ticks": ""
                          }
                        },
                        "marker": {
                          "colorbar": {
                            "outlinewidth": 0,
                            "ticks": ""
                          }
                        },
                        "type": "scatter3d"
                      }
                    ],
                    "scattercarpet": [
                      {
                        "marker": {
                          "colorbar": {
                            "outlinewidth": 0,
                            "ticks": ""
                          }
                        },
                        "type": "scattercarpet"
                      }
                    ],
                    "scattergeo": [
                      {
                        "marker": {
                          "colorbar": {
                            "outlinewidth": 0,
                            "ticks": ""
                          }
                        },
                        "type": "scattergeo"
                      }
                    ],
                    "scattergl": [
                      {
                        "marker": {
                          "colorbar": {
                            "outlinewidth": 0,
                            "ticks": ""
                          }
                        },
                        "type": "scattergl"
                      }
                    ],
                    "scattermapbox": [
                      {
                        "marker": {
                          "colorbar": {
                            "outlinewidth": 0,
                            "ticks": ""
                          }
                        },
                        "type": "scattermapbox"
                      }
                    ],
                    "scatterpolar": [
                      {
                        "marker": {
                          "colorbar": {
                            "outlinewidth": 0,
                            "ticks": ""
                          }
                        },
                        "type": "scatterpolar"
                      }
                    ],
                    "scatterpolargl": [
                      {
                        "marker": {
                          "colorbar": {
                            "outlinewidth": 0,
                            "ticks": ""
                          }
                        },
                        "type": "scatterpolargl"
                      }
                    ],
                    "scatterternary": [
                      {
                        "marker": {
                          "colorbar": {
                            "outlinewidth": 0,
                            "ticks": ""
                          }
                        },
                        "type": "scatterternary"
                      }
                    ],
                    "surface": [
                      {
                        "colorbar": {
                          "outlinewidth": 0,
                          "ticks": ""
                        },
                        "colorscale": [
                          [
                            0,
                            "#0d0887"
                          ],
                          [
                            0.1111111111111111,
                            "#46039f"
                          ],
                          [
                            0.2222222222222222,
                            "#7201a8"
                          ],
                          [
                            0.3333333333333333,
                            "#9c179e"
                          ],
                          [
                            0.4444444444444444,
                            "#bd3786"
                          ],
                          [
                            0.5555555555555556,
                            "#d8576b"
                          ],
                          [
                            0.6666666666666666,
                            "#ed7953"
                          ],
                          [
                            0.7777777777777778,
                            "#fb9f3a"
                          ],
                          [
                            0.8888888888888888,
                            "#fdca26"
                          ],
                          [
                            1,
                            "#f0f921"
                          ]
                        ],
                        "type": "surface"
                      }
                    ],
                    "table": [
                      {
                        "cells": {
                          "fill": {
                            "color": "#EBF0F8"
                          },
                          "line": {
                            "color": "white"
                          }
                        },
                        "header": {
                          "fill": {
                            "color": "#C8D4E3"
                          },
                          "line": {
                            "color": "white"
                          }
                        },
                        "type": "table"
                      }
                    ]
                  },
                  "layout": {
                    "annotationdefaults": {
                      "arrowcolor": "#2a3f5f",
                      "arrowhead": 0,
                      "arrowwidth": 1
                    },
                    "autotypenumbers": "strict",
                    "coloraxis": {
                      "colorbar": {
                        "outlinewidth": 0,
                        "ticks": ""
                      }
                    },
                    "colorscale": {
                      "diverging": [
                        [
                          0,
                          "#8e0152"
                        ],
                        [
                          0.1,
                          "#c51b7d"
                        ],
                        [
                          0.2,
                          "#de77ae"
                        ],
                        [
                          0.3,
                          "#f1b6da"
                        ],
                        [
                          0.4,
                          "#fde0ef"
                        ],
                        [
                          0.5,
                          "#f7f7f7"
                        ],
                        [
                          0.6,
                          "#e6f5d0"
                        ],
                        [
                          0.7,
                          "#b8e186"
                        ],
                        [
                          0.8,
                          "#7fbc41"
                        ],
                        [
                          0.9,
                          "#4d9221"
                        ],
                        [
                          1,
                          "#276419"
                        ]
                      ],
                      "sequential": [
                        [
                          0,
                          "#0d0887"
                        ],
                        [
                          0.1111111111111111,
                          "#46039f"
                        ],
                        [
                          0.2222222222222222,
                          "#7201a8"
                        ],
                        [
                          0.3333333333333333,
                          "#9c179e"
                        ],
                        [
                          0.4444444444444444,
                          "#bd3786"
                        ],
                        [
                          0.5555555555555556,
                          "#d8576b"
                        ],
                        [
                          0.6666666666666666,
                          "#ed7953"
                        ],
                        [
                          0.7777777777777778,
                          "#fb9f3a"
                        ],
                        [
                          0.8888888888888888,
                          "#fdca26"
                        ],
                        [
                          1,
                          "#f0f921"
                        ]
                      ],
                      "sequentialminus": [
                        [
                          0,
                          "#0d0887"
                        ],
                        [
                          0.1111111111111111,
                          "#46039f"
                        ],
                        [
                          0.2222222222222222,
                          "#7201a8"
                        ],
                        [
                          0.3333333333333333,
                          "#9c179e"
                        ],
                        [
                          0.4444444444444444,
                          "#bd3786"
                        ],
                        [
                          0.5555555555555556,
                          "#d8576b"
                        ],
                        [
                          0.6666666666666666,
                          "#ed7953"
                        ],
                        [
                          0.7777777777777778,
                          "#fb9f3a"
                        ],
                        [
                          0.8888888888888888,
                          "#fdca26"
                        ],
                        [
                          1,
                          "#f0f921"
                        ]
                      ]
                    },
                    "colorway": [
                      "#636efa",
                      "#EF553B",
                      "#00cc96",
                      "#ab63fa",
                      "#FFA15A",
                      "#19d3f3",
                      "#FF6692",
                      "#B6E880",
                      "#FF97FF",
                      "#FECB52"
                    ],
                    "font": {
                      "color": "#2a3f5f"
                    },
                    "geo": {
                      "bgcolor": "white",
                      "lakecolor": "white",
                      "landcolor": "#E5ECF6",
                      "showlakes": true,
                      "showland": true,
                      "subunitcolor": "white"
                    },
                    "hoverlabel": {
                      "align": "left"
                    },
                    "hovermode": "closest",
                    "mapbox": {
                      "style": "light"
                    },
                    "paper_bgcolor": "white",
                    "plot_bgcolor": "#E5ECF6",
                    "polar": {
                      "angularaxis": {
                        "gridcolor": "white",
                        "linecolor": "white",
                        "ticks": ""
                      },
                      "bgcolor": "#E5ECF6",
                      "radialaxis": {
                        "gridcolor": "white",
                        "linecolor": "white",
                        "ticks": ""
                      }
                    },
                    "scene": {
                      "xaxis": {
                        "backgroundcolor": "#E5ECF6",
                        "gridcolor": "white",
                        "gridwidth": 2,
                        "linecolor": "white",
                        "showbackground": true,
                        "ticks": "",
                        "zerolinecolor": "white"
                      },
                      "yaxis": {
                        "backgroundcolor": "#E5ECF6",
                        "gridcolor": "white",
                        "gridwidth": 2,
                        "linecolor": "white",
                        "showbackground": true,
                        "ticks": "",
                        "zerolinecolor": "white"
                      },
                      "zaxis": {
                        "backgroundcolor": "#E5ECF6",
                        "gridcolor": "white",
                        "gridwidth": 2,
                        "linecolor": "white",
                        "showbackground": true,
                        "ticks": "",
                        "zerolinecolor": "white"
                      }
                    },
                    "shapedefaults": {
                      "line": {
                        "color": "#2a3f5f"
                      }
                    },
                    "ternary": {
                      "aaxis": {
                        "gridcolor": "white",
                        "linecolor": "white",
                        "ticks": ""
                      },
                      "baxis": {
                        "gridcolor": "white",
                        "linecolor": "white",
                        "ticks": ""
                      },
                      "bgcolor": "#E5ECF6",
                      "caxis": {
                        "gridcolor": "white",
                        "linecolor": "white",
                        "ticks": ""
                      }
                    },
                    "title": {
                      "x": 0.05
                    },
                    "xaxis": {
                      "automargin": true,
                      "gridcolor": "white",
                      "linecolor": "white",
                      "ticks": "",
                      "title": {
                        "standoff": 15
                      },
                      "zerolinecolor": "white",
                      "zerolinewidth": 2
                    },
                    "yaxis": {
                      "automargin": true,
                      "gridcolor": "white",
                      "linecolor": "white",
                      "ticks": "",
                      "title": {
                        "standoff": 15
                      },
                      "zerolinecolor": "white",
                      "zerolinewidth": 2
                    }
                  }
                },
                "width": 800,
                "xaxis": {
                  "anchor": "y",
                  "domain": [
                    0,
                    1
                  ],
                  "showgrid": false,
                  "showline": false,
                  "showticklabels": false,
                  "title": {
                    "text": ""
                  },
                  "zeroline": false
                },
                "yaxis": {
                  "anchor": "x",
                  "domain": [
                    0,
                    1
                  ],
                  "showgrid": false,
                  "showline": false,
                  "showticklabels": false,
                  "title": {
                    "text": ""
                  },
                  "zeroline": false
                }
              }
            },
            "text/html": [
              "<div>                            <div id=\"cadc68c3-3a3e-4dfd-8af7-c7a8e4d8e1a5\" class=\"plotly-graph-div\" style=\"height:800px; width:800px;\"></div>            <script type=\"text/javascript\">                require([\"plotly\"], function(Plotly) {                    window.PLOTLYENV=window.PLOTLYENV || {};                                    if (document.getElementById(\"cadc68c3-3a3e-4dfd-8af7-c7a8e4d8e1a5\")) {                    Plotly.newPlot(                        \"cadc68c3-3a3e-4dfd-8af7-c7a8e4d8e1a5\",                        [{\"hovertemplate\":\"cluster=%{marker.color}\\u003cbr\\u003eprincipal component 1=%{x}\\u003cbr\\u003eprincipal component 2=%{y}\\u003cextra\\u003e\\u003c\\u002fextra\\u003e\",\"legendgroup\":\"0\",\"marker\":{\"color\":[0,0,0,0,0,0,0,0,0,0,0,0,0,0,0,0,0,0,0,0,0,0],\"coloraxis\":\"coloraxis\",\"size\":[0,0,0,0,0,0,0,0,0,0,0,0,0,0,0,0,0,0,0,0,0,0],\"sizemode\":\"area\",\"sizeref\":0.0075,\"symbol\":\"circle\"},\"mode\":\"markers\",\"name\":\"Cluster 0\",\"orientation\":\"v\",\"showlegend\":true,\"x\":[3.60242878203809,-2.62943394724134,3.4899248239301506,-0.369863847423091,5.303003471609426,-0.09783437948548102,6.240602712011002,6.578230821483683,4.845445270459992,6.1244211721890975,6.27587866639921,6.470693424716895,6.714779139426496,-0.7786821333541446,-0.7899078752417361,3.205891389245931,5.13255880331096,5.153382561672342,3.724616299207804,5.777702148306235,1.974445778388283,5.778436881240016],\"xaxis\":\"x\",\"y\":[3.2969534626053747,-5.318344171177109,-0.6874095136225115,2.3447880120182854,4.462946747320969,-7.162025814584383,1.5128929084187066,0.11395309391563352,0.7531001235542384,-0.20671724820385776,0.09716196844099768,4.087427843107748,0.42980894200893044,3.1238616794965037,3.4337480096785424,2.3423200435253038,4.839906392780952,4.91162563223943,5.11432149023622,0.46118055314922335,2.9479347546188484,1.9506113144010067],\"yaxis\":\"y\",\"type\":\"scatter\"},{\"hovertemplate\":\"cluster=%{marker.color}\\u003cbr\\u003eprincipal component 1=%{x}\\u003cbr\\u003eprincipal component 2=%{y}\\u003cextra\\u003e\\u003c\\u002fextra\\u003e\",\"legendgroup\":\"1\",\"marker\":{\"color\":[1,1,1,1,1,1,1,1,1,1,1,1,1,1,1,1,1,1,1,1,1,1,1,1,1,1,1,1,1,1,1,1,1,1,1,1,1,1,1,1,1,1,1,1,1,1,1,1,1,1,1,1,1,1,1,1,1,1,1,1,1,1,1,1,1,1,1,1,1,1,1,1,1,1,1,1,1,1,1,1,1,1,1,1,1,1,1,1,1,1,1,1,1,1,1,1,1,1,1,1,1,1,1,1,1,1,1,1,1,1,1,1,1,1,1,1,1,1,1,1,1,1,1,1,1,1,1,1,1,1,1,1,1,1,1,1,1,1],\"coloraxis\":\"coloraxis\",\"size\":[1,1,1,1,1,1,1,1,1,1,1,1,1,1,1,1,1,1,1,1,1,1,1,1,1,1,1,1,1,1,1,1,1,1,1,1,1,1,1,1,1,1,1,1,1,1,1,1,1,1,1,1,1,1,1,1,1,1,1,1,1,1,1,1,1,1,1,1,1,1,1,1,1,1,1,1,1,1,1,1,1,1,1,1,1,1,1,1,1,1,1,1,1,1,1,1,1,1,1,1,1,1,1,1,1,1,1,1,1,1,1,1,1,1,1,1,1,1,1,1,1,1,1,1,1,1,1,1,1,1,1,1,1,1,1,1,1,1],\"sizemode\":\"area\",\"sizeref\":0.0075,\"symbol\":\"diamond\"},\"mode\":\"markers\",\"name\":\"Cluster 1\",\"orientation\":\"v\",\"showlegend\":true,\"x\":[1.0585357903841832,-2.250059145782138,-0.9879159083728634,-5.928195457231365,-2.0523239294781046,-1.219250229829547,-1.7086012141239988,2.3373410486357558,-4.83221749668707,0.5680024133498169,1.5846544388110202,-2.146088227010943,0.09131249015535056,2.201552200094695,-1.5922261463429324,-0.3801350037637757,-3.0410367132559126,-6.079113497282829,0.9923858100908965,-3.083085667110798,1.6410236430059233,-2.798824201994865,-4.693257263210803,-5.9093086854650325,-5.241694533250034,-1.3134528447985023,-1.8065655049272904,-5.4640548152806385,-2.367851150193467,0.676648355106955,-2.105515696118556,-2.0122408901102893,-4.5312206036504445,-2.250645636348712,-5.240274330911886,-5.827560468983204,-1.3942756745123368,0.374814266685975,-6.320529635953859,-2.864017190389815,2.302580326822227,-4.467797053700106,-2.1809549743788046,-1.8895269913647044,1.462033016447972,-2.5567771075441166,-1.7441574703389398,-3.020115060054507,-3.858452654344325,-2.4063814180166907,0.5709906844154811,-1.9113332640698235,-4.528263509355871,-6.607969490072341,-0.80582205865509,-4.702003596675098,2.8577776177550698,-3.740191292411308,-2.7040686818625312,-4.674697287217857,-1.9424289661447245,0.7504879683983108,1.4715104574451543,0.6972942920828623,-3.3561360226160613,-6.594644943896961,-3.0752860566766573,-4.637651304968263,-2.78093910809144,-3.3066789115945188,-1.941928714599852,-0.7480559923357526,-1.1490788468330384,-0.7292986636579019,-1.3447244223267538,-0.6549347739584294,-5.723462697590041,1.482037758325933,-0.02664235992486417,0.9593055818068323,-2.6353116277672557,-2.3771094682742118,-4.648702673741612,-2.1922016698676514,0.5879779263374347,-2.9077793683690127,-4.394485016201411,-2.9823025377722088,1.632967540927584,0.9028442312689857,-1.1020552706963909,-2.9407435261355612,0.4129548424339453,-4.025983406141444,-2.915526068643301,-4.664881702062278,0.6700911501996616,-5.624654958923791,2.2537121505494495,-4.099535347356499,4.613291532743513,1.5487496348298213,2.495656418063257,0.4366968816312686,-6.2147360312103554,-2.312996703047328,-4.821123717196615,3.850702843335504,-0.03525140594769985,-3.4420879065844154,-2.48618404057914,-1.9145115431105761,-4.959570993968236,0.1768940139461078,5.6173300310144185,0.25907953022615476,-2.997136077955616,-0.6431358132470655,3.223302248689161,-2.538377839514864,-4.4985439407201,-1.4327409591007454,-1.683271021444316,0.07438985426140952,-2.411675518705194,3.6438828836760044,-5.210672765987325,2.668545980023131,-0.6384347512233026,-0.7303949551553521,-6.383909461316077,-0.41853387307115714,-3.71309877326064,-3.627542721675168,-6.437427963173612,-3.61905785208718,4.479813375781192,-1.5188128891185388],\"xaxis\":\"x\",\"y\":[6.332824501653661,-1.1726775196890353,-2.5414295656476114,1.0170721889772623,-5.636220667105605,-2.5587727611069124,-7.126561358094062,-1.3627135606876513,-0.5914462998120671,-2.7900882110527485,-6.978582410290506,-2.244074892096024,-3.578217646745264,-1.3927929203940421,-1.0899465598241709,-5.186621803952153,2.3629320998100716,1.2851928081838504,5.77874392413026,2.7547216369959746,-0.27484266279341313,-0.021573906666767596,1.3534983464893433,1.0808428406404076,0.2670004634281554,4.684456604135591,-2.159391485696168,0.40447903333735497,1.26482600694239,-5.930137277728334,-2.925687859486031,-6.410632844679682,2.030966524062323,-0.25053868896667714,2.557646294062233,1.312491686152736,0.7268308158019271,1.0194898024054173,1.2939774742271142,-0.1604746209618915,8.20939428390387,0.5862640765223048,-5.811172424296934,0.7407202571274735,-5.313657198521488,-5.102323064256514,-0.17662517259217,-4.181265126936998,-5.1189835698501485,-0.15398005184642918,-6.672460488465606,-0.1803461955374536,2.40805979717858,1.1496464596569866,-2.436969292416292,0.7446843962361923,-3.107588618712094,2.550436529031477,0.040682214021320835,3.2612221231424265,1.430723879395374,-3.87254312980451,-0.8772851125759813,0.3444765110766616,2.1652686907254655,1.778089999542243,1.4489499456395527,-0.3072376873369495,-1.293300072534747,2.598014883158045,0.2216596447699904,-6.521359177409043,0.022112464726462562,-6.473718822941966,-1.149226411687033,-2.170530323245,0.7212179171296178,1.2183808410254886,7.600018551239146,2.9569824556575557,1.1590673796965891,-3.670926179458559,2.8115456598199358,1.0281565402626394,6.932965125051074,1.2463649157211234,-0.927623278045316,0.9501808892317468,0.5639147129951064,-6.8041239336474835,-5.780314907552795,1.5165026057994675,-7.613705640676826,-0.233358555939435,5.248921916912712,2.343471868570172,3.791061944143022,0.5165401828881944,-0.4921543518929287,4.7410640262811015,4.009442785775796,-0.3942034288902288,-7.376967431641742,-6.622015668502773,1.703957544723603,1.367378770277754,3.745313795827839,-6.181098201302808,-3.1003742278409865,2.200688342080907,1.2011715463952262,-4.429640625481539,1.2433276044883974,-4.319104368770287,0.5000508275496633,-0.5447371235204851,-0.9978943929511861,-7.28383072590816,-5.068174936922175,1.495949178015185,2.899015760794284,-0.6547205573502188,1.366363718548896,-5.640763163330021,1.9108858547539775,7.440161079934278,-0.527766296635027,5.30391053635938,-3.1561330878444016,0.5394189147811626,1.8710555999439722,5.648981075172065,3.1263300248256107,0.25777977553529485,1.6399916046579373,-3.0385623493595193,0.8198533250579864,-5.376294503222811],\"yaxis\":\"y\",\"type\":\"scatter\"},{\"hovertemplate\":\"cluster=%{marker.color}\\u003cbr\\u003eprincipal component 1=%{x}\\u003cbr\\u003eprincipal component 2=%{y}\\u003cextra\\u003e\\u003c\\u002fextra\\u003e\",\"legendgroup\":\"2\",\"marker\":{\"color\":[2,2,2,2,2,2,2,2,2,2,2,2,2,2,2,2,2,2],\"coloraxis\":\"coloraxis\",\"size\":[2,2,2,2,2,2,2,2,2,2,2,2,2,2,2,2,2,2],\"sizemode\":\"area\",\"sizeref\":0.0075,\"symbol\":\"square\"},\"mode\":\"markers\",\"name\":\"Cluster 2\",\"orientation\":\"v\",\"showlegend\":true,\"x\":[9.059533469761062,8.374410235240507,8.441665498683827,8.066220539541087,6.623303615841347,5.488905894923699,7.667046096930938,7.658942852663237,8.082164574083201,8.69538334294892,9.214112204471503,8.111346229048008,7.8097215362641,8.47367904175534,6.375641073318005,8.811843911788818,8.049046985857364,7.918131471372993],\"xaxis\":\"x\",\"y\":[-1.837684235311377,-1.5299508826945514,-2.887613149707447,-0.9412734124895257,-2.574830317543623,2.465557366140117,-0.9098026687310822,-0.24827841288661526,-1.4886369696469957,-1.6683014682670607,-1.5746101460736732,-1.216303554681815,-0.3868568869028958,-1.8614230931316138,1.8049284029894996,-0.7701748514401108,-1.3606009478454943,-0.14496571791554355],\"yaxis\":\"y\",\"type\":\"scatter\"},{\"hovertemplate\":\"cluster=%{marker.color}\\u003cbr\\u003eprincipal component 1=%{x}\\u003cbr\\u003eprincipal component 2=%{y}\\u003cextra\\u003e\\u003c\\u002fextra\\u003e\",\"legendgroup\":\"3\",\"marker\":{\"color\":[3,3,3,3,3],\"coloraxis\":\"coloraxis\",\"size\":[3,3,3,3,3],\"sizemode\":\"area\",\"sizeref\":0.0075,\"symbol\":\"x\"},\"mode\":\"markers\",\"name\":\"Cluster 3\",\"orientation\":\"v\",\"showlegend\":true,\"x\":[4.133595886269193,3.6524505924267645,3.879820426562158,3.7006717258263624,5.808915219775914],\"xaxis\":\"x\",\"y\":[7.582869382431928,7.3293160964720485,6.194767969928224,7.189167961498388,6.65735430779764],\"yaxis\":\"y\",\"type\":\"scatter\"}],                        {\"template\":{\"data\":{\"histogram2dcontour\":[{\"type\":\"histogram2dcontour\",\"colorbar\":{\"outlinewidth\":0,\"ticks\":\"\"},\"colorscale\":[[0.0,\"#0d0887\"],[0.1111111111111111,\"#46039f\"],[0.2222222222222222,\"#7201a8\"],[0.3333333333333333,\"#9c179e\"],[0.4444444444444444,\"#bd3786\"],[0.5555555555555556,\"#d8576b\"],[0.6666666666666666,\"#ed7953\"],[0.7777777777777778,\"#fb9f3a\"],[0.8888888888888888,\"#fdca26\"],[1.0,\"#f0f921\"]]}],\"choropleth\":[{\"type\":\"choropleth\",\"colorbar\":{\"outlinewidth\":0,\"ticks\":\"\"}}],\"histogram2d\":[{\"type\":\"histogram2d\",\"colorbar\":{\"outlinewidth\":0,\"ticks\":\"\"},\"colorscale\":[[0.0,\"#0d0887\"],[0.1111111111111111,\"#46039f\"],[0.2222222222222222,\"#7201a8\"],[0.3333333333333333,\"#9c179e\"],[0.4444444444444444,\"#bd3786\"],[0.5555555555555556,\"#d8576b\"],[0.6666666666666666,\"#ed7953\"],[0.7777777777777778,\"#fb9f3a\"],[0.8888888888888888,\"#fdca26\"],[1.0,\"#f0f921\"]]}],\"heatmap\":[{\"type\":\"heatmap\",\"colorbar\":{\"outlinewidth\":0,\"ticks\":\"\"},\"colorscale\":[[0.0,\"#0d0887\"],[0.1111111111111111,\"#46039f\"],[0.2222222222222222,\"#7201a8\"],[0.3333333333333333,\"#9c179e\"],[0.4444444444444444,\"#bd3786\"],[0.5555555555555556,\"#d8576b\"],[0.6666666666666666,\"#ed7953\"],[0.7777777777777778,\"#fb9f3a\"],[0.8888888888888888,\"#fdca26\"],[1.0,\"#f0f921\"]]}],\"heatmapgl\":[{\"type\":\"heatmapgl\",\"colorbar\":{\"outlinewidth\":0,\"ticks\":\"\"},\"colorscale\":[[0.0,\"#0d0887\"],[0.1111111111111111,\"#46039f\"],[0.2222222222222222,\"#7201a8\"],[0.3333333333333333,\"#9c179e\"],[0.4444444444444444,\"#bd3786\"],[0.5555555555555556,\"#d8576b\"],[0.6666666666666666,\"#ed7953\"],[0.7777777777777778,\"#fb9f3a\"],[0.8888888888888888,\"#fdca26\"],[1.0,\"#f0f921\"]]}],\"contourcarpet\":[{\"type\":\"contourcarpet\",\"colorbar\":{\"outlinewidth\":0,\"ticks\":\"\"}}],\"contour\":[{\"type\":\"contour\",\"colorbar\":{\"outlinewidth\":0,\"ticks\":\"\"},\"colorscale\":[[0.0,\"#0d0887\"],[0.1111111111111111,\"#46039f\"],[0.2222222222222222,\"#7201a8\"],[0.3333333333333333,\"#9c179e\"],[0.4444444444444444,\"#bd3786\"],[0.5555555555555556,\"#d8576b\"],[0.6666666666666666,\"#ed7953\"],[0.7777777777777778,\"#fb9f3a\"],[0.8888888888888888,\"#fdca26\"],[1.0,\"#f0f921\"]]}],\"surface\":[{\"type\":\"surface\",\"colorbar\":{\"outlinewidth\":0,\"ticks\":\"\"},\"colorscale\":[[0.0,\"#0d0887\"],[0.1111111111111111,\"#46039f\"],[0.2222222222222222,\"#7201a8\"],[0.3333333333333333,\"#9c179e\"],[0.4444444444444444,\"#bd3786\"],[0.5555555555555556,\"#d8576b\"],[0.6666666666666666,\"#ed7953\"],[0.7777777777777778,\"#fb9f3a\"],[0.8888888888888888,\"#fdca26\"],[1.0,\"#f0f921\"]]}],\"mesh3d\":[{\"type\":\"mesh3d\",\"colorbar\":{\"outlinewidth\":0,\"ticks\":\"\"}}],\"scatter\":[{\"fillpattern\":{\"fillmode\":\"overlay\",\"size\":10,\"solidity\":0.2},\"type\":\"scatter\"}],\"parcoords\":[{\"type\":\"parcoords\",\"line\":{\"colorbar\":{\"outlinewidth\":0,\"ticks\":\"\"}}}],\"scatterpolargl\":[{\"type\":\"scatterpolargl\",\"marker\":{\"colorbar\":{\"outlinewidth\":0,\"ticks\":\"\"}}}],\"bar\":[{\"error_x\":{\"color\":\"#2a3f5f\"},\"error_y\":{\"color\":\"#2a3f5f\"},\"marker\":{\"line\":{\"color\":\"#E5ECF6\",\"width\":0.5},\"pattern\":{\"fillmode\":\"overlay\",\"size\":10,\"solidity\":0.2}},\"type\":\"bar\"}],\"scattergeo\":[{\"type\":\"scattergeo\",\"marker\":{\"colorbar\":{\"outlinewidth\":0,\"ticks\":\"\"}}}],\"scatterpolar\":[{\"type\":\"scatterpolar\",\"marker\":{\"colorbar\":{\"outlinewidth\":0,\"ticks\":\"\"}}}],\"histogram\":[{\"marker\":{\"pattern\":{\"fillmode\":\"overlay\",\"size\":10,\"solidity\":0.2}},\"type\":\"histogram\"}],\"scattergl\":[{\"type\":\"scattergl\",\"marker\":{\"colorbar\":{\"outlinewidth\":0,\"ticks\":\"\"}}}],\"scatter3d\":[{\"type\":\"scatter3d\",\"line\":{\"colorbar\":{\"outlinewidth\":0,\"ticks\":\"\"}},\"marker\":{\"colorbar\":{\"outlinewidth\":0,\"ticks\":\"\"}}}],\"scattermapbox\":[{\"type\":\"scattermapbox\",\"marker\":{\"colorbar\":{\"outlinewidth\":0,\"ticks\":\"\"}}}],\"scatterternary\":[{\"type\":\"scatterternary\",\"marker\":{\"colorbar\":{\"outlinewidth\":0,\"ticks\":\"\"}}}],\"scattercarpet\":[{\"type\":\"scattercarpet\",\"marker\":{\"colorbar\":{\"outlinewidth\":0,\"ticks\":\"\"}}}],\"carpet\":[{\"aaxis\":{\"endlinecolor\":\"#2a3f5f\",\"gridcolor\":\"white\",\"linecolor\":\"white\",\"minorgridcolor\":\"white\",\"startlinecolor\":\"#2a3f5f\"},\"baxis\":{\"endlinecolor\":\"#2a3f5f\",\"gridcolor\":\"white\",\"linecolor\":\"white\",\"minorgridcolor\":\"white\",\"startlinecolor\":\"#2a3f5f\"},\"type\":\"carpet\"}],\"table\":[{\"cells\":{\"fill\":{\"color\":\"#EBF0F8\"},\"line\":{\"color\":\"white\"}},\"header\":{\"fill\":{\"color\":\"#C8D4E3\"},\"line\":{\"color\":\"white\"}},\"type\":\"table\"}],\"barpolar\":[{\"marker\":{\"line\":{\"color\":\"#E5ECF6\",\"width\":0.5},\"pattern\":{\"fillmode\":\"overlay\",\"size\":10,\"solidity\":0.2}},\"type\":\"barpolar\"}],\"pie\":[{\"automargin\":true,\"type\":\"pie\"}]},\"layout\":{\"autotypenumbers\":\"strict\",\"colorway\":[\"#636efa\",\"#EF553B\",\"#00cc96\",\"#ab63fa\",\"#FFA15A\",\"#19d3f3\",\"#FF6692\",\"#B6E880\",\"#FF97FF\",\"#FECB52\"],\"font\":{\"color\":\"#2a3f5f\"},\"hovermode\":\"closest\",\"hoverlabel\":{\"align\":\"left\"},\"paper_bgcolor\":\"white\",\"plot_bgcolor\":\"#E5ECF6\",\"polar\":{\"bgcolor\":\"#E5ECF6\",\"angularaxis\":{\"gridcolor\":\"white\",\"linecolor\":\"white\",\"ticks\":\"\"},\"radialaxis\":{\"gridcolor\":\"white\",\"linecolor\":\"white\",\"ticks\":\"\"}},\"ternary\":{\"bgcolor\":\"#E5ECF6\",\"aaxis\":{\"gridcolor\":\"white\",\"linecolor\":\"white\",\"ticks\":\"\"},\"baxis\":{\"gridcolor\":\"white\",\"linecolor\":\"white\",\"ticks\":\"\"},\"caxis\":{\"gridcolor\":\"white\",\"linecolor\":\"white\",\"ticks\":\"\"}},\"coloraxis\":{\"colorbar\":{\"outlinewidth\":0,\"ticks\":\"\"}},\"colorscale\":{\"sequential\":[[0.0,\"#0d0887\"],[0.1111111111111111,\"#46039f\"],[0.2222222222222222,\"#7201a8\"],[0.3333333333333333,\"#9c179e\"],[0.4444444444444444,\"#bd3786\"],[0.5555555555555556,\"#d8576b\"],[0.6666666666666666,\"#ed7953\"],[0.7777777777777778,\"#fb9f3a\"],[0.8888888888888888,\"#fdca26\"],[1.0,\"#f0f921\"]],\"sequentialminus\":[[0.0,\"#0d0887\"],[0.1111111111111111,\"#46039f\"],[0.2222222222222222,\"#7201a8\"],[0.3333333333333333,\"#9c179e\"],[0.4444444444444444,\"#bd3786\"],[0.5555555555555556,\"#d8576b\"],[0.6666666666666666,\"#ed7953\"],[0.7777777777777778,\"#fb9f3a\"],[0.8888888888888888,\"#fdca26\"],[1.0,\"#f0f921\"]],\"diverging\":[[0,\"#8e0152\"],[0.1,\"#c51b7d\"],[0.2,\"#de77ae\"],[0.3,\"#f1b6da\"],[0.4,\"#fde0ef\"],[0.5,\"#f7f7f7\"],[0.6,\"#e6f5d0\"],[0.7,\"#b8e186\"],[0.8,\"#7fbc41\"],[0.9,\"#4d9221\"],[1,\"#276419\"]]},\"xaxis\":{\"gridcolor\":\"white\",\"linecolor\":\"white\",\"ticks\":\"\",\"title\":{\"standoff\":15},\"zerolinecolor\":\"white\",\"automargin\":true,\"zerolinewidth\":2},\"yaxis\":{\"gridcolor\":\"white\",\"linecolor\":\"white\",\"ticks\":\"\",\"title\":{\"standoff\":15},\"zerolinecolor\":\"white\",\"automargin\":true,\"zerolinewidth\":2},\"scene\":{\"xaxis\":{\"backgroundcolor\":\"#E5ECF6\",\"gridcolor\":\"white\",\"linecolor\":\"white\",\"showbackground\":true,\"ticks\":\"\",\"zerolinecolor\":\"white\",\"gridwidth\":2},\"yaxis\":{\"backgroundcolor\":\"#E5ECF6\",\"gridcolor\":\"white\",\"linecolor\":\"white\",\"showbackground\":true,\"ticks\":\"\",\"zerolinecolor\":\"white\",\"gridwidth\":2},\"zaxis\":{\"backgroundcolor\":\"#E5ECF6\",\"gridcolor\":\"white\",\"linecolor\":\"white\",\"showbackground\":true,\"ticks\":\"\",\"zerolinecolor\":\"white\",\"gridwidth\":2}},\"shapedefaults\":{\"line\":{\"color\":\"#2a3f5f\"}},\"annotationdefaults\":{\"arrowcolor\":\"#2a3f5f\",\"arrowhead\":0,\"arrowwidth\":1},\"geo\":{\"bgcolor\":\"white\",\"landcolor\":\"#E5ECF6\",\"subunitcolor\":\"white\",\"showland\":true,\"showlakes\":true,\"lakecolor\":\"white\"},\"title\":{\"x\":0.05},\"mapbox\":{\"style\":\"light\"}}},\"xaxis\":{\"anchor\":\"y\",\"domain\":[0.0,1.0],\"title\":{\"text\":\"\"},\"showline\":false,\"showgrid\":false,\"zeroline\":false,\"showticklabels\":false},\"yaxis\":{\"anchor\":\"x\",\"domain\":[0.0,1.0],\"title\":{\"text\":\"\"},\"showline\":false,\"showgrid\":false,\"zeroline\":false,\"showticklabels\":false},\"coloraxis\":{\"colorbar\":{\"title\":{\"text\":\"cluster\"}},\"colorscale\":[[0.0,\"#0d0887\"],[0.1111111111111111,\"#46039f\"],[0.2222222222222222,\"#7201a8\"],[0.3333333333333333,\"#9c179e\"],[0.4444444444444444,\"#bd3786\"],[0.5555555555555556,\"#d8576b\"],[0.6666666666666666,\"#ed7953\"],[0.7777777777777778,\"#fb9f3a\"],[0.8888888888888888,\"#fdca26\"],[1.0,\"#f0f921\"]],\"showscale\":false},\"legend\":{\"title\":{\"text\":\"\"},\"tracegroupgap\":0,\"itemsizing\":\"constant\",\"font\":{\"family\":\"sans-serif\",\"size\":20,\"color\":\"black\"},\"traceorder\":\"normal\",\"bordercolor\":\"Black\",\"borderwidth\":2},\"margin\":{\"t\":0,\"l\":0,\"r\":0,\"b\":0},\"width\":800,\"height\":800,\"plot_bgcolor\":\"white\"},                        {\"responsive\": true}                    ).then(function(){\n",
              "                            \n",
              "var gd = document.getElementById('cadc68c3-3a3e-4dfd-8af7-c7a8e4d8e1a5');\n",
              "var x = new MutationObserver(function (mutations, observer) {{\n",
              "        var display = window.getComputedStyle(gd).display;\n",
              "        if (!display || display === 'none') {{\n",
              "            console.log([gd, 'removed!']);\n",
              "            Plotly.purge(gd);\n",
              "            observer.disconnect();\n",
              "        }}\n",
              "}});\n",
              "\n",
              "// Listen for the removal of the full notebook cells\n",
              "var notebookContainer = gd.closest('#notebook-container');\n",
              "if (notebookContainer) {{\n",
              "    x.observe(notebookContainer, {childList: true});\n",
              "}}\n",
              "\n",
              "// Listen for the clearing of the current output cell\n",
              "var outputEl = gd.closest('.output');\n",
              "if (outputEl) {{\n",
              "    x.observe(outputEl, {childList: true});\n",
              "}}\n",
              "\n",
              "                        })                };                });            </script>        </div>"
            ]
          },
          "metadata": {},
          "output_type": "display_data"
        },
        {
          "data": {
            "text/html": [
              "<pre style=\"white-space:pre;overflow-x:auto;line-height:normal;font-family:Menlo,'DejaVu Sans Mono',consolas,'Courier New',monospace\"><span style=\"font-style: italic\">                                            Resultados do DBSCAN                                             </span>\n",
              "┏━━━━━━━━━━━━━━━━━━━━┳━━━━━━━━━━━━━━━━━━━━━┳━━━━━━━━━━━━━━━━━━━━━┳━━━━━━━━━━━━━━━━━━━━━┳━━━━━━━━━━━━━━━━━━━━┓\n",
              "┃<span style=\"font-weight: bold\">       Coesão       </span>┃<span style=\"font-weight: bold\">  Silhouette Score   </span>┃<span style=\"font-weight: bold\">     Rand Score      </span>┃<span style=\"font-weight: bold\">    Homogeneidade    </span>┃<span style=\"font-weight: bold\">     Completude     </span>┃\n",
              "┡━━━━━━━━━━━━━━━━━━━━╇━━━━━━━━━━━━━━━━━━━━━╇━━━━━━━━━━━━━━━━━━━━━╇━━━━━━━━━━━━━━━━━━━━━╇━━━━━━━━━━━━━━━━━━━━┩\n",
              "│<span style=\"color: #008080; text-decoration-color: #008080\"> 296.92225981387895 </span>│<span style=\"color: #800080; text-decoration-color: #800080\"> 0.10704618412674562 </span>│<span style=\"color: #008000; text-decoration-color: #008000\"> 0.08306641764548961 </span>│<span style=\"color: #000080; text-decoration-color: #000080\"> 0.20245756223544178 </span>│<span style=\"color: #808000; text-decoration-color: #808000\"> 0.5721937874596295 </span>│\n",
              "└────────────────────┴─────────────────────┴─────────────────────┴─────────────────────┴────────────────────┘\n",
              "</pre>\n"
            ],
            "text/plain": [
              "\u001b[3m                                            Resultados do DBSCAN                                             \u001b[0m\n",
              "┏━━━━━━━━━━━━━━━━━━━━┳━━━━━━━━━━━━━━━━━━━━━┳━━━━━━━━━━━━━━━━━━━━━┳━━━━━━━━━━━━━━━━━━━━━┳━━━━━━━━━━━━━━━━━━━━┓\n",
              "┃\u001b[1m \u001b[0m\u001b[1m      Coesão      \u001b[0m\u001b[1m \u001b[0m┃\u001b[1m \u001b[0m\u001b[1m Silhouette Score  \u001b[0m\u001b[1m \u001b[0m┃\u001b[1m \u001b[0m\u001b[1m    Rand Score     \u001b[0m\u001b[1m \u001b[0m┃\u001b[1m \u001b[0m\u001b[1m   Homogeneidade   \u001b[0m\u001b[1m \u001b[0m┃\u001b[1m \u001b[0m\u001b[1m    Completude    \u001b[0m\u001b[1m \u001b[0m┃\n",
              "┡━━━━━━━━━━━━━━━━━━━━╇━━━━━━━━━━━━━━━━━━━━━╇━━━━━━━━━━━━━━━━━━━━━╇━━━━━━━━━━━━━━━━━━━━━╇━━━━━━━━━━━━━━━━━━━━┩\n",
              "│\u001b[36m \u001b[0m\u001b[36m296.92225981387895\u001b[0m\u001b[36m \u001b[0m│\u001b[35m \u001b[0m\u001b[35m0.10704618412674562\u001b[0m\u001b[35m \u001b[0m│\u001b[32m \u001b[0m\u001b[32m0.08306641764548961\u001b[0m\u001b[32m \u001b[0m│\u001b[34m \u001b[0m\u001b[34m0.20245756223544178\u001b[0m\u001b[34m \u001b[0m│\u001b[33m \u001b[0m\u001b[33m0.5721937874596295\u001b[0m\u001b[33m \u001b[0m│\n",
              "└────────────────────┴─────────────────────┴─────────────────────┴─────────────────────┴────────────────────┘\n"
            ]
          },
          "metadata": {},
          "output_type": "display_data"
        },
        {
          "name": "stdout",
          "output_type": "stream",
          "text": [
            "Matriz de Confusão\n",
            "[[ 2  8  0  0]\n",
            " [ 0 30  0  0]\n",
            " [ 0 12  0  0]\n",
            " [ 0 12  0  0]\n",
            " [ 3 22  0  0]\n",
            " [ 1 21  0  0]\n",
            " [ 5  2  6  0]\n",
            " [ 0 23  0  0]\n",
            " [ 6  0 12  0]\n",
            " [ 5  8  0  5]]\n"
          ]
        }
      ],
      "source": [
        "def DBSCAN_Trainer(df):\n",
        "    \n",
        "    # Define o EPS\n",
        "    eps = 7\n",
        "    \n",
        "    # Define o número mínimo de amostras\n",
        "    min_samples = 5\n",
        "    \n",
        "    # Define o modelo\n",
        "    model = DBSCAN(eps=eps, min_samples=min_samples)\n",
        "    \n",
        "    # Define os dados de treino\n",
        "    model.fit(df)\n",
        "    \n",
        "    # Define a opinião do modelo\n",
        "    X = model.labels_\n",
        "\n",
        "    # DBSCAN predict\n",
        "    dbscan_labels = model.fit_predict(df)\n",
        "\n",
        "    # Printa a opinião do modelo com o rich\n",
        "    console = Console()\n",
        "    table = Table(title=\"Opinião do Modelo DBSCAN\")\n",
        "    table.add_column(\"Cluster\", style=\"cyan\", justify=\"center\")\n",
        "    table.add_column(\"Opinião\", style=\"magenta\", justify=\"center\")\n",
        "    for i in range(len(np.unique(X))):\n",
        "        table.add_row(str(i), str(np.sum(X == i)))\n",
        "    console.print(table)\n",
        "    \n",
        "    # Printa o X com o rich\n",
        "    console = Console()\n",
        "    console.print(X)\n",
        "    \n",
        "    # Plota o gráfico de dispersão dos dados DBSCAN\n",
        "    \n",
        "    # Supondo que meu dataframe seja o 'X' e que 'y_kmeans' seja o resultado do agrupamento\n",
        "    pca = PCA(n_components=2)\n",
        "    principalComponents = pca.fit_transform(df)\n",
        "\n",
        "    # Cria um dataframe com os componentes principais\n",
        "    principalDf = pd.DataFrame(data = principalComponents, columns = ['principal component 1', 'principal component 2'])\n",
        "\n",
        "    # Adiciona a coluna de agrupamento\n",
        "    principalDf['cluster'] = X\n",
        "\n",
        "    # Ordena o DataFrame pelo valor do cluster (Arruma a legenda do gráfico para que os clusters fiquem em ordem crescente)\n",
        "    principalDf = principalDf.sort_values(by='cluster')\n",
        "\n",
        "    # Transforma na df todos o cluster, os que era 0 viram 1, 1 vira 2 e assim por diante\n",
        "    principalDf['cluster'] = principalDf['cluster'] + 1\n",
        "\n",
        "    \n",
        "    # Plota o gráfico de dispersão\n",
        "    fig = px.scatter(principalDf, x='principal component 1', y='principal component 2', symbol='cluster', size='cluster', color='cluster')\n",
        "\n",
        "    # Atualiza o layout do gráfico\n",
        "    fig.update_layout(\n",
        "        width=800, \n",
        "        height=800)\n",
        "    \n",
        "    # Atualiza o X e Y do gráfico retirando-os\n",
        "    fig.update_xaxes(title_text='')\n",
        "    fig.update_yaxes(title_text='')\n",
        "    \n",
        "    # Remove a barra de cores\n",
        "    fig.update_layout(coloraxis_showscale=False)\n",
        "    \n",
        "    # Retira o fundo do gráfico (grid) colocando-o branco\n",
        "    fig.update_layout(plot_bgcolor='white')\n",
        "\n",
        "    # Retira o axis do gráfico\n",
        "    fig.update_xaxes(showline=False, showgrid=False, zeroline=False)\n",
        "    fig.update_yaxes(showline=False, showgrid=False, zeroline=False)\n",
        "    \n",
        "    # Retira os numeros do eixo X e Y\n",
        "    fig.update_xaxes(showticklabels=False)\n",
        "    fig.update_yaxes(showticklabels=False)\n",
        "    \n",
        "    # Organiza a legenda em ordem crescente de clusters\n",
        "    fig.for_each_trace(lambda t: t.update(name='Cluster ' + str(t.name)))\n",
        "    \n",
        "    # Configura a legenda\n",
        "    fig.update_layout(\n",
        "        legend=dict(\n",
        "            traceorder='normal',\n",
        "            font=dict(\n",
        "                family='sans-serif',\n",
        "                size=20,\n",
        "                color='black'\n",
        "            ),\n",
        "            bordercolor='Black',\n",
        "            borderwidth=2\n",
        "        ),\n",
        "        \n",
        "        # Padding para tirar o espaço em branco em volta do gráfico\n",
        "        margin=dict(l=0, r=0, t=0, b=0)\n",
        "    )\n",
        "    \n",
        "    # Retira o titulo da legenda\n",
        "    fig.update_layout(legend_title_text='')\n",
        "    \n",
        "    # Exibe o gráfico\n",
        "    fig.show()\n",
        "    \n",
        "    # Calcula o coeficiente de silhueta\n",
        "    n_clusters = len(set(X))\n",
        "    \n",
        "    if n_clusters > 1:\n",
        "        silhouette_dbscan = silhouette_score(df, X)\n",
        "    else:\n",
        "        silhouette_dbscan = 0\n",
        "    \n",
        "\n",
        "    # Calcula a coesão para o DBSCAN\n",
        "    dbscan_cohesion = 0\n",
        "    for cluster in np.unique(dbscan_labels):\n",
        "        if cluster != -1:  # Ignora os pontos de ruído\n",
        "            cluster_points = df[dbscan_labels == cluster]\n",
        "            \n",
        "            # Calcula o centróide do cluster\n",
        "            centroid = np.mean(cluster_points, axis=0)\n",
        "            \n",
        "            # Calcula a distância de cada ponto ao centróide\n",
        "            distances = euclidean_distances(cluster_points, [centroid])\n",
        "            \n",
        "            # Soma as distâncias para obter a coesão do cluster\n",
        "            dbscan_cohesion += np.sum(distances)\n",
        "\n",
        "    # Divide pela quantidade de clusters\n",
        "    dbscan_cohesion /= len(np.unique(dbscan_labels))\n",
        "\n",
        "    \n",
        "    # Rand score do DBSCAN\n",
        "    rand_dbscan = metrics.adjusted_rand_score(df['clusters'], X)\n",
        "    \n",
        "    # Homogeneidade\n",
        "    homogeneity = metrics.homogeneity_score(df['clusters'], X)\n",
        "    \n",
        "    # Completude\n",
        "    completeness = metrics.completeness_score(df['clusters'], X)\n",
        "    \n",
        "    # Matriz de confusão\n",
        "    confusion_matrix = metrics.cluster.contingency_matrix(df['clusters'], X)\n",
        "    \n",
        "    # Printa\n",
        "    console = Console()\n",
        "    table = Table(title=\"Resultados do DBSCAN\")\n",
        "    table.add_column(\"Coesão\", style=\"cyan\", justify=\"center\")\n",
        "    table.add_column(\"Silhouette Score\", style=\"magenta\", justify=\"center\")\n",
        "    table.add_column(\"Rand Score\", style=\"green\", justify=\"center\")\n",
        "    table.add_column(\"Homogeneidade\", style=\"blue\", justify=\"center\")\n",
        "    table.add_column(\"Completude\", style=\"yellow\", justify=\"center\")\n",
        "     \n",
        "    table.add_row(str(dbscan_cohesion), str(silhouette_dbscan), str(rand_dbscan), str(homogeneity), str(completeness))\n",
        "    \n",
        "    console.print(table)\n",
        "    \n",
        "    # Printa a matriz de confusão\n",
        "    print(\"Matriz de Confusão\")\n",
        "    print(confusion_matrix)\n",
        "    \n",
        "    return silhouette_dbscan\n",
        "\n",
        "# Chamada da função DBSCAN\n",
        "silhouette_dbscan = DBSCAN_Trainer(df)"
      ]
    },
    {
      "cell_type": "markdown",
      "metadata": {},
      "source": [
        "# Método do AGNES\n",
        "\n",
        "O AGNES é um método de clusterização que tem como objetivo dividir um conjunto de dados em grupos de hierarquia, onde os grupos são formados por pontos que estão próximos uns dos outros"
      ]
    },
    {
      "cell_type": "code",
      "execution_count": 165,
      "metadata": {},
      "outputs": [
        {
          "data": {
            "text/html": [
              "<pre style=\"white-space:pre;overflow-x:auto;line-height:normal;font-family:Menlo,'DejaVu Sans Mono',consolas,'Courier New',monospace\"><span style=\"font-style: italic\">  Opinião do Modelo  </span>\n",
              "<span style=\"font-style: italic\">        AGNES        </span>\n",
              "┏━━━━━━━━━┳━━━━━━━━━┓\n",
              "┃<span style=\"font-weight: bold\"> Cluster </span>┃<span style=\"font-weight: bold\"> Opinião </span>┃\n",
              "┡━━━━━━━━━╇━━━━━━━━━┩\n",
              "│<span style=\"color: #008080; text-decoration-color: #008080\">    0    </span>│<span style=\"color: #800080; text-decoration-color: #800080\">   51    </span>│\n",
              "│<span style=\"color: #008080; text-decoration-color: #008080\">    1    </span>│<span style=\"color: #800080; text-decoration-color: #800080\">   59    </span>│\n",
              "│<span style=\"color: #008080; text-decoration-color: #008080\">    2    </span>│<span style=\"color: #800080; text-decoration-color: #800080\">   33    </span>│\n",
              "│<span style=\"color: #008080; text-decoration-color: #008080\">    3    </span>│<span style=\"color: #800080; text-decoration-color: #800080\">   24    </span>│\n",
              "│<span style=\"color: #008080; text-decoration-color: #008080\">    4    </span>│<span style=\"color: #800080; text-decoration-color: #800080\">   16    </span>│\n",
              "└─────────┴─────────┘\n",
              "</pre>\n"
            ],
            "text/plain": [
              "\u001b[3m  Opinião do Modelo  \u001b[0m\n",
              "\u001b[3m        AGNES        \u001b[0m\n",
              "┏━━━━━━━━━┳━━━━━━━━━┓\n",
              "┃\u001b[1m \u001b[0m\u001b[1mCluster\u001b[0m\u001b[1m \u001b[0m┃\u001b[1m \u001b[0m\u001b[1mOpinião\u001b[0m\u001b[1m \u001b[0m┃\n",
              "┡━━━━━━━━━╇━━━━━━━━━┩\n",
              "│\u001b[36m \u001b[0m\u001b[36m   0   \u001b[0m\u001b[36m \u001b[0m│\u001b[35m \u001b[0m\u001b[35m  51   \u001b[0m\u001b[35m \u001b[0m│\n",
              "│\u001b[36m \u001b[0m\u001b[36m   1   \u001b[0m\u001b[36m \u001b[0m│\u001b[35m \u001b[0m\u001b[35m  59   \u001b[0m\u001b[35m \u001b[0m│\n",
              "│\u001b[36m \u001b[0m\u001b[36m   2   \u001b[0m\u001b[36m \u001b[0m│\u001b[35m \u001b[0m\u001b[35m  33   \u001b[0m\u001b[35m \u001b[0m│\n",
              "│\u001b[36m \u001b[0m\u001b[36m   3   \u001b[0m\u001b[36m \u001b[0m│\u001b[35m \u001b[0m\u001b[35m  24   \u001b[0m\u001b[35m \u001b[0m│\n",
              "│\u001b[36m \u001b[0m\u001b[36m   4   \u001b[0m\u001b[36m \u001b[0m│\u001b[35m \u001b[0m\u001b[35m  16   \u001b[0m\u001b[35m \u001b[0m│\n",
              "└─────────┴─────────┘\n"
            ]
          },
          "metadata": {},
          "output_type": "display_data"
        },
        {
          "data": {
            "text/html": [
              "<pre style=\"white-space:pre;overflow-x:auto;line-height:normal;font-family:Menlo,'DejaVu Sans Mono',consolas,'Courier New',monospace\"><span style=\"font-weight: bold\">[</span><span style=\"color: #008080; text-decoration-color: #008080; font-weight: bold\">4</span> <span style=\"color: #008080; text-decoration-color: #008080; font-weight: bold\">2</span> <span style=\"color: #008080; text-decoration-color: #008080; font-weight: bold\">4</span> <span style=\"color: #008080; text-decoration-color: #008080; font-weight: bold\">1</span> <span style=\"color: #008080; text-decoration-color: #008080; font-weight: bold\">4</span> <span style=\"color: #008080; text-decoration-color: #008080; font-weight: bold\">4</span> <span style=\"color: #008080; text-decoration-color: #008080; font-weight: bold\">1</span> <span style=\"color: #008080; text-decoration-color: #008080; font-weight: bold\">0</span> <span style=\"color: #008080; text-decoration-color: #008080; font-weight: bold\">0</span> <span style=\"color: #008080; text-decoration-color: #008080; font-weight: bold\">0</span> <span style=\"color: #008080; text-decoration-color: #008080; font-weight: bold\">4</span> <span style=\"color: #008080; text-decoration-color: #008080; font-weight: bold\">1</span> <span style=\"color: #008080; text-decoration-color: #008080; font-weight: bold\">4</span> <span style=\"color: #008080; text-decoration-color: #008080; font-weight: bold\">3</span> <span style=\"color: #008080; text-decoration-color: #008080; font-weight: bold\">3</span> <span style=\"color: #008080; text-decoration-color: #008080; font-weight: bold\">3</span> <span style=\"color: #008080; text-decoration-color: #008080; font-weight: bold\">2</span> <span style=\"color: #008080; text-decoration-color: #008080; font-weight: bold\">0</span> <span style=\"color: #008080; text-decoration-color: #008080; font-weight: bold\">3</span> <span style=\"color: #008080; text-decoration-color: #008080; font-weight: bold\">3</span> <span style=\"color: #008080; text-decoration-color: #008080; font-weight: bold\">3</span> <span style=\"color: #008080; text-decoration-color: #008080; font-weight: bold\">1</span> <span style=\"color: #008080; text-decoration-color: #008080; font-weight: bold\">0</span> <span style=\"color: #008080; text-decoration-color: #008080; font-weight: bold\">0</span> <span style=\"color: #008080; text-decoration-color: #008080; font-weight: bold\">1</span> <span style=\"color: #008080; text-decoration-color: #008080; font-weight: bold\">1</span> <span style=\"color: #008080; text-decoration-color: #008080; font-weight: bold\">1</span> <span style=\"color: #008080; text-decoration-color: #008080; font-weight: bold\">4</span> <span style=\"color: #008080; text-decoration-color: #008080; font-weight: bold\">0</span> <span style=\"color: #008080; text-decoration-color: #008080; font-weight: bold\">3</span> <span style=\"color: #008080; text-decoration-color: #008080; font-weight: bold\">1</span> <span style=\"color: #008080; text-decoration-color: #008080; font-weight: bold\">0</span> <span style=\"color: #008080; text-decoration-color: #008080; font-weight: bold\">2</span> <span style=\"color: #008080; text-decoration-color: #008080; font-weight: bold\">0</span> <span style=\"color: #008080; text-decoration-color: #008080; font-weight: bold\">1</span> <span style=\"color: #008080; text-decoration-color: #008080; font-weight: bold\">0</span> <span style=\"color: #008080; text-decoration-color: #008080; font-weight: bold\">1</span>\n",
              " <span style=\"color: #008080; text-decoration-color: #008080; font-weight: bold\">1</span> <span style=\"color: #008080; text-decoration-color: #008080; font-weight: bold\">1</span> <span style=\"color: #008080; text-decoration-color: #008080; font-weight: bold\">3</span> <span style=\"color: #008080; text-decoration-color: #008080; font-weight: bold\">1</span> <span style=\"color: #008080; text-decoration-color: #008080; font-weight: bold\">4</span> <span style=\"color: #008080; text-decoration-color: #008080; font-weight: bold\">0</span> <span style=\"color: #008080; text-decoration-color: #008080; font-weight: bold\">1</span> <span style=\"color: #008080; text-decoration-color: #008080; font-weight: bold\">4</span> <span style=\"color: #008080; text-decoration-color: #008080; font-weight: bold\">0</span> <span style=\"color: #008080; text-decoration-color: #008080; font-weight: bold\">0</span> <span style=\"color: #008080; text-decoration-color: #008080; font-weight: bold\">1</span> <span style=\"color: #008080; text-decoration-color: #008080; font-weight: bold\">1</span> <span style=\"color: #008080; text-decoration-color: #008080; font-weight: bold\">2</span> <span style=\"color: #008080; text-decoration-color: #008080; font-weight: bold\">4</span> <span style=\"color: #008080; text-decoration-color: #008080; font-weight: bold\">2</span> <span style=\"color: #008080; text-decoration-color: #008080; font-weight: bold\">1</span> <span style=\"color: #008080; text-decoration-color: #008080; font-weight: bold\">0</span> <span style=\"color: #008080; text-decoration-color: #008080; font-weight: bold\">0</span> <span style=\"color: #008080; text-decoration-color: #008080; font-weight: bold\">4</span> <span style=\"color: #008080; text-decoration-color: #008080; font-weight: bold\">0</span> <span style=\"color: #008080; text-decoration-color: #008080; font-weight: bold\">1</span> <span style=\"color: #008080; text-decoration-color: #008080; font-weight: bold\">1</span> <span style=\"color: #008080; text-decoration-color: #008080; font-weight: bold\">0</span> <span style=\"color: #008080; text-decoration-color: #008080; font-weight: bold\">1</span> <span style=\"color: #008080; text-decoration-color: #008080; font-weight: bold\">0</span> <span style=\"color: #008080; text-decoration-color: #008080; font-weight: bold\">0</span> <span style=\"color: #008080; text-decoration-color: #008080; font-weight: bold\">1</span> <span style=\"color: #008080; text-decoration-color: #008080; font-weight: bold\">1</span> <span style=\"color: #008080; text-decoration-color: #008080; font-weight: bold\">3</span> <span style=\"color: #008080; text-decoration-color: #008080; font-weight: bold\">4</span> <span style=\"color: #008080; text-decoration-color: #008080; font-weight: bold\">1</span> <span style=\"color: #008080; text-decoration-color: #008080; font-weight: bold\">2</span> <span style=\"color: #008080; text-decoration-color: #008080; font-weight: bold\">1</span> <span style=\"color: #008080; text-decoration-color: #008080; font-weight: bold\">2</span> <span style=\"color: #008080; text-decoration-color: #008080; font-weight: bold\">1</span> <span style=\"color: #008080; text-decoration-color: #008080; font-weight: bold\">2</span> <span style=\"color: #008080; text-decoration-color: #008080; font-weight: bold\">0</span>\n",
              " <span style=\"color: #008080; text-decoration-color: #008080; font-weight: bold\">2</span> <span style=\"color: #008080; text-decoration-color: #008080; font-weight: bold\">2</span> <span style=\"color: #008080; text-decoration-color: #008080; font-weight: bold\">0</span> <span style=\"color: #008080; text-decoration-color: #008080; font-weight: bold\">2</span> <span style=\"color: #008080; text-decoration-color: #008080; font-weight: bold\">0</span> <span style=\"color: #008080; text-decoration-color: #008080; font-weight: bold\">1</span> <span style=\"color: #008080; text-decoration-color: #008080; font-weight: bold\">1</span> <span style=\"color: #008080; text-decoration-color: #008080; font-weight: bold\">2</span> <span style=\"color: #008080; text-decoration-color: #008080; font-weight: bold\">1</span> <span style=\"color: #008080; text-decoration-color: #008080; font-weight: bold\">1</span> <span style=\"color: #008080; text-decoration-color: #008080; font-weight: bold\">1</span> <span style=\"color: #008080; text-decoration-color: #008080; font-weight: bold\">0</span> <span style=\"color: #008080; text-decoration-color: #008080; font-weight: bold\">1</span> <span style=\"color: #008080; text-decoration-color: #008080; font-weight: bold\">1</span> <span style=\"color: #008080; text-decoration-color: #008080; font-weight: bold\">0</span> <span style=\"color: #008080; text-decoration-color: #008080; font-weight: bold\">0</span> <span style=\"color: #008080; text-decoration-color: #008080; font-weight: bold\">0</span> <span style=\"color: #008080; text-decoration-color: #008080; font-weight: bold\">0</span> <span style=\"color: #008080; text-decoration-color: #008080; font-weight: bold\">1</span> <span style=\"color: #008080; text-decoration-color: #008080; font-weight: bold\">0</span> <span style=\"color: #008080; text-decoration-color: #008080; font-weight: bold\">3</span> <span style=\"color: #008080; text-decoration-color: #008080; font-weight: bold\">1</span> <span style=\"color: #008080; text-decoration-color: #008080; font-weight: bold\">0</span> <span style=\"color: #008080; text-decoration-color: #008080; font-weight: bold\">1</span> <span style=\"color: #008080; text-decoration-color: #008080; font-weight: bold\">1</span> <span style=\"color: #008080; text-decoration-color: #008080; font-weight: bold\">3</span> <span style=\"color: #008080; text-decoration-color: #008080; font-weight: bold\">1</span> <span style=\"color: #008080; text-decoration-color: #008080; font-weight: bold\">0</span> <span style=\"color: #008080; text-decoration-color: #008080; font-weight: bold\">4</span> <span style=\"color: #008080; text-decoration-color: #008080; font-weight: bold\">1</span> <span style=\"color: #008080; text-decoration-color: #008080; font-weight: bold\">1</span> <span style=\"color: #008080; text-decoration-color: #008080; font-weight: bold\">2</span> <span style=\"color: #008080; text-decoration-color: #008080; font-weight: bold\">1</span> <span style=\"color: #008080; text-decoration-color: #008080; font-weight: bold\">0</span> <span style=\"color: #008080; text-decoration-color: #008080; font-weight: bold\">4</span> <span style=\"color: #008080; text-decoration-color: #008080; font-weight: bold\">0</span> <span style=\"color: #008080; text-decoration-color: #008080; font-weight: bold\">1</span>\n",
              " <span style=\"color: #008080; text-decoration-color: #008080; font-weight: bold\">0</span> <span style=\"color: #008080; text-decoration-color: #008080; font-weight: bold\">0</span> <span style=\"color: #008080; text-decoration-color: #008080; font-weight: bold\">2</span> <span style=\"color: #008080; text-decoration-color: #008080; font-weight: bold\">2</span> <span style=\"color: #008080; text-decoration-color: #008080; font-weight: bold\">0</span> <span style=\"color: #008080; text-decoration-color: #008080; font-weight: bold\">2</span> <span style=\"color: #008080; text-decoration-color: #008080; font-weight: bold\">1</span> <span style=\"color: #008080; text-decoration-color: #008080; font-weight: bold\">3</span> <span style=\"color: #008080; text-decoration-color: #008080; font-weight: bold\">1</span> <span style=\"color: #008080; text-decoration-color: #008080; font-weight: bold\">1</span> <span style=\"color: #008080; text-decoration-color: #008080; font-weight: bold\">0</span> <span style=\"color: #008080; text-decoration-color: #008080; font-weight: bold\">1</span> <span style=\"color: #008080; text-decoration-color: #008080; font-weight: bold\">0</span> <span style=\"color: #008080; text-decoration-color: #008080; font-weight: bold\">1</span> <span style=\"color: #008080; text-decoration-color: #008080; font-weight: bold\">0</span> <span style=\"color: #008080; text-decoration-color: #008080; font-weight: bold\">0</span> <span style=\"color: #008080; text-decoration-color: #008080; font-weight: bold\">2</span> <span style=\"color: #008080; text-decoration-color: #008080; font-weight: bold\">2</span> <span style=\"color: #008080; text-decoration-color: #008080; font-weight: bold\">2</span> <span style=\"color: #008080; text-decoration-color: #008080; font-weight: bold\">1</span> <span style=\"color: #008080; text-decoration-color: #008080; font-weight: bold\">1</span> <span style=\"color: #008080; text-decoration-color: #008080; font-weight: bold\">0</span> <span style=\"color: #008080; text-decoration-color: #008080; font-weight: bold\">3</span> <span style=\"color: #008080; text-decoration-color: #008080; font-weight: bold\">3</span> <span style=\"color: #008080; text-decoration-color: #008080; font-weight: bold\">2</span> <span style=\"color: #008080; text-decoration-color: #008080; font-weight: bold\">0</span> <span style=\"color: #008080; text-decoration-color: #008080; font-weight: bold\">1</span> <span style=\"color: #008080; text-decoration-color: #008080; font-weight: bold\">3</span> <span style=\"color: #008080; text-decoration-color: #008080; font-weight: bold\">3</span> <span style=\"color: #008080; text-decoration-color: #008080; font-weight: bold\">1</span> <span style=\"color: #008080; text-decoration-color: #008080; font-weight: bold\">1</span> <span style=\"color: #008080; text-decoration-color: #008080; font-weight: bold\">1</span> <span style=\"color: #008080; text-decoration-color: #008080; font-weight: bold\">2</span> <span style=\"color: #008080; text-decoration-color: #008080; font-weight: bold\">1</span> <span style=\"color: #008080; text-decoration-color: #008080; font-weight: bold\">3</span> <span style=\"color: #008080; text-decoration-color: #008080; font-weight: bold\">2</span> <span style=\"color: #008080; text-decoration-color: #008080; font-weight: bold\">1</span>\n",
              " <span style=\"color: #008080; text-decoration-color: #008080; font-weight: bold\">3</span> <span style=\"color: #008080; text-decoration-color: #008080; font-weight: bold\">2</span> <span style=\"color: #008080; text-decoration-color: #008080; font-weight: bold\">0</span> <span style=\"color: #008080; text-decoration-color: #008080; font-weight: bold\">0</span> <span style=\"color: #008080; text-decoration-color: #008080; font-weight: bold\">2</span> <span style=\"color: #008080; text-decoration-color: #008080; font-weight: bold\">1</span> <span style=\"color: #008080; text-decoration-color: #008080; font-weight: bold\">3</span> <span style=\"color: #008080; text-decoration-color: #008080; font-weight: bold\">2</span> <span style=\"color: #008080; text-decoration-color: #008080; font-weight: bold\">3</span> <span style=\"color: #008080; text-decoration-color: #008080; font-weight: bold\">2</span> <span style=\"color: #008080; text-decoration-color: #008080; font-weight: bold\">1</span> <span style=\"color: #008080; text-decoration-color: #008080; font-weight: bold\">2</span> <span style=\"color: #008080; text-decoration-color: #008080; font-weight: bold\">3</span> <span style=\"color: #008080; text-decoration-color: #008080; font-weight: bold\">2</span> <span style=\"color: #008080; text-decoration-color: #008080; font-weight: bold\">3</span> <span style=\"color: #008080; text-decoration-color: #008080; font-weight: bold\">1</span> <span style=\"color: #008080; text-decoration-color: #008080; font-weight: bold\">4</span> <span style=\"color: #008080; text-decoration-color: #008080; font-weight: bold\">0</span> <span style=\"color: #008080; text-decoration-color: #008080; font-weight: bold\">0</span> <span style=\"color: #008080; text-decoration-color: #008080; font-weight: bold\">2</span> <span style=\"color: #008080; text-decoration-color: #008080; font-weight: bold\">0</span> <span style=\"color: #008080; text-decoration-color: #008080; font-weight: bold\">2</span> <span style=\"color: #008080; text-decoration-color: #008080; font-weight: bold\">0</span> <span style=\"color: #008080; text-decoration-color: #008080; font-weight: bold\">2</span> <span style=\"color: #008080; text-decoration-color: #008080; font-weight: bold\">4</span> <span style=\"color: #008080; text-decoration-color: #008080; font-weight: bold\">0</span> <span style=\"color: #008080; text-decoration-color: #008080; font-weight: bold\">1</span> <span style=\"color: #008080; text-decoration-color: #008080; font-weight: bold\">3</span> <span style=\"color: #008080; text-decoration-color: #008080; font-weight: bold\">0</span> <span style=\"color: #008080; text-decoration-color: #008080; font-weight: bold\">2</span> <span style=\"color: #008080; text-decoration-color: #008080; font-weight: bold\">2</span> <span style=\"color: #008080; text-decoration-color: #008080; font-weight: bold\">1</span> <span style=\"color: #008080; text-decoration-color: #008080; font-weight: bold\">3</span> <span style=\"color: #008080; text-decoration-color: #008080; font-weight: bold\">0</span> <span style=\"color: #008080; text-decoration-color: #008080; font-weight: bold\">0</span><span style=\"font-weight: bold\">]</span>\n",
              "</pre>\n"
            ],
            "text/plain": [
              "\u001b[1m[\u001b[0m\u001b[1;36m4\u001b[0m \u001b[1;36m2\u001b[0m \u001b[1;36m4\u001b[0m \u001b[1;36m1\u001b[0m \u001b[1;36m4\u001b[0m \u001b[1;36m4\u001b[0m \u001b[1;36m1\u001b[0m \u001b[1;36m0\u001b[0m \u001b[1;36m0\u001b[0m \u001b[1;36m0\u001b[0m \u001b[1;36m4\u001b[0m \u001b[1;36m1\u001b[0m \u001b[1;36m4\u001b[0m \u001b[1;36m3\u001b[0m \u001b[1;36m3\u001b[0m \u001b[1;36m3\u001b[0m \u001b[1;36m2\u001b[0m \u001b[1;36m0\u001b[0m \u001b[1;36m3\u001b[0m \u001b[1;36m3\u001b[0m \u001b[1;36m3\u001b[0m \u001b[1;36m1\u001b[0m \u001b[1;36m0\u001b[0m \u001b[1;36m0\u001b[0m \u001b[1;36m1\u001b[0m \u001b[1;36m1\u001b[0m \u001b[1;36m1\u001b[0m \u001b[1;36m4\u001b[0m \u001b[1;36m0\u001b[0m \u001b[1;36m3\u001b[0m \u001b[1;36m1\u001b[0m \u001b[1;36m0\u001b[0m \u001b[1;36m2\u001b[0m \u001b[1;36m0\u001b[0m \u001b[1;36m1\u001b[0m \u001b[1;36m0\u001b[0m \u001b[1;36m1\u001b[0m\n",
              " \u001b[1;36m1\u001b[0m \u001b[1;36m1\u001b[0m \u001b[1;36m3\u001b[0m \u001b[1;36m1\u001b[0m \u001b[1;36m4\u001b[0m \u001b[1;36m0\u001b[0m \u001b[1;36m1\u001b[0m \u001b[1;36m4\u001b[0m \u001b[1;36m0\u001b[0m \u001b[1;36m0\u001b[0m \u001b[1;36m1\u001b[0m \u001b[1;36m1\u001b[0m \u001b[1;36m2\u001b[0m \u001b[1;36m4\u001b[0m \u001b[1;36m2\u001b[0m \u001b[1;36m1\u001b[0m \u001b[1;36m0\u001b[0m \u001b[1;36m0\u001b[0m \u001b[1;36m4\u001b[0m \u001b[1;36m0\u001b[0m \u001b[1;36m1\u001b[0m \u001b[1;36m1\u001b[0m \u001b[1;36m0\u001b[0m \u001b[1;36m1\u001b[0m \u001b[1;36m0\u001b[0m \u001b[1;36m0\u001b[0m \u001b[1;36m1\u001b[0m \u001b[1;36m1\u001b[0m \u001b[1;36m3\u001b[0m \u001b[1;36m4\u001b[0m \u001b[1;36m1\u001b[0m \u001b[1;36m2\u001b[0m \u001b[1;36m1\u001b[0m \u001b[1;36m2\u001b[0m \u001b[1;36m1\u001b[0m \u001b[1;36m2\u001b[0m \u001b[1;36m0\u001b[0m\n",
              " \u001b[1;36m2\u001b[0m \u001b[1;36m2\u001b[0m \u001b[1;36m0\u001b[0m \u001b[1;36m2\u001b[0m \u001b[1;36m0\u001b[0m \u001b[1;36m1\u001b[0m \u001b[1;36m1\u001b[0m \u001b[1;36m2\u001b[0m \u001b[1;36m1\u001b[0m \u001b[1;36m1\u001b[0m \u001b[1;36m1\u001b[0m \u001b[1;36m0\u001b[0m \u001b[1;36m1\u001b[0m \u001b[1;36m1\u001b[0m \u001b[1;36m0\u001b[0m \u001b[1;36m0\u001b[0m \u001b[1;36m0\u001b[0m \u001b[1;36m0\u001b[0m \u001b[1;36m1\u001b[0m \u001b[1;36m0\u001b[0m \u001b[1;36m3\u001b[0m \u001b[1;36m1\u001b[0m \u001b[1;36m0\u001b[0m \u001b[1;36m1\u001b[0m \u001b[1;36m1\u001b[0m \u001b[1;36m3\u001b[0m \u001b[1;36m1\u001b[0m \u001b[1;36m0\u001b[0m \u001b[1;36m4\u001b[0m \u001b[1;36m1\u001b[0m \u001b[1;36m1\u001b[0m \u001b[1;36m2\u001b[0m \u001b[1;36m1\u001b[0m \u001b[1;36m0\u001b[0m \u001b[1;36m4\u001b[0m \u001b[1;36m0\u001b[0m \u001b[1;36m1\u001b[0m\n",
              " \u001b[1;36m0\u001b[0m \u001b[1;36m0\u001b[0m \u001b[1;36m2\u001b[0m \u001b[1;36m2\u001b[0m \u001b[1;36m0\u001b[0m \u001b[1;36m2\u001b[0m \u001b[1;36m1\u001b[0m \u001b[1;36m3\u001b[0m \u001b[1;36m1\u001b[0m \u001b[1;36m1\u001b[0m \u001b[1;36m0\u001b[0m \u001b[1;36m1\u001b[0m \u001b[1;36m0\u001b[0m \u001b[1;36m1\u001b[0m \u001b[1;36m0\u001b[0m \u001b[1;36m0\u001b[0m \u001b[1;36m2\u001b[0m \u001b[1;36m2\u001b[0m \u001b[1;36m2\u001b[0m \u001b[1;36m1\u001b[0m \u001b[1;36m1\u001b[0m \u001b[1;36m0\u001b[0m \u001b[1;36m3\u001b[0m \u001b[1;36m3\u001b[0m \u001b[1;36m2\u001b[0m \u001b[1;36m0\u001b[0m \u001b[1;36m1\u001b[0m \u001b[1;36m3\u001b[0m \u001b[1;36m3\u001b[0m \u001b[1;36m1\u001b[0m \u001b[1;36m1\u001b[0m \u001b[1;36m1\u001b[0m \u001b[1;36m2\u001b[0m \u001b[1;36m1\u001b[0m \u001b[1;36m3\u001b[0m \u001b[1;36m2\u001b[0m \u001b[1;36m1\u001b[0m\n",
              " \u001b[1;36m3\u001b[0m \u001b[1;36m2\u001b[0m \u001b[1;36m0\u001b[0m \u001b[1;36m0\u001b[0m \u001b[1;36m2\u001b[0m \u001b[1;36m1\u001b[0m \u001b[1;36m3\u001b[0m \u001b[1;36m2\u001b[0m \u001b[1;36m3\u001b[0m \u001b[1;36m2\u001b[0m \u001b[1;36m1\u001b[0m \u001b[1;36m2\u001b[0m \u001b[1;36m3\u001b[0m \u001b[1;36m2\u001b[0m \u001b[1;36m3\u001b[0m \u001b[1;36m1\u001b[0m \u001b[1;36m4\u001b[0m \u001b[1;36m0\u001b[0m \u001b[1;36m0\u001b[0m \u001b[1;36m2\u001b[0m \u001b[1;36m0\u001b[0m \u001b[1;36m2\u001b[0m \u001b[1;36m0\u001b[0m \u001b[1;36m2\u001b[0m \u001b[1;36m4\u001b[0m \u001b[1;36m0\u001b[0m \u001b[1;36m1\u001b[0m \u001b[1;36m3\u001b[0m \u001b[1;36m0\u001b[0m \u001b[1;36m2\u001b[0m \u001b[1;36m2\u001b[0m \u001b[1;36m1\u001b[0m \u001b[1;36m3\u001b[0m \u001b[1;36m0\u001b[0m \u001b[1;36m0\u001b[0m\u001b[1m]\u001b[0m\n"
            ]
          },
          "metadata": {},
          "output_type": "display_data"
        },
        {
          "data": {
            "application/vnd.plotly.v1+json": {
              "config": {
                "plotlyServerURL": "https://plot.ly"
              },
              "data": [
                {
                  "hovertemplate": "cluster=%{marker.color}<br>principal component 1=%{x}<br>principal component 2=%{y}<extra></extra>",
                  "legendgroup": "1",
                  "marker": {
                    "color": [
                      1,
                      1,
                      1,
                      1,
                      1,
                      1,
                      1,
                      1,
                      1,
                      1,
                      1,
                      1,
                      1,
                      1,
                      1,
                      1,
                      1,
                      1,
                      1,
                      1,
                      1,
                      1,
                      1,
                      1,
                      1,
                      1,
                      1,
                      1,
                      1,
                      1,
                      1,
                      1,
                      1,
                      1,
                      1,
                      1,
                      1,
                      1,
                      1,
                      1,
                      1,
                      1,
                      1,
                      1,
                      1,
                      1,
                      1,
                      1,
                      1,
                      1,
                      1
                    ],
                    "coloraxis": "coloraxis",
                    "size": [
                      1,
                      1,
                      1,
                      1,
                      1,
                      1,
                      1,
                      1,
                      1,
                      1,
                      1,
                      1,
                      1,
                      1,
                      1,
                      1,
                      1,
                      1,
                      1,
                      1,
                      1,
                      1,
                      1,
                      1,
                      1,
                      1,
                      1,
                      1,
                      1,
                      1,
                      1,
                      1,
                      1,
                      1,
                      1,
                      1,
                      1,
                      1,
                      1,
                      1,
                      1,
                      1,
                      1,
                      1,
                      1,
                      1,
                      1,
                      1,
                      1,
                      1,
                      1
                    ],
                    "sizemode": "area",
                    "sizeref": 0.0125,
                    "symbol": "circle"
                  },
                  "mode": "markers",
                  "name": "Cluster 1",
                  "orientation": "v",
                  "showlegend": true,
                  "type": "scatter",
                  "x": [
                    2.201552200094695,
                    0.09131249015535056,
                    6.27587866639921,
                    -1.3447244223267538,
                    -0.6549347739584294,
                    -0.6384347512233026,
                    5.6173300310144185,
                    0.25907953022615476,
                    -2.48618404057914,
                    6.1244211721890975,
                    5.488905894923699,
                    -2.312996703047328,
                    2.2537121505494495,
                    4.613291532743513,
                    1.5487496348298213,
                    -2.9407435261355612,
                    0.6700911501996616,
                    -2.1922016698676514,
                    -2.9077793683690127,
                    -2.9823025377722088,
                    1.632967540927584,
                    -1.8065655049272904,
                    -2.367851150193467,
                    1.974445778388283,
                    1.482037758325933,
                    0.6972942920828623,
                    -3.3561360226160613,
                    -3.0752860566766573,
                    -2.78093910809144,
                    -1.5922261463429324,
                    -2.7040686818625312,
                    0.7504879683983108,
                    1.4715104574451543,
                    -2.4063814180166907,
                    -1.9113332640698235,
                    -3.0410367132559126,
                    -3.083085667110798,
                    1.6410236430059233,
                    -1.7441574703389398,
                    -1.3942756745123368,
                    0.374814266685975,
                    3.205891389245931,
                    -2.250645636348712,
                    5.153382561672342,
                    5.777702148306235,
                    -0.9879159083728634,
                    5.778436881240016,
                    -0.7303949551553521,
                    -1.219250229829547,
                    2.3373410486357558,
                    4.479813375781192
                  ],
                  "xaxis": "x",
                  "y": [
                    -1.3927929203940421,
                    -3.578217646745264,
                    0.09716196844099768,
                    -1.149226411687033,
                    -2.170530323245,
                    -3.1561330878444016,
                    0.5000508275496633,
                    -0.5447371235204851,
                    1.2011715463952262,
                    -0.20671724820385776,
                    2.465557366140117,
                    1.367378770277754,
                    -0.4921543518929287,
                    4.009442785775796,
                    -0.3942034288902288,
                    1.5165026057994675,
                    3.791061944143022,
                    1.0281565402626394,
                    1.2463649157211234,
                    0.9501808892317468,
                    0.5639147129951064,
                    -2.159391485696168,
                    1.26482600694239,
                    2.9479347546188484,
                    1.2183808410254886,
                    0.3444765110766616,
                    2.1652686907254655,
                    1.4489499456395527,
                    -1.293300072534747,
                    -1.0899465598241709,
                    0.040682214021320835,
                    -3.87254312980451,
                    -0.8772851125759813,
                    -0.15398005184642918,
                    -0.1803461955374536,
                    2.3629320998100716,
                    2.7547216369959746,
                    -0.27484266279341313,
                    -0.17662517259217,
                    0.7268308158019271,
                    1.0194898024054173,
                    2.3423200435253038,
                    -0.25053868896667714,
                    4.91162563223943,
                    0.46118055314922335,
                    -2.5414295656476114,
                    1.9506113144010067,
                    0.5394189147811626,
                    -2.5587727611069124,
                    -1.3627135606876513,
                    0.8198533250579864
                  ],
                  "yaxis": "y"
                },
                {
                  "hovertemplate": "cluster=%{marker.color}<br>principal component 1=%{x}<br>principal component 2=%{y}<extra></extra>",
                  "legendgroup": "2",
                  "marker": {
                    "color": [
                      2,
                      2,
                      2,
                      2,
                      2,
                      2,
                      2,
                      2,
                      2,
                      2,
                      2,
                      2,
                      2,
                      2,
                      2,
                      2,
                      2,
                      2,
                      2,
                      2,
                      2,
                      2,
                      2,
                      2,
                      2,
                      2,
                      2,
                      2,
                      2,
                      2,
                      2,
                      2,
                      2,
                      2,
                      2,
                      2,
                      2,
                      2,
                      2,
                      2,
                      2,
                      2,
                      2,
                      2,
                      2,
                      2,
                      2,
                      2,
                      2,
                      2,
                      2,
                      2,
                      2,
                      2,
                      2,
                      2,
                      2,
                      2,
                      2
                    ],
                    "coloraxis": "coloraxis",
                    "size": [
                      2,
                      2,
                      2,
                      2,
                      2,
                      2,
                      2,
                      2,
                      2,
                      2,
                      2,
                      2,
                      2,
                      2,
                      2,
                      2,
                      2,
                      2,
                      2,
                      2,
                      2,
                      2,
                      2,
                      2,
                      2,
                      2,
                      2,
                      2,
                      2,
                      2,
                      2,
                      2,
                      2,
                      2,
                      2,
                      2,
                      2,
                      2,
                      2,
                      2,
                      2,
                      2,
                      2,
                      2,
                      2,
                      2,
                      2,
                      2,
                      2,
                      2,
                      2,
                      2,
                      2,
                      2,
                      2,
                      2,
                      2,
                      2,
                      2
                    ],
                    "sizemode": "area",
                    "sizeref": 0.0125,
                    "symbol": "diamond"
                  },
                  "mode": "markers",
                  "name": "Cluster 2",
                  "orientation": "v",
                  "showlegend": true,
                  "type": "scatter",
                  "x": [
                    -2.250059145782138,
                    -4.5312206036504445,
                    -5.240274330911886,
                    -5.827560468983204,
                    -0.369863847423091,
                    -2.997136077955616,
                    -1.1490788468330384,
                    -1.4327409591007454,
                    -1.683271021444316,
                    -2.411675518705194,
                    -4.959570993968236,
                    -0.7899078752417361,
                    -6.320529635953859,
                    -2.864017190389815,
                    -4.467797053700106,
                    -1.8895269913647044,
                    -0.7786821333541446,
                    -6.079113497282829,
                    -2.798824201994865,
                    -4.693257263210803,
                    -3.4420879065844154,
                    -2.538377839514864,
                    -4.4985439407201,
                    -6.2147360312103554,
                    -4.821123717196615,
                    -5.9093086854650325,
                    -0.03525140594769985,
                    -4.528263509355871,
                    -6.607969490072341,
                    -4.702003596675098,
                    2.8577776177550698,
                    -4.025983406141444,
                    -2.915526068643301,
                    -4.664881702062278,
                    -5.624654958923791,
                    -4.099535347356499,
                    -3.740191292411308,
                    -4.674697287217857,
                    -1.9424289661447245,
                    -5.928195457231365,
                    -3.71309877326064,
                    -3.627542721675168,
                    -6.437427963173612,
                    -3.61905785208718,
                    -6.594644943896961,
                    -4.637651304968263,
                    -3.3066789115945188,
                    -1.941928714599852,
                    -5.723462697590041,
                    0.9593055818068323,
                    -2.6353116277672557,
                    -5.241694533250034,
                    -5.4640548152806385,
                    -4.648702673741612,
                    -4.394485016201411,
                    -4.83221749668707,
                    -5.210672765987325,
                    -6.383909461316077,
                    3.60242878203809
                  ],
                  "xaxis": "x",
                  "y": [
                    -1.1726775196890353,
                    2.030966524062323,
                    2.557646294062233,
                    1.312491686152736,
                    2.3447880120182854,
                    -0.9978943929511861,
                    0.022112464726462562,
                    -0.6547205573502188,
                    1.366363718548896,
                    1.9108858547539775,
                    1.2433276044883974,
                    3.4337480096785424,
                    1.2939774742271142,
                    -0.1604746209618915,
                    0.5862640765223048,
                    0.7407202571274735,
                    3.1238616794965037,
                    1.2851928081838504,
                    -0.021573906666767596,
                    1.3534983464893433,
                    2.200688342080907,
                    1.495949178015185,
                    2.899015760794284,
                    1.703957544723603,
                    3.745313795827839,
                    1.0808428406404076,
                    -3.1003742278409865,
                    2.40805979717858,
                    1.1496464596569866,
                    0.7446843962361923,
                    -3.107588618712094,
                    -0.233358555939435,
                    5.248921916912712,
                    2.343471868570172,
                    0.5165401828881944,
                    4.7410640262811015,
                    2.550436529031477,
                    3.2612221231424265,
                    1.430723879395374,
                    1.0170721889772623,
                    3.1263300248256107,
                    0.25777977553529485,
                    1.6399916046579373,
                    -3.0385623493595193,
                    1.778089999542243,
                    -0.3072376873369495,
                    2.598014883158045,
                    0.2216596447699904,
                    0.7212179171296178,
                    2.9569824556575557,
                    1.1590673796965891,
                    0.2670004634281554,
                    0.40447903333735497,
                    2.8115456598199358,
                    -0.927623278045316,
                    -0.5914462998120671,
                    -0.527766296635027,
                    1.8710555999439722,
                    3.2969534626053747
                  ],
                  "yaxis": "y"
                },
                {
                  "hovertemplate": "cluster=%{marker.color}<br>principal component 1=%{x}<br>principal component 2=%{y}<extra></extra>",
                  "legendgroup": "3",
                  "marker": {
                    "color": [
                      3,
                      3,
                      3,
                      3,
                      3,
                      3,
                      3,
                      3,
                      3,
                      3,
                      3,
                      3,
                      3,
                      3,
                      3,
                      3,
                      3,
                      3,
                      3,
                      3,
                      3,
                      3,
                      3,
                      3,
                      3,
                      3,
                      3,
                      3,
                      3,
                      3,
                      3,
                      3,
                      3
                    ],
                    "coloraxis": "coloraxis",
                    "size": [
                      3,
                      3,
                      3,
                      3,
                      3,
                      3,
                      3,
                      3,
                      3,
                      3,
                      3,
                      3,
                      3,
                      3,
                      3,
                      3,
                      3,
                      3,
                      3,
                      3,
                      3,
                      3,
                      3,
                      3,
                      3,
                      3,
                      3,
                      3,
                      3,
                      3,
                      3,
                      3,
                      3
                    ],
                    "sizemode": "area",
                    "sizeref": 0.0125,
                    "symbol": "square"
                  },
                  "mode": "markers",
                  "name": "Cluster 3",
                  "orientation": "v",
                  "showlegend": true,
                  "type": "scatter",
                  "x": [
                    -2.0523239294781046,
                    0.5680024133498169,
                    0.4129548424339453,
                    -0.7480559923357526,
                    -0.7292986636579019,
                    -2.62943394724134,
                    -0.3801350037637757,
                    -1.9145115431105761,
                    0.1768940139461078,
                    -0.09783437948548102,
                    -0.6431358132470655,
                    -2.3771094682742118,
                    1.462033016447972,
                    -2.5567771075441166,
                    -2.105515696118556,
                    -2.1809549743788046,
                    0.07438985426140952,
                    2.495656418063257,
                    0.4366968816312686,
                    -3.020115060054507,
                    -3.858452654344325,
                    0.5709906844154811,
                    -0.80582205865509,
                    3.850702843335504,
                    3.223302248689161,
                    -2.0122408901102893,
                    -2.146088227010943,
                    -1.7086012141239988,
                    -1.5188128891185388,
                    1.5846544388110202,
                    0.676648355106955,
                    0.9028442312689857,
                    -1.1020552706963909
                  ],
                  "xaxis": "x",
                  "y": [
                    -5.636220667105605,
                    -2.7900882110527485,
                    -7.613705640676826,
                    -6.521359177409043,
                    -6.473718822941966,
                    -5.318344171177109,
                    -5.186621803952153,
                    -4.429640625481539,
                    -4.319104368770287,
                    -7.162025814584383,
                    -7.28383072590816,
                    -3.670926179458559,
                    -5.313657198521488,
                    -5.102323064256514,
                    -2.925687859486031,
                    -5.811172424296934,
                    -5.640763163330021,
                    -7.376967431641742,
                    -6.622015668502773,
                    -4.181265126936998,
                    -5.1189835698501485,
                    -6.672460488465606,
                    -2.436969292416292,
                    -6.181098201302808,
                    -5.068174936922175,
                    -6.410632844679682,
                    -2.244074892096024,
                    -7.126561358094062,
                    -5.376294503222811,
                    -6.978582410290506,
                    -5.930137277728334,
                    -6.8041239336474835,
                    -5.780314907552795
                  ],
                  "yaxis": "y"
                },
                {
                  "hovertemplate": "cluster=%{marker.color}<br>principal component 1=%{x}<br>principal component 2=%{y}<extra></extra>",
                  "legendgroup": "4",
                  "marker": {
                    "color": [
                      4,
                      4,
                      4,
                      4,
                      4,
                      4,
                      4,
                      4,
                      4,
                      4,
                      4,
                      4,
                      4,
                      4,
                      4,
                      4,
                      4,
                      4,
                      4,
                      4,
                      4,
                      4,
                      4,
                      4
                    ],
                    "coloraxis": "coloraxis",
                    "size": [
                      4,
                      4,
                      4,
                      4,
                      4,
                      4,
                      4,
                      4,
                      4,
                      4,
                      4,
                      4,
                      4,
                      4,
                      4,
                      4,
                      4,
                      4,
                      4,
                      4,
                      4,
                      4,
                      4,
                      4
                    ],
                    "sizemode": "area",
                    "sizeref": 0.0125,
                    "symbol": "x"
                  },
                  "mode": "markers",
                  "name": "Cluster 4",
                  "orientation": "v",
                  "showlegend": true,
                  "type": "scatter",
                  "x": [
                    8.69538334294892,
                    6.578230821483683,
                    6.240602712011002,
                    6.623303615841347,
                    4.845445270459992,
                    6.470693424716895,
                    7.658942852663237,
                    7.667046096930938,
                    8.47367904175534,
                    8.811843911788818,
                    8.441665498683827,
                    5.303003471609426,
                    8.066220539541087,
                    8.082164574083201,
                    7.8097215362641,
                    6.714779139426496,
                    8.111346229048008,
                    9.214112204471503,
                    3.4899248239301506,
                    6.375641073318005,
                    8.374410235240507,
                    8.049046985857364,
                    7.918131471372993,
                    9.059533469761062
                  ],
                  "xaxis": "x",
                  "y": [
                    -1.6683014682670607,
                    0.11395309391563352,
                    1.5128929084187066,
                    -2.574830317543623,
                    0.7531001235542384,
                    4.087427843107748,
                    -0.24827841288661526,
                    -0.9098026687310822,
                    -1.8614230931316138,
                    -0.7701748514401108,
                    -2.887613149707447,
                    4.462946747320969,
                    -0.9412734124895257,
                    -1.4886369696469957,
                    -0.3868568869028958,
                    0.42980894200893044,
                    -1.216303554681815,
                    -1.5746101460736732,
                    -0.6874095136225115,
                    1.8049284029894996,
                    -1.5299508826945514,
                    -1.3606009478454943,
                    -0.14496571791554355,
                    -1.837684235311377
                  ],
                  "yaxis": "y"
                },
                {
                  "hovertemplate": "cluster=%{marker.color}<br>principal component 1=%{x}<br>principal component 2=%{y}<extra></extra>",
                  "legendgroup": "5",
                  "marker": {
                    "color": [
                      5,
                      5,
                      5,
                      5,
                      5,
                      5,
                      5,
                      5,
                      5,
                      5,
                      5,
                      5,
                      5,
                      5,
                      5,
                      5
                    ],
                    "coloraxis": "coloraxis",
                    "size": [
                      5,
                      5,
                      5,
                      5,
                      5,
                      5,
                      5,
                      5,
                      5,
                      5,
                      5,
                      5,
                      5,
                      5,
                      5,
                      5
                    ],
                    "sizemode": "area",
                    "sizeref": 0.0125,
                    "symbol": "cross"
                  },
                  "mode": "markers",
                  "name": "Cluster 5",
                  "orientation": "v",
                  "showlegend": true,
                  "type": "scatter",
                  "x": [
                    2.668545980023131,
                    0.5879779263374347,
                    3.7006717258263624,
                    1.0585357903841832,
                    5.13255880331096,
                    3.724616299207804,
                    3.6438828836760044,
                    -0.41853387307115714,
                    -0.02664235992486417,
                    2.302580326822227,
                    -1.3134528447985023,
                    0.9923858100908965,
                    5.808915219775914,
                    4.133595886269193,
                    3.879820426562158,
                    3.6524505924267645
                  ],
                  "xaxis": "x",
                  "y": [
                    5.30391053635938,
                    6.932965125051074,
                    7.189167961498388,
                    6.332824501653661,
                    4.839906392780952,
                    5.11432149023622,
                    7.440161079934278,
                    5.648981075172065,
                    7.600018551239146,
                    8.20939428390387,
                    4.684456604135591,
                    5.77874392413026,
                    6.65735430779764,
                    7.582869382431928,
                    6.194767969928224,
                    7.3293160964720485
                  ],
                  "yaxis": "y"
                }
              ],
              "layout": {
                "coloraxis": {
                  "colorbar": {
                    "title": {
                      "text": "cluster"
                    }
                  },
                  "colorscale": [
                    [
                      0,
                      "#0d0887"
                    ],
                    [
                      0.1111111111111111,
                      "#46039f"
                    ],
                    [
                      0.2222222222222222,
                      "#7201a8"
                    ],
                    [
                      0.3333333333333333,
                      "#9c179e"
                    ],
                    [
                      0.4444444444444444,
                      "#bd3786"
                    ],
                    [
                      0.5555555555555556,
                      "#d8576b"
                    ],
                    [
                      0.6666666666666666,
                      "#ed7953"
                    ],
                    [
                      0.7777777777777778,
                      "#fb9f3a"
                    ],
                    [
                      0.8888888888888888,
                      "#fdca26"
                    ],
                    [
                      1,
                      "#f0f921"
                    ]
                  ],
                  "showscale": false
                },
                "height": 800,
                "legend": {
                  "bordercolor": "Black",
                  "borderwidth": 2,
                  "font": {
                    "color": "black",
                    "family": "sans-serif",
                    "size": 20
                  },
                  "itemsizing": "constant",
                  "title": {
                    "text": ""
                  },
                  "tracegroupgap": 0,
                  "traceorder": "normal"
                },
                "margin": {
                  "b": 0,
                  "l": 0,
                  "r": 0,
                  "t": 0
                },
                "plot_bgcolor": "white",
                "template": {
                  "data": {
                    "bar": [
                      {
                        "error_x": {
                          "color": "#2a3f5f"
                        },
                        "error_y": {
                          "color": "#2a3f5f"
                        },
                        "marker": {
                          "line": {
                            "color": "#E5ECF6",
                            "width": 0.5
                          },
                          "pattern": {
                            "fillmode": "overlay",
                            "size": 10,
                            "solidity": 0.2
                          }
                        },
                        "type": "bar"
                      }
                    ],
                    "barpolar": [
                      {
                        "marker": {
                          "line": {
                            "color": "#E5ECF6",
                            "width": 0.5
                          },
                          "pattern": {
                            "fillmode": "overlay",
                            "size": 10,
                            "solidity": 0.2
                          }
                        },
                        "type": "barpolar"
                      }
                    ],
                    "carpet": [
                      {
                        "aaxis": {
                          "endlinecolor": "#2a3f5f",
                          "gridcolor": "white",
                          "linecolor": "white",
                          "minorgridcolor": "white",
                          "startlinecolor": "#2a3f5f"
                        },
                        "baxis": {
                          "endlinecolor": "#2a3f5f",
                          "gridcolor": "white",
                          "linecolor": "white",
                          "minorgridcolor": "white",
                          "startlinecolor": "#2a3f5f"
                        },
                        "type": "carpet"
                      }
                    ],
                    "choropleth": [
                      {
                        "colorbar": {
                          "outlinewidth": 0,
                          "ticks": ""
                        },
                        "type": "choropleth"
                      }
                    ],
                    "contour": [
                      {
                        "colorbar": {
                          "outlinewidth": 0,
                          "ticks": ""
                        },
                        "colorscale": [
                          [
                            0,
                            "#0d0887"
                          ],
                          [
                            0.1111111111111111,
                            "#46039f"
                          ],
                          [
                            0.2222222222222222,
                            "#7201a8"
                          ],
                          [
                            0.3333333333333333,
                            "#9c179e"
                          ],
                          [
                            0.4444444444444444,
                            "#bd3786"
                          ],
                          [
                            0.5555555555555556,
                            "#d8576b"
                          ],
                          [
                            0.6666666666666666,
                            "#ed7953"
                          ],
                          [
                            0.7777777777777778,
                            "#fb9f3a"
                          ],
                          [
                            0.8888888888888888,
                            "#fdca26"
                          ],
                          [
                            1,
                            "#f0f921"
                          ]
                        ],
                        "type": "contour"
                      }
                    ],
                    "contourcarpet": [
                      {
                        "colorbar": {
                          "outlinewidth": 0,
                          "ticks": ""
                        },
                        "type": "contourcarpet"
                      }
                    ],
                    "heatmap": [
                      {
                        "colorbar": {
                          "outlinewidth": 0,
                          "ticks": ""
                        },
                        "colorscale": [
                          [
                            0,
                            "#0d0887"
                          ],
                          [
                            0.1111111111111111,
                            "#46039f"
                          ],
                          [
                            0.2222222222222222,
                            "#7201a8"
                          ],
                          [
                            0.3333333333333333,
                            "#9c179e"
                          ],
                          [
                            0.4444444444444444,
                            "#bd3786"
                          ],
                          [
                            0.5555555555555556,
                            "#d8576b"
                          ],
                          [
                            0.6666666666666666,
                            "#ed7953"
                          ],
                          [
                            0.7777777777777778,
                            "#fb9f3a"
                          ],
                          [
                            0.8888888888888888,
                            "#fdca26"
                          ],
                          [
                            1,
                            "#f0f921"
                          ]
                        ],
                        "type": "heatmap"
                      }
                    ],
                    "heatmapgl": [
                      {
                        "colorbar": {
                          "outlinewidth": 0,
                          "ticks": ""
                        },
                        "colorscale": [
                          [
                            0,
                            "#0d0887"
                          ],
                          [
                            0.1111111111111111,
                            "#46039f"
                          ],
                          [
                            0.2222222222222222,
                            "#7201a8"
                          ],
                          [
                            0.3333333333333333,
                            "#9c179e"
                          ],
                          [
                            0.4444444444444444,
                            "#bd3786"
                          ],
                          [
                            0.5555555555555556,
                            "#d8576b"
                          ],
                          [
                            0.6666666666666666,
                            "#ed7953"
                          ],
                          [
                            0.7777777777777778,
                            "#fb9f3a"
                          ],
                          [
                            0.8888888888888888,
                            "#fdca26"
                          ],
                          [
                            1,
                            "#f0f921"
                          ]
                        ],
                        "type": "heatmapgl"
                      }
                    ],
                    "histogram": [
                      {
                        "marker": {
                          "pattern": {
                            "fillmode": "overlay",
                            "size": 10,
                            "solidity": 0.2
                          }
                        },
                        "type": "histogram"
                      }
                    ],
                    "histogram2d": [
                      {
                        "colorbar": {
                          "outlinewidth": 0,
                          "ticks": ""
                        },
                        "colorscale": [
                          [
                            0,
                            "#0d0887"
                          ],
                          [
                            0.1111111111111111,
                            "#46039f"
                          ],
                          [
                            0.2222222222222222,
                            "#7201a8"
                          ],
                          [
                            0.3333333333333333,
                            "#9c179e"
                          ],
                          [
                            0.4444444444444444,
                            "#bd3786"
                          ],
                          [
                            0.5555555555555556,
                            "#d8576b"
                          ],
                          [
                            0.6666666666666666,
                            "#ed7953"
                          ],
                          [
                            0.7777777777777778,
                            "#fb9f3a"
                          ],
                          [
                            0.8888888888888888,
                            "#fdca26"
                          ],
                          [
                            1,
                            "#f0f921"
                          ]
                        ],
                        "type": "histogram2d"
                      }
                    ],
                    "histogram2dcontour": [
                      {
                        "colorbar": {
                          "outlinewidth": 0,
                          "ticks": ""
                        },
                        "colorscale": [
                          [
                            0,
                            "#0d0887"
                          ],
                          [
                            0.1111111111111111,
                            "#46039f"
                          ],
                          [
                            0.2222222222222222,
                            "#7201a8"
                          ],
                          [
                            0.3333333333333333,
                            "#9c179e"
                          ],
                          [
                            0.4444444444444444,
                            "#bd3786"
                          ],
                          [
                            0.5555555555555556,
                            "#d8576b"
                          ],
                          [
                            0.6666666666666666,
                            "#ed7953"
                          ],
                          [
                            0.7777777777777778,
                            "#fb9f3a"
                          ],
                          [
                            0.8888888888888888,
                            "#fdca26"
                          ],
                          [
                            1,
                            "#f0f921"
                          ]
                        ],
                        "type": "histogram2dcontour"
                      }
                    ],
                    "mesh3d": [
                      {
                        "colorbar": {
                          "outlinewidth": 0,
                          "ticks": ""
                        },
                        "type": "mesh3d"
                      }
                    ],
                    "parcoords": [
                      {
                        "line": {
                          "colorbar": {
                            "outlinewidth": 0,
                            "ticks": ""
                          }
                        },
                        "type": "parcoords"
                      }
                    ],
                    "pie": [
                      {
                        "automargin": true,
                        "type": "pie"
                      }
                    ],
                    "scatter": [
                      {
                        "fillpattern": {
                          "fillmode": "overlay",
                          "size": 10,
                          "solidity": 0.2
                        },
                        "type": "scatter"
                      }
                    ],
                    "scatter3d": [
                      {
                        "line": {
                          "colorbar": {
                            "outlinewidth": 0,
                            "ticks": ""
                          }
                        },
                        "marker": {
                          "colorbar": {
                            "outlinewidth": 0,
                            "ticks": ""
                          }
                        },
                        "type": "scatter3d"
                      }
                    ],
                    "scattercarpet": [
                      {
                        "marker": {
                          "colorbar": {
                            "outlinewidth": 0,
                            "ticks": ""
                          }
                        },
                        "type": "scattercarpet"
                      }
                    ],
                    "scattergeo": [
                      {
                        "marker": {
                          "colorbar": {
                            "outlinewidth": 0,
                            "ticks": ""
                          }
                        },
                        "type": "scattergeo"
                      }
                    ],
                    "scattergl": [
                      {
                        "marker": {
                          "colorbar": {
                            "outlinewidth": 0,
                            "ticks": ""
                          }
                        },
                        "type": "scattergl"
                      }
                    ],
                    "scattermapbox": [
                      {
                        "marker": {
                          "colorbar": {
                            "outlinewidth": 0,
                            "ticks": ""
                          }
                        },
                        "type": "scattermapbox"
                      }
                    ],
                    "scatterpolar": [
                      {
                        "marker": {
                          "colorbar": {
                            "outlinewidth": 0,
                            "ticks": ""
                          }
                        },
                        "type": "scatterpolar"
                      }
                    ],
                    "scatterpolargl": [
                      {
                        "marker": {
                          "colorbar": {
                            "outlinewidth": 0,
                            "ticks": ""
                          }
                        },
                        "type": "scatterpolargl"
                      }
                    ],
                    "scatterternary": [
                      {
                        "marker": {
                          "colorbar": {
                            "outlinewidth": 0,
                            "ticks": ""
                          }
                        },
                        "type": "scatterternary"
                      }
                    ],
                    "surface": [
                      {
                        "colorbar": {
                          "outlinewidth": 0,
                          "ticks": ""
                        },
                        "colorscale": [
                          [
                            0,
                            "#0d0887"
                          ],
                          [
                            0.1111111111111111,
                            "#46039f"
                          ],
                          [
                            0.2222222222222222,
                            "#7201a8"
                          ],
                          [
                            0.3333333333333333,
                            "#9c179e"
                          ],
                          [
                            0.4444444444444444,
                            "#bd3786"
                          ],
                          [
                            0.5555555555555556,
                            "#d8576b"
                          ],
                          [
                            0.6666666666666666,
                            "#ed7953"
                          ],
                          [
                            0.7777777777777778,
                            "#fb9f3a"
                          ],
                          [
                            0.8888888888888888,
                            "#fdca26"
                          ],
                          [
                            1,
                            "#f0f921"
                          ]
                        ],
                        "type": "surface"
                      }
                    ],
                    "table": [
                      {
                        "cells": {
                          "fill": {
                            "color": "#EBF0F8"
                          },
                          "line": {
                            "color": "white"
                          }
                        },
                        "header": {
                          "fill": {
                            "color": "#C8D4E3"
                          },
                          "line": {
                            "color": "white"
                          }
                        },
                        "type": "table"
                      }
                    ]
                  },
                  "layout": {
                    "annotationdefaults": {
                      "arrowcolor": "#2a3f5f",
                      "arrowhead": 0,
                      "arrowwidth": 1
                    },
                    "autotypenumbers": "strict",
                    "coloraxis": {
                      "colorbar": {
                        "outlinewidth": 0,
                        "ticks": ""
                      }
                    },
                    "colorscale": {
                      "diverging": [
                        [
                          0,
                          "#8e0152"
                        ],
                        [
                          0.1,
                          "#c51b7d"
                        ],
                        [
                          0.2,
                          "#de77ae"
                        ],
                        [
                          0.3,
                          "#f1b6da"
                        ],
                        [
                          0.4,
                          "#fde0ef"
                        ],
                        [
                          0.5,
                          "#f7f7f7"
                        ],
                        [
                          0.6,
                          "#e6f5d0"
                        ],
                        [
                          0.7,
                          "#b8e186"
                        ],
                        [
                          0.8,
                          "#7fbc41"
                        ],
                        [
                          0.9,
                          "#4d9221"
                        ],
                        [
                          1,
                          "#276419"
                        ]
                      ],
                      "sequential": [
                        [
                          0,
                          "#0d0887"
                        ],
                        [
                          0.1111111111111111,
                          "#46039f"
                        ],
                        [
                          0.2222222222222222,
                          "#7201a8"
                        ],
                        [
                          0.3333333333333333,
                          "#9c179e"
                        ],
                        [
                          0.4444444444444444,
                          "#bd3786"
                        ],
                        [
                          0.5555555555555556,
                          "#d8576b"
                        ],
                        [
                          0.6666666666666666,
                          "#ed7953"
                        ],
                        [
                          0.7777777777777778,
                          "#fb9f3a"
                        ],
                        [
                          0.8888888888888888,
                          "#fdca26"
                        ],
                        [
                          1,
                          "#f0f921"
                        ]
                      ],
                      "sequentialminus": [
                        [
                          0,
                          "#0d0887"
                        ],
                        [
                          0.1111111111111111,
                          "#46039f"
                        ],
                        [
                          0.2222222222222222,
                          "#7201a8"
                        ],
                        [
                          0.3333333333333333,
                          "#9c179e"
                        ],
                        [
                          0.4444444444444444,
                          "#bd3786"
                        ],
                        [
                          0.5555555555555556,
                          "#d8576b"
                        ],
                        [
                          0.6666666666666666,
                          "#ed7953"
                        ],
                        [
                          0.7777777777777778,
                          "#fb9f3a"
                        ],
                        [
                          0.8888888888888888,
                          "#fdca26"
                        ],
                        [
                          1,
                          "#f0f921"
                        ]
                      ]
                    },
                    "colorway": [
                      "#636efa",
                      "#EF553B",
                      "#00cc96",
                      "#ab63fa",
                      "#FFA15A",
                      "#19d3f3",
                      "#FF6692",
                      "#B6E880",
                      "#FF97FF",
                      "#FECB52"
                    ],
                    "font": {
                      "color": "#2a3f5f"
                    },
                    "geo": {
                      "bgcolor": "white",
                      "lakecolor": "white",
                      "landcolor": "#E5ECF6",
                      "showlakes": true,
                      "showland": true,
                      "subunitcolor": "white"
                    },
                    "hoverlabel": {
                      "align": "left"
                    },
                    "hovermode": "closest",
                    "mapbox": {
                      "style": "light"
                    },
                    "paper_bgcolor": "white",
                    "plot_bgcolor": "#E5ECF6",
                    "polar": {
                      "angularaxis": {
                        "gridcolor": "white",
                        "linecolor": "white",
                        "ticks": ""
                      },
                      "bgcolor": "#E5ECF6",
                      "radialaxis": {
                        "gridcolor": "white",
                        "linecolor": "white",
                        "ticks": ""
                      }
                    },
                    "scene": {
                      "xaxis": {
                        "backgroundcolor": "#E5ECF6",
                        "gridcolor": "white",
                        "gridwidth": 2,
                        "linecolor": "white",
                        "showbackground": true,
                        "ticks": "",
                        "zerolinecolor": "white"
                      },
                      "yaxis": {
                        "backgroundcolor": "#E5ECF6",
                        "gridcolor": "white",
                        "gridwidth": 2,
                        "linecolor": "white",
                        "showbackground": true,
                        "ticks": "",
                        "zerolinecolor": "white"
                      },
                      "zaxis": {
                        "backgroundcolor": "#E5ECF6",
                        "gridcolor": "white",
                        "gridwidth": 2,
                        "linecolor": "white",
                        "showbackground": true,
                        "ticks": "",
                        "zerolinecolor": "white"
                      }
                    },
                    "shapedefaults": {
                      "line": {
                        "color": "#2a3f5f"
                      }
                    },
                    "ternary": {
                      "aaxis": {
                        "gridcolor": "white",
                        "linecolor": "white",
                        "ticks": ""
                      },
                      "baxis": {
                        "gridcolor": "white",
                        "linecolor": "white",
                        "ticks": ""
                      },
                      "bgcolor": "#E5ECF6",
                      "caxis": {
                        "gridcolor": "white",
                        "linecolor": "white",
                        "ticks": ""
                      }
                    },
                    "title": {
                      "x": 0.05
                    },
                    "xaxis": {
                      "automargin": true,
                      "gridcolor": "white",
                      "linecolor": "white",
                      "ticks": "",
                      "title": {
                        "standoff": 15
                      },
                      "zerolinecolor": "white",
                      "zerolinewidth": 2
                    },
                    "yaxis": {
                      "automargin": true,
                      "gridcolor": "white",
                      "linecolor": "white",
                      "ticks": "",
                      "title": {
                        "standoff": 15
                      },
                      "zerolinecolor": "white",
                      "zerolinewidth": 2
                    }
                  }
                },
                "width": 800,
                "xaxis": {
                  "anchor": "y",
                  "domain": [
                    0,
                    1
                  ],
                  "showgrid": false,
                  "showline": false,
                  "showticklabels": false,
                  "title": {
                    "text": ""
                  },
                  "zeroline": false
                },
                "yaxis": {
                  "anchor": "x",
                  "domain": [
                    0,
                    1
                  ],
                  "showgrid": false,
                  "showline": false,
                  "showticklabels": false,
                  "title": {
                    "text": ""
                  },
                  "zeroline": false
                }
              }
            },
            "text/html": [
              "<div>                            <div id=\"b61ac4f0-3ef0-402a-8751-f7340da4505b\" class=\"plotly-graph-div\" style=\"height:800px; width:800px;\"></div>            <script type=\"text/javascript\">                require([\"plotly\"], function(Plotly) {                    window.PLOTLYENV=window.PLOTLYENV || {};                                    if (document.getElementById(\"b61ac4f0-3ef0-402a-8751-f7340da4505b\")) {                    Plotly.newPlot(                        \"b61ac4f0-3ef0-402a-8751-f7340da4505b\",                        [{\"hovertemplate\":\"cluster=%{marker.color}\\u003cbr\\u003eprincipal component 1=%{x}\\u003cbr\\u003eprincipal component 2=%{y}\\u003cextra\\u003e\\u003c\\u002fextra\\u003e\",\"legendgroup\":\"1\",\"marker\":{\"color\":[1,1,1,1,1,1,1,1,1,1,1,1,1,1,1,1,1,1,1,1,1,1,1,1,1,1,1,1,1,1,1,1,1,1,1,1,1,1,1,1,1,1,1,1,1,1,1,1,1,1,1],\"coloraxis\":\"coloraxis\",\"size\":[1,1,1,1,1,1,1,1,1,1,1,1,1,1,1,1,1,1,1,1,1,1,1,1,1,1,1,1,1,1,1,1,1,1,1,1,1,1,1,1,1,1,1,1,1,1,1,1,1,1,1],\"sizemode\":\"area\",\"sizeref\":0.0125,\"symbol\":\"circle\"},\"mode\":\"markers\",\"name\":\"Cluster 1\",\"orientation\":\"v\",\"showlegend\":true,\"x\":[2.201552200094695,0.09131249015535056,6.27587866639921,-1.3447244223267538,-0.6549347739584294,-0.6384347512233026,5.6173300310144185,0.25907953022615476,-2.48618404057914,6.1244211721890975,5.488905894923699,-2.312996703047328,2.2537121505494495,4.613291532743513,1.5487496348298213,-2.9407435261355612,0.6700911501996616,-2.1922016698676514,-2.9077793683690127,-2.9823025377722088,1.632967540927584,-1.8065655049272904,-2.367851150193467,1.974445778388283,1.482037758325933,0.6972942920828623,-3.3561360226160613,-3.0752860566766573,-2.78093910809144,-1.5922261463429324,-2.7040686818625312,0.7504879683983108,1.4715104574451543,-2.4063814180166907,-1.9113332640698235,-3.0410367132559126,-3.083085667110798,1.6410236430059233,-1.7441574703389398,-1.3942756745123368,0.374814266685975,3.205891389245931,-2.250645636348712,5.153382561672342,5.777702148306235,-0.9879159083728634,5.778436881240016,-0.7303949551553521,-1.219250229829547,2.3373410486357558,4.479813375781192],\"xaxis\":\"x\",\"y\":[-1.3927929203940421,-3.578217646745264,0.09716196844099768,-1.149226411687033,-2.170530323245,-3.1561330878444016,0.5000508275496633,-0.5447371235204851,1.2011715463952262,-0.20671724820385776,2.465557366140117,1.367378770277754,-0.4921543518929287,4.009442785775796,-0.3942034288902288,1.5165026057994675,3.791061944143022,1.0281565402626394,1.2463649157211234,0.9501808892317468,0.5639147129951064,-2.159391485696168,1.26482600694239,2.9479347546188484,1.2183808410254886,0.3444765110766616,2.1652686907254655,1.4489499456395527,-1.293300072534747,-1.0899465598241709,0.040682214021320835,-3.87254312980451,-0.8772851125759813,-0.15398005184642918,-0.1803461955374536,2.3629320998100716,2.7547216369959746,-0.27484266279341313,-0.17662517259217,0.7268308158019271,1.0194898024054173,2.3423200435253038,-0.25053868896667714,4.91162563223943,0.46118055314922335,-2.5414295656476114,1.9506113144010067,0.5394189147811626,-2.5587727611069124,-1.3627135606876513,0.8198533250579864],\"yaxis\":\"y\",\"type\":\"scatter\"},{\"hovertemplate\":\"cluster=%{marker.color}\\u003cbr\\u003eprincipal component 1=%{x}\\u003cbr\\u003eprincipal component 2=%{y}\\u003cextra\\u003e\\u003c\\u002fextra\\u003e\",\"legendgroup\":\"2\",\"marker\":{\"color\":[2,2,2,2,2,2,2,2,2,2,2,2,2,2,2,2,2,2,2,2,2,2,2,2,2,2,2,2,2,2,2,2,2,2,2,2,2,2,2,2,2,2,2,2,2,2,2,2,2,2,2,2,2,2,2,2,2,2,2],\"coloraxis\":\"coloraxis\",\"size\":[2,2,2,2,2,2,2,2,2,2,2,2,2,2,2,2,2,2,2,2,2,2,2,2,2,2,2,2,2,2,2,2,2,2,2,2,2,2,2,2,2,2,2,2,2,2,2,2,2,2,2,2,2,2,2,2,2,2,2],\"sizemode\":\"area\",\"sizeref\":0.0125,\"symbol\":\"diamond\"},\"mode\":\"markers\",\"name\":\"Cluster 2\",\"orientation\":\"v\",\"showlegend\":true,\"x\":[-2.250059145782138,-4.5312206036504445,-5.240274330911886,-5.827560468983204,-0.369863847423091,-2.997136077955616,-1.1490788468330384,-1.4327409591007454,-1.683271021444316,-2.411675518705194,-4.959570993968236,-0.7899078752417361,-6.320529635953859,-2.864017190389815,-4.467797053700106,-1.8895269913647044,-0.7786821333541446,-6.079113497282829,-2.798824201994865,-4.693257263210803,-3.4420879065844154,-2.538377839514864,-4.4985439407201,-6.2147360312103554,-4.821123717196615,-5.9093086854650325,-0.03525140594769985,-4.528263509355871,-6.607969490072341,-4.702003596675098,2.8577776177550698,-4.025983406141444,-2.915526068643301,-4.664881702062278,-5.624654958923791,-4.099535347356499,-3.740191292411308,-4.674697287217857,-1.9424289661447245,-5.928195457231365,-3.71309877326064,-3.627542721675168,-6.437427963173612,-3.61905785208718,-6.594644943896961,-4.637651304968263,-3.3066789115945188,-1.941928714599852,-5.723462697590041,0.9593055818068323,-2.6353116277672557,-5.241694533250034,-5.4640548152806385,-4.648702673741612,-4.394485016201411,-4.83221749668707,-5.210672765987325,-6.383909461316077,3.60242878203809],\"xaxis\":\"x\",\"y\":[-1.1726775196890353,2.030966524062323,2.557646294062233,1.312491686152736,2.3447880120182854,-0.9978943929511861,0.022112464726462562,-0.6547205573502188,1.366363718548896,1.9108858547539775,1.2433276044883974,3.4337480096785424,1.2939774742271142,-0.1604746209618915,0.5862640765223048,0.7407202571274735,3.1238616794965037,1.2851928081838504,-0.021573906666767596,1.3534983464893433,2.200688342080907,1.495949178015185,2.899015760794284,1.703957544723603,3.745313795827839,1.0808428406404076,-3.1003742278409865,2.40805979717858,1.1496464596569866,0.7446843962361923,-3.107588618712094,-0.233358555939435,5.248921916912712,2.343471868570172,0.5165401828881944,4.7410640262811015,2.550436529031477,3.2612221231424265,1.430723879395374,1.0170721889772623,3.1263300248256107,0.25777977553529485,1.6399916046579373,-3.0385623493595193,1.778089999542243,-0.3072376873369495,2.598014883158045,0.2216596447699904,0.7212179171296178,2.9569824556575557,1.1590673796965891,0.2670004634281554,0.40447903333735497,2.8115456598199358,-0.927623278045316,-0.5914462998120671,-0.527766296635027,1.8710555999439722,3.2969534626053747],\"yaxis\":\"y\",\"type\":\"scatter\"},{\"hovertemplate\":\"cluster=%{marker.color}\\u003cbr\\u003eprincipal component 1=%{x}\\u003cbr\\u003eprincipal component 2=%{y}\\u003cextra\\u003e\\u003c\\u002fextra\\u003e\",\"legendgroup\":\"3\",\"marker\":{\"color\":[3,3,3,3,3,3,3,3,3,3,3,3,3,3,3,3,3,3,3,3,3,3,3,3,3,3,3,3,3,3,3,3,3],\"coloraxis\":\"coloraxis\",\"size\":[3,3,3,3,3,3,3,3,3,3,3,3,3,3,3,3,3,3,3,3,3,3,3,3,3,3,3,3,3,3,3,3,3],\"sizemode\":\"area\",\"sizeref\":0.0125,\"symbol\":\"square\"},\"mode\":\"markers\",\"name\":\"Cluster 3\",\"orientation\":\"v\",\"showlegend\":true,\"x\":[-2.0523239294781046,0.5680024133498169,0.4129548424339453,-0.7480559923357526,-0.7292986636579019,-2.62943394724134,-0.3801350037637757,-1.9145115431105761,0.1768940139461078,-0.09783437948548102,-0.6431358132470655,-2.3771094682742118,1.462033016447972,-2.5567771075441166,-2.105515696118556,-2.1809549743788046,0.07438985426140952,2.495656418063257,0.4366968816312686,-3.020115060054507,-3.858452654344325,0.5709906844154811,-0.80582205865509,3.850702843335504,3.223302248689161,-2.0122408901102893,-2.146088227010943,-1.7086012141239988,-1.5188128891185388,1.5846544388110202,0.676648355106955,0.9028442312689857,-1.1020552706963909],\"xaxis\":\"x\",\"y\":[-5.636220667105605,-2.7900882110527485,-7.613705640676826,-6.521359177409043,-6.473718822941966,-5.318344171177109,-5.186621803952153,-4.429640625481539,-4.319104368770287,-7.162025814584383,-7.28383072590816,-3.670926179458559,-5.313657198521488,-5.102323064256514,-2.925687859486031,-5.811172424296934,-5.640763163330021,-7.376967431641742,-6.622015668502773,-4.181265126936998,-5.1189835698501485,-6.672460488465606,-2.436969292416292,-6.181098201302808,-5.068174936922175,-6.410632844679682,-2.244074892096024,-7.126561358094062,-5.376294503222811,-6.978582410290506,-5.930137277728334,-6.8041239336474835,-5.780314907552795],\"yaxis\":\"y\",\"type\":\"scatter\"},{\"hovertemplate\":\"cluster=%{marker.color}\\u003cbr\\u003eprincipal component 1=%{x}\\u003cbr\\u003eprincipal component 2=%{y}\\u003cextra\\u003e\\u003c\\u002fextra\\u003e\",\"legendgroup\":\"4\",\"marker\":{\"color\":[4,4,4,4,4,4,4,4,4,4,4,4,4,4,4,4,4,4,4,4,4,4,4,4],\"coloraxis\":\"coloraxis\",\"size\":[4,4,4,4,4,4,4,4,4,4,4,4,4,4,4,4,4,4,4,4,4,4,4,4],\"sizemode\":\"area\",\"sizeref\":0.0125,\"symbol\":\"x\"},\"mode\":\"markers\",\"name\":\"Cluster 4\",\"orientation\":\"v\",\"showlegend\":true,\"x\":[8.69538334294892,6.578230821483683,6.240602712011002,6.623303615841347,4.845445270459992,6.470693424716895,7.658942852663237,7.667046096930938,8.47367904175534,8.811843911788818,8.441665498683827,5.303003471609426,8.066220539541087,8.082164574083201,7.8097215362641,6.714779139426496,8.111346229048008,9.214112204471503,3.4899248239301506,6.375641073318005,8.374410235240507,8.049046985857364,7.918131471372993,9.059533469761062],\"xaxis\":\"x\",\"y\":[-1.6683014682670607,0.11395309391563352,1.5128929084187066,-2.574830317543623,0.7531001235542384,4.087427843107748,-0.24827841288661526,-0.9098026687310822,-1.8614230931316138,-0.7701748514401108,-2.887613149707447,4.462946747320969,-0.9412734124895257,-1.4886369696469957,-0.3868568869028958,0.42980894200893044,-1.216303554681815,-1.5746101460736732,-0.6874095136225115,1.8049284029894996,-1.5299508826945514,-1.3606009478454943,-0.14496571791554355,-1.837684235311377],\"yaxis\":\"y\",\"type\":\"scatter\"},{\"hovertemplate\":\"cluster=%{marker.color}\\u003cbr\\u003eprincipal component 1=%{x}\\u003cbr\\u003eprincipal component 2=%{y}\\u003cextra\\u003e\\u003c\\u002fextra\\u003e\",\"legendgroup\":\"5\",\"marker\":{\"color\":[5,5,5,5,5,5,5,5,5,5,5,5,5,5,5,5],\"coloraxis\":\"coloraxis\",\"size\":[5,5,5,5,5,5,5,5,5,5,5,5,5,5,5,5],\"sizemode\":\"area\",\"sizeref\":0.0125,\"symbol\":\"cross\"},\"mode\":\"markers\",\"name\":\"Cluster 5\",\"orientation\":\"v\",\"showlegend\":true,\"x\":[2.668545980023131,0.5879779263374347,3.7006717258263624,1.0585357903841832,5.13255880331096,3.724616299207804,3.6438828836760044,-0.41853387307115714,-0.02664235992486417,2.302580326822227,-1.3134528447985023,0.9923858100908965,5.808915219775914,4.133595886269193,3.879820426562158,3.6524505924267645],\"xaxis\":\"x\",\"y\":[5.30391053635938,6.932965125051074,7.189167961498388,6.332824501653661,4.839906392780952,5.11432149023622,7.440161079934278,5.648981075172065,7.600018551239146,8.20939428390387,4.684456604135591,5.77874392413026,6.65735430779764,7.582869382431928,6.194767969928224,7.3293160964720485],\"yaxis\":\"y\",\"type\":\"scatter\"}],                        {\"template\":{\"data\":{\"histogram2dcontour\":[{\"type\":\"histogram2dcontour\",\"colorbar\":{\"outlinewidth\":0,\"ticks\":\"\"},\"colorscale\":[[0.0,\"#0d0887\"],[0.1111111111111111,\"#46039f\"],[0.2222222222222222,\"#7201a8\"],[0.3333333333333333,\"#9c179e\"],[0.4444444444444444,\"#bd3786\"],[0.5555555555555556,\"#d8576b\"],[0.6666666666666666,\"#ed7953\"],[0.7777777777777778,\"#fb9f3a\"],[0.8888888888888888,\"#fdca26\"],[1.0,\"#f0f921\"]]}],\"choropleth\":[{\"type\":\"choropleth\",\"colorbar\":{\"outlinewidth\":0,\"ticks\":\"\"}}],\"histogram2d\":[{\"type\":\"histogram2d\",\"colorbar\":{\"outlinewidth\":0,\"ticks\":\"\"},\"colorscale\":[[0.0,\"#0d0887\"],[0.1111111111111111,\"#46039f\"],[0.2222222222222222,\"#7201a8\"],[0.3333333333333333,\"#9c179e\"],[0.4444444444444444,\"#bd3786\"],[0.5555555555555556,\"#d8576b\"],[0.6666666666666666,\"#ed7953\"],[0.7777777777777778,\"#fb9f3a\"],[0.8888888888888888,\"#fdca26\"],[1.0,\"#f0f921\"]]}],\"heatmap\":[{\"type\":\"heatmap\",\"colorbar\":{\"outlinewidth\":0,\"ticks\":\"\"},\"colorscale\":[[0.0,\"#0d0887\"],[0.1111111111111111,\"#46039f\"],[0.2222222222222222,\"#7201a8\"],[0.3333333333333333,\"#9c179e\"],[0.4444444444444444,\"#bd3786\"],[0.5555555555555556,\"#d8576b\"],[0.6666666666666666,\"#ed7953\"],[0.7777777777777778,\"#fb9f3a\"],[0.8888888888888888,\"#fdca26\"],[1.0,\"#f0f921\"]]}],\"heatmapgl\":[{\"type\":\"heatmapgl\",\"colorbar\":{\"outlinewidth\":0,\"ticks\":\"\"},\"colorscale\":[[0.0,\"#0d0887\"],[0.1111111111111111,\"#46039f\"],[0.2222222222222222,\"#7201a8\"],[0.3333333333333333,\"#9c179e\"],[0.4444444444444444,\"#bd3786\"],[0.5555555555555556,\"#d8576b\"],[0.6666666666666666,\"#ed7953\"],[0.7777777777777778,\"#fb9f3a\"],[0.8888888888888888,\"#fdca26\"],[1.0,\"#f0f921\"]]}],\"contourcarpet\":[{\"type\":\"contourcarpet\",\"colorbar\":{\"outlinewidth\":0,\"ticks\":\"\"}}],\"contour\":[{\"type\":\"contour\",\"colorbar\":{\"outlinewidth\":0,\"ticks\":\"\"},\"colorscale\":[[0.0,\"#0d0887\"],[0.1111111111111111,\"#46039f\"],[0.2222222222222222,\"#7201a8\"],[0.3333333333333333,\"#9c179e\"],[0.4444444444444444,\"#bd3786\"],[0.5555555555555556,\"#d8576b\"],[0.6666666666666666,\"#ed7953\"],[0.7777777777777778,\"#fb9f3a\"],[0.8888888888888888,\"#fdca26\"],[1.0,\"#f0f921\"]]}],\"surface\":[{\"type\":\"surface\",\"colorbar\":{\"outlinewidth\":0,\"ticks\":\"\"},\"colorscale\":[[0.0,\"#0d0887\"],[0.1111111111111111,\"#46039f\"],[0.2222222222222222,\"#7201a8\"],[0.3333333333333333,\"#9c179e\"],[0.4444444444444444,\"#bd3786\"],[0.5555555555555556,\"#d8576b\"],[0.6666666666666666,\"#ed7953\"],[0.7777777777777778,\"#fb9f3a\"],[0.8888888888888888,\"#fdca26\"],[1.0,\"#f0f921\"]]}],\"mesh3d\":[{\"type\":\"mesh3d\",\"colorbar\":{\"outlinewidth\":0,\"ticks\":\"\"}}],\"scatter\":[{\"fillpattern\":{\"fillmode\":\"overlay\",\"size\":10,\"solidity\":0.2},\"type\":\"scatter\"}],\"parcoords\":[{\"type\":\"parcoords\",\"line\":{\"colorbar\":{\"outlinewidth\":0,\"ticks\":\"\"}}}],\"scatterpolargl\":[{\"type\":\"scatterpolargl\",\"marker\":{\"colorbar\":{\"outlinewidth\":0,\"ticks\":\"\"}}}],\"bar\":[{\"error_x\":{\"color\":\"#2a3f5f\"},\"error_y\":{\"color\":\"#2a3f5f\"},\"marker\":{\"line\":{\"color\":\"#E5ECF6\",\"width\":0.5},\"pattern\":{\"fillmode\":\"overlay\",\"size\":10,\"solidity\":0.2}},\"type\":\"bar\"}],\"scattergeo\":[{\"type\":\"scattergeo\",\"marker\":{\"colorbar\":{\"outlinewidth\":0,\"ticks\":\"\"}}}],\"scatterpolar\":[{\"type\":\"scatterpolar\",\"marker\":{\"colorbar\":{\"outlinewidth\":0,\"ticks\":\"\"}}}],\"histogram\":[{\"marker\":{\"pattern\":{\"fillmode\":\"overlay\",\"size\":10,\"solidity\":0.2}},\"type\":\"histogram\"}],\"scattergl\":[{\"type\":\"scattergl\",\"marker\":{\"colorbar\":{\"outlinewidth\":0,\"ticks\":\"\"}}}],\"scatter3d\":[{\"type\":\"scatter3d\",\"line\":{\"colorbar\":{\"outlinewidth\":0,\"ticks\":\"\"}},\"marker\":{\"colorbar\":{\"outlinewidth\":0,\"ticks\":\"\"}}}],\"scattermapbox\":[{\"type\":\"scattermapbox\",\"marker\":{\"colorbar\":{\"outlinewidth\":0,\"ticks\":\"\"}}}],\"scatterternary\":[{\"type\":\"scatterternary\",\"marker\":{\"colorbar\":{\"outlinewidth\":0,\"ticks\":\"\"}}}],\"scattercarpet\":[{\"type\":\"scattercarpet\",\"marker\":{\"colorbar\":{\"outlinewidth\":0,\"ticks\":\"\"}}}],\"carpet\":[{\"aaxis\":{\"endlinecolor\":\"#2a3f5f\",\"gridcolor\":\"white\",\"linecolor\":\"white\",\"minorgridcolor\":\"white\",\"startlinecolor\":\"#2a3f5f\"},\"baxis\":{\"endlinecolor\":\"#2a3f5f\",\"gridcolor\":\"white\",\"linecolor\":\"white\",\"minorgridcolor\":\"white\",\"startlinecolor\":\"#2a3f5f\"},\"type\":\"carpet\"}],\"table\":[{\"cells\":{\"fill\":{\"color\":\"#EBF0F8\"},\"line\":{\"color\":\"white\"}},\"header\":{\"fill\":{\"color\":\"#C8D4E3\"},\"line\":{\"color\":\"white\"}},\"type\":\"table\"}],\"barpolar\":[{\"marker\":{\"line\":{\"color\":\"#E5ECF6\",\"width\":0.5},\"pattern\":{\"fillmode\":\"overlay\",\"size\":10,\"solidity\":0.2}},\"type\":\"barpolar\"}],\"pie\":[{\"automargin\":true,\"type\":\"pie\"}]},\"layout\":{\"autotypenumbers\":\"strict\",\"colorway\":[\"#636efa\",\"#EF553B\",\"#00cc96\",\"#ab63fa\",\"#FFA15A\",\"#19d3f3\",\"#FF6692\",\"#B6E880\",\"#FF97FF\",\"#FECB52\"],\"font\":{\"color\":\"#2a3f5f\"},\"hovermode\":\"closest\",\"hoverlabel\":{\"align\":\"left\"},\"paper_bgcolor\":\"white\",\"plot_bgcolor\":\"#E5ECF6\",\"polar\":{\"bgcolor\":\"#E5ECF6\",\"angularaxis\":{\"gridcolor\":\"white\",\"linecolor\":\"white\",\"ticks\":\"\"},\"radialaxis\":{\"gridcolor\":\"white\",\"linecolor\":\"white\",\"ticks\":\"\"}},\"ternary\":{\"bgcolor\":\"#E5ECF6\",\"aaxis\":{\"gridcolor\":\"white\",\"linecolor\":\"white\",\"ticks\":\"\"},\"baxis\":{\"gridcolor\":\"white\",\"linecolor\":\"white\",\"ticks\":\"\"},\"caxis\":{\"gridcolor\":\"white\",\"linecolor\":\"white\",\"ticks\":\"\"}},\"coloraxis\":{\"colorbar\":{\"outlinewidth\":0,\"ticks\":\"\"}},\"colorscale\":{\"sequential\":[[0.0,\"#0d0887\"],[0.1111111111111111,\"#46039f\"],[0.2222222222222222,\"#7201a8\"],[0.3333333333333333,\"#9c179e\"],[0.4444444444444444,\"#bd3786\"],[0.5555555555555556,\"#d8576b\"],[0.6666666666666666,\"#ed7953\"],[0.7777777777777778,\"#fb9f3a\"],[0.8888888888888888,\"#fdca26\"],[1.0,\"#f0f921\"]],\"sequentialminus\":[[0.0,\"#0d0887\"],[0.1111111111111111,\"#46039f\"],[0.2222222222222222,\"#7201a8\"],[0.3333333333333333,\"#9c179e\"],[0.4444444444444444,\"#bd3786\"],[0.5555555555555556,\"#d8576b\"],[0.6666666666666666,\"#ed7953\"],[0.7777777777777778,\"#fb9f3a\"],[0.8888888888888888,\"#fdca26\"],[1.0,\"#f0f921\"]],\"diverging\":[[0,\"#8e0152\"],[0.1,\"#c51b7d\"],[0.2,\"#de77ae\"],[0.3,\"#f1b6da\"],[0.4,\"#fde0ef\"],[0.5,\"#f7f7f7\"],[0.6,\"#e6f5d0\"],[0.7,\"#b8e186\"],[0.8,\"#7fbc41\"],[0.9,\"#4d9221\"],[1,\"#276419\"]]},\"xaxis\":{\"gridcolor\":\"white\",\"linecolor\":\"white\",\"ticks\":\"\",\"title\":{\"standoff\":15},\"zerolinecolor\":\"white\",\"automargin\":true,\"zerolinewidth\":2},\"yaxis\":{\"gridcolor\":\"white\",\"linecolor\":\"white\",\"ticks\":\"\",\"title\":{\"standoff\":15},\"zerolinecolor\":\"white\",\"automargin\":true,\"zerolinewidth\":2},\"scene\":{\"xaxis\":{\"backgroundcolor\":\"#E5ECF6\",\"gridcolor\":\"white\",\"linecolor\":\"white\",\"showbackground\":true,\"ticks\":\"\",\"zerolinecolor\":\"white\",\"gridwidth\":2},\"yaxis\":{\"backgroundcolor\":\"#E5ECF6\",\"gridcolor\":\"white\",\"linecolor\":\"white\",\"showbackground\":true,\"ticks\":\"\",\"zerolinecolor\":\"white\",\"gridwidth\":2},\"zaxis\":{\"backgroundcolor\":\"#E5ECF6\",\"gridcolor\":\"white\",\"linecolor\":\"white\",\"showbackground\":true,\"ticks\":\"\",\"zerolinecolor\":\"white\",\"gridwidth\":2}},\"shapedefaults\":{\"line\":{\"color\":\"#2a3f5f\"}},\"annotationdefaults\":{\"arrowcolor\":\"#2a3f5f\",\"arrowhead\":0,\"arrowwidth\":1},\"geo\":{\"bgcolor\":\"white\",\"landcolor\":\"#E5ECF6\",\"subunitcolor\":\"white\",\"showland\":true,\"showlakes\":true,\"lakecolor\":\"white\"},\"title\":{\"x\":0.05},\"mapbox\":{\"style\":\"light\"}}},\"xaxis\":{\"anchor\":\"y\",\"domain\":[0.0,1.0],\"title\":{\"text\":\"\"},\"showline\":false,\"showgrid\":false,\"zeroline\":false,\"showticklabels\":false},\"yaxis\":{\"anchor\":\"x\",\"domain\":[0.0,1.0],\"title\":{\"text\":\"\"},\"showline\":false,\"showgrid\":false,\"zeroline\":false,\"showticklabels\":false},\"coloraxis\":{\"colorbar\":{\"title\":{\"text\":\"cluster\"}},\"colorscale\":[[0.0,\"#0d0887\"],[0.1111111111111111,\"#46039f\"],[0.2222222222222222,\"#7201a8\"],[0.3333333333333333,\"#9c179e\"],[0.4444444444444444,\"#bd3786\"],[0.5555555555555556,\"#d8576b\"],[0.6666666666666666,\"#ed7953\"],[0.7777777777777778,\"#fb9f3a\"],[0.8888888888888888,\"#fdca26\"],[1.0,\"#f0f921\"]],\"showscale\":false},\"legend\":{\"title\":{\"text\":\"\"},\"tracegroupgap\":0,\"itemsizing\":\"constant\",\"font\":{\"family\":\"sans-serif\",\"size\":20,\"color\":\"black\"},\"traceorder\":\"normal\",\"bordercolor\":\"Black\",\"borderwidth\":2},\"margin\":{\"t\":0,\"l\":0,\"r\":0,\"b\":0},\"width\":800,\"height\":800,\"plot_bgcolor\":\"white\"},                        {\"responsive\": true}                    ).then(function(){\n",
              "                            \n",
              "var gd = document.getElementById('b61ac4f0-3ef0-402a-8751-f7340da4505b');\n",
              "var x = new MutationObserver(function (mutations, observer) {{\n",
              "        var display = window.getComputedStyle(gd).display;\n",
              "        if (!display || display === 'none') {{\n",
              "            console.log([gd, 'removed!']);\n",
              "            Plotly.purge(gd);\n",
              "            observer.disconnect();\n",
              "        }}\n",
              "}});\n",
              "\n",
              "// Listen for the removal of the full notebook cells\n",
              "var notebookContainer = gd.closest('#notebook-container');\n",
              "if (notebookContainer) {{\n",
              "    x.observe(notebookContainer, {childList: true});\n",
              "}}\n",
              "\n",
              "// Listen for the clearing of the current output cell\n",
              "var outputEl = gd.closest('.output');\n",
              "if (outputEl) {{\n",
              "    x.observe(outputEl, {childList: true});\n",
              "}}\n",
              "\n",
              "                        })                };                });            </script>        </div>"
            ]
          },
          "metadata": {},
          "output_type": "display_data"
        },
        {
          "data": {
            "text/html": [
              "<pre style=\"white-space:pre;overflow-x:auto;line-height:normal;font-family:Menlo,'DejaVu Sans Mono',consolas,'Courier New',monospace\"><span style=\"font-style: italic\">                                           Resultados do AGNES                                            </span>\n",
              "┏━━━━━━━━━━━━━━━━━━━━┳━━━━━━━━━━━━━━━━━━━━┳━━━━━━━━━━━━━━━━━━━━┳━━━━━━━━━━━━━━━━━━━━┳━━━━━━━━━━━━━━━━━━━━┓\n",
              "┃<span style=\"font-weight: bold\">       Coesão       </span>┃<span style=\"font-weight: bold\">  Silhouette Score  </span>┃<span style=\"font-weight: bold\">     Rand Score     </span>┃<span style=\"font-weight: bold\">   Homogeneidade    </span>┃<span style=\"font-weight: bold\">     Completude     </span>┃\n",
              "┡━━━━━━━━━━━━━━━━━━━━╇━━━━━━━━━━━━━━━━━━━━╇━━━━━━━━━━━━━━━━━━━━╇━━━━━━━━━━━━━━━━━━━━╇━━━━━━━━━━━━━━━━━━━━┩\n",
              "│<span style=\"color: #008080; text-decoration-color: #008080\"> 236.83416034084476 </span>│<span style=\"color: #800080; text-decoration-color: #800080\"> 0.1682867491308201 </span>│<span style=\"color: #008000; text-decoration-color: #008000\"> 0.4075158868013831 </span>│<span style=\"color: #000080; text-decoration-color: #000080\"> 0.4932279885120558 </span>│<span style=\"color: #808000; text-decoration-color: #808000\"> 0.7332698872774241 </span>│\n",
              "└────────────────────┴────────────────────┴────────────────────┴────────────────────┴────────────────────┘\n",
              "</pre>\n"
            ],
            "text/plain": [
              "\u001b[3m                                           Resultados do AGNES                                            \u001b[0m\n",
              "┏━━━━━━━━━━━━━━━━━━━━┳━━━━━━━━━━━━━━━━━━━━┳━━━━━━━━━━━━━━━━━━━━┳━━━━━━━━━━━━━━━━━━━━┳━━━━━━━━━━━━━━━━━━━━┓\n",
              "┃\u001b[1m \u001b[0m\u001b[1m      Coesão      \u001b[0m\u001b[1m \u001b[0m┃\u001b[1m \u001b[0m\u001b[1m Silhouette Score \u001b[0m\u001b[1m \u001b[0m┃\u001b[1m \u001b[0m\u001b[1m    Rand Score    \u001b[0m\u001b[1m \u001b[0m┃\u001b[1m \u001b[0m\u001b[1m  Homogeneidade   \u001b[0m\u001b[1m \u001b[0m┃\u001b[1m \u001b[0m\u001b[1m    Completude    \u001b[0m\u001b[1m \u001b[0m┃\n",
              "┡━━━━━━━━━━━━━━━━━━━━╇━━━━━━━━━━━━━━━━━━━━╇━━━━━━━━━━━━━━━━━━━━╇━━━━━━━━━━━━━━━━━━━━╇━━━━━━━━━━━━━━━━━━━━┩\n",
              "│\u001b[36m \u001b[0m\u001b[36m236.83416034084476\u001b[0m\u001b[36m \u001b[0m│\u001b[35m \u001b[0m\u001b[35m0.1682867491308201\u001b[0m\u001b[35m \u001b[0m│\u001b[32m \u001b[0m\u001b[32m0.4075158868013831\u001b[0m\u001b[32m \u001b[0m│\u001b[34m \u001b[0m\u001b[34m0.4932279885120558\u001b[0m\u001b[34m \u001b[0m│\u001b[33m \u001b[0m\u001b[33m0.7332698872774241\u001b[0m\u001b[33m \u001b[0m│\n",
              "└────────────────────┴────────────────────┴────────────────────┴────────────────────┴────────────────────┘\n"
            ]
          },
          "metadata": {},
          "output_type": "display_data"
        },
        {
          "name": "stdout",
          "output_type": "stream",
          "text": [
            "Matriz de Confusão\n",
            "[[ 0  0 10  0  0]\n",
            " [ 0 29  1  0  0]\n",
            " [ 0  1 11  0  0]\n",
            " [ 0  3  9  0  0]\n",
            " [ 1 24  0  0  0]\n",
            " [18  1  2  1  0]\n",
            " [ 5  1  0  7  0]\n",
            " [21  0  0  0  2]\n",
            " [ 4  0  0 14  0]\n",
            " [ 2  0  0  2 14]]\n"
          ]
        }
      ],
      "source": [
        "def AGNES_Trainer(df):\n",
        "    \n",
        "    # Define o número de clusters\n",
        "    n_clusters = 5\n",
        "    \n",
        "    # Define o método de ligação\n",
        "    linkage = 'average'\n",
        "    \n",
        "    # Define o modelo\n",
        "    model = AgglomerativeClustering(n_clusters=n_clusters, linkage=linkage)\n",
        "    \n",
        "    # Define os dados de treino\n",
        "    model.fit(df)\n",
        "    \n",
        "    # Define a opinião do modelo\n",
        "    X = model.labels_\n",
        "    \n",
        "    # AGNES predict\n",
        "    agnes_labels = model.fit_predict(df)\n",
        "\n",
        "    # Printa a opinião do modelo com o rich\n",
        "    console = Console()\n",
        "    table = Table(title=\"Opinião do Modelo AGNES\")\n",
        "    table.add_column(\"Cluster\", style=\"cyan\", justify=\"center\")\n",
        "    table.add_column(\"Opinião\", style=\"magenta\", justify=\"center\")\n",
        "    for i in range(n_clusters):\n",
        "        table.add_row(str(i), str(np.sum(X == i)))\n",
        "    console.print(table)\n",
        "    \n",
        "    # Printa o X com o rich\n",
        "    console = Console()\n",
        "    console.print(X)\n",
        "    \n",
        "    # Plota o gráfico de dispersão dos dados AGNES\n",
        "    \n",
        "    # Supondo que meu dataframe seja o 'X' e que 'y_kmeans' seja o resultado do agrupamento\n",
        "    pca = PCA(n_components=2)\n",
        "    principalComponents = pca.fit_transform(df)\n",
        "\n",
        "    # Cria um dataframe com os componentes principais\n",
        "    principalDf = pd.DataFrame(data = principalComponents, columns = ['principal component 1', 'principal component 2'])\n",
        "\n",
        "    # Adiciona a coluna de agrupamento\n",
        "    principalDf['cluster'] = X\n",
        "\n",
        "    # Ordena o DataFrame pelo valor do cluster (Arruma a legenda do gráfico para que os clusters fiquem em ordem crescente)\n",
        "    principalDf = principalDf.sort_values(by='cluster')\n",
        "    \n",
        "    # Transforma na df todos o cluster, os que era 0 viram 1, 1 vira 2 e assim por diante\n",
        "    principalDf['cluster'] = principalDf['cluster'] + 1\n",
        "\n",
        "    # Plota o gráfico de dispersão usando o matplotlib\n",
        "    fig = px.scatter(principalDf, x='principal component 1', y='principal component 2', symbol='cluster', size='cluster', color='cluster')\n",
        "    \n",
        "    # Atualiza o layout do gráfico\n",
        "    fig.update_layout(\n",
        "        width=800, \n",
        "        height=800)\n",
        "    \n",
        "    # Atualiza o X e Y do gráfico retirando-os\n",
        "    fig.update_xaxes(title_text='')\n",
        "    fig.update_yaxes(title_text='')\n",
        "    \n",
        "    # Remove a barra de cores\n",
        "    fig.update_layout(coloraxis_showscale=False)\n",
        "    \n",
        "    # Retira o fundo do gráfico (grid) colocando-o branco\n",
        "    fig.update_layout(plot_bgcolor='white')\n",
        "\n",
        "    # Retira o axis do gráfico\n",
        "    fig.update_xaxes(showline=False, showgrid=False, zeroline=False)   \n",
        "    fig.update_yaxes(showline=False, showgrid=False, zeroline=False)\n",
        "    \n",
        "    # Retira os numeros do eixo X e Y\n",
        "    fig.update_xaxes(showticklabels=False)\n",
        "    fig.update_yaxes(showticklabels=False)\n",
        "    \n",
        "    # Organiza a legenda em ordem crescente de clusters\n",
        "    fig.for_each_trace(lambda t: t.update(name='Cluster ' + str(t.name)))\n",
        "    \n",
        "    # Configura a legenda\n",
        "    fig.update_layout(\n",
        "        legend=dict(\n",
        "            traceorder='normal',\n",
        "            font=dict(\n",
        "                family='sans-serif',\n",
        "                size=20,\n",
        "                color='black'\n",
        "            ),\n",
        "            bordercolor='Black',\n",
        "            borderwidth=2\n",
        "        ),\n",
        "        \n",
        "        # Padding para tirar o espaço em branco em volta do gráfico\n",
        "        margin=dict(l=0, r=0, t=0, b=0)\n",
        "    )\n",
        "    \n",
        "    # Retira o titulo da legenda\n",
        "    fig.update_layout(legend_title_text='')\n",
        "    \n",
        "    # Exibe o gráfico\n",
        "    fig.show()\n",
        "    \n",
        "    # Calcula a coesão para o AGNES\n",
        "    agnes_cohesion = 0\n",
        "    for cluster in np.unique(agnes_labels):\n",
        "        cluster_points = df[agnes_labels == cluster]\n",
        "        # Calcula o centróide do cluster\n",
        "        centroid = np.mean(cluster_points, axis=0)\n",
        "        # Calcula a distância de cada ponto ao centróide\n",
        "        distances = euclidean_distances(cluster_points, [centroid])\n",
        "        # Soma as distâncias para obter a coesão do cluster\n",
        "        agnes_cohesion += np.sum(distances)\n",
        "\n",
        "    # Divide pela quantidade de clusters\n",
        "    agnes_cohesion /= len(np.unique(agnes_labels))  # Conta os clusters\n",
        "    \n",
        "    # Calcula o coeficiente de silhueta\n",
        "    silhouette_agnes = silhouette_score(df, X)\n",
        "    \n",
        "    # Rand score do AGNES\n",
        "    rand_agnes = metrics.adjusted_rand_score(df['clusters'], X)\n",
        "    \n",
        "    # Homogeneidade\n",
        "    homogeneity = metrics.homogeneity_score(df['clusters'], X)\n",
        "    \n",
        "    # Completude\n",
        "    completeness = metrics.completeness_score(df['clusters'], X)\n",
        "    \n",
        "    # Matriz de confusão\n",
        "    confusion_matrix = metrics.cluster.contingency_matrix(df['clusters'], X)\n",
        "    \n",
        "    # Printa\n",
        "    console = Console()\n",
        "    table = Table(title=\"Resultados do AGNES\")\n",
        "    table.add_column(\"Coesão\", style=\"cyan\", justify=\"center\")\n",
        "    table.add_column(\"Silhouette Score\", style=\"magenta\", justify=\"center\")\n",
        "    table.add_column(\"Rand Score\", style=\"green\", justify=\"center\")\n",
        "    table.add_column(\"Homogeneidade\", style=\"blue\", justify=\"center\")\n",
        "    table.add_column(\"Completude\", style=\"yellow\", justify=\"center\")\n",
        "    \n",
        "    table.add_row(str(agnes_cohesion), str(silhouette_agnes), str(rand_agnes), str(homogeneity), str(completeness))\n",
        "    \n",
        "    console.print(table)\n",
        "    \n",
        "    # Printa a matriz de confusão\n",
        "    print(\"Matriz de Confusão\")\n",
        "    print(confusion_matrix)\n",
        "    \n",
        "    return silhouette_agnes\n",
        "    \n",
        "# Chamada da função AGNES\n",
        "silhouette_agnes = AGNES_Trainer(df)"
      ]
    },
    {
      "cell_type": "markdown",
      "metadata": {},
      "source": [
        "---"
      ]
    },
    {
      "cell_type": "markdown",
      "metadata": {},
      "source": [
        "# Técnicas extras\n",
        "\n",
        "## O que são?\n",
        "\n",
        "Tanto o t-SNE (t-Distributed Stochastic Neighbor Embedding) quanto o UMAP (Uniform Manifold Approximation and Projection) são técnicas de redução de dimensionalidade que são comumente usadas para visualização de dados de alta dimensão. Ambos seguem um processo semelhante onde começam calculando probabilidades de alta dimensão p, depois probabilidades de baixa dimensão q, seguido pelo cálculo da função de custo C(p,q) comparando as diferenças entre as probabilidade\n",
        "\n",
        "No entanto, existem algumas diferenças importantes entre os dois:\n",
        "\n",
        "- Velocidade e Escalabilidade: O UMAP geralmente é mais rápido que o t-SNE e pode lidar melhor com conjuntos de dados maiores.\n",
        "- Preservação da Estrutura Global: Enquanto o t-SNE se concentra em preservar a estrutura local dos dados (ou seja, mantém pontos que são próximos no espaço de alta dimensão próximos no espaço de baixa dimensão), o UMAP tenta preservar tanto a estrutura local quanto a global dos dados. Isso significa que o UMAP pode preservar melhor as relações de distância entre os clusters.\n",
        "- Reprodutibilidade: O t-SNE é uma técnica estocástica, o que significa que você pode obter resultados ligeiramente diferentes cada vez que você executar o código, mesmo com a mesma semente aleatória. Por outro lado, o UMAP é mais consistente e produz resultados mais reprodutíveis.\n",
        "- Uso de Hiperparâmetros: Ambos os métodos têm hiperparâmetros que podem ser ajustados para alterar o resultado da redução de dimensionalidade. No entanto, a interpretação e o ajuste desses hiperparâmetros podem ser menos intuitivos no t-SNE do que no UMAP."
      ]
    },
    {
      "cell_type": "code",
      "execution_count": 166,
      "metadata": {},
      "outputs": [
        {
          "data": {
            "application/vnd.plotly.v1+json": {
              "config": {
                "plotlyServerURL": "https://plot.ly"
              },
              "data": [
                {
                  "hovertemplate": "TSNE 1=%{x}<br>TSNE 2=%{y}<extra></extra>",
                  "legendgroup": "",
                  "marker": {
                    "color": "#636efa",
                    "symbol": "circle"
                  },
                  "mode": "markers",
                  "name": "",
                  "orientation": "v",
                  "showlegend": false,
                  "type": "scatter",
                  "x": [
                    3.630258321762085,
                    -10.314461708068848,
                    6.757434844970703,
                    -11.510026931762695,
                    5.918640613555908,
                    5.500030517578125,
                    -7.843547821044922,
                    0.28297895193099976,
                    6.877869129180908,
                    -3.073289394378662,
                    9.734691619873047,
                    -11.179586410522461,
                    8.644412994384766,
                    10.67020034790039,
                    10.765364646911621,
                    12.065023422241211,
                    2.1226842403411865,
                    9.043891906738281,
                    11.564830780029297,
                    10.38097858428955,
                    12.62954330444336,
                    -12.107905387878418,
                    7.7089738845825195,
                    0.06715618818998337,
                    -11.97952938079834,
                    -10.748249053955078,
                    -12.40831470489502,
                    3.1459052562713623,
                    -0.5687286853790283,
                    12.130066871643066,
                    -9.56716251373291,
                    -0.8368051648139954,
                    -0.42456188797950745,
                    6.402121543884277,
                    -10.296028137207031,
                    -1.3796412944793701,
                    -7.750721454620361,
                    -6.360435485839844,
                    -10.41098403930664,
                    12.273415565490723,
                    -4.0970611572265625,
                    8.985159873962402,
                    -3.6229093074798584,
                    -11.206977844238281,
                    6.0965423583984375,
                    -2.7718801498413086,
                    4.131236553192139,
                    -4.111731052398682,
                    -12.173760414123535,
                    -7.688783168792725,
                    9.928540229797363,
                    -4.049566745758057,
                    -7.8716630935668945,
                    -2.1217050552368164,
                    7.6224188804626465,
                    9.896108627319336,
                    8.490291595458984,
                    -12.838501930236816,
                    -9.353841781616211,
                    -0.7977392077445984,
                    -4.2480788230896,
                    1.56101655960083,
                    6.71549654006958,
                    -10.537075996398926,
                    -4.431997776031494,
                    8.39737606048584,
                    6.8130598068237305,
                    -13.856355667114258,
                    -4.928902626037598,
                    -7.442173004150391,
                    0.37306103110313416,
                    -9.024863243103027,
                    -5.518843650817871,
                    -0.4946994185447693,
                    -6.974995136260986,
                    -4.06808614730835,
                    0.11972328275442123,
                    -1.563876748085022,
                    -1.3955891132354736,
                    -6.186770439147949,
                    -10.807916641235352,
                    1.9171358346939087,
                    -11.455941200256348,
                    1.7875398397445679,
                    -6.308680057525635,
                    0.07447214424610138,
                    -6.410444259643555,
                    -6.28314208984375,
                    0.5448752045631409,
                    3.4908103942871094,
                    1.481894850730896,
                    -3.021594285964966,
                    -9.683083534240723,
                    -1.4601819515228271,
                    13.081754684448242,
                    -12.562878608703613,
                    -2.058945655822754,
                    -6.48612117767334,
                    -7.606832504272461,
                    11.724226951599121,
                    -11.194084167480469,
                    4.140474796295166,
                    4.560810565948486,
                    -8.127126693725586,
                    -5.941346168518066,
                    -7.534481525421143,
                    -13.117796897888184,
                    -0.3045172095298767,
                    4.99704122543335,
                    -1.9726756811141968,
                    -14.220330238342285,
                    -0.1444081813097,
                    1.3241533041000366,
                    -1.801453709602356,
                    -5.979036331176758,
                    -2.754772186279297,
                    -4.234086990356445,
                    -10.86661434173584,
                    12.519681930541992,
                    -5.0621514320373535,
                    -6.46528959274292,
                    2.5454695224761963,
                    -10.164164543151855,
                    0.8349217772483826,
                    -5.484676837921143,
                    6.972944259643555,
                    2.1540350914001465,
                    -1.2372807264328003,
                    -2.5490620136260986,
                    -0.9429842829704285,
                    1.3541473150253296,
                    -7.380875587463379,
                    -0.1584424525499344,
                    12.938887596130371,
                    10.878778457641602,
                    -1.5223945379257202,
                    9.054409980773926,
                    -6.5117645263671875,
                    9.106301307678223,
                    13.073020935058594,
                    -6.767436504364014,
                    -2.454324722290039,
                    -12.859107971191406,
                    -1.4173173904418945,
                    -7.799829006195068,
                    12.844012260437012,
                    -5.101012706756592,
                    -12.812606811523438,
                    12.644914627075195,
                    1.3671072721481323,
                    6.46019172668457,
                    2.0077943801879883,
                    -5.1277642250061035,
                    -11.147733688354492,
                    10.803933143615723,
                    -3.7598302364349365,
                    12.145160675048828,
                    -2.023362636566162,
                    -7.472727298736572,
                    -2.804473876953125,
                    11.210031509399414,
                    -6.349576473236084,
                    4.937094688415527,
                    -8.579862594604492,
                    8.472936630249023,
                    -0.3303854465484619,
                    1.1308766603469849,
                    -0.5240952968597412,
                    -0.8608298897743225,
                    -3.5584287643432617,
                    -0.09358423203229904,
                    -4.038031101226807,
                    9.644035339355469,
                    3.5794572830200195,
                    -9.670294761657715,
                    11.161020278930664,
                    6.241063117980957,
                    -2.4043962955474854,
                    -1.7221654653549194,
                    11.647103309631348,
                    12.224163055419922,
                    -0.9937007427215576,
                    4.266390800476074
                  ],
                  "xaxis": "x",
                  "y": [
                    -5.100305080413818,
                    1.8647243976593018,
                    -4.3474440574646,
                    -5.190282344818115,
                    -3.9730098247528076,
                    -4.859256267547607,
                    -0.21935883164405823,
                    2.2420897483825684,
                    1.7465240955352783,
                    -6.164610862731934,
                    -5.380415916442871,
                    -2.6827456951141357,
                    -4.743645191192627,
                    2.457005739212036,
                    1.4380582571029663,
                    2.6074025630950928,
                    3.2024929523468018,
                    2.7298314571380615,
                    -0.3222346901893616,
                    0.2106076031923294,
                    -2.399056911468506,
                    -4.029584884643555,
                    -1.598827838897705,
                    -1.0555323362350464,
                    -2.3997445106506348,
                    -4.504522800445557,
                    -4.752176284790039,
                    -4.8796067237854,
                    1.5583852529525757,
                    3.0419960021972656,
                    -2.6449062824249268,
                    -3.938854217529297,
                    6.902590274810791,
                    -1.5500978231430054,
                    -1.530907392501831,
                    -2.4302046298980713,
                    -5.578685283660889,
                    -2.4662890434265137,
                    -2.2001500129699707,
                    0.3122875690460205,
                    3.316249370574951,
                    -4.980260848999023,
                    -1.9052568674087524,
                    -1.7544925212860107,
                    -3.748871088027954,
                    -3.452688694000244,
                    0.430086612701416,
                    -5.801257133483887,
                    -1.6746623516082764,
                    5.044584274291992,
                    -3.1991279125213623,
                    6.203882217407227,
                    -4.735876083374023,
                    -2.5331625938415527,
                    -2.7260079383850098,
                    -3.3025338649749756,
                    2.9675498008728027,
                    -2.839370012283325,
                    -3.141664505004883,
                    -4.546449184417725,
                    -8.918831825256348,
                    -1.7754426002502441,
                    -1.4803680181503296,
                    -3.51057505607605,
                    -9.100663185119629,
                    0.8578328490257263,
                    -4.9767632484436035,
                    -3.7707931995391846,
                    7.287657737731934,
                    -8.370620727539062,
                    6.859556198120117,
                    -7.384206771850586,
                    4.4273834228515625,
                    -1.3146626949310303,
                    6.008900165557861,
                    5.516422748565674,
                    1.1562774181365967,
                    7.985500812530518,
                    -3.2121224403381348,
                    -3.6246535778045654,
                    -2.922224760055542,
                    3.5013253688812256,
                    0.09273992478847504,
                    8.570384979248047,
                    -5.634494304656982,
                    0.5256791114807129,
                    -4.686859607696533,
                    -8.037203788757324,
                    4.09057092666626,
                    2.6973063945770264,
                    -2.4276304244995117,
                    -1.8880468606948853,
                    -3.8137753009796143,
                    -1.031568169593811,
                    1.4311994314193726,
                    -0.2451934516429901,
                    1.1772308349609375,
                    -6.946501731872559,
                    -0.5216472148895264,
                    0.34782424569129944,
                    -1.2990458011627197,
                    -0.5740166902542114,
                    -5.283573150634766,
                    -8.820011138916016,
                    -6.2440338134765625,
                    5.330174446105957,
                    -1.793923258781433,
                    -0.8282753229141235,
                    -5.695600986480713,
                    -1.2532719373703003,
                    -3.3183557987213135,
                    0.4403793513774872,
                    -3.3433632850646973,
                    8.925971984863281,
                    5.279895305633545,
                    -1.9753016233444214,
                    9.048203468322754,
                    0.870589554309845,
                    1.9692020416259766,
                    -4.246422290802002,
                    -3.5283501148223877,
                    -3.813406467437744,
                    -1.1027610301971436,
                    -4.255422592163086,
                    -4.394441604614258,
                    -3.058475971221924,
                    -0.3794289827346802,
                    8.762243270874023,
                    6.416045188903809,
                    9.384012222290039,
                    8.690323829650879,
                    -6.467855453491211,
                    -2.5667340755462646,
                    3.4631571769714355,
                    3.4235191345214844,
                    5.192589282989502,
                    3.162936210632324,
                    -6.500095367431641,
                    0.28668469190597534,
                    -0.7759004831314087,
                    -4.335885524749756,
                    2.324910879135132,
                    0.2992638051509857,
                    5.985707759857178,
                    -8.076971054077148,
                    1.0357273817062378,
                    7.591456413269043,
                    -4.357931137084961,
                    -2.5111238956451416,
                    5.557912349700928,
                    0.6340439319610596,
                    1.1876295804977417,
                    8.730146408081055,
                    0.833309531211853,
                    3.0494065284729004,
                    7.279756546020508,
                    1.2597817182540894,
                    6.0593390464782715,
                    -8.845052719116211,
                    5.753476142883301,
                    0.08363774418830872,
                    7.401529788970947,
                    3.2734148502349854,
                    -6.215863227844238,
                    -5.42437219619751,
                    -2.521864891052246,
                    1.8122020959854126,
                    6.280965328216553,
                    2.4232702255249023,
                    7.364591598510742,
                    2.743374824523926,
                    7.759237289428711,
                    -5.377628326416016,
                    2.332756996154785,
                    -0.6546215415000916,
                    1.375999927520752,
                    1.1527050733566284,
                    5.369109630584717,
                    8.880023002624512,
                    -3.9433629512786865,
                    -1.7820687294006348,
                    2.9467155933380127,
                    1.0029709339141846
                  ],
                  "yaxis": "y"
                }
              ],
              "layout": {
                "height": 800,
                "legend": {
                  "tracegroupgap": 0
                },
                "margin": {
                  "t": 60
                },
                "template": {
                  "data": {
                    "bar": [
                      {
                        "error_x": {
                          "color": "#2a3f5f"
                        },
                        "error_y": {
                          "color": "#2a3f5f"
                        },
                        "marker": {
                          "line": {
                            "color": "#E5ECF6",
                            "width": 0.5
                          },
                          "pattern": {
                            "fillmode": "overlay",
                            "size": 10,
                            "solidity": 0.2
                          }
                        },
                        "type": "bar"
                      }
                    ],
                    "barpolar": [
                      {
                        "marker": {
                          "line": {
                            "color": "#E5ECF6",
                            "width": 0.5
                          },
                          "pattern": {
                            "fillmode": "overlay",
                            "size": 10,
                            "solidity": 0.2
                          }
                        },
                        "type": "barpolar"
                      }
                    ],
                    "carpet": [
                      {
                        "aaxis": {
                          "endlinecolor": "#2a3f5f",
                          "gridcolor": "white",
                          "linecolor": "white",
                          "minorgridcolor": "white",
                          "startlinecolor": "#2a3f5f"
                        },
                        "baxis": {
                          "endlinecolor": "#2a3f5f",
                          "gridcolor": "white",
                          "linecolor": "white",
                          "minorgridcolor": "white",
                          "startlinecolor": "#2a3f5f"
                        },
                        "type": "carpet"
                      }
                    ],
                    "choropleth": [
                      {
                        "colorbar": {
                          "outlinewidth": 0,
                          "ticks": ""
                        },
                        "type": "choropleth"
                      }
                    ],
                    "contour": [
                      {
                        "colorbar": {
                          "outlinewidth": 0,
                          "ticks": ""
                        },
                        "colorscale": [
                          [
                            0,
                            "#0d0887"
                          ],
                          [
                            0.1111111111111111,
                            "#46039f"
                          ],
                          [
                            0.2222222222222222,
                            "#7201a8"
                          ],
                          [
                            0.3333333333333333,
                            "#9c179e"
                          ],
                          [
                            0.4444444444444444,
                            "#bd3786"
                          ],
                          [
                            0.5555555555555556,
                            "#d8576b"
                          ],
                          [
                            0.6666666666666666,
                            "#ed7953"
                          ],
                          [
                            0.7777777777777778,
                            "#fb9f3a"
                          ],
                          [
                            0.8888888888888888,
                            "#fdca26"
                          ],
                          [
                            1,
                            "#f0f921"
                          ]
                        ],
                        "type": "contour"
                      }
                    ],
                    "contourcarpet": [
                      {
                        "colorbar": {
                          "outlinewidth": 0,
                          "ticks": ""
                        },
                        "type": "contourcarpet"
                      }
                    ],
                    "heatmap": [
                      {
                        "colorbar": {
                          "outlinewidth": 0,
                          "ticks": ""
                        },
                        "colorscale": [
                          [
                            0,
                            "#0d0887"
                          ],
                          [
                            0.1111111111111111,
                            "#46039f"
                          ],
                          [
                            0.2222222222222222,
                            "#7201a8"
                          ],
                          [
                            0.3333333333333333,
                            "#9c179e"
                          ],
                          [
                            0.4444444444444444,
                            "#bd3786"
                          ],
                          [
                            0.5555555555555556,
                            "#d8576b"
                          ],
                          [
                            0.6666666666666666,
                            "#ed7953"
                          ],
                          [
                            0.7777777777777778,
                            "#fb9f3a"
                          ],
                          [
                            0.8888888888888888,
                            "#fdca26"
                          ],
                          [
                            1,
                            "#f0f921"
                          ]
                        ],
                        "type": "heatmap"
                      }
                    ],
                    "heatmapgl": [
                      {
                        "colorbar": {
                          "outlinewidth": 0,
                          "ticks": ""
                        },
                        "colorscale": [
                          [
                            0,
                            "#0d0887"
                          ],
                          [
                            0.1111111111111111,
                            "#46039f"
                          ],
                          [
                            0.2222222222222222,
                            "#7201a8"
                          ],
                          [
                            0.3333333333333333,
                            "#9c179e"
                          ],
                          [
                            0.4444444444444444,
                            "#bd3786"
                          ],
                          [
                            0.5555555555555556,
                            "#d8576b"
                          ],
                          [
                            0.6666666666666666,
                            "#ed7953"
                          ],
                          [
                            0.7777777777777778,
                            "#fb9f3a"
                          ],
                          [
                            0.8888888888888888,
                            "#fdca26"
                          ],
                          [
                            1,
                            "#f0f921"
                          ]
                        ],
                        "type": "heatmapgl"
                      }
                    ],
                    "histogram": [
                      {
                        "marker": {
                          "pattern": {
                            "fillmode": "overlay",
                            "size": 10,
                            "solidity": 0.2
                          }
                        },
                        "type": "histogram"
                      }
                    ],
                    "histogram2d": [
                      {
                        "colorbar": {
                          "outlinewidth": 0,
                          "ticks": ""
                        },
                        "colorscale": [
                          [
                            0,
                            "#0d0887"
                          ],
                          [
                            0.1111111111111111,
                            "#46039f"
                          ],
                          [
                            0.2222222222222222,
                            "#7201a8"
                          ],
                          [
                            0.3333333333333333,
                            "#9c179e"
                          ],
                          [
                            0.4444444444444444,
                            "#bd3786"
                          ],
                          [
                            0.5555555555555556,
                            "#d8576b"
                          ],
                          [
                            0.6666666666666666,
                            "#ed7953"
                          ],
                          [
                            0.7777777777777778,
                            "#fb9f3a"
                          ],
                          [
                            0.8888888888888888,
                            "#fdca26"
                          ],
                          [
                            1,
                            "#f0f921"
                          ]
                        ],
                        "type": "histogram2d"
                      }
                    ],
                    "histogram2dcontour": [
                      {
                        "colorbar": {
                          "outlinewidth": 0,
                          "ticks": ""
                        },
                        "colorscale": [
                          [
                            0,
                            "#0d0887"
                          ],
                          [
                            0.1111111111111111,
                            "#46039f"
                          ],
                          [
                            0.2222222222222222,
                            "#7201a8"
                          ],
                          [
                            0.3333333333333333,
                            "#9c179e"
                          ],
                          [
                            0.4444444444444444,
                            "#bd3786"
                          ],
                          [
                            0.5555555555555556,
                            "#d8576b"
                          ],
                          [
                            0.6666666666666666,
                            "#ed7953"
                          ],
                          [
                            0.7777777777777778,
                            "#fb9f3a"
                          ],
                          [
                            0.8888888888888888,
                            "#fdca26"
                          ],
                          [
                            1,
                            "#f0f921"
                          ]
                        ],
                        "type": "histogram2dcontour"
                      }
                    ],
                    "mesh3d": [
                      {
                        "colorbar": {
                          "outlinewidth": 0,
                          "ticks": ""
                        },
                        "type": "mesh3d"
                      }
                    ],
                    "parcoords": [
                      {
                        "line": {
                          "colorbar": {
                            "outlinewidth": 0,
                            "ticks": ""
                          }
                        },
                        "type": "parcoords"
                      }
                    ],
                    "pie": [
                      {
                        "automargin": true,
                        "type": "pie"
                      }
                    ],
                    "scatter": [
                      {
                        "fillpattern": {
                          "fillmode": "overlay",
                          "size": 10,
                          "solidity": 0.2
                        },
                        "type": "scatter"
                      }
                    ],
                    "scatter3d": [
                      {
                        "line": {
                          "colorbar": {
                            "outlinewidth": 0,
                            "ticks": ""
                          }
                        },
                        "marker": {
                          "colorbar": {
                            "outlinewidth": 0,
                            "ticks": ""
                          }
                        },
                        "type": "scatter3d"
                      }
                    ],
                    "scattercarpet": [
                      {
                        "marker": {
                          "colorbar": {
                            "outlinewidth": 0,
                            "ticks": ""
                          }
                        },
                        "type": "scattercarpet"
                      }
                    ],
                    "scattergeo": [
                      {
                        "marker": {
                          "colorbar": {
                            "outlinewidth": 0,
                            "ticks": ""
                          }
                        },
                        "type": "scattergeo"
                      }
                    ],
                    "scattergl": [
                      {
                        "marker": {
                          "colorbar": {
                            "outlinewidth": 0,
                            "ticks": ""
                          }
                        },
                        "type": "scattergl"
                      }
                    ],
                    "scattermapbox": [
                      {
                        "marker": {
                          "colorbar": {
                            "outlinewidth": 0,
                            "ticks": ""
                          }
                        },
                        "type": "scattermapbox"
                      }
                    ],
                    "scatterpolar": [
                      {
                        "marker": {
                          "colorbar": {
                            "outlinewidth": 0,
                            "ticks": ""
                          }
                        },
                        "type": "scatterpolar"
                      }
                    ],
                    "scatterpolargl": [
                      {
                        "marker": {
                          "colorbar": {
                            "outlinewidth": 0,
                            "ticks": ""
                          }
                        },
                        "type": "scatterpolargl"
                      }
                    ],
                    "scatterternary": [
                      {
                        "marker": {
                          "colorbar": {
                            "outlinewidth": 0,
                            "ticks": ""
                          }
                        },
                        "type": "scatterternary"
                      }
                    ],
                    "surface": [
                      {
                        "colorbar": {
                          "outlinewidth": 0,
                          "ticks": ""
                        },
                        "colorscale": [
                          [
                            0,
                            "#0d0887"
                          ],
                          [
                            0.1111111111111111,
                            "#46039f"
                          ],
                          [
                            0.2222222222222222,
                            "#7201a8"
                          ],
                          [
                            0.3333333333333333,
                            "#9c179e"
                          ],
                          [
                            0.4444444444444444,
                            "#bd3786"
                          ],
                          [
                            0.5555555555555556,
                            "#d8576b"
                          ],
                          [
                            0.6666666666666666,
                            "#ed7953"
                          ],
                          [
                            0.7777777777777778,
                            "#fb9f3a"
                          ],
                          [
                            0.8888888888888888,
                            "#fdca26"
                          ],
                          [
                            1,
                            "#f0f921"
                          ]
                        ],
                        "type": "surface"
                      }
                    ],
                    "table": [
                      {
                        "cells": {
                          "fill": {
                            "color": "#EBF0F8"
                          },
                          "line": {
                            "color": "white"
                          }
                        },
                        "header": {
                          "fill": {
                            "color": "#C8D4E3"
                          },
                          "line": {
                            "color": "white"
                          }
                        },
                        "type": "table"
                      }
                    ]
                  },
                  "layout": {
                    "annotationdefaults": {
                      "arrowcolor": "#2a3f5f",
                      "arrowhead": 0,
                      "arrowwidth": 1
                    },
                    "autotypenumbers": "strict",
                    "coloraxis": {
                      "colorbar": {
                        "outlinewidth": 0,
                        "ticks": ""
                      }
                    },
                    "colorscale": {
                      "diverging": [
                        [
                          0,
                          "#8e0152"
                        ],
                        [
                          0.1,
                          "#c51b7d"
                        ],
                        [
                          0.2,
                          "#de77ae"
                        ],
                        [
                          0.3,
                          "#f1b6da"
                        ],
                        [
                          0.4,
                          "#fde0ef"
                        ],
                        [
                          0.5,
                          "#f7f7f7"
                        ],
                        [
                          0.6,
                          "#e6f5d0"
                        ],
                        [
                          0.7,
                          "#b8e186"
                        ],
                        [
                          0.8,
                          "#7fbc41"
                        ],
                        [
                          0.9,
                          "#4d9221"
                        ],
                        [
                          1,
                          "#276419"
                        ]
                      ],
                      "sequential": [
                        [
                          0,
                          "#0d0887"
                        ],
                        [
                          0.1111111111111111,
                          "#46039f"
                        ],
                        [
                          0.2222222222222222,
                          "#7201a8"
                        ],
                        [
                          0.3333333333333333,
                          "#9c179e"
                        ],
                        [
                          0.4444444444444444,
                          "#bd3786"
                        ],
                        [
                          0.5555555555555556,
                          "#d8576b"
                        ],
                        [
                          0.6666666666666666,
                          "#ed7953"
                        ],
                        [
                          0.7777777777777778,
                          "#fb9f3a"
                        ],
                        [
                          0.8888888888888888,
                          "#fdca26"
                        ],
                        [
                          1,
                          "#f0f921"
                        ]
                      ],
                      "sequentialminus": [
                        [
                          0,
                          "#0d0887"
                        ],
                        [
                          0.1111111111111111,
                          "#46039f"
                        ],
                        [
                          0.2222222222222222,
                          "#7201a8"
                        ],
                        [
                          0.3333333333333333,
                          "#9c179e"
                        ],
                        [
                          0.4444444444444444,
                          "#bd3786"
                        ],
                        [
                          0.5555555555555556,
                          "#d8576b"
                        ],
                        [
                          0.6666666666666666,
                          "#ed7953"
                        ],
                        [
                          0.7777777777777778,
                          "#fb9f3a"
                        ],
                        [
                          0.8888888888888888,
                          "#fdca26"
                        ],
                        [
                          1,
                          "#f0f921"
                        ]
                      ]
                    },
                    "colorway": [
                      "#636efa",
                      "#EF553B",
                      "#00cc96",
                      "#ab63fa",
                      "#FFA15A",
                      "#19d3f3",
                      "#FF6692",
                      "#B6E880",
                      "#FF97FF",
                      "#FECB52"
                    ],
                    "font": {
                      "color": "#2a3f5f"
                    },
                    "geo": {
                      "bgcolor": "white",
                      "lakecolor": "white",
                      "landcolor": "#E5ECF6",
                      "showlakes": true,
                      "showland": true,
                      "subunitcolor": "white"
                    },
                    "hoverlabel": {
                      "align": "left"
                    },
                    "hovermode": "closest",
                    "mapbox": {
                      "style": "light"
                    },
                    "paper_bgcolor": "white",
                    "plot_bgcolor": "#E5ECF6",
                    "polar": {
                      "angularaxis": {
                        "gridcolor": "white",
                        "linecolor": "white",
                        "ticks": ""
                      },
                      "bgcolor": "#E5ECF6",
                      "radialaxis": {
                        "gridcolor": "white",
                        "linecolor": "white",
                        "ticks": ""
                      }
                    },
                    "scene": {
                      "xaxis": {
                        "backgroundcolor": "#E5ECF6",
                        "gridcolor": "white",
                        "gridwidth": 2,
                        "linecolor": "white",
                        "showbackground": true,
                        "ticks": "",
                        "zerolinecolor": "white"
                      },
                      "yaxis": {
                        "backgroundcolor": "#E5ECF6",
                        "gridcolor": "white",
                        "gridwidth": 2,
                        "linecolor": "white",
                        "showbackground": true,
                        "ticks": "",
                        "zerolinecolor": "white"
                      },
                      "zaxis": {
                        "backgroundcolor": "#E5ECF6",
                        "gridcolor": "white",
                        "gridwidth": 2,
                        "linecolor": "white",
                        "showbackground": true,
                        "ticks": "",
                        "zerolinecolor": "white"
                      }
                    },
                    "shapedefaults": {
                      "line": {
                        "color": "#2a3f5f"
                      }
                    },
                    "ternary": {
                      "aaxis": {
                        "gridcolor": "white",
                        "linecolor": "white",
                        "ticks": ""
                      },
                      "baxis": {
                        "gridcolor": "white",
                        "linecolor": "white",
                        "ticks": ""
                      },
                      "bgcolor": "#E5ECF6",
                      "caxis": {
                        "gridcolor": "white",
                        "linecolor": "white",
                        "ticks": ""
                      }
                    },
                    "title": {
                      "x": 0.05
                    },
                    "xaxis": {
                      "automargin": true,
                      "gridcolor": "white",
                      "linecolor": "white",
                      "ticks": "",
                      "title": {
                        "standoff": 15
                      },
                      "zerolinecolor": "white",
                      "zerolinewidth": 2
                    },
                    "yaxis": {
                      "automargin": true,
                      "gridcolor": "white",
                      "linecolor": "white",
                      "ticks": "",
                      "title": {
                        "standoff": 15
                      },
                      "zerolinecolor": "white",
                      "zerolinewidth": 2
                    }
                  }
                },
                "width": 800,
                "xaxis": {
                  "anchor": "y",
                  "domain": [
                    0,
                    1
                  ],
                  "title": {
                    "text": "TSNE 1"
                  }
                },
                "yaxis": {
                  "anchor": "x",
                  "domain": [
                    0,
                    1
                  ],
                  "title": {
                    "text": "TSNE 2"
                  }
                }
              }
            },
            "text/html": [
              "<div>                            <div id=\"9c81460d-cbf1-4785-8330-651b687326d0\" class=\"plotly-graph-div\" style=\"height:800px; width:800px;\"></div>            <script type=\"text/javascript\">                require([\"plotly\"], function(Plotly) {                    window.PLOTLYENV=window.PLOTLYENV || {};                                    if (document.getElementById(\"9c81460d-cbf1-4785-8330-651b687326d0\")) {                    Plotly.newPlot(                        \"9c81460d-cbf1-4785-8330-651b687326d0\",                        [{\"hovertemplate\":\"TSNE 1=%{x}\\u003cbr\\u003eTSNE 2=%{y}\\u003cextra\\u003e\\u003c\\u002fextra\\u003e\",\"legendgroup\":\"\",\"marker\":{\"color\":\"#636efa\",\"symbol\":\"circle\"},\"mode\":\"markers\",\"name\":\"\",\"orientation\":\"v\",\"showlegend\":false,\"x\":[3.630258321762085,-10.314461708068848,6.757434844970703,-11.510026931762695,5.918640613555908,5.500030517578125,-7.843547821044922,0.28297895193099976,6.877869129180908,-3.073289394378662,9.734691619873047,-11.179586410522461,8.644412994384766,10.67020034790039,10.765364646911621,12.065023422241211,2.1226842403411865,9.043891906738281,11.564830780029297,10.38097858428955,12.62954330444336,-12.107905387878418,7.7089738845825195,0.06715618818998337,-11.97952938079834,-10.748249053955078,-12.40831470489502,3.1459052562713623,-0.5687286853790283,12.130066871643066,-9.56716251373291,-0.8368051648139954,-0.42456188797950745,6.402121543884277,-10.296028137207031,-1.3796412944793701,-7.750721454620361,-6.360435485839844,-10.41098403930664,12.273415565490723,-4.0970611572265625,8.985159873962402,-3.6229093074798584,-11.206977844238281,6.0965423583984375,-2.7718801498413086,4.131236553192139,-4.111731052398682,-12.173760414123535,-7.688783168792725,9.928540229797363,-4.049566745758057,-7.8716630935668945,-2.1217050552368164,7.6224188804626465,9.896108627319336,8.490291595458984,-12.838501930236816,-9.353841781616211,-0.7977392077445984,-4.2480788230896,1.56101655960083,6.71549654006958,-10.537075996398926,-4.431997776031494,8.39737606048584,6.8130598068237305,-13.856355667114258,-4.928902626037598,-7.442173004150391,0.37306103110313416,-9.024863243103027,-5.518843650817871,-0.4946994185447693,-6.974995136260986,-4.06808614730835,0.11972328275442123,-1.563876748085022,-1.3955891132354736,-6.186770439147949,-10.807916641235352,1.9171358346939087,-11.455941200256348,1.7875398397445679,-6.308680057525635,0.07447214424610138,-6.410444259643555,-6.28314208984375,0.5448752045631409,3.4908103942871094,1.481894850730896,-3.021594285964966,-9.683083534240723,-1.4601819515228271,13.081754684448242,-12.562878608703613,-2.058945655822754,-6.48612117767334,-7.606832504272461,11.724226951599121,-11.194084167480469,4.140474796295166,4.560810565948486,-8.127126693725586,-5.941346168518066,-7.534481525421143,-13.117796897888184,-0.3045172095298767,4.99704122543335,-1.9726756811141968,-14.220330238342285,-0.1444081813097,1.3241533041000366,-1.801453709602356,-5.979036331176758,-2.754772186279297,-4.234086990356445,-10.86661434173584,12.519681930541992,-5.0621514320373535,-6.46528959274292,2.5454695224761963,-10.164164543151855,0.8349217772483826,-5.484676837921143,6.972944259643555,2.1540350914001465,-1.2372807264328003,-2.5490620136260986,-0.9429842829704285,1.3541473150253296,-7.380875587463379,-0.1584424525499344,12.938887596130371,10.878778457641602,-1.5223945379257202,9.054409980773926,-6.5117645263671875,9.106301307678223,13.073020935058594,-6.767436504364014,-2.454324722290039,-12.859107971191406,-1.4173173904418945,-7.799829006195068,12.844012260437012,-5.101012706756592,-12.812606811523438,12.644914627075195,1.3671072721481323,6.46019172668457,2.0077943801879883,-5.1277642250061035,-11.147733688354492,10.803933143615723,-3.7598302364349365,12.145160675048828,-2.023362636566162,-7.472727298736572,-2.804473876953125,11.210031509399414,-6.349576473236084,4.937094688415527,-8.579862594604492,8.472936630249023,-0.3303854465484619,1.1308766603469849,-0.5240952968597412,-0.8608298897743225,-3.5584287643432617,-0.09358423203229904,-4.038031101226807,9.644035339355469,3.5794572830200195,-9.670294761657715,11.161020278930664,6.241063117980957,-2.4043962955474854,-1.7221654653549194,11.647103309631348,12.224163055419922,-0.9937007427215576,4.266390800476074],\"xaxis\":\"x\",\"y\":[-5.100305080413818,1.8647243976593018,-4.3474440574646,-5.190282344818115,-3.9730098247528076,-4.859256267547607,-0.21935883164405823,2.2420897483825684,1.7465240955352783,-6.164610862731934,-5.380415916442871,-2.6827456951141357,-4.743645191192627,2.457005739212036,1.4380582571029663,2.6074025630950928,3.2024929523468018,2.7298314571380615,-0.3222346901893616,0.2106076031923294,-2.399056911468506,-4.029584884643555,-1.598827838897705,-1.0555323362350464,-2.3997445106506348,-4.504522800445557,-4.752176284790039,-4.8796067237854,1.5583852529525757,3.0419960021972656,-2.6449062824249268,-3.938854217529297,6.902590274810791,-1.5500978231430054,-1.530907392501831,-2.4302046298980713,-5.578685283660889,-2.4662890434265137,-2.2001500129699707,0.3122875690460205,3.316249370574951,-4.980260848999023,-1.9052568674087524,-1.7544925212860107,-3.748871088027954,-3.452688694000244,0.430086612701416,-5.801257133483887,-1.6746623516082764,5.044584274291992,-3.1991279125213623,6.203882217407227,-4.735876083374023,-2.5331625938415527,-2.7260079383850098,-3.3025338649749756,2.9675498008728027,-2.839370012283325,-3.141664505004883,-4.546449184417725,-8.918831825256348,-1.7754426002502441,-1.4803680181503296,-3.51057505607605,-9.100663185119629,0.8578328490257263,-4.9767632484436035,-3.7707931995391846,7.287657737731934,-8.370620727539062,6.859556198120117,-7.384206771850586,4.4273834228515625,-1.3146626949310303,6.008900165557861,5.516422748565674,1.1562774181365967,7.985500812530518,-3.2121224403381348,-3.6246535778045654,-2.922224760055542,3.5013253688812256,0.09273992478847504,8.570384979248047,-5.634494304656982,0.5256791114807129,-4.686859607696533,-8.037203788757324,4.09057092666626,2.6973063945770264,-2.4276304244995117,-1.8880468606948853,-3.8137753009796143,-1.031568169593811,1.4311994314193726,-0.2451934516429901,1.1772308349609375,-6.946501731872559,-0.5216472148895264,0.34782424569129944,-1.2990458011627197,-0.5740166902542114,-5.283573150634766,-8.820011138916016,-6.2440338134765625,5.330174446105957,-1.793923258781433,-0.8282753229141235,-5.695600986480713,-1.2532719373703003,-3.3183557987213135,0.4403793513774872,-3.3433632850646973,8.925971984863281,5.279895305633545,-1.9753016233444214,9.048203468322754,0.870589554309845,1.9692020416259766,-4.246422290802002,-3.5283501148223877,-3.813406467437744,-1.1027610301971436,-4.255422592163086,-4.394441604614258,-3.058475971221924,-0.3794289827346802,8.762243270874023,6.416045188903809,9.384012222290039,8.690323829650879,-6.467855453491211,-2.5667340755462646,3.4631571769714355,3.4235191345214844,5.192589282989502,3.162936210632324,-6.500095367431641,0.28668469190597534,-0.7759004831314087,-4.335885524749756,2.324910879135132,0.2992638051509857,5.985707759857178,-8.076971054077148,1.0357273817062378,7.591456413269043,-4.357931137084961,-2.5111238956451416,5.557912349700928,0.6340439319610596,1.1876295804977417,8.730146408081055,0.833309531211853,3.0494065284729004,7.279756546020508,1.2597817182540894,6.0593390464782715,-8.845052719116211,5.753476142883301,0.08363774418830872,7.401529788970947,3.2734148502349854,-6.215863227844238,-5.42437219619751,-2.521864891052246,1.8122020959854126,6.280965328216553,2.4232702255249023,7.364591598510742,2.743374824523926,7.759237289428711,-5.377628326416016,2.332756996154785,-0.6546215415000916,1.375999927520752,1.1527050733566284,5.369109630584717,8.880023002624512,-3.9433629512786865,-1.7820687294006348,2.9467155933380127,1.0029709339141846],\"yaxis\":\"y\",\"type\":\"scatter\"}],                        {\"template\":{\"data\":{\"histogram2dcontour\":[{\"type\":\"histogram2dcontour\",\"colorbar\":{\"outlinewidth\":0,\"ticks\":\"\"},\"colorscale\":[[0.0,\"#0d0887\"],[0.1111111111111111,\"#46039f\"],[0.2222222222222222,\"#7201a8\"],[0.3333333333333333,\"#9c179e\"],[0.4444444444444444,\"#bd3786\"],[0.5555555555555556,\"#d8576b\"],[0.6666666666666666,\"#ed7953\"],[0.7777777777777778,\"#fb9f3a\"],[0.8888888888888888,\"#fdca26\"],[1.0,\"#f0f921\"]]}],\"choropleth\":[{\"type\":\"choropleth\",\"colorbar\":{\"outlinewidth\":0,\"ticks\":\"\"}}],\"histogram2d\":[{\"type\":\"histogram2d\",\"colorbar\":{\"outlinewidth\":0,\"ticks\":\"\"},\"colorscale\":[[0.0,\"#0d0887\"],[0.1111111111111111,\"#46039f\"],[0.2222222222222222,\"#7201a8\"],[0.3333333333333333,\"#9c179e\"],[0.4444444444444444,\"#bd3786\"],[0.5555555555555556,\"#d8576b\"],[0.6666666666666666,\"#ed7953\"],[0.7777777777777778,\"#fb9f3a\"],[0.8888888888888888,\"#fdca26\"],[1.0,\"#f0f921\"]]}],\"heatmap\":[{\"type\":\"heatmap\",\"colorbar\":{\"outlinewidth\":0,\"ticks\":\"\"},\"colorscale\":[[0.0,\"#0d0887\"],[0.1111111111111111,\"#46039f\"],[0.2222222222222222,\"#7201a8\"],[0.3333333333333333,\"#9c179e\"],[0.4444444444444444,\"#bd3786\"],[0.5555555555555556,\"#d8576b\"],[0.6666666666666666,\"#ed7953\"],[0.7777777777777778,\"#fb9f3a\"],[0.8888888888888888,\"#fdca26\"],[1.0,\"#f0f921\"]]}],\"heatmapgl\":[{\"type\":\"heatmapgl\",\"colorbar\":{\"outlinewidth\":0,\"ticks\":\"\"},\"colorscale\":[[0.0,\"#0d0887\"],[0.1111111111111111,\"#46039f\"],[0.2222222222222222,\"#7201a8\"],[0.3333333333333333,\"#9c179e\"],[0.4444444444444444,\"#bd3786\"],[0.5555555555555556,\"#d8576b\"],[0.6666666666666666,\"#ed7953\"],[0.7777777777777778,\"#fb9f3a\"],[0.8888888888888888,\"#fdca26\"],[1.0,\"#f0f921\"]]}],\"contourcarpet\":[{\"type\":\"contourcarpet\",\"colorbar\":{\"outlinewidth\":0,\"ticks\":\"\"}}],\"contour\":[{\"type\":\"contour\",\"colorbar\":{\"outlinewidth\":0,\"ticks\":\"\"},\"colorscale\":[[0.0,\"#0d0887\"],[0.1111111111111111,\"#46039f\"],[0.2222222222222222,\"#7201a8\"],[0.3333333333333333,\"#9c179e\"],[0.4444444444444444,\"#bd3786\"],[0.5555555555555556,\"#d8576b\"],[0.6666666666666666,\"#ed7953\"],[0.7777777777777778,\"#fb9f3a\"],[0.8888888888888888,\"#fdca26\"],[1.0,\"#f0f921\"]]}],\"surface\":[{\"type\":\"surface\",\"colorbar\":{\"outlinewidth\":0,\"ticks\":\"\"},\"colorscale\":[[0.0,\"#0d0887\"],[0.1111111111111111,\"#46039f\"],[0.2222222222222222,\"#7201a8\"],[0.3333333333333333,\"#9c179e\"],[0.4444444444444444,\"#bd3786\"],[0.5555555555555556,\"#d8576b\"],[0.6666666666666666,\"#ed7953\"],[0.7777777777777778,\"#fb9f3a\"],[0.8888888888888888,\"#fdca26\"],[1.0,\"#f0f921\"]]}],\"mesh3d\":[{\"type\":\"mesh3d\",\"colorbar\":{\"outlinewidth\":0,\"ticks\":\"\"}}],\"scatter\":[{\"fillpattern\":{\"fillmode\":\"overlay\",\"size\":10,\"solidity\":0.2},\"type\":\"scatter\"}],\"parcoords\":[{\"type\":\"parcoords\",\"line\":{\"colorbar\":{\"outlinewidth\":0,\"ticks\":\"\"}}}],\"scatterpolargl\":[{\"type\":\"scatterpolargl\",\"marker\":{\"colorbar\":{\"outlinewidth\":0,\"ticks\":\"\"}}}],\"bar\":[{\"error_x\":{\"color\":\"#2a3f5f\"},\"error_y\":{\"color\":\"#2a3f5f\"},\"marker\":{\"line\":{\"color\":\"#E5ECF6\",\"width\":0.5},\"pattern\":{\"fillmode\":\"overlay\",\"size\":10,\"solidity\":0.2}},\"type\":\"bar\"}],\"scattergeo\":[{\"type\":\"scattergeo\",\"marker\":{\"colorbar\":{\"outlinewidth\":0,\"ticks\":\"\"}}}],\"scatterpolar\":[{\"type\":\"scatterpolar\",\"marker\":{\"colorbar\":{\"outlinewidth\":0,\"ticks\":\"\"}}}],\"histogram\":[{\"marker\":{\"pattern\":{\"fillmode\":\"overlay\",\"size\":10,\"solidity\":0.2}},\"type\":\"histogram\"}],\"scattergl\":[{\"type\":\"scattergl\",\"marker\":{\"colorbar\":{\"outlinewidth\":0,\"ticks\":\"\"}}}],\"scatter3d\":[{\"type\":\"scatter3d\",\"line\":{\"colorbar\":{\"outlinewidth\":0,\"ticks\":\"\"}},\"marker\":{\"colorbar\":{\"outlinewidth\":0,\"ticks\":\"\"}}}],\"scattermapbox\":[{\"type\":\"scattermapbox\",\"marker\":{\"colorbar\":{\"outlinewidth\":0,\"ticks\":\"\"}}}],\"scatterternary\":[{\"type\":\"scatterternary\",\"marker\":{\"colorbar\":{\"outlinewidth\":0,\"ticks\":\"\"}}}],\"scattercarpet\":[{\"type\":\"scattercarpet\",\"marker\":{\"colorbar\":{\"outlinewidth\":0,\"ticks\":\"\"}}}],\"carpet\":[{\"aaxis\":{\"endlinecolor\":\"#2a3f5f\",\"gridcolor\":\"white\",\"linecolor\":\"white\",\"minorgridcolor\":\"white\",\"startlinecolor\":\"#2a3f5f\"},\"baxis\":{\"endlinecolor\":\"#2a3f5f\",\"gridcolor\":\"white\",\"linecolor\":\"white\",\"minorgridcolor\":\"white\",\"startlinecolor\":\"#2a3f5f\"},\"type\":\"carpet\"}],\"table\":[{\"cells\":{\"fill\":{\"color\":\"#EBF0F8\"},\"line\":{\"color\":\"white\"}},\"header\":{\"fill\":{\"color\":\"#C8D4E3\"},\"line\":{\"color\":\"white\"}},\"type\":\"table\"}],\"barpolar\":[{\"marker\":{\"line\":{\"color\":\"#E5ECF6\",\"width\":0.5},\"pattern\":{\"fillmode\":\"overlay\",\"size\":10,\"solidity\":0.2}},\"type\":\"barpolar\"}],\"pie\":[{\"automargin\":true,\"type\":\"pie\"}]},\"layout\":{\"autotypenumbers\":\"strict\",\"colorway\":[\"#636efa\",\"#EF553B\",\"#00cc96\",\"#ab63fa\",\"#FFA15A\",\"#19d3f3\",\"#FF6692\",\"#B6E880\",\"#FF97FF\",\"#FECB52\"],\"font\":{\"color\":\"#2a3f5f\"},\"hovermode\":\"closest\",\"hoverlabel\":{\"align\":\"left\"},\"paper_bgcolor\":\"white\",\"plot_bgcolor\":\"#E5ECF6\",\"polar\":{\"bgcolor\":\"#E5ECF6\",\"angularaxis\":{\"gridcolor\":\"white\",\"linecolor\":\"white\",\"ticks\":\"\"},\"radialaxis\":{\"gridcolor\":\"white\",\"linecolor\":\"white\",\"ticks\":\"\"}},\"ternary\":{\"bgcolor\":\"#E5ECF6\",\"aaxis\":{\"gridcolor\":\"white\",\"linecolor\":\"white\",\"ticks\":\"\"},\"baxis\":{\"gridcolor\":\"white\",\"linecolor\":\"white\",\"ticks\":\"\"},\"caxis\":{\"gridcolor\":\"white\",\"linecolor\":\"white\",\"ticks\":\"\"}},\"coloraxis\":{\"colorbar\":{\"outlinewidth\":0,\"ticks\":\"\"}},\"colorscale\":{\"sequential\":[[0.0,\"#0d0887\"],[0.1111111111111111,\"#46039f\"],[0.2222222222222222,\"#7201a8\"],[0.3333333333333333,\"#9c179e\"],[0.4444444444444444,\"#bd3786\"],[0.5555555555555556,\"#d8576b\"],[0.6666666666666666,\"#ed7953\"],[0.7777777777777778,\"#fb9f3a\"],[0.8888888888888888,\"#fdca26\"],[1.0,\"#f0f921\"]],\"sequentialminus\":[[0.0,\"#0d0887\"],[0.1111111111111111,\"#46039f\"],[0.2222222222222222,\"#7201a8\"],[0.3333333333333333,\"#9c179e\"],[0.4444444444444444,\"#bd3786\"],[0.5555555555555556,\"#d8576b\"],[0.6666666666666666,\"#ed7953\"],[0.7777777777777778,\"#fb9f3a\"],[0.8888888888888888,\"#fdca26\"],[1.0,\"#f0f921\"]],\"diverging\":[[0,\"#8e0152\"],[0.1,\"#c51b7d\"],[0.2,\"#de77ae\"],[0.3,\"#f1b6da\"],[0.4,\"#fde0ef\"],[0.5,\"#f7f7f7\"],[0.6,\"#e6f5d0\"],[0.7,\"#b8e186\"],[0.8,\"#7fbc41\"],[0.9,\"#4d9221\"],[1,\"#276419\"]]},\"xaxis\":{\"gridcolor\":\"white\",\"linecolor\":\"white\",\"ticks\":\"\",\"title\":{\"standoff\":15},\"zerolinecolor\":\"white\",\"automargin\":true,\"zerolinewidth\":2},\"yaxis\":{\"gridcolor\":\"white\",\"linecolor\":\"white\",\"ticks\":\"\",\"title\":{\"standoff\":15},\"zerolinecolor\":\"white\",\"automargin\":true,\"zerolinewidth\":2},\"scene\":{\"xaxis\":{\"backgroundcolor\":\"#E5ECF6\",\"gridcolor\":\"white\",\"linecolor\":\"white\",\"showbackground\":true,\"ticks\":\"\",\"zerolinecolor\":\"white\",\"gridwidth\":2},\"yaxis\":{\"backgroundcolor\":\"#E5ECF6\",\"gridcolor\":\"white\",\"linecolor\":\"white\",\"showbackground\":true,\"ticks\":\"\",\"zerolinecolor\":\"white\",\"gridwidth\":2},\"zaxis\":{\"backgroundcolor\":\"#E5ECF6\",\"gridcolor\":\"white\",\"linecolor\":\"white\",\"showbackground\":true,\"ticks\":\"\",\"zerolinecolor\":\"white\",\"gridwidth\":2}},\"shapedefaults\":{\"line\":{\"color\":\"#2a3f5f\"}},\"annotationdefaults\":{\"arrowcolor\":\"#2a3f5f\",\"arrowhead\":0,\"arrowwidth\":1},\"geo\":{\"bgcolor\":\"white\",\"landcolor\":\"#E5ECF6\",\"subunitcolor\":\"white\",\"showland\":true,\"showlakes\":true,\"lakecolor\":\"white\"},\"title\":{\"x\":0.05},\"mapbox\":{\"style\":\"light\"}}},\"xaxis\":{\"anchor\":\"y\",\"domain\":[0.0,1.0],\"title\":{\"text\":\"TSNE 1\"}},\"yaxis\":{\"anchor\":\"x\",\"domain\":[0.0,1.0],\"title\":{\"text\":\"TSNE 2\"}},\"legend\":{\"tracegroupgap\":0},\"margin\":{\"t\":60},\"width\":800,\"height\":800},                        {\"responsive\": true}                    ).then(function(){\n",
              "                            \n",
              "var gd = document.getElementById('9c81460d-cbf1-4785-8330-651b687326d0');\n",
              "var x = new MutationObserver(function (mutations, observer) {{\n",
              "        var display = window.getComputedStyle(gd).display;\n",
              "        if (!display || display === 'none') {{\n",
              "            console.log([gd, 'removed!']);\n",
              "            Plotly.purge(gd);\n",
              "            observer.disconnect();\n",
              "        }}\n",
              "}});\n",
              "\n",
              "// Listen for the removal of the full notebook cells\n",
              "var notebookContainer = gd.closest('#notebook-container');\n",
              "if (notebookContainer) {{\n",
              "    x.observe(notebookContainer, {childList: true});\n",
              "}}\n",
              "\n",
              "// Listen for the clearing of the current output cell\n",
              "var outputEl = gd.closest('.output');\n",
              "if (outputEl) {{\n",
              "    x.observe(outputEl, {childList: true});\n",
              "}}\n",
              "\n",
              "                        })                };                });            </script>        </div>"
            ]
          },
          "metadata": {},
          "output_type": "display_data"
        }
      ],
      "source": [
        "from sklearn.manifold import TSNE\n",
        "\n",
        "def TSNE_trainer(df):\n",
        "    \n",
        "    # Define o modelo\n",
        "    model = TSNE(n_components=2, random_state=0)\n",
        "    \n",
        "    # Define os dados de treino\n",
        "    X = model.fit_transform(df)\n",
        "    \n",
        "    # Plota o gráfico de dispersão dos dados TSNE\n",
        "    \n",
        "    # Cria um dataframe com os componentes principais\n",
        "    principalDf = pd.DataFrame(data = X, columns = ['TSNE 1', 'TSNE 2'])\n",
        "\n",
        "    # Plota o gráfico de dispersão\n",
        "    fig = px.scatter(principalDf, x='TSNE 1', y='TSNE 2')\n",
        "\n",
        "    # Atualiza o layout do gráfico\n",
        "    fig.update_layout(\n",
        "        width=800, \n",
        "        height=800)\n",
        "\n",
        "    # Atualiza o X e Y do gráfico\n",
        "    fig.update_xaxes(title_text='TSNE 1')\n",
        "    fig.update_yaxes(title_text='TSNE 2')\n",
        "    \n",
        "    # Exibe o gráfico\n",
        "    fig.show()\n",
        "    \n",
        "# Chamada da função TSNE\n",
        "TSNE_trainer(df)"
      ]
    },
    {
      "cell_type": "code",
      "execution_count": 167,
      "metadata": {},
      "outputs": [
        {
          "ename": "ModuleNotFoundError",
          "evalue": "No module named 'umap'",
          "output_type": "error",
          "traceback": [
            "\u001b[0;31m---------------------------------------------------------------------------\u001b[0m",
            "\u001b[0;31mModuleNotFoundError\u001b[0m                       Traceback (most recent call last)",
            "Cell \u001b[0;32mIn[167], line 1\u001b[0m\n\u001b[0;32m----> 1\u001b[0m \u001b[38;5;28;01mfrom\u001b[39;00m \u001b[38;5;21;01mumap\u001b[39;00m \u001b[38;5;28;01mimport\u001b[39;00m UMAP\n\u001b[1;32m      3\u001b[0m \u001b[38;5;28;01mdef\u001b[39;00m \u001b[38;5;21mUMAP_trainer\u001b[39m(df):\n\u001b[1;32m      4\u001b[0m     \n\u001b[1;32m      5\u001b[0m     \u001b[38;5;66;03m# Define o modelo\u001b[39;00m\n\u001b[1;32m      6\u001b[0m     model \u001b[38;5;241m=\u001b[39m UMAP(n_components\u001b[38;5;241m=\u001b[39m\u001b[38;5;241m2\u001b[39m, random_state\u001b[38;5;241m=\u001b[39m\u001b[38;5;241m0\u001b[39m)\n",
            "\u001b[0;31mModuleNotFoundError\u001b[0m: No module named 'umap'"
          ]
        }
      ],
      "source": [
        "from umap import UMAP\n",
        "\n",
        "def UMAP_trainer(df):\n",
        "    \n",
        "    # Define o modelo\n",
        "    model = UMAP(n_components=2, random_state=0)\n",
        "    \n",
        "    # Define os dados de treino\n",
        "    X = model.fit_transform(df)\n",
        "    \n",
        "    # Plota o gráfico de dispersão dos dados UMAP\n",
        "    \n",
        "    # Cria um dataframe com os componentes principais\n",
        "    principalDf = pd.DataFrame(data = X, columns = ['UMAP 1', 'UMAP 2'])\n",
        "\n",
        "    # Plota o gráfico de dispersão\n",
        "    fig = px.scatter(principalDf, x='UMAP 1', y='UMAP 2')\n",
        "\n",
        "    # Atualiza o layout do gráfico\n",
        "    fig.update_layout(\n",
        "        width=800, \n",
        "        height=800)\n",
        "\n",
        "    # Atualiza o X e Y do gráfico\n",
        "    fig.update_xaxes(title_text='UMAP 1')\n",
        "    fig.update_yaxes(title_text='UMAP 2')\n",
        "    \n",
        "    # Exibe o gráfico\n",
        "    fig.show()\n",
        "    \n",
        "# Chamada da função UMAP\n",
        "UMAP_trainer(df)"
      ]
    }
  ],
  "metadata": {
    "colab": {
      "provenance": []
    },
    "kernelspec": {
      "display_name": "Python 3",
      "name": "python3"
    },
    "language_info": {
      "codemirror_mode": {
        "name": "ipython",
        "version": 3
      },
      "file_extension": ".py",
      "mimetype": "text/x-python",
      "name": "python",
      "nbconvert_exporter": "python",
      "pygments_lexer": "ipython3",
      "version": "3.10.12"
    }
  },
  "nbformat": 4,
  "nbformat_minor": 0
}
